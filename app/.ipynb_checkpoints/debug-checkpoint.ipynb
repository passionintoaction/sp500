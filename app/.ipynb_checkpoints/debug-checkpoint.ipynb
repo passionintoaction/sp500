{
 "cells": [
  {
   "cell_type": "code",
   "execution_count": 1,
   "id": "71bdbcde",
   "metadata": {},
   "outputs": [],
   "source": [
    "import streamlit as st"
   ]
  },
  {
   "cell_type": "code",
   "execution_count": 125,
   "id": "3844b1d0",
   "metadata": {},
   "outputs": [],
   "source": [
    "field = {}\n",
    "field[\"date_range\"] = [1, 60, 120]\n",
    "field[\"int_years\"] = 7\n",
    "field[\"cutoff\"] = [-1.56, 1.56] \n",
    "\n",
    "field[\"SectorReport\"] = [1, 5, 10, 20, 60]\n",
    "\n",
    "field[\"sector\"] = ['Basic Materials',\n",
    "                 'Consumer Cyclical',\n",
    "                 'Healthcare',\n",
    "                 'Industrials',\n",
    "                 'Financial Services',\n",
    "                 'Technology',\n",
    "                 'Energy',\n",
    "                 'Consumer Defensive',\n",
    "                 'Communication Services',\n",
    "                 'Utilities',\n",
    "                 'Real Estate']\n",
    "field[\"risk\"] = [1, 2, 3]\n",
    "field[\"period\"] = [\"less than 3 months\", \"less than 6 months\", \"more than 6 months\"]\n",
    "\n",
    "field[\"Basic Materials\"] = ['Specialty Chemicals',\n",
    "                         'Chemicals',\n",
    "                         'Agricultural Inputs',\n",
    "                         'Copper',\n",
    "                         'Building Materials',\n",
    "                         'Gold',\n",
    "                         'Steel']\n",
    "\n",
    "field['Consumer Cyclical'] = ['Travel Services',\n",
    "                             'Leisure',\n",
    "                             'Home Improvement Retail',\n",
    "                             'Restaurants',\n",
    "                             'Footwear & Accessories',\n",
    "                             'Internet Retail',\n",
    "                             'Lodging',\n",
    "                             'Specialty Retail',\n",
    "                             'Apparel Retail',\n",
    "                             'Auto Manufacturers',\n",
    "                             'Auto Parts',\n",
    "                             'Packaging & Containers',\n",
    "                             'Resorts & Casinos',\n",
    "                             'Auto & Truck Dealerships',\n",
    "                             'Residential Construction',\n",
    "                             'Furnishings, Fixtures & Appliances',\n",
    "                             'Apparel Manufacturing',\n",
    "                             'Personal Services',\n",
    "                             'Luxury Goods']\n",
    "field['Healthcare'] = ['Medical Devices',\n",
    "                         'Drug Manufacturers—General',\n",
    "                         'Healthcare Plans',\n",
    "                         'Pharmaceutical Retailers',\n",
    "                         'Health Information Services',\n",
    "                         'Medical Instruments & Supplies',\n",
    "                         'Medical Distribution',\n",
    "                         'Diagnostics & Research',\n",
    "                         'Biotechnology',\n",
    "                         'Medical Care Facilities',\n",
    "                         'Drug Manufacturers—Specialty & Generic']\n",
    "\n",
    "field['Industrials'] = ['Conglomerates',\n",
    "                         'Aerospace & Defense',\n",
    "                         'Farm & Heavy Construction Machinery',\n",
    "                         'Airlines',\n",
    "                         'Staffing & Employment Services',\n",
    "                         'Railroads',\n",
    "                         'Industrial Distribution',\n",
    "                         'Consulting Services',\n",
    "                         'Specialty Industrial Machinery',\n",
    "                         'Integrated Freight & Logistics',\n",
    "                         'Security & Protection Services',\n",
    "                         'Business Equipment & Supplies',\n",
    "                         'Specialty Business Services',\n",
    "                         'Engineering & Construction',\n",
    "                         'Building Products & Equipment',\n",
    "                         'Waste Management',\n",
    "                         'Tools & Accessories',\n",
    "                         'Rental & Leasing Services',\n",
    "                         'Trucking']\n",
    "field['Financial Services'] = ['Credit Services',\n",
    "                             'Capital Markets',\n",
    "                             'Banks—Diversified',\n",
    "                             'Insurance—Property & Casualty',\n",
    "                             'Insurance—Diversified',\n",
    "                             'Asset Management',\n",
    "                             'Insurance—Life',\n",
    "                             'Banks—Regional',\n",
    "                             'Insurance Brokers',\n",
    "                             'Insurance—Specialty',\n",
    "                             'Financial Data & Stock Exchanges',\n",
    "                             'Insurance—Reinsurance']\n",
    "\n",
    "field['Technology'] = ['Consumer Electronics',\n",
    "                         'Communication Equipment',\n",
    "                         'Information Technology Services',\n",
    "                         'Semiconductors',\n",
    "                         'Software—Infrastructure',\n",
    "                         'Semiconductor Equipment & Materials',\n",
    "                         'Software—Application',\n",
    "                         'Computer Hardware',\n",
    "                         'Electronic Components',\n",
    "                         'Scientific & Technical Instruments',\n",
    "                         'Solar']\n",
    "\n",
    "field['Energy'] = ['Oil & Gas Integrated',\n",
    "                     'Oil & Gas E&P',\n",
    "                     'Oil & Gas Midstream',\n",
    "                     'Oil & Gas Equipment & Services',\n",
    "                     'Oil & Gas Refining & Marketing']\n",
    "\n",
    "field['Consumer Defensive'] = ['Beverages—Non-Alcoholic',\n",
    "                                 'Household & Personal Products',\n",
    "                                 'Discount Stores',\n",
    "                                 'Packaged Foods',\n",
    "                                 'Confectioners',\n",
    "                                 'Tobacco',\n",
    "                                 'Farm Products',\n",
    "                                 'Beverages—Wineries & Distilleries',\n",
    "                                 'Grocery Stores',\n",
    "                                 'Food Distribution',\n",
    "                                 'Beverages—Brewers']\n",
    "\n",
    "\n",
    "field['Communication Services'] = ['Telecom Services',\n",
    "                                     'Entertainment',\n",
    "                                     'Electronic Gaming & Multimedia',\n",
    "                                     'Internet Content & Information',\n",
    "                                     'Broadcasting',\n",
    "                                     'Advertising Agencies']\n",
    "field['Utilities'] = ['Utilities—Regulated Electric',\n",
    "                     'Utilities—Diversified',\n",
    "                     'Utilities—Regulated Water',\n",
    "                     'Utilities—Regulated Gas',\n",
    "                     'Utilities—Independent Power Producers']\n",
    "\n",
    "field['Real Estate'] = ['REIT—Retail',\n",
    "                         'REIT—Office',\n",
    "                         'REIT—Specialty',\n",
    "                         'REIT—Residential',\n",
    "                         'Real Estate Services',\n",
    "                         'REIT—Industrial',\n",
    "                         'REIT—Healthcare Facilities',\n",
    "                         'REIT—Hotel & Motel']\n",
    "\n",
    "with open('../dictionaries/master_dict.json', 'w') as f:\n",
    "    json.dump(field, f)"
   ]
  },
  {
   "cell_type": "code",
   "execution_count": 126,
   "id": "3f42e12f",
   "metadata": {},
   "outputs": [
    {
     "data": {
      "text/plain": [
       "{'date_range': [1, 60, 120],\n",
       " 'int_years': 7,\n",
       " 'cutoff': [-1.56, 1.56],\n",
       " 'SectorReport': [1, 5, 10, 20, 60],\n",
       " 'sector': ['Basic Materials',\n",
       "  'Consumer Cyclical',\n",
       "  'Healthcare',\n",
       "  'Industrials',\n",
       "  'Financial Services',\n",
       "  'Technology',\n",
       "  'Energy',\n",
       "  'Consumer Defensive',\n",
       "  'Communication Services',\n",
       "  'Utilities',\n",
       "  'Real Estate'],\n",
       " 'risk': [1, 2, 3],\n",
       " 'period': ['less than 3 months', 'less than 6 months', 'more than 6 months'],\n",
       " 'Basic Materials': ['Specialty Chemicals',\n",
       "  'Chemicals',\n",
       "  'Agricultural Inputs',\n",
       "  'Copper',\n",
       "  'Building Materials',\n",
       "  'Gold',\n",
       "  'Steel'],\n",
       " 'Consumer Cyclical': ['Travel Services',\n",
       "  'Leisure',\n",
       "  'Home Improvement Retail',\n",
       "  'Restaurants',\n",
       "  'Footwear & Accessories',\n",
       "  'Internet Retail',\n",
       "  'Lodging',\n",
       "  'Specialty Retail',\n",
       "  'Apparel Retail',\n",
       "  'Auto Manufacturers',\n",
       "  'Auto Parts',\n",
       "  'Packaging & Containers',\n",
       "  'Resorts & Casinos',\n",
       "  'Auto & Truck Dealerships',\n",
       "  'Residential Construction',\n",
       "  'Furnishings, Fixtures & Appliances',\n",
       "  'Apparel Manufacturing',\n",
       "  'Personal Services',\n",
       "  'Luxury Goods'],\n",
       " 'Healthcare': ['Medical Devices',\n",
       "  'Drug Manufacturers—General',\n",
       "  'Healthcare Plans',\n",
       "  'Pharmaceutical Retailers',\n",
       "  'Health Information Services',\n",
       "  'Medical Instruments & Supplies',\n",
       "  'Medical Distribution',\n",
       "  'Diagnostics & Research',\n",
       "  'Biotechnology',\n",
       "  'Medical Care Facilities',\n",
       "  'Drug Manufacturers—Specialty & Generic'],\n",
       " 'Industrials': ['Conglomerates',\n",
       "  'Aerospace & Defense',\n",
       "  'Farm & Heavy Construction Machinery',\n",
       "  'Airlines',\n",
       "  'Staffing & Employment Services',\n",
       "  'Railroads',\n",
       "  'Industrial Distribution',\n",
       "  'Consulting Services',\n",
       "  'Specialty Industrial Machinery',\n",
       "  'Integrated Freight & Logistics',\n",
       "  'Security & Protection Services',\n",
       "  'Business Equipment & Supplies',\n",
       "  'Specialty Business Services',\n",
       "  'Engineering & Construction',\n",
       "  'Building Products & Equipment',\n",
       "  'Waste Management',\n",
       "  'Tools & Accessories',\n",
       "  'Rental & Leasing Services',\n",
       "  'Trucking'],\n",
       " 'Financial Services': ['Credit Services',\n",
       "  'Capital Markets',\n",
       "  'Banks—Diversified',\n",
       "  'Insurance—Property & Casualty',\n",
       "  'Insurance—Diversified',\n",
       "  'Asset Management',\n",
       "  'Insurance—Life',\n",
       "  'Banks—Regional',\n",
       "  'Insurance Brokers',\n",
       "  'Insurance—Specialty',\n",
       "  'Financial Data & Stock Exchanges',\n",
       "  'Insurance—Reinsurance'],\n",
       " 'Technology': ['Consumer Electronics',\n",
       "  'Communication Equipment',\n",
       "  'Information Technology Services',\n",
       "  'Semiconductors',\n",
       "  'Software—Infrastructure',\n",
       "  'Semiconductor Equipment & Materials',\n",
       "  'Software—Application',\n",
       "  'Computer Hardware',\n",
       "  'Electronic Components',\n",
       "  'Scientific & Technical Instruments',\n",
       "  'Solar'],\n",
       " 'Energy': ['Oil & Gas Integrated',\n",
       "  'Oil & Gas E&P',\n",
       "  'Oil & Gas Midstream',\n",
       "  'Oil & Gas Equipment & Services',\n",
       "  'Oil & Gas Refining & Marketing'],\n",
       " 'Consumer Defensive': ['Beverages—Non-Alcoholic',\n",
       "  'Household & Personal Products',\n",
       "  'Discount Stores',\n",
       "  'Packaged Foods',\n",
       "  'Confectioners',\n",
       "  'Tobacco',\n",
       "  'Farm Products',\n",
       "  'Beverages—Wineries & Distilleries',\n",
       "  'Grocery Stores',\n",
       "  'Food Distribution',\n",
       "  'Beverages—Brewers'],\n",
       " 'Communication Services': ['Telecom Services',\n",
       "  'Entertainment',\n",
       "  'Electronic Gaming & Multimedia',\n",
       "  'Internet Content & Information',\n",
       "  'Broadcasting',\n",
       "  'Advertising Agencies'],\n",
       " 'Utilities': ['Utilities—Regulated Electric',\n",
       "  'Utilities—Diversified',\n",
       "  'Utilities—Regulated Water',\n",
       "  'Utilities—Regulated Gas',\n",
       "  'Utilities—Independent Power Producers'],\n",
       " 'Real Estate': ['REIT—Retail',\n",
       "  'REIT—Office',\n",
       "  'REIT—Specialty',\n",
       "  'REIT—Residential',\n",
       "  'Real Estate Services',\n",
       "  'REIT—Industrial',\n",
       "  'REIT—Healthcare Facilities',\n",
       "  'REIT—Hotel & Motel']}"
      ]
     },
     "execution_count": 126,
     "metadata": {},
     "output_type": "execute_result"
    }
   ],
   "source": [
    "import json\n",
    "with open('../dictionaries/master_dict.json') as json_file:\n",
    "    master_dict = json.load(json_file)\n",
    "master_dict"
   ]
  },
  {
   "cell_type": "code",
   "execution_count": 69,
   "id": "268d46f6",
   "metadata": {},
   "outputs": [],
   "source": [
    "import datetime\n",
    "import pandas as pd\n",
    "path = \"/Users/jeeyounglee/Desktop/python/class101/streamlit/v1_sp500/data/df_forcasting/\"\n",
    "\n",
    "today = datetime.datetime.now().strftime('%Y%m%d') \n",
    "df_final = pd.read_csv(path + f\"df_forcasting_{today}.csv\", sep='\\t')"
   ]
  },
  {
   "cell_type": "code",
   "execution_count": 70,
   "id": "562ac158",
   "metadata": {},
   "outputs": [
    {
     "data": {
      "text/html": [
       "<div>\n",
       "<style scoped>\n",
       "    .dataframe tbody tr th:only-of-type {\n",
       "        vertical-align: middle;\n",
       "    }\n",
       "\n",
       "    .dataframe tbody tr th {\n",
       "        vertical-align: top;\n",
       "    }\n",
       "\n",
       "    .dataframe thead th {\n",
       "        text-align: right;\n",
       "    }\n",
       "</style>\n",
       "<table border=\"1\" class=\"dataframe\">\n",
       "  <thead>\n",
       "    <tr style=\"text-align: right;\">\n",
       "      <th></th>\n",
       "      <th>ticker</th>\n",
       "      <th>close_price</th>\n",
       "      <th>day_1</th>\n",
       "      <th>day_5</th>\n",
       "      <th>df_size</th>\n",
       "      <th>skew_1</th>\n",
       "      <th>skew_60</th>\n",
       "      <th>skew_120</th>\n",
       "      <th>cutoff_1</th>\n",
       "      <th>cutoff_60</th>\n",
       "      <th>cutoff_120</th>\n",
       "      <th>created_date</th>\n",
       "      <th>longName</th>\n",
       "      <th>industry</th>\n",
       "      <th>sector</th>\n",
       "      <th>url</th>\n",
       "    </tr>\n",
       "  </thead>\n",
       "  <tbody>\n",
       "    <tr>\n",
       "      <th>0</th>\n",
       "      <td>LIN</td>\n",
       "      <td>312.609985</td>\n",
       "      <td>313.4662285145444</td>\n",
       "      <td>313.3963172814061</td>\n",
       "      <td>1642.0</td>\n",
       "      <td>0.242280</td>\n",
       "      <td>-0.805755</td>\n",
       "      <td>-0.473211</td>\n",
       "      <td>28.333333</td>\n",
       "      <td>7.0</td>\n",
       "      <td>3.0</td>\n",
       "      <td>20220506.0</td>\n",
       "      <td>Linde plc</td>\n",
       "      <td>Specialty Chemicals</td>\n",
       "      <td>Basic Materials</td>\n",
       "      <td>https://www.linde.com</td>\n",
       "    </tr>\n",
       "    <tr>\n",
       "      <th>1</th>\n",
       "      <td>CCL</td>\n",
       "      <td>16.540001</td>\n",
       "      <td>16.540000915527344</td>\n",
       "      <td>16.540000915527344</td>\n",
       "      <td>1642.0</td>\n",
       "      <td>0.068765</td>\n",
       "      <td>0.118345</td>\n",
       "      <td>-0.585923</td>\n",
       "      <td>16.666667</td>\n",
       "      <td>0.0</td>\n",
       "      <td>0.0</td>\n",
       "      <td>20220506.0</td>\n",
       "      <td>Carnival Corporation &amp; plc</td>\n",
       "      <td>Travel Services</td>\n",
       "      <td>Consumer Cyclical</td>\n",
       "      <td>https://www.carnivalcorp.com</td>\n",
       "    </tr>\n",
       "    <tr>\n",
       "      <th>2</th>\n",
       "      <td>CUK</td>\n",
       "      <td>15.150000</td>\n",
       "      <td>15.149999618530273</td>\n",
       "      <td>15.149999618530273</td>\n",
       "      <td>1642.0</td>\n",
       "      <td>0.085430</td>\n",
       "      <td>0.101775</td>\n",
       "      <td>-0.401751</td>\n",
       "      <td>15.000000</td>\n",
       "      <td>0.0</td>\n",
       "      <td>0.0</td>\n",
       "      <td>20220506.0</td>\n",
       "      <td>Carnival Corporation &amp; plc</td>\n",
       "      <td>Leisure</td>\n",
       "      <td>Consumer Cyclical</td>\n",
       "      <td>https://www.carnivalcorp.com</td>\n",
       "    </tr>\n",
       "    <tr>\n",
       "      <th>3</th>\n",
       "      <td>CUKPF</td>\n",
       "      <td>17.750000</td>\n",
       "      <td>17.750000000000004</td>\n",
       "      <td>17.750000000000004</td>\n",
       "      <td>1642.0</td>\n",
       "      <td>-1.822426</td>\n",
       "      <td>0.071849</td>\n",
       "      <td>-0.368190</td>\n",
       "      <td>6.666667</td>\n",
       "      <td>0.0</td>\n",
       "      <td>0.0</td>\n",
       "      <td>20220506.0</td>\n",
       "      <td>Carnival Corporation &amp; plc</td>\n",
       "      <td>Leisure</td>\n",
       "      <td>Consumer Cyclical</td>\n",
       "      <td>https://www.carnivalcorp.com</td>\n",
       "    </tr>\n",
       "    <tr>\n",
       "      <th>4</th>\n",
       "      <td>STE</td>\n",
       "      <td>226.970001</td>\n",
       "      <td>227.46851154802076</td>\n",
       "      <td>227.24654556133885</td>\n",
       "      <td>1642.0</td>\n",
       "      <td>-0.638177</td>\n",
       "      <td>-0.056772</td>\n",
       "      <td>-0.118115</td>\n",
       "      <td>16.666667</td>\n",
       "      <td>1.0</td>\n",
       "      <td>1.0</td>\n",
       "      <td>20220506.0</td>\n",
       "      <td>STERIS plc</td>\n",
       "      <td>Medical Devices</td>\n",
       "      <td>Healthcare</td>\n",
       "      <td>https://www.steris.com</td>\n",
       "    </tr>\n",
       "  </tbody>\n",
       "</table>\n",
       "</div>"
      ],
      "text/plain": [
       "  ticker  close_price               day_1               day_5  df_size  \\\n",
       "0    LIN   312.609985   313.4662285145444   313.3963172814061   1642.0   \n",
       "1    CCL    16.540001  16.540000915527344  16.540000915527344   1642.0   \n",
       "2    CUK    15.150000  15.149999618530273  15.149999618530273   1642.0   \n",
       "3  CUKPF    17.750000  17.750000000000004  17.750000000000004   1642.0   \n",
       "4    STE   226.970001  227.46851154802076  227.24654556133885   1642.0   \n",
       "\n",
       "     skew_1   skew_60  skew_120   cutoff_1  cutoff_60  cutoff_120  \\\n",
       "0  0.242280 -0.805755 -0.473211  28.333333        7.0         3.0   \n",
       "1  0.068765  0.118345 -0.585923  16.666667        0.0         0.0   \n",
       "2  0.085430  0.101775 -0.401751  15.000000        0.0         0.0   \n",
       "3 -1.822426  0.071849 -0.368190   6.666667        0.0         0.0   \n",
       "4 -0.638177 -0.056772 -0.118115  16.666667        1.0         1.0   \n",
       "\n",
       "   created_date                    longName             industry  \\\n",
       "0    20220506.0                   Linde plc  Specialty Chemicals   \n",
       "1    20220506.0  Carnival Corporation & plc      Travel Services   \n",
       "2    20220506.0  Carnival Corporation & plc              Leisure   \n",
       "3    20220506.0  Carnival Corporation & plc              Leisure   \n",
       "4    20220506.0                  STERIS plc      Medical Devices   \n",
       "\n",
       "              sector                           url  \n",
       "0    Basic Materials         https://www.linde.com  \n",
       "1  Consumer Cyclical  https://www.carnivalcorp.com  \n",
       "2  Consumer Cyclical  https://www.carnivalcorp.com  \n",
       "3  Consumer Cyclical  https://www.carnivalcorp.com  \n",
       "4         Healthcare        https://www.steris.com  "
      ]
     },
     "execution_count": 70,
     "metadata": {},
     "output_type": "execute_result"
    }
   ],
   "source": [
    "df_final.head()"
   ]
  },
  {
   "cell_type": "code",
   "execution_count": 199,
   "id": "f9fe1511",
   "metadata": {},
   "outputs": [
    {
     "data": {
      "text/html": [
       "<div>\n",
       "<style scoped>\n",
       "    .dataframe tbody tr th:only-of-type {\n",
       "        vertical-align: middle;\n",
       "    }\n",
       "\n",
       "    .dataframe tbody tr th {\n",
       "        vertical-align: top;\n",
       "    }\n",
       "\n",
       "    .dataframe thead th {\n",
       "        text-align: right;\n",
       "    }\n",
       "</style>\n",
       "<table border=\"1\" class=\"dataframe\">\n",
       "  <thead>\n",
       "    <tr style=\"text-align: right;\">\n",
       "      <th></th>\n",
       "      <th>ticker</th>\n",
       "      <th>sector</th>\n",
       "      <th>Date</th>\n",
       "      <th>Close</th>\n",
       "      <th>Volume</th>\n",
       "      <th>diff_maxmin</th>\n",
       "      <th>diff_close</th>\n",
       "      <th>ch_per_1_mean</th>\n",
       "    </tr>\n",
       "  </thead>\n",
       "  <tbody>\n",
       "    <tr>\n",
       "      <th>15</th>\n",
       "      <td>IR</td>\n",
       "      <td>Industrials</td>\n",
       "      <td>2022-04-29</td>\n",
       "      <td>43.959999</td>\n",
       "      <td>2136100.0</td>\n",
       "      <td>5.549999</td>\n",
       "      <td>-2.220001</td>\n",
       "      <td>-0.226661</td>\n",
       "    </tr>\n",
       "    <tr>\n",
       "      <th>16</th>\n",
       "      <td>IR</td>\n",
       "      <td>Industrials</td>\n",
       "      <td>2022-05-02</td>\n",
       "      <td>44.549999</td>\n",
       "      <td>2782400.0</td>\n",
       "      <td>5.549999</td>\n",
       "      <td>-2.220001</td>\n",
       "      <td>-0.226661</td>\n",
       "    </tr>\n",
       "    <tr>\n",
       "      <th>17</th>\n",
       "      <td>IR</td>\n",
       "      <td>Industrials</td>\n",
       "      <td>2022-05-03</td>\n",
       "      <td>45.209999</td>\n",
       "      <td>2554100.0</td>\n",
       "      <td>5.549999</td>\n",
       "      <td>-2.220001</td>\n",
       "      <td>-0.226661</td>\n",
       "    </tr>\n",
       "    <tr>\n",
       "      <th>18</th>\n",
       "      <td>IR</td>\n",
       "      <td>Industrials</td>\n",
       "      <td>2022-05-04</td>\n",
       "      <td>46.990002</td>\n",
       "      <td>3178700.0</td>\n",
       "      <td>5.549999</td>\n",
       "      <td>-2.220001</td>\n",
       "      <td>-0.226661</td>\n",
       "    </tr>\n",
       "    <tr>\n",
       "      <th>19</th>\n",
       "      <td>IR</td>\n",
       "      <td>Industrials</td>\n",
       "      <td>2022-05-05</td>\n",
       "      <td>45.529999</td>\n",
       "      <td>3485800.0</td>\n",
       "      <td>5.549999</td>\n",
       "      <td>-2.220001</td>\n",
       "      <td>-0.226661</td>\n",
       "    </tr>\n",
       "  </tbody>\n",
       "</table>\n",
       "</div>"
      ],
      "text/plain": [
       "   ticker       sector       Date      Close     Volume  diff_maxmin  \\\n",
       "15     IR  Industrials 2022-04-29  43.959999  2136100.0     5.549999   \n",
       "16     IR  Industrials 2022-05-02  44.549999  2782400.0     5.549999   \n",
       "17     IR  Industrials 2022-05-03  45.209999  2554100.0     5.549999   \n",
       "18     IR  Industrials 2022-05-04  46.990002  3178700.0     5.549999   \n",
       "19     IR  Industrials 2022-05-05  45.529999  3485800.0     5.549999   \n",
       "\n",
       "    diff_close  ch_per_1_mean  \n",
       "15   -2.220001      -0.226661  \n",
       "16   -2.220001      -0.226661  \n",
       "17   -2.220001      -0.226661  \n",
       "18   -2.220001      -0.226661  \n",
       "19   -2.220001      -0.226661  "
      ]
     },
     "execution_count": 199,
     "metadata": {},
     "output_type": "execute_result"
    }
   ],
   "source": [
    "import warnings\n",
    "warnings.filterwarnings('ignore')\n",
    "\n",
    "sector_period = 20 \n",
    "# time_start = df_temp.iloc[0][\"Date\"].strftime('%Y-%m-%d') \n",
    "# time_last = df_temp.iloc[-1][\"Date\"].strftime('%Y-%m-%d') \n",
    "\n",
    "df_all = pd.DataFrame()\n",
    "\n",
    "for ticker in stock_history.keys():\n",
    "    df_temp = stock_history[ticker].iloc[-sector_period:]\n",
    "    df_temp.reset_index(inplace=True, drop=True)\n",
    "    \n",
    "    if len(df_temp) > sector_period-1:\n",
    "        df_temp[\"ticker\"] = ticker\n",
    "        df_temp[\"sector\"] = df_final[df_final[\"ticker\"] == ticker][\"sector\"].tolist()[0]\n",
    "        df_temp[\"diff_maxmin\"] = df_temp[\"Close\"].max() - df_temp[\"Close\"].min()\n",
    "        df_temp[\"diff_close\"] = df_temp.iloc[-1][\"Close\"] - df_temp.iloc[0][\"Close\"] \n",
    "        df_temp[\"ch_per_1_mean\"] = df_temp[\"ch_per_1\"].mean()\n",
    "        df_temp = df_temp[[\"ticker\", \"sector\", \"Date\", \"Close\", \"Volume\", \n",
    "                           \"diff_maxmin\", \"diff_close\", \"ch_per_1_mean\"]]\n",
    "        df_all = df_all.append(df_temp)\n",
    "\n",
    "df_all.tail()"
   ]
  },
  {
   "cell_type": "code",
   "execution_count": 400,
   "id": "29f53609",
   "metadata": {},
   "outputs": [
    {
     "data": {
      "text/html": [
       "<div>\n",
       "<style scoped>\n",
       "    .dataframe tbody tr th:only-of-type {\n",
       "        vertical-align: middle;\n",
       "    }\n",
       "\n",
       "    .dataframe tbody tr th {\n",
       "        vertical-align: top;\n",
       "    }\n",
       "\n",
       "    .dataframe thead th {\n",
       "        text-align: right;\n",
       "    }\n",
       "</style>\n",
       "<table border=\"1\" class=\"dataframe\">\n",
       "  <thead>\n",
       "    <tr style=\"text-align: right;\">\n",
       "      <th></th>\n",
       "      <th>ticker</th>\n",
       "      <th>sector</th>\n",
       "      <th>Date</th>\n",
       "      <th>Close</th>\n",
       "      <th>Volume</th>\n",
       "      <th>diff_maxmin</th>\n",
       "      <th>diff_close</th>\n",
       "      <th>ch_per_1_mean</th>\n",
       "    </tr>\n",
       "  </thead>\n",
       "  <tbody>\n",
       "    <tr>\n",
       "      <th>0</th>\n",
       "      <td>AAPL</td>\n",
       "      <td>Technology</td>\n",
       "      <td>2022-04-07</td>\n",
       "      <td>172.139999</td>\n",
       "      <td>77594700.0</td>\n",
       "      <td>15.569992</td>\n",
       "      <td>-15.369995</td>\n",
       "      <td>-0.434712</td>\n",
       "    </tr>\n",
       "    <tr>\n",
       "      <th>1</th>\n",
       "      <td>AAPL</td>\n",
       "      <td>Technology</td>\n",
       "      <td>2022-04-08</td>\n",
       "      <td>170.089996</td>\n",
       "      <td>76515900.0</td>\n",
       "      <td>15.569992</td>\n",
       "      <td>-15.369995</td>\n",
       "      <td>-0.434712</td>\n",
       "    </tr>\n",
       "    <tr>\n",
       "      <th>2</th>\n",
       "      <td>AAPL</td>\n",
       "      <td>Technology</td>\n",
       "      <td>2022-04-11</td>\n",
       "      <td>165.750000</td>\n",
       "      <td>72246700.0</td>\n",
       "      <td>15.569992</td>\n",
       "      <td>-15.369995</td>\n",
       "      <td>-0.434712</td>\n",
       "    </tr>\n",
       "    <tr>\n",
       "      <th>3</th>\n",
       "      <td>AAPL</td>\n",
       "      <td>Technology</td>\n",
       "      <td>2022-04-12</td>\n",
       "      <td>167.660004</td>\n",
       "      <td>79265200.0</td>\n",
       "      <td>15.569992</td>\n",
       "      <td>-15.369995</td>\n",
       "      <td>-0.434712</td>\n",
       "    </tr>\n",
       "    <tr>\n",
       "      <th>4</th>\n",
       "      <td>AAPL</td>\n",
       "      <td>Technology</td>\n",
       "      <td>2022-04-13</td>\n",
       "      <td>170.399994</td>\n",
       "      <td>70618900.0</td>\n",
       "      <td>15.569992</td>\n",
       "      <td>-15.369995</td>\n",
       "      <td>-0.434712</td>\n",
       "    </tr>\n",
       "    <tr>\n",
       "      <th>...</th>\n",
       "      <td>...</td>\n",
       "      <td>...</td>\n",
       "      <td>...</td>\n",
       "      <td>...</td>\n",
       "      <td>...</td>\n",
       "      <td>...</td>\n",
       "      <td>...</td>\n",
       "      <td>...</td>\n",
       "    </tr>\n",
       "    <tr>\n",
       "      <th>15</th>\n",
       "      <td>CDAY</td>\n",
       "      <td>Technology</td>\n",
       "      <td>2022-04-29</td>\n",
       "      <td>56.130001</td>\n",
       "      <td>2091700.0</td>\n",
       "      <td>6.750000</td>\n",
       "      <td>-6.329998</td>\n",
       "      <td>-0.593618</td>\n",
       "    </tr>\n",
       "    <tr>\n",
       "      <th>16</th>\n",
       "      <td>CDAY</td>\n",
       "      <td>Technology</td>\n",
       "      <td>2022-05-02</td>\n",
       "      <td>57.330002</td>\n",
       "      <td>1403400.0</td>\n",
       "      <td>6.750000</td>\n",
       "      <td>-6.329998</td>\n",
       "      <td>-0.593618</td>\n",
       "    </tr>\n",
       "    <tr>\n",
       "      <th>17</th>\n",
       "      <td>CDAY</td>\n",
       "      <td>Technology</td>\n",
       "      <td>2022-05-03</td>\n",
       "      <td>57.160000</td>\n",
       "      <td>1521000.0</td>\n",
       "      <td>6.750000</td>\n",
       "      <td>-6.329998</td>\n",
       "      <td>-0.593618</td>\n",
       "    </tr>\n",
       "    <tr>\n",
       "      <th>18</th>\n",
       "      <td>CDAY</td>\n",
       "      <td>Technology</td>\n",
       "      <td>2022-05-04</td>\n",
       "      <td>61.240002</td>\n",
       "      <td>2837400.0</td>\n",
       "      <td>6.750000</td>\n",
       "      <td>-6.329998</td>\n",
       "      <td>-0.593618</td>\n",
       "    </tr>\n",
       "    <tr>\n",
       "      <th>19</th>\n",
       "      <td>CDAY</td>\n",
       "      <td>Technology</td>\n",
       "      <td>2022-05-05</td>\n",
       "      <td>56.470001</td>\n",
       "      <td>5187100.0</td>\n",
       "      <td>6.750000</td>\n",
       "      <td>-6.329998</td>\n",
       "      <td>-0.593618</td>\n",
       "    </tr>\n",
       "  </tbody>\n",
       "</table>\n",
       "<p>1420 rows × 8 columns</p>\n",
       "</div>"
      ],
      "text/plain": [
       "   ticker      sector       Date       Close      Volume  diff_maxmin  \\\n",
       "0    AAPL  Technology 2022-04-07  172.139999  77594700.0    15.569992   \n",
       "1    AAPL  Technology 2022-04-08  170.089996  76515900.0    15.569992   \n",
       "2    AAPL  Technology 2022-04-11  165.750000  72246700.0    15.569992   \n",
       "3    AAPL  Technology 2022-04-12  167.660004  79265200.0    15.569992   \n",
       "4    AAPL  Technology 2022-04-13  170.399994  70618900.0    15.569992   \n",
       "..    ...         ...        ...         ...         ...          ...   \n",
       "15   CDAY  Technology 2022-04-29   56.130001   2091700.0     6.750000   \n",
       "16   CDAY  Technology 2022-05-02   57.330002   1403400.0     6.750000   \n",
       "17   CDAY  Technology 2022-05-03   57.160000   1521000.0     6.750000   \n",
       "18   CDAY  Technology 2022-05-04   61.240002   2837400.0     6.750000   \n",
       "19   CDAY  Technology 2022-05-05   56.470001   5187100.0     6.750000   \n",
       "\n",
       "    diff_close  ch_per_1_mean  \n",
       "0   -15.369995      -0.434712  \n",
       "1   -15.369995      -0.434712  \n",
       "2   -15.369995      -0.434712  \n",
       "3   -15.369995      -0.434712  \n",
       "4   -15.369995      -0.434712  \n",
       "..         ...            ...  \n",
       "15   -6.329998      -0.593618  \n",
       "16   -6.329998      -0.593618  \n",
       "17   -6.329998      -0.593618  \n",
       "18   -6.329998      -0.593618  \n",
       "19   -6.329998      -0.593618  \n",
       "\n",
       "[1420 rows x 8 columns]"
      ]
     },
     "execution_count": 400,
     "metadata": {},
     "output_type": "execute_result"
    }
   ],
   "source": [
    "df_all[df_all[\"sector\"] == \"Technology\"]"
   ]
  },
  {
   "cell_type": "code",
   "execution_count": 328,
   "id": "3d37f9e9",
   "metadata": {},
   "outputs": [
    {
     "data": {
      "text/plain": [
       "['Basic Materials',\n",
       " 'Consumer Cyclical',\n",
       " 'Healthcare',\n",
       " 'Industrials',\n",
       " 'Financial Services',\n",
       " 'Technology',\n",
       " 'Energy',\n",
       " 'Consumer Defensive',\n",
       " 'Communication Services',\n",
       " nan,\n",
       " 'Utilities',\n",
       " 'Real Estate']"
      ]
     },
     "execution_count": 328,
     "metadata": {},
     "output_type": "execute_result"
    }
   ],
   "source": [
    "df_all[\"sector\"].unique().tolist()"
   ]
  },
  {
   "cell_type": "code",
   "execution_count": 331,
   "id": "80ad2e03",
   "metadata": {},
   "outputs": [
    {
     "data": {
      "text/plain": [
       "dict_keys(['Basic Materials', 'Consumer Cyclical', 'Healthcare', 'Industrials', 'Financial Services', 'Technology', 'Energy', 'Consumer Defensive', 'Communication Services', nan, 'Utilities', 'Real Estate'])"
      ]
     },
     "execution_count": 331,
     "metadata": {},
     "output_type": "execute_result"
    }
   ],
   "source": [
    "output_dict = {}\n",
    "for sector in df_all[\"sector\"].unique().tolist():\n",
    "    output_dict[sector] = {}\n",
    "\n",
    "df_filter = df_all[df_all[\"diff_close\"] > 0]\n",
    "for sector in df_filter[\"sector\"].unique().tolist():\n",
    "    df_filter_temp = df_filter[df_filter[\"sector\"] == sector]\n",
    "    output_dict[sector][\"pos_diff_close\"] = df_filter_temp[\"ticker\"].unique().tolist()\n",
    "    \n",
    "df_filter = df_all[df_all[\"diff_close\"] < 0]\n",
    "for sector in df_filter[\"sector\"].unique().tolist():\n",
    "    df_filter_temp = df_filter[df_filter[\"sector\"] == sector]\n",
    "    output_dict[sector][\"neg_diff_close\"] = df_filter_temp[\"ticker\"].unique().tolist()\n",
    "    \n",
    "output_dict.keys()    "
   ]
  },
  {
   "cell_type": "code",
   "execution_count": 276,
   "id": "a6786df0",
   "metadata": {},
   "outputs": [],
   "source": [
    "import plotly.graph_objects as go\n",
    "from plotly.subplots import make_subplots"
   ]
  },
  {
   "cell_type": "code",
   "execution_count": 402,
   "id": "4a87395b",
   "metadata": {
    "code_folding": []
   },
   "outputs": [
    {
     "data": {
      "application/vnd.plotly.v1+json": {
       "config": {
        "plotlyServerURL": "https://plot.ly"
       },
       "data": [
        {
         "marker": {
          "color": "rgba(50, 171, 96, 0.6)",
          "line": {
           "color": "rgba(50, 171, 96, 1.0)",
           "width": 1
          }
         },
         "name": "Sector proportion in S&P 500.",
         "orientation": "h",
         "type": "bar",
         "x": [
          21,
          27,
          70,
          37,
          20,
          69,
          64,
          69,
          30,
          71,
          29
         ],
         "xaxis": "x",
         "y": [
          "Basic Materials",
          "Communication Services",
          "Consumer Cyclical",
          "Consumer Defensive",
          "Energy",
          "Financial Services",
          "Healthcare",
          "Industrials",
          "Real Estate",
          "Technology",
          "Utilities"
         ],
         "yaxis": "y"
        },
        {
         "line": {
          "color": "rgb(128, 0, 128)"
         },
         "mode": "lines+markers",
         "name": "The number of tickers increased stock prices.",
         "type": "scatter",
         "x": [
          6,
          2,
          27,
          21,
          15,
          13,
          4,
          22,
          4,
          11,
          0
         ],
         "xaxis": "x",
         "y": [
          "Basic Materials",
          "Communication Services",
          "Consumer Cyclical",
          "Consumer Defensive",
          "Energy",
          "Financial Services",
          "Healthcare",
          "Industrials",
          "Real Estate",
          "Technology",
          "Utilities"
         ],
         "yaxis": "y"
        },
        {
         "marker": {
          "color": "rgba(50, 171, 96, 0.6)",
          "line": {
           "color": "rgba(50, 171, 96, 1.0)",
           "width": 1
          }
         },
         "name": "Sector proportion in S&P 500.",
         "orientation": "h",
         "type": "bar",
         "x": [
          21,
          27,
          70,
          37,
          20,
          69,
          64,
          69,
          30,
          71,
          29
         ],
         "xaxis": "x2",
         "y": [
          "Basic Materials",
          "Communication Services",
          "Consumer Cyclical",
          "Consumer Defensive",
          "Energy",
          "Financial Services",
          "Healthcare",
          "Industrials",
          "Real Estate",
          "Technology",
          "Utilities"
         ],
         "yaxis": "y2"
        }
       ],
       "layout": {
        "annotations": [
         {
          "font": {
           "color": "rgb(50, 171, 96)",
           "family": "Arial",
           "size": 12
          },
          "showarrow": false,
          "text": "4.14%",
          "x": 31,
          "xref": "x",
          "y": "Basic Materials",
          "yref": "y"
         },
         {
          "font": {
           "color": "rgb(50, 171, 96)",
           "family": "Arial",
           "size": 12
          },
          "showarrow": false,
          "text": "5.33%",
          "x": 37,
          "xref": "x",
          "y": "Communication Services",
          "yref": "y"
         },
         {
          "font": {
           "color": "rgb(50, 171, 96)",
           "family": "Arial",
           "size": 12
          },
          "showarrow": false,
          "text": "13.81%",
          "x": 80,
          "xref": "x",
          "y": "Consumer Cyclical",
          "yref": "y"
         },
         {
          "font": {
           "color": "rgb(50, 171, 96)",
           "family": "Arial",
           "size": 12
          },
          "showarrow": false,
          "text": "7.3%",
          "x": 47,
          "xref": "x",
          "y": "Consumer Defensive",
          "yref": "y"
         },
         {
          "font": {
           "color": "rgb(50, 171, 96)",
           "family": "Arial",
           "size": 12
          },
          "showarrow": false,
          "text": "3.94%",
          "x": 30,
          "xref": "x",
          "y": "Energy",
          "yref": "y"
         },
         {
          "font": {
           "color": "rgb(50, 171, 96)",
           "family": "Arial",
           "size": 12
          },
          "showarrow": false,
          "text": "13.61%",
          "x": 79,
          "xref": "x",
          "y": "Financial Services",
          "yref": "y"
         },
         {
          "font": {
           "color": "rgb(50, 171, 96)",
           "family": "Arial",
           "size": 12
          },
          "showarrow": false,
          "text": "12.62%",
          "x": 74,
          "xref": "x",
          "y": "Healthcare",
          "yref": "y"
         },
         {
          "font": {
           "color": "rgb(50, 171, 96)",
           "family": "Arial",
           "size": 12
          },
          "showarrow": false,
          "text": "13.61%",
          "x": 79,
          "xref": "x",
          "y": "Industrials",
          "yref": "y"
         },
         {
          "font": {
           "color": "rgb(50, 171, 96)",
           "family": "Arial",
           "size": 12
          },
          "showarrow": false,
          "text": "5.92%",
          "x": 40,
          "xref": "x",
          "y": "Real Estate",
          "yref": "y"
         },
         {
          "font": {
           "color": "rgb(50, 171, 96)",
           "family": "Arial",
           "size": 12
          },
          "showarrow": false,
          "text": "14.0%",
          "x": 81,
          "xref": "x",
          "y": "Technology",
          "yref": "y"
         },
         {
          "font": {
           "color": "rgb(50, 171, 96)",
           "family": "Arial",
           "size": 12
          },
          "showarrow": false,
          "text": "5.72%",
          "x": 39,
          "xref": "x",
          "y": "Utilities",
          "yref": "y"
         },
         {
          "font": {
           "color": "rgb(150,150,150)",
           "family": "Arial",
           "size": 10
          },
          "showarrow": false,
          "text": "yfinance S&P 500 data",
          "x": -0.2,
          "xref": "paper",
          "y": -0.109,
          "yref": "paper"
         }
        ],
        "legend": {
         "font": {
          "size": 10
         },
         "x": 0.029,
         "y": 1.038
        },
        "margin": {
         "b": 70,
         "l": 100,
         "r": 20,
         "t": 70
        },
        "paper_bgcolor": "rgb(248, 248, 255)",
        "plot_bgcolor": "rgb(248, 248, 255)",
        "template": {
         "data": {
          "bar": [
           {
            "error_x": {
             "color": "#2a3f5f"
            },
            "error_y": {
             "color": "#2a3f5f"
            },
            "marker": {
             "line": {
              "color": "#E5ECF6",
              "width": 0.5
             },
             "pattern": {
              "fillmode": "overlay",
              "size": 10,
              "solidity": 0.2
             }
            },
            "type": "bar"
           }
          ],
          "barpolar": [
           {
            "marker": {
             "line": {
              "color": "#E5ECF6",
              "width": 0.5
             },
             "pattern": {
              "fillmode": "overlay",
              "size": 10,
              "solidity": 0.2
             }
            },
            "type": "barpolar"
           }
          ],
          "carpet": [
           {
            "aaxis": {
             "endlinecolor": "#2a3f5f",
             "gridcolor": "white",
             "linecolor": "white",
             "minorgridcolor": "white",
             "startlinecolor": "#2a3f5f"
            },
            "baxis": {
             "endlinecolor": "#2a3f5f",
             "gridcolor": "white",
             "linecolor": "white",
             "minorgridcolor": "white",
             "startlinecolor": "#2a3f5f"
            },
            "type": "carpet"
           }
          ],
          "choropleth": [
           {
            "colorbar": {
             "outlinewidth": 0,
             "ticks": ""
            },
            "type": "choropleth"
           }
          ],
          "contour": [
           {
            "colorbar": {
             "outlinewidth": 0,
             "ticks": ""
            },
            "colorscale": [
             [
              0,
              "#0d0887"
             ],
             [
              0.1111111111111111,
              "#46039f"
             ],
             [
              0.2222222222222222,
              "#7201a8"
             ],
             [
              0.3333333333333333,
              "#9c179e"
             ],
             [
              0.4444444444444444,
              "#bd3786"
             ],
             [
              0.5555555555555556,
              "#d8576b"
             ],
             [
              0.6666666666666666,
              "#ed7953"
             ],
             [
              0.7777777777777778,
              "#fb9f3a"
             ],
             [
              0.8888888888888888,
              "#fdca26"
             ],
             [
              1,
              "#f0f921"
             ]
            ],
            "type": "contour"
           }
          ],
          "contourcarpet": [
           {
            "colorbar": {
             "outlinewidth": 0,
             "ticks": ""
            },
            "type": "contourcarpet"
           }
          ],
          "heatmap": [
           {
            "colorbar": {
             "outlinewidth": 0,
             "ticks": ""
            },
            "colorscale": [
             [
              0,
              "#0d0887"
             ],
             [
              0.1111111111111111,
              "#46039f"
             ],
             [
              0.2222222222222222,
              "#7201a8"
             ],
             [
              0.3333333333333333,
              "#9c179e"
             ],
             [
              0.4444444444444444,
              "#bd3786"
             ],
             [
              0.5555555555555556,
              "#d8576b"
             ],
             [
              0.6666666666666666,
              "#ed7953"
             ],
             [
              0.7777777777777778,
              "#fb9f3a"
             ],
             [
              0.8888888888888888,
              "#fdca26"
             ],
             [
              1,
              "#f0f921"
             ]
            ],
            "type": "heatmap"
           }
          ],
          "heatmapgl": [
           {
            "colorbar": {
             "outlinewidth": 0,
             "ticks": ""
            },
            "colorscale": [
             [
              0,
              "#0d0887"
             ],
             [
              0.1111111111111111,
              "#46039f"
             ],
             [
              0.2222222222222222,
              "#7201a8"
             ],
             [
              0.3333333333333333,
              "#9c179e"
             ],
             [
              0.4444444444444444,
              "#bd3786"
             ],
             [
              0.5555555555555556,
              "#d8576b"
             ],
             [
              0.6666666666666666,
              "#ed7953"
             ],
             [
              0.7777777777777778,
              "#fb9f3a"
             ],
             [
              0.8888888888888888,
              "#fdca26"
             ],
             [
              1,
              "#f0f921"
             ]
            ],
            "type": "heatmapgl"
           }
          ],
          "histogram": [
           {
            "marker": {
             "pattern": {
              "fillmode": "overlay",
              "size": 10,
              "solidity": 0.2
             }
            },
            "type": "histogram"
           }
          ],
          "histogram2d": [
           {
            "colorbar": {
             "outlinewidth": 0,
             "ticks": ""
            },
            "colorscale": [
             [
              0,
              "#0d0887"
             ],
             [
              0.1111111111111111,
              "#46039f"
             ],
             [
              0.2222222222222222,
              "#7201a8"
             ],
             [
              0.3333333333333333,
              "#9c179e"
             ],
             [
              0.4444444444444444,
              "#bd3786"
             ],
             [
              0.5555555555555556,
              "#d8576b"
             ],
             [
              0.6666666666666666,
              "#ed7953"
             ],
             [
              0.7777777777777778,
              "#fb9f3a"
             ],
             [
              0.8888888888888888,
              "#fdca26"
             ],
             [
              1,
              "#f0f921"
             ]
            ],
            "type": "histogram2d"
           }
          ],
          "histogram2dcontour": [
           {
            "colorbar": {
             "outlinewidth": 0,
             "ticks": ""
            },
            "colorscale": [
             [
              0,
              "#0d0887"
             ],
             [
              0.1111111111111111,
              "#46039f"
             ],
             [
              0.2222222222222222,
              "#7201a8"
             ],
             [
              0.3333333333333333,
              "#9c179e"
             ],
             [
              0.4444444444444444,
              "#bd3786"
             ],
             [
              0.5555555555555556,
              "#d8576b"
             ],
             [
              0.6666666666666666,
              "#ed7953"
             ],
             [
              0.7777777777777778,
              "#fb9f3a"
             ],
             [
              0.8888888888888888,
              "#fdca26"
             ],
             [
              1,
              "#f0f921"
             ]
            ],
            "type": "histogram2dcontour"
           }
          ],
          "mesh3d": [
           {
            "colorbar": {
             "outlinewidth": 0,
             "ticks": ""
            },
            "type": "mesh3d"
           }
          ],
          "parcoords": [
           {
            "line": {
             "colorbar": {
              "outlinewidth": 0,
              "ticks": ""
             }
            },
            "type": "parcoords"
           }
          ],
          "pie": [
           {
            "automargin": true,
            "type": "pie"
           }
          ],
          "scatter": [
           {
            "marker": {
             "colorbar": {
              "outlinewidth": 0,
              "ticks": ""
             }
            },
            "type": "scatter"
           }
          ],
          "scatter3d": [
           {
            "line": {
             "colorbar": {
              "outlinewidth": 0,
              "ticks": ""
             }
            },
            "marker": {
             "colorbar": {
              "outlinewidth": 0,
              "ticks": ""
             }
            },
            "type": "scatter3d"
           }
          ],
          "scattercarpet": [
           {
            "marker": {
             "colorbar": {
              "outlinewidth": 0,
              "ticks": ""
             }
            },
            "type": "scattercarpet"
           }
          ],
          "scattergeo": [
           {
            "marker": {
             "colorbar": {
              "outlinewidth": 0,
              "ticks": ""
             }
            },
            "type": "scattergeo"
           }
          ],
          "scattergl": [
           {
            "marker": {
             "colorbar": {
              "outlinewidth": 0,
              "ticks": ""
             }
            },
            "type": "scattergl"
           }
          ],
          "scattermapbox": [
           {
            "marker": {
             "colorbar": {
              "outlinewidth": 0,
              "ticks": ""
             }
            },
            "type": "scattermapbox"
           }
          ],
          "scatterpolar": [
           {
            "marker": {
             "colorbar": {
              "outlinewidth": 0,
              "ticks": ""
             }
            },
            "type": "scatterpolar"
           }
          ],
          "scatterpolargl": [
           {
            "marker": {
             "colorbar": {
              "outlinewidth": 0,
              "ticks": ""
             }
            },
            "type": "scatterpolargl"
           }
          ],
          "scatterternary": [
           {
            "marker": {
             "colorbar": {
              "outlinewidth": 0,
              "ticks": ""
             }
            },
            "type": "scatterternary"
           }
          ],
          "surface": [
           {
            "colorbar": {
             "outlinewidth": 0,
             "ticks": ""
            },
            "colorscale": [
             [
              0,
              "#0d0887"
             ],
             [
              0.1111111111111111,
              "#46039f"
             ],
             [
              0.2222222222222222,
              "#7201a8"
             ],
             [
              0.3333333333333333,
              "#9c179e"
             ],
             [
              0.4444444444444444,
              "#bd3786"
             ],
             [
              0.5555555555555556,
              "#d8576b"
             ],
             [
              0.6666666666666666,
              "#ed7953"
             ],
             [
              0.7777777777777778,
              "#fb9f3a"
             ],
             [
              0.8888888888888888,
              "#fdca26"
             ],
             [
              1,
              "#f0f921"
             ]
            ],
            "type": "surface"
           }
          ],
          "table": [
           {
            "cells": {
             "fill": {
              "color": "#EBF0F8"
             },
             "line": {
              "color": "white"
             }
            },
            "header": {
             "fill": {
              "color": "#C8D4E3"
             },
             "line": {
              "color": "white"
             }
            },
            "type": "table"
           }
          ]
         },
         "layout": {
          "annotationdefaults": {
           "arrowcolor": "#2a3f5f",
           "arrowhead": 0,
           "arrowwidth": 1
          },
          "autotypenumbers": "strict",
          "coloraxis": {
           "colorbar": {
            "outlinewidth": 0,
            "ticks": ""
           }
          },
          "colorscale": {
           "diverging": [
            [
             0,
             "#8e0152"
            ],
            [
             0.1,
             "#c51b7d"
            ],
            [
             0.2,
             "#de77ae"
            ],
            [
             0.3,
             "#f1b6da"
            ],
            [
             0.4,
             "#fde0ef"
            ],
            [
             0.5,
             "#f7f7f7"
            ],
            [
             0.6,
             "#e6f5d0"
            ],
            [
             0.7,
             "#b8e186"
            ],
            [
             0.8,
             "#7fbc41"
            ],
            [
             0.9,
             "#4d9221"
            ],
            [
             1,
             "#276419"
            ]
           ],
           "sequential": [
            [
             0,
             "#0d0887"
            ],
            [
             0.1111111111111111,
             "#46039f"
            ],
            [
             0.2222222222222222,
             "#7201a8"
            ],
            [
             0.3333333333333333,
             "#9c179e"
            ],
            [
             0.4444444444444444,
             "#bd3786"
            ],
            [
             0.5555555555555556,
             "#d8576b"
            ],
            [
             0.6666666666666666,
             "#ed7953"
            ],
            [
             0.7777777777777778,
             "#fb9f3a"
            ],
            [
             0.8888888888888888,
             "#fdca26"
            ],
            [
             1,
             "#f0f921"
            ]
           ],
           "sequentialminus": [
            [
             0,
             "#0d0887"
            ],
            [
             0.1111111111111111,
             "#46039f"
            ],
            [
             0.2222222222222222,
             "#7201a8"
            ],
            [
             0.3333333333333333,
             "#9c179e"
            ],
            [
             0.4444444444444444,
             "#bd3786"
            ],
            [
             0.5555555555555556,
             "#d8576b"
            ],
            [
             0.6666666666666666,
             "#ed7953"
            ],
            [
             0.7777777777777778,
             "#fb9f3a"
            ],
            [
             0.8888888888888888,
             "#fdca26"
            ],
            [
             1,
             "#f0f921"
            ]
           ]
          },
          "colorway": [
           "#636efa",
           "#EF553B",
           "#00cc96",
           "#ab63fa",
           "#FFA15A",
           "#19d3f3",
           "#FF6692",
           "#B6E880",
           "#FF97FF",
           "#FECB52"
          ],
          "font": {
           "color": "#2a3f5f"
          },
          "geo": {
           "bgcolor": "white",
           "lakecolor": "white",
           "landcolor": "#E5ECF6",
           "showlakes": true,
           "showland": true,
           "subunitcolor": "white"
          },
          "hoverlabel": {
           "align": "left"
          },
          "hovermode": "closest",
          "mapbox": {
           "style": "light"
          },
          "paper_bgcolor": "white",
          "plot_bgcolor": "#E5ECF6",
          "polar": {
           "angularaxis": {
            "gridcolor": "white",
            "linecolor": "white",
            "ticks": ""
           },
           "bgcolor": "#E5ECF6",
           "radialaxis": {
            "gridcolor": "white",
            "linecolor": "white",
            "ticks": ""
           }
          },
          "scene": {
           "xaxis": {
            "backgroundcolor": "#E5ECF6",
            "gridcolor": "white",
            "gridwidth": 2,
            "linecolor": "white",
            "showbackground": true,
            "ticks": "",
            "zerolinecolor": "white"
           },
           "yaxis": {
            "backgroundcolor": "#E5ECF6",
            "gridcolor": "white",
            "gridwidth": 2,
            "linecolor": "white",
            "showbackground": true,
            "ticks": "",
            "zerolinecolor": "white"
           },
           "zaxis": {
            "backgroundcolor": "#E5ECF6",
            "gridcolor": "white",
            "gridwidth": 2,
            "linecolor": "white",
            "showbackground": true,
            "ticks": "",
            "zerolinecolor": "white"
           }
          },
          "shapedefaults": {
           "line": {
            "color": "#2a3f5f"
           }
          },
          "ternary": {
           "aaxis": {
            "gridcolor": "white",
            "linecolor": "white",
            "ticks": ""
           },
           "baxis": {
            "gridcolor": "white",
            "linecolor": "white",
            "ticks": ""
           },
           "bgcolor": "#E5ECF6",
           "caxis": {
            "gridcolor": "white",
            "linecolor": "white",
            "ticks": ""
           }
          },
          "title": {
           "x": 0.05
          },
          "xaxis": {
           "automargin": true,
           "gridcolor": "white",
           "linecolor": "white",
           "ticks": "",
           "title": {
            "standoff": 15
           },
           "zerolinecolor": "white",
           "zerolinewidth": 2
          },
          "yaxis": {
           "automargin": true,
           "gridcolor": "white",
           "linecolor": "white",
           "ticks": "",
           "title": {
            "standoff": 15
           },
           "zerolinecolor": "white",
           "zerolinewidth": 2
          }
         }
        },
        "title": {
         "text": "Sector Analysis for past 20 days."
        },
        "xaxis": {
         "anchor": "y",
         "domain": [
          0,
          0.42
         ],
         "showgrid": true,
         "showline": false,
         "showticklabels": true,
         "zeroline": false
        },
        "xaxis2": {
         "anchor": "y2",
         "domain": [
          0.47,
          1
         ],
         "dtick": 25000,
         "showgrid": true,
         "showline": false,
         "showticklabels": true,
         "zeroline": false
        },
        "yaxis": {
         "anchor": "x",
         "domain": [
          0,
          0.85
         ],
         "showgrid": false,
         "showline": false,
         "showticklabels": true
        },
        "yaxis2": {
         "anchor": "x2",
         "domain": [
          0,
          0.85
         ],
         "linecolor": "rgba(102, 102, 102, 0.8)",
         "linewidth": 2,
         "showgrid": false,
         "showline": true,
         "showticklabels": false
        }
       }
      },
      "text/html": [
       "<div>                            <div id=\"e7a77939-9f77-4dde-8d87-f490ef23bec5\" class=\"plotly-graph-div\" style=\"height:525px; width:100%;\"></div>            <script type=\"text/javascript\">                require([\"plotly\"], function(Plotly) {                    window.PLOTLYENV=window.PLOTLYENV || {};                                    if (document.getElementById(\"e7a77939-9f77-4dde-8d87-f490ef23bec5\")) {                    Plotly.newPlot(                        \"e7a77939-9f77-4dde-8d87-f490ef23bec5\",                        [{\"marker\":{\"color\":\"rgba(50, 171, 96, 0.6)\",\"line\":{\"color\":\"rgba(50, 171, 96, 1.0)\",\"width\":1}},\"name\":\"Sector proportion in S&P 500.\",\"orientation\":\"h\",\"type\":\"bar\",\"x\":[21,27,70,37,20,69,64,69,30,71,29],\"xaxis\":\"x\",\"y\":[\"Basic Materials\",\"Communication Services\",\"Consumer Cyclical\",\"Consumer Defensive\",\"Energy\",\"Financial Services\",\"Healthcare\",\"Industrials\",\"Real Estate\",\"Technology\",\"Utilities\"],\"yaxis\":\"y\"},{\"line\":{\"color\":\"rgb(128, 0, 128)\"},\"mode\":\"lines+markers\",\"name\":\"The number of tickers increased stock prices.\",\"type\":\"scatter\",\"x\":[6.0,2.0,27.0,21.0,15.0,13.0,4.0,22.0,4.0,11.0,0.0],\"xaxis\":\"x\",\"y\":[\"Basic Materials\",\"Communication Services\",\"Consumer Cyclical\",\"Consumer Defensive\",\"Energy\",\"Financial Services\",\"Healthcare\",\"Industrials\",\"Real Estate\",\"Technology\",\"Utilities\"],\"yaxis\":\"y\"},{\"marker\":{\"color\":\"rgba(50, 171, 96, 0.6)\",\"line\":{\"color\":\"rgba(50, 171, 96, 1.0)\",\"width\":1}},\"name\":\"Sector proportion in S&P 500.\",\"orientation\":\"h\",\"type\":\"bar\",\"x\":[21,27,70,37,20,69,64,69,30,71,29],\"xaxis\":\"x2\",\"y\":[\"Basic Materials\",\"Communication Services\",\"Consumer Cyclical\",\"Consumer Defensive\",\"Energy\",\"Financial Services\",\"Healthcare\",\"Industrials\",\"Real Estate\",\"Technology\",\"Utilities\"],\"yaxis\":\"y2\"}],                        {\"annotations\":[{\"font\":{\"color\":\"rgb(50, 171, 96)\",\"family\":\"Arial\",\"size\":12},\"showarrow\":false,\"text\":\"4.14%\",\"x\":31,\"xref\":\"x\",\"y\":\"Basic Materials\",\"yref\":\"y\"},{\"font\":{\"color\":\"rgb(50, 171, 96)\",\"family\":\"Arial\",\"size\":12},\"showarrow\":false,\"text\":\"5.33%\",\"x\":37,\"xref\":\"x\",\"y\":\"Communication Services\",\"yref\":\"y\"},{\"font\":{\"color\":\"rgb(50, 171, 96)\",\"family\":\"Arial\",\"size\":12},\"showarrow\":false,\"text\":\"13.81%\",\"x\":80,\"xref\":\"x\",\"y\":\"Consumer Cyclical\",\"yref\":\"y\"},{\"font\":{\"color\":\"rgb(50, 171, 96)\",\"family\":\"Arial\",\"size\":12},\"showarrow\":false,\"text\":\"7.3%\",\"x\":47,\"xref\":\"x\",\"y\":\"Consumer Defensive\",\"yref\":\"y\"},{\"font\":{\"color\":\"rgb(50, 171, 96)\",\"family\":\"Arial\",\"size\":12},\"showarrow\":false,\"text\":\"3.94%\",\"x\":30,\"xref\":\"x\",\"y\":\"Energy\",\"yref\":\"y\"},{\"font\":{\"color\":\"rgb(50, 171, 96)\",\"family\":\"Arial\",\"size\":12},\"showarrow\":false,\"text\":\"13.61%\",\"x\":79,\"xref\":\"x\",\"y\":\"Financial Services\",\"yref\":\"y\"},{\"font\":{\"color\":\"rgb(50, 171, 96)\",\"family\":\"Arial\",\"size\":12},\"showarrow\":false,\"text\":\"12.62%\",\"x\":74,\"xref\":\"x\",\"y\":\"Healthcare\",\"yref\":\"y\"},{\"font\":{\"color\":\"rgb(50, 171, 96)\",\"family\":\"Arial\",\"size\":12},\"showarrow\":false,\"text\":\"13.61%\",\"x\":79,\"xref\":\"x\",\"y\":\"Industrials\",\"yref\":\"y\"},{\"font\":{\"color\":\"rgb(50, 171, 96)\",\"family\":\"Arial\",\"size\":12},\"showarrow\":false,\"text\":\"5.92%\",\"x\":40,\"xref\":\"x\",\"y\":\"Real Estate\",\"yref\":\"y\"},{\"font\":{\"color\":\"rgb(50, 171, 96)\",\"family\":\"Arial\",\"size\":12},\"showarrow\":false,\"text\":\"14.0%\",\"x\":81,\"xref\":\"x\",\"y\":\"Technology\",\"yref\":\"y\"},{\"font\":{\"color\":\"rgb(50, 171, 96)\",\"family\":\"Arial\",\"size\":12},\"showarrow\":false,\"text\":\"5.72%\",\"x\":39,\"xref\":\"x\",\"y\":\"Utilities\",\"yref\":\"y\"},{\"font\":{\"color\":\"rgb(150,150,150)\",\"family\":\"Arial\",\"size\":10},\"showarrow\":false,\"text\":\"yfinance S&P 500 data\",\"x\":-0.2,\"xref\":\"paper\",\"y\":-0.109,\"yref\":\"paper\"}],\"legend\":{\"font\":{\"size\":10},\"x\":0.029,\"y\":1.038},\"margin\":{\"b\":70,\"l\":100,\"r\":20,\"t\":70},\"paper_bgcolor\":\"rgb(248, 248, 255)\",\"plot_bgcolor\":\"rgb(248, 248, 255)\",\"template\":{\"data\":{\"bar\":[{\"error_x\":{\"color\":\"#2a3f5f\"},\"error_y\":{\"color\":\"#2a3f5f\"},\"marker\":{\"line\":{\"color\":\"#E5ECF6\",\"width\":0.5},\"pattern\":{\"fillmode\":\"overlay\",\"size\":10,\"solidity\":0.2}},\"type\":\"bar\"}],\"barpolar\":[{\"marker\":{\"line\":{\"color\":\"#E5ECF6\",\"width\":0.5},\"pattern\":{\"fillmode\":\"overlay\",\"size\":10,\"solidity\":0.2}},\"type\":\"barpolar\"}],\"carpet\":[{\"aaxis\":{\"endlinecolor\":\"#2a3f5f\",\"gridcolor\":\"white\",\"linecolor\":\"white\",\"minorgridcolor\":\"white\",\"startlinecolor\":\"#2a3f5f\"},\"baxis\":{\"endlinecolor\":\"#2a3f5f\",\"gridcolor\":\"white\",\"linecolor\":\"white\",\"minorgridcolor\":\"white\",\"startlinecolor\":\"#2a3f5f\"},\"type\":\"carpet\"}],\"choropleth\":[{\"colorbar\":{\"outlinewidth\":0,\"ticks\":\"\"},\"type\":\"choropleth\"}],\"contour\":[{\"colorbar\":{\"outlinewidth\":0,\"ticks\":\"\"},\"colorscale\":[[0.0,\"#0d0887\"],[0.1111111111111111,\"#46039f\"],[0.2222222222222222,\"#7201a8\"],[0.3333333333333333,\"#9c179e\"],[0.4444444444444444,\"#bd3786\"],[0.5555555555555556,\"#d8576b\"],[0.6666666666666666,\"#ed7953\"],[0.7777777777777778,\"#fb9f3a\"],[0.8888888888888888,\"#fdca26\"],[1.0,\"#f0f921\"]],\"type\":\"contour\"}],\"contourcarpet\":[{\"colorbar\":{\"outlinewidth\":0,\"ticks\":\"\"},\"type\":\"contourcarpet\"}],\"heatmap\":[{\"colorbar\":{\"outlinewidth\":0,\"ticks\":\"\"},\"colorscale\":[[0.0,\"#0d0887\"],[0.1111111111111111,\"#46039f\"],[0.2222222222222222,\"#7201a8\"],[0.3333333333333333,\"#9c179e\"],[0.4444444444444444,\"#bd3786\"],[0.5555555555555556,\"#d8576b\"],[0.6666666666666666,\"#ed7953\"],[0.7777777777777778,\"#fb9f3a\"],[0.8888888888888888,\"#fdca26\"],[1.0,\"#f0f921\"]],\"type\":\"heatmap\"}],\"heatmapgl\":[{\"colorbar\":{\"outlinewidth\":0,\"ticks\":\"\"},\"colorscale\":[[0.0,\"#0d0887\"],[0.1111111111111111,\"#46039f\"],[0.2222222222222222,\"#7201a8\"],[0.3333333333333333,\"#9c179e\"],[0.4444444444444444,\"#bd3786\"],[0.5555555555555556,\"#d8576b\"],[0.6666666666666666,\"#ed7953\"],[0.7777777777777778,\"#fb9f3a\"],[0.8888888888888888,\"#fdca26\"],[1.0,\"#f0f921\"]],\"type\":\"heatmapgl\"}],\"histogram\":[{\"marker\":{\"pattern\":{\"fillmode\":\"overlay\",\"size\":10,\"solidity\":0.2}},\"type\":\"histogram\"}],\"histogram2d\":[{\"colorbar\":{\"outlinewidth\":0,\"ticks\":\"\"},\"colorscale\":[[0.0,\"#0d0887\"],[0.1111111111111111,\"#46039f\"],[0.2222222222222222,\"#7201a8\"],[0.3333333333333333,\"#9c179e\"],[0.4444444444444444,\"#bd3786\"],[0.5555555555555556,\"#d8576b\"],[0.6666666666666666,\"#ed7953\"],[0.7777777777777778,\"#fb9f3a\"],[0.8888888888888888,\"#fdca26\"],[1.0,\"#f0f921\"]],\"type\":\"histogram2d\"}],\"histogram2dcontour\":[{\"colorbar\":{\"outlinewidth\":0,\"ticks\":\"\"},\"colorscale\":[[0.0,\"#0d0887\"],[0.1111111111111111,\"#46039f\"],[0.2222222222222222,\"#7201a8\"],[0.3333333333333333,\"#9c179e\"],[0.4444444444444444,\"#bd3786\"],[0.5555555555555556,\"#d8576b\"],[0.6666666666666666,\"#ed7953\"],[0.7777777777777778,\"#fb9f3a\"],[0.8888888888888888,\"#fdca26\"],[1.0,\"#f0f921\"]],\"type\":\"histogram2dcontour\"}],\"mesh3d\":[{\"colorbar\":{\"outlinewidth\":0,\"ticks\":\"\"},\"type\":\"mesh3d\"}],\"parcoords\":[{\"line\":{\"colorbar\":{\"outlinewidth\":0,\"ticks\":\"\"}},\"type\":\"parcoords\"}],\"pie\":[{\"automargin\":true,\"type\":\"pie\"}],\"scatter\":[{\"marker\":{\"colorbar\":{\"outlinewidth\":0,\"ticks\":\"\"}},\"type\":\"scatter\"}],\"scatter3d\":[{\"line\":{\"colorbar\":{\"outlinewidth\":0,\"ticks\":\"\"}},\"marker\":{\"colorbar\":{\"outlinewidth\":0,\"ticks\":\"\"}},\"type\":\"scatter3d\"}],\"scattercarpet\":[{\"marker\":{\"colorbar\":{\"outlinewidth\":0,\"ticks\":\"\"}},\"type\":\"scattercarpet\"}],\"scattergeo\":[{\"marker\":{\"colorbar\":{\"outlinewidth\":0,\"ticks\":\"\"}},\"type\":\"scattergeo\"}],\"scattergl\":[{\"marker\":{\"colorbar\":{\"outlinewidth\":0,\"ticks\":\"\"}},\"type\":\"scattergl\"}],\"scattermapbox\":[{\"marker\":{\"colorbar\":{\"outlinewidth\":0,\"ticks\":\"\"}},\"type\":\"scattermapbox\"}],\"scatterpolar\":[{\"marker\":{\"colorbar\":{\"outlinewidth\":0,\"ticks\":\"\"}},\"type\":\"scatterpolar\"}],\"scatterpolargl\":[{\"marker\":{\"colorbar\":{\"outlinewidth\":0,\"ticks\":\"\"}},\"type\":\"scatterpolargl\"}],\"scatterternary\":[{\"marker\":{\"colorbar\":{\"outlinewidth\":0,\"ticks\":\"\"}},\"type\":\"scatterternary\"}],\"surface\":[{\"colorbar\":{\"outlinewidth\":0,\"ticks\":\"\"},\"colorscale\":[[0.0,\"#0d0887\"],[0.1111111111111111,\"#46039f\"],[0.2222222222222222,\"#7201a8\"],[0.3333333333333333,\"#9c179e\"],[0.4444444444444444,\"#bd3786\"],[0.5555555555555556,\"#d8576b\"],[0.6666666666666666,\"#ed7953\"],[0.7777777777777778,\"#fb9f3a\"],[0.8888888888888888,\"#fdca26\"],[1.0,\"#f0f921\"]],\"type\":\"surface\"}],\"table\":[{\"cells\":{\"fill\":{\"color\":\"#EBF0F8\"},\"line\":{\"color\":\"white\"}},\"header\":{\"fill\":{\"color\":\"#C8D4E3\"},\"line\":{\"color\":\"white\"}},\"type\":\"table\"}]},\"layout\":{\"annotationdefaults\":{\"arrowcolor\":\"#2a3f5f\",\"arrowhead\":0,\"arrowwidth\":1},\"autotypenumbers\":\"strict\",\"coloraxis\":{\"colorbar\":{\"outlinewidth\":0,\"ticks\":\"\"}},\"colorscale\":{\"diverging\":[[0,\"#8e0152\"],[0.1,\"#c51b7d\"],[0.2,\"#de77ae\"],[0.3,\"#f1b6da\"],[0.4,\"#fde0ef\"],[0.5,\"#f7f7f7\"],[0.6,\"#e6f5d0\"],[0.7,\"#b8e186\"],[0.8,\"#7fbc41\"],[0.9,\"#4d9221\"],[1,\"#276419\"]],\"sequential\":[[0.0,\"#0d0887\"],[0.1111111111111111,\"#46039f\"],[0.2222222222222222,\"#7201a8\"],[0.3333333333333333,\"#9c179e\"],[0.4444444444444444,\"#bd3786\"],[0.5555555555555556,\"#d8576b\"],[0.6666666666666666,\"#ed7953\"],[0.7777777777777778,\"#fb9f3a\"],[0.8888888888888888,\"#fdca26\"],[1.0,\"#f0f921\"]],\"sequentialminus\":[[0.0,\"#0d0887\"],[0.1111111111111111,\"#46039f\"],[0.2222222222222222,\"#7201a8\"],[0.3333333333333333,\"#9c179e\"],[0.4444444444444444,\"#bd3786\"],[0.5555555555555556,\"#d8576b\"],[0.6666666666666666,\"#ed7953\"],[0.7777777777777778,\"#fb9f3a\"],[0.8888888888888888,\"#fdca26\"],[1.0,\"#f0f921\"]]},\"colorway\":[\"#636efa\",\"#EF553B\",\"#00cc96\",\"#ab63fa\",\"#FFA15A\",\"#19d3f3\",\"#FF6692\",\"#B6E880\",\"#FF97FF\",\"#FECB52\"],\"font\":{\"color\":\"#2a3f5f\"},\"geo\":{\"bgcolor\":\"white\",\"lakecolor\":\"white\",\"landcolor\":\"#E5ECF6\",\"showlakes\":true,\"showland\":true,\"subunitcolor\":\"white\"},\"hoverlabel\":{\"align\":\"left\"},\"hovermode\":\"closest\",\"mapbox\":{\"style\":\"light\"},\"paper_bgcolor\":\"white\",\"plot_bgcolor\":\"#E5ECF6\",\"polar\":{\"angularaxis\":{\"gridcolor\":\"white\",\"linecolor\":\"white\",\"ticks\":\"\"},\"bgcolor\":\"#E5ECF6\",\"radialaxis\":{\"gridcolor\":\"white\",\"linecolor\":\"white\",\"ticks\":\"\"}},\"scene\":{\"xaxis\":{\"backgroundcolor\":\"#E5ECF6\",\"gridcolor\":\"white\",\"gridwidth\":2,\"linecolor\":\"white\",\"showbackground\":true,\"ticks\":\"\",\"zerolinecolor\":\"white\"},\"yaxis\":{\"backgroundcolor\":\"#E5ECF6\",\"gridcolor\":\"white\",\"gridwidth\":2,\"linecolor\":\"white\",\"showbackground\":true,\"ticks\":\"\",\"zerolinecolor\":\"white\"},\"zaxis\":{\"backgroundcolor\":\"#E5ECF6\",\"gridcolor\":\"white\",\"gridwidth\":2,\"linecolor\":\"white\",\"showbackground\":true,\"ticks\":\"\",\"zerolinecolor\":\"white\"}},\"shapedefaults\":{\"line\":{\"color\":\"#2a3f5f\"}},\"ternary\":{\"aaxis\":{\"gridcolor\":\"white\",\"linecolor\":\"white\",\"ticks\":\"\"},\"baxis\":{\"gridcolor\":\"white\",\"linecolor\":\"white\",\"ticks\":\"\"},\"bgcolor\":\"#E5ECF6\",\"caxis\":{\"gridcolor\":\"white\",\"linecolor\":\"white\",\"ticks\":\"\"}},\"title\":{\"x\":0.05},\"xaxis\":{\"automargin\":true,\"gridcolor\":\"white\",\"linecolor\":\"white\",\"ticks\":\"\",\"title\":{\"standoff\":15},\"zerolinecolor\":\"white\",\"zerolinewidth\":2},\"yaxis\":{\"automargin\":true,\"gridcolor\":\"white\",\"linecolor\":\"white\",\"ticks\":\"\",\"title\":{\"standoff\":15},\"zerolinecolor\":\"white\",\"zerolinewidth\":2}}},\"title\":{\"text\":\"Sector Analysis for past 20 days.\"},\"xaxis\":{\"anchor\":\"y\",\"domain\":[0,0.42],\"showgrid\":true,\"showline\":false,\"showticklabels\":true,\"zeroline\":false},\"xaxis2\":{\"anchor\":\"y2\",\"domain\":[0.47,1],\"dtick\":25000,\"showgrid\":true,\"showline\":false,\"showticklabels\":true,\"zeroline\":false},\"yaxis\":{\"anchor\":\"x\",\"domain\":[0,0.85],\"showgrid\":false,\"showline\":false,\"showticklabels\":true},\"yaxis2\":{\"anchor\":\"x2\",\"domain\":[0,0.85],\"linecolor\":\"rgba(102, 102, 102, 0.8)\",\"linewidth\":2,\"showgrid\":false,\"showline\":true,\"showticklabels\":false}},                        {\"responsive\": true}                    ).then(function(){\n",
       "                            \n",
       "var gd = document.getElementById('e7a77939-9f77-4dde-8d87-f490ef23bec5');\n",
       "var x = new MutationObserver(function (mutations, observer) {{\n",
       "        var display = window.getComputedStyle(gd).display;\n",
       "        if (!display || display === 'none') {{\n",
       "            console.log([gd, 'removed!']);\n",
       "            Plotly.purge(gd);\n",
       "            observer.disconnect();\n",
       "        }}\n",
       "}});\n",
       "\n",
       "// Listen for the removal of the full notebook cells\n",
       "var notebookContainer = gd.closest('#notebook-container');\n",
       "if (notebookContainer) {{\n",
       "    x.observe(notebookContainer, {childList: true});\n",
       "}}\n",
       "\n",
       "// Listen for the clearing of the current output cell\n",
       "var outputEl = gd.closest('.output');\n",
       "if (outputEl) {{\n",
       "    x.observe(outputEl, {childList: true});\n",
       "}}\n",
       "\n",
       "                        })                };                });            </script>        </div>"
      ]
     },
     "metadata": {},
     "output_type": "display_data"
    }
   ],
   "source": [
    "# # Creating two subplots\n",
    "# fig = make_subplots(rows=1, cols=2, specs=[[{}, {}]], shared_xaxes=True,\n",
    "#                     shared_yaxes=False, vertical_spacing=0.001)\n",
    "\n",
    "# fig.append_trace(go.Bar(\n",
    "#     x=df_final_analysis.total,\n",
    "#     y=df_final_analysis.sector,\n",
    "#     marker=dict(\n",
    "#         color='rgba(50, 171, 96, 0.6)',\n",
    "#         line=dict(\n",
    "#             color='rgba(50, 171, 96, 1.0)',\n",
    "#             width=1),\n",
    "#     ),\n",
    "#     name=f'Sector proportion in S&P 500.',\n",
    "#     orientation='h',\n",
    "# ), 1, 1)\n",
    "\n",
    "# fig.append_trace(go.Scatter(\n",
    "#     x=df_final_analysis.diff_close_positive, \n",
    "#     y=df_final_analysis.sector,\n",
    "#     mode='lines+markers',\n",
    "#     line_color='rgb(128, 0, 128)',\n",
    "#     name=f'The number of tickers increased stock prices.',\n",
    "# ), 1, 1)\n",
    "\n",
    "# fig.append_trace(go.Bar(\n",
    "#     x=df_final_analysis.total,\n",
    "#     y=df_final_analysis.sector,\n",
    "#     marker=dict(\n",
    "#         color='rgba(50, 171, 96, 0.6)',\n",
    "#         line=dict(\n",
    "#             color='rgba(50, 171, 96, 1.0)',\n",
    "#             width=1),\n",
    "#     ),\n",
    "#     name=f'Sector proportion in S&P 500.',\n",
    "#     orientation='h',\n",
    "# ), 1, 2)\n",
    "\n",
    "# fig.update_layout(\n",
    "#     title=f'Sector Analysis for past {sector_period} days.',\n",
    "#     yaxis=dict(\n",
    "#         showgrid=False,\n",
    "#         showline=False,\n",
    "#         showticklabels=True,\n",
    "#         domain=[0, 0.85],\n",
    "#     ),\n",
    "#     yaxis2=dict(\n",
    "#         showgrid=False,\n",
    "#         showline=True,\n",
    "#         showticklabels=False,\n",
    "#         linecolor='rgba(102, 102, 102, 0.8)',\n",
    "#         linewidth=2,\n",
    "#         domain=[0, 0.85],\n",
    "#     ),\n",
    "#     xaxis=dict(\n",
    "#         zeroline=False,\n",
    "#         showline=False,\n",
    "#         showticklabels=True,\n",
    "#         showgrid=True,\n",
    "#         domain=[0, 0.42],\n",
    "#     ),\n",
    "#     xaxis2=dict(\n",
    "#         zeroline=False,\n",
    "#         showline=False,\n",
    "#         showticklabels=True,\n",
    "#         showgrid=True,\n",
    "#         domain=[0.47, 1],\n",
    "# #         side='top',\n",
    "#         dtick=25000,\n",
    "#     ),\n",
    "#     legend=dict(x=0.029, y=1.038, font_size=10),\n",
    "#     margin=dict(l=100, r=20, t=70, b=70),\n",
    "#     paper_bgcolor='rgb(248, 248, 255)',\n",
    "#     plot_bgcolor='rgb(248, 248, 255)',\n",
    "# )\n",
    "# annotations = []\n",
    "\n",
    "# total_list = total_list\n",
    "# total_prop = round(total_list/sum(total_list)*100, 2)\n",
    "# sector_list = df_final_analysis.sector\n",
    "\n",
    "# # Adding labels\n",
    "# for totald, yd, xd in zip(total_list, total_prop, sector_list):\n",
    "#     # labeling the bar \n",
    "#     annotations.append(dict(xref='x1', yref='y1',\n",
    "#                             y=xd, x=totald + 10,\n",
    "#                             text=str(yd) + '%',\n",
    "#                             font=dict(family='Arial', size=12,\n",
    "#                                       color='rgb(50, 171, 96)'),\n",
    "#                             showarrow=False))\n",
    "\n",
    "# # Source\n",
    "# annotations.append(dict(xref='paper', yref='paper',\n",
    "#                         x=-0.2, y=-0.109,\n",
    "#                         text='yfinance S&P 500 data',\n",
    "#                         font=dict(family='Arial', size=10, color='rgb(150,150,150)'),\n",
    "#                         showarrow=False))\n",
    "\n",
    "# fig.update_layout(annotations=annotations)\n",
    "# fig.show()"
   ]
  },
  {
   "cell_type": "code",
   "execution_count": 453,
   "id": "018a8f6d",
   "metadata": {},
   "outputs": [],
   "source": [
    "date_start = '2022-03-30'\n",
    "duration_days = 20\n",
    "\n",
    "import numpy as np\n",
    "\n",
    "sector_list = ['Basic Materials', 'Consumer Cyclical', 'Healthcare', \n",
    "               'Industrials', 'Financial Services', 'Technology', 'Energy', \n",
    "               'Consumer Defensive', 'Communication Services','Utilities', 'Real Estate']\n",
    "\n",
    "df_all = pd.DataFrame()\n",
    "for ticker in stock_history.keys():\n",
    "    df_temp = stock_history[ticker]\n",
    "    df_temp = df_temp[df_temp[\"Date\"] > date_start].iloc[:duration_days]\n",
    "    df_temp = stock_history[ticker].iloc[-sector_period:]\n",
    "    df_temp.reset_index(inplace=True, drop=True)\n",
    "    \n",
    "    if len(df_temp) > sector_period-1:\n",
    "        df_temp[\"ticker\"] = ticker\n",
    "        df_temp[\"sector\"] = df_final[df_final[\"ticker\"] == ticker][\"sector\"].tolist()[0]\n",
    "        df_temp[\"diff_maxmin\"] = df_temp[\"Close\"].max() - df_temp[\"Close\"].min()\n",
    "        df_temp[\"diff_close\"] = df_temp.iloc[-1][\"Close\"] - df_temp.iloc[0][\"Close\"] \n",
    "        df_temp[\"ch_per_1_mean\"] = df_temp[\"ch_per_1\"].mean()\n",
    "        df_temp = df_temp[[\"ticker\", \"sector\", \"Date\", \"Close\", \"Volume\", \n",
    "                           \"diff_maxmin\", \"diff_close\", \"ch_per_1_mean\"]]\n",
    "        df_all = df_all.append(df_temp)\n",
    "        \n",
    "output_dict = {}\n",
    "for sector in sector_list:\n",
    "    output_dict[sector] = {}\n",
    "\n",
    "df_filter = df_all[df_all[\"diff_close\"] > 0]\n",
    "for sector in sector_list:\n",
    "    df_filter_temp = df_filter[df_filter[\"sector\"] == sector]\n",
    "    output_dict[sector][\"pos_diff_close\"] = df_filter_temp[\"ticker\"].unique().tolist()\n",
    "    \n",
    "df_filter = df_all[df_all[\"diff_close\"] < 0]\n",
    "for sector in sector_list:\n",
    "    df_filter_temp = df_filter[df_filter[\"sector\"] == sector]\n",
    "    output_dict[sector][\"neg_diff_close\"] = df_filter_temp[\"ticker\"].unique().tolist()\n",
    "    \n",
    "df_positive = df_all[df_all[\"diff_close\"] > 0].groupby(\"sector\")[\"ticker\"].nunique().reset_index(drop=False)\n",
    "df_positive.rename(columns={\"ticker\": \"diff_close_positive\"}, inplace=True)\n",
    "df_negative = df_all[df_all[\"diff_close\"] < 0].groupby(\"sector\")[\"ticker\"].nunique().reset_index(drop=False)\n",
    "df_negative.rename(columns={\"ticker\": \"diff_close_negative\"}, inplace=True)\n",
    "df_total = df_all.groupby(\"sector\")[\"ticker\"].nunique().reset_index(drop=False)\n",
    "df_total.rename(columns={\"ticker\": \"total\"}, inplace=True)\n",
    "\n",
    "\n",
    "df_final_analysis = pd.merge(df_total, df_positive, on=\"sector\", how=\"left\")\n",
    "df_final_analysis = pd.merge(df_final_analysis, df_negative, on=\"sector\", how=\"left\")\n",
    "\n",
    "df_final_analysis['diff_close_positive'] = df_final_analysis['diff_close_positive'].replace(np.nan, 0)\n",
    "df_final_analysis['diff_close_negative'] = df_final_analysis['diff_close_negative'].replace(np.nan, 0)\n",
    "\n",
    "df_final_analysis[\"p_perc\"] = round(df_final_analysis[\"diff_close_positive\"]/df_final_analysis[\"total\"]*100, 2)\n",
    "df_final_analysis[\"n_perc\"] = round(df_final_analysis[\"diff_close_negative\"]/df_final_analysis[\"total\"]*100, 2)\n",
    "\n",
    "top_labels = ['Price Up', 'Price Down']\n",
    "colors = ['rgba(211,92,55, 0.8)', 'rgba(214,198,185, 0.8)']\n",
    "x_data = df_final_analysis[[\"p_perc\", \"n_perc\"]].values.tolist()\n",
    "y_data = df_final_analysis[\"sector\"].tolist()"
   ]
  },
  {
   "cell_type": "code",
   "execution_count": 454,
   "id": "9dd96a33",
   "metadata": {},
   "outputs": [
    {
     "name": "stdout",
     "output_type": "stream",
     "text": [
      "2022-03-10 2022-05-05\n"
     ]
    }
   ],
   "source": [
    "time_start = df_temp.iloc[0][\"Date\"].strftime('%Y-%m-%d') \n",
    "time_last = df_temp.iloc[-1][\"Date\"].strftime('%Y-%m-%d') \n",
    "print(time_start, time_last)"
   ]
  },
  {
   "cell_type": "code",
   "execution_count": 456,
   "id": "f403a8f8",
   "metadata": {},
   "outputs": [
    {
     "data": {
      "application/vnd.plotly.v1+json": {
       "config": {
        "plotlyServerURL": "https://plot.ly"
       },
       "data": [
        {
         "marker": {
          "color": "rgba(211,92,55, 0.8)",
          "line": {
           "color": "rgb(248, 248, 249)",
           "width": 1
          }
         },
         "orientation": "h",
         "type": "bar",
         "x": [
          71.43
         ],
         "y": [
          "Basic Materials"
         ]
        },
        {
         "marker": {
          "color": "rgba(211,92,55, 0.8)",
          "line": {
           "color": "rgb(248, 248, 249)",
           "width": 1
          }
         },
         "orientation": "h",
         "type": "bar",
         "x": [
          22.22
         ],
         "y": [
          "Communication Services"
         ]
        },
        {
         "marker": {
          "color": "rgba(211,92,55, 0.8)",
          "line": {
           "color": "rgb(248, 248, 249)",
           "width": 1
          }
         },
         "orientation": "h",
         "type": "bar",
         "x": [
          35.71
         ],
         "y": [
          "Consumer Cyclical"
         ]
        },
        {
         "marker": {
          "color": "rgba(211,92,55, 0.8)",
          "line": {
           "color": "rgb(248, 248, 249)",
           "width": 1
          }
         },
         "orientation": "h",
         "type": "bar",
         "x": [
          81.08
         ],
         "y": [
          "Consumer Defensive"
         ]
        },
        {
         "marker": {
          "color": "rgba(211,92,55, 0.8)",
          "line": {
           "color": "rgb(248, 248, 249)",
           "width": 1
          }
         },
         "orientation": "h",
         "type": "bar",
         "x": [
          75
         ],
         "y": [
          "Energy"
         ]
        },
        {
         "marker": {
          "color": "rgba(211,92,55, 0.8)",
          "line": {
           "color": "rgb(248, 248, 249)",
           "width": 1
          }
         },
         "orientation": "h",
         "type": "bar",
         "x": [
          36.23
         ],
         "y": [
          "Financial Services"
         ]
        },
        {
         "marker": {
          "color": "rgba(211,92,55, 0.8)",
          "line": {
           "color": "rgb(248, 248, 249)",
           "width": 1
          }
         },
         "orientation": "h",
         "type": "bar",
         "x": [
          48.44
         ],
         "y": [
          "Healthcare"
         ]
        },
        {
         "marker": {
          "color": "rgba(211,92,55, 0.8)",
          "line": {
           "color": "rgb(248, 248, 249)",
           "width": 1
          }
         },
         "orientation": "h",
         "type": "bar",
         "x": [
          52.17
         ],
         "y": [
          "Industrials"
         ]
        },
        {
         "marker": {
          "color": "rgba(211,92,55, 0.8)",
          "line": {
           "color": "rgb(248, 248, 249)",
           "width": 1
          }
         },
         "orientation": "h",
         "type": "bar",
         "x": [
          36.67
         ],
         "y": [
          "Real Estate"
         ]
        },
        {
         "marker": {
          "color": "rgba(211,92,55, 0.8)",
          "line": {
           "color": "rgb(248, 248, 249)",
           "width": 1
          }
         },
         "orientation": "h",
         "type": "bar",
         "x": [
          21.13
         ],
         "y": [
          "Technology"
         ]
        },
        {
         "marker": {
          "color": "rgba(211,92,55, 0.8)",
          "line": {
           "color": "rgb(248, 248, 249)",
           "width": 1
          }
         },
         "orientation": "h",
         "type": "bar",
         "x": [
          72.41
         ],
         "y": [
          "Utilities"
         ]
        },
        {
         "marker": {
          "color": "rgba(214,198,185, 0.8)",
          "line": {
           "color": "rgb(248, 248, 249)",
           "width": 1
          }
         },
         "orientation": "h",
         "type": "bar",
         "x": [
          28.57
         ],
         "y": [
          "Basic Materials"
         ]
        },
        {
         "marker": {
          "color": "rgba(214,198,185, 0.8)",
          "line": {
           "color": "rgb(248, 248, 249)",
           "width": 1
          }
         },
         "orientation": "h",
         "type": "bar",
         "x": [
          77.78
         ],
         "y": [
          "Communication Services"
         ]
        },
        {
         "marker": {
          "color": "rgba(214,198,185, 0.8)",
          "line": {
           "color": "rgb(248, 248, 249)",
           "width": 1
          }
         },
         "orientation": "h",
         "type": "bar",
         "x": [
          64.29
         ],
         "y": [
          "Consumer Cyclical"
         ]
        },
        {
         "marker": {
          "color": "rgba(214,198,185, 0.8)",
          "line": {
           "color": "rgb(248, 248, 249)",
           "width": 1
          }
         },
         "orientation": "h",
         "type": "bar",
         "x": [
          18.92
         ],
         "y": [
          "Consumer Defensive"
         ]
        },
        {
         "marker": {
          "color": "rgba(214,198,185, 0.8)",
          "line": {
           "color": "rgb(248, 248, 249)",
           "width": 1
          }
         },
         "orientation": "h",
         "type": "bar",
         "x": [
          25
         ],
         "y": [
          "Energy"
         ]
        },
        {
         "marker": {
          "color": "rgba(214,198,185, 0.8)",
          "line": {
           "color": "rgb(248, 248, 249)",
           "width": 1
          }
         },
         "orientation": "h",
         "type": "bar",
         "x": [
          63.77
         ],
         "y": [
          "Financial Services"
         ]
        },
        {
         "marker": {
          "color": "rgba(214,198,185, 0.8)",
          "line": {
           "color": "rgb(248, 248, 249)",
           "width": 1
          }
         },
         "orientation": "h",
         "type": "bar",
         "x": [
          51.56
         ],
         "y": [
          "Healthcare"
         ]
        },
        {
         "marker": {
          "color": "rgba(214,198,185, 0.8)",
          "line": {
           "color": "rgb(248, 248, 249)",
           "width": 1
          }
         },
         "orientation": "h",
         "type": "bar",
         "x": [
          47.83
         ],
         "y": [
          "Industrials"
         ]
        },
        {
         "marker": {
          "color": "rgba(214,198,185, 0.8)",
          "line": {
           "color": "rgb(248, 248, 249)",
           "width": 1
          }
         },
         "orientation": "h",
         "type": "bar",
         "x": [
          63.33
         ],
         "y": [
          "Real Estate"
         ]
        },
        {
         "marker": {
          "color": "rgba(214,198,185, 0.8)",
          "line": {
           "color": "rgb(248, 248, 249)",
           "width": 1
          }
         },
         "orientation": "h",
         "type": "bar",
         "x": [
          78.87
         ],
         "y": [
          "Technology"
         ]
        },
        {
         "marker": {
          "color": "rgba(214,198,185, 0.8)",
          "line": {
           "color": "rgb(248, 248, 249)",
           "width": 1
          }
         },
         "orientation": "h",
         "type": "bar",
         "x": [
          27.59
         ],
         "y": [
          "Utilities"
         ]
        }
       ],
       "layout": {
        "annotations": [
         {
          "align": "right",
          "font": {
           "color": "rgb(68,76,92)",
           "family": "Arial",
           "size": 14
          },
          "showarrow": false,
          "text": "Basic Materials",
          "x": 0.13,
          "xanchor": "right",
          "xref": "paper",
          "y": "Basic Materials",
          "yref": "y"
         },
         {
          "font": {
           "color": "rgb(116,71,0)",
           "family": "Arial",
           "size": 14
          },
          "showarrow": false,
          "text": "71.43%",
          "x": 36.215,
          "xref": "x",
          "y": "Basic Materials",
          "yref": "y"
         },
         {
          "font": {
           "color": "rgb(191,154,119)",
           "family": "Arial",
           "size": 14
          },
          "showarrow": false,
          "text": "28.57%",
          "x": 87.715,
          "xref": "x",
          "y": "Basic Materials",
          "yref": "y"
         },
         {
          "align": "right",
          "font": {
           "color": "rgb(68,76,92)",
           "family": "Arial",
           "size": 14
          },
          "showarrow": false,
          "text": "Communication Services",
          "x": 0.13,
          "xanchor": "right",
          "xref": "paper",
          "y": "Communication Services",
          "yref": "y"
         },
         {
          "font": {
           "color": "rgb(116,71,0)",
           "family": "Arial",
           "size": 14
          },
          "showarrow": false,
          "text": "22.22%",
          "x": 11.61,
          "xref": "x",
          "y": "Communication Services",
          "yref": "y"
         },
         {
          "font": {
           "color": "rgb(191,154,119)",
           "family": "Arial",
           "size": 14
          },
          "showarrow": false,
          "text": "77.78%",
          "x": 63.11,
          "xref": "x",
          "y": "Communication Services",
          "yref": "y"
         },
         {
          "align": "right",
          "font": {
           "color": "rgb(68,76,92)",
           "family": "Arial",
           "size": 14
          },
          "showarrow": false,
          "text": "Consumer Cyclical",
          "x": 0.13,
          "xanchor": "right",
          "xref": "paper",
          "y": "Consumer Cyclical",
          "yref": "y"
         },
         {
          "font": {
           "color": "rgb(116,71,0)",
           "family": "Arial",
           "size": 14
          },
          "showarrow": false,
          "text": "35.71%",
          "x": 18.355,
          "xref": "x",
          "y": "Consumer Cyclical",
          "yref": "y"
         },
         {
          "font": {
           "color": "rgb(191,154,119)",
           "family": "Arial",
           "size": 14
          },
          "showarrow": false,
          "text": "64.29%",
          "x": 69.855,
          "xref": "x",
          "y": "Consumer Cyclical",
          "yref": "y"
         },
         {
          "align": "right",
          "font": {
           "color": "rgb(68,76,92)",
           "family": "Arial",
           "size": 14
          },
          "showarrow": false,
          "text": "Consumer Defensive",
          "x": 0.13,
          "xanchor": "right",
          "xref": "paper",
          "y": "Consumer Defensive",
          "yref": "y"
         },
         {
          "font": {
           "color": "rgb(116,71,0)",
           "family": "Arial",
           "size": 14
          },
          "showarrow": false,
          "text": "81.08%",
          "x": 41.04,
          "xref": "x",
          "y": "Consumer Defensive",
          "yref": "y"
         },
         {
          "font": {
           "color": "rgb(191,154,119)",
           "family": "Arial",
           "size": 14
          },
          "showarrow": false,
          "text": "18.92%",
          "x": 92.53999999999999,
          "xref": "x",
          "y": "Consumer Defensive",
          "yref": "y"
         },
         {
          "align": "right",
          "font": {
           "color": "rgb(68,76,92)",
           "family": "Arial",
           "size": 14
          },
          "showarrow": false,
          "text": "Energy",
          "x": 0.13,
          "xanchor": "right",
          "xref": "paper",
          "y": "Energy",
          "yref": "y"
         },
         {
          "font": {
           "color": "rgb(116,71,0)",
           "family": "Arial",
           "size": 14
          },
          "showarrow": false,
          "text": "75.0%",
          "x": 38,
          "xref": "x",
          "y": "Energy",
          "yref": "y"
         },
         {
          "font": {
           "color": "rgb(191,154,119)",
           "family": "Arial",
           "size": 14
          },
          "showarrow": false,
          "text": "25.0%",
          "x": 89.5,
          "xref": "x",
          "y": "Energy",
          "yref": "y"
         },
         {
          "align": "right",
          "font": {
           "color": "rgb(68,76,92)",
           "family": "Arial",
           "size": 14
          },
          "showarrow": false,
          "text": "Financial Services",
          "x": 0.13,
          "xanchor": "right",
          "xref": "paper",
          "y": "Financial Services",
          "yref": "y"
         },
         {
          "font": {
           "color": "rgb(116,71,0)",
           "family": "Arial",
           "size": 14
          },
          "showarrow": false,
          "text": "36.23%",
          "x": 18.615,
          "xref": "x",
          "y": "Financial Services",
          "yref": "y"
         },
         {
          "font": {
           "color": "rgb(191,154,119)",
           "family": "Arial",
           "size": 14
          },
          "showarrow": false,
          "text": "63.77%",
          "x": 70.115,
          "xref": "x",
          "y": "Financial Services",
          "yref": "y"
         },
         {
          "align": "right",
          "font": {
           "color": "rgb(68,76,92)",
           "family": "Arial",
           "size": 14
          },
          "showarrow": false,
          "text": "Healthcare",
          "x": 0.13,
          "xanchor": "right",
          "xref": "paper",
          "y": "Healthcare",
          "yref": "y"
         },
         {
          "font": {
           "color": "rgb(116,71,0)",
           "family": "Arial",
           "size": 14
          },
          "showarrow": false,
          "text": "48.44%",
          "x": 24.72,
          "xref": "x",
          "y": "Healthcare",
          "yref": "y"
         },
         {
          "font": {
           "color": "rgb(191,154,119)",
           "family": "Arial",
           "size": 14
          },
          "showarrow": false,
          "text": "51.56%",
          "x": 76.22,
          "xref": "x",
          "y": "Healthcare",
          "yref": "y"
         },
         {
          "align": "right",
          "font": {
           "color": "rgb(68,76,92)",
           "family": "Arial",
           "size": 14
          },
          "showarrow": false,
          "text": "Industrials",
          "x": 0.13,
          "xanchor": "right",
          "xref": "paper",
          "y": "Industrials",
          "yref": "y"
         },
         {
          "font": {
           "color": "rgb(116,71,0)",
           "family": "Arial",
           "size": 14
          },
          "showarrow": false,
          "text": "52.17%",
          "x": 26.585,
          "xref": "x",
          "y": "Industrials",
          "yref": "y"
         },
         {
          "font": {
           "color": "rgb(191,154,119)",
           "family": "Arial",
           "size": 14
          },
          "showarrow": false,
          "text": "47.83%",
          "x": 78.08500000000001,
          "xref": "x",
          "y": "Industrials",
          "yref": "y"
         },
         {
          "align": "right",
          "font": {
           "color": "rgb(68,76,92)",
           "family": "Arial",
           "size": 14
          },
          "showarrow": false,
          "text": "Real Estate",
          "x": 0.13,
          "xanchor": "right",
          "xref": "paper",
          "y": "Real Estate",
          "yref": "y"
         },
         {
          "font": {
           "color": "rgb(116,71,0)",
           "family": "Arial",
           "size": 14
          },
          "showarrow": false,
          "text": "36.67%",
          "x": 18.835,
          "xref": "x",
          "y": "Real Estate",
          "yref": "y"
         },
         {
          "font": {
           "color": "rgb(191,154,119)",
           "family": "Arial",
           "size": 14
          },
          "showarrow": false,
          "text": "63.33%",
          "x": 70.33500000000001,
          "xref": "x",
          "y": "Real Estate",
          "yref": "y"
         },
         {
          "align": "right",
          "font": {
           "color": "rgb(68,76,92)",
           "family": "Arial",
           "size": 14
          },
          "showarrow": false,
          "text": "Technology",
          "x": 0.13,
          "xanchor": "right",
          "xref": "paper",
          "y": "Technology",
          "yref": "y"
         },
         {
          "font": {
           "color": "rgb(116,71,0)",
           "family": "Arial",
           "size": 14
          },
          "showarrow": false,
          "text": "21.13%",
          "x": 11.065,
          "xref": "x",
          "y": "Technology",
          "yref": "y"
         },
         {
          "font": {
           "color": "rgb(191,154,119)",
           "family": "Arial",
           "size": 14
          },
          "showarrow": false,
          "text": "78.87%",
          "x": 62.565,
          "xref": "x",
          "y": "Technology",
          "yref": "y"
         },
         {
          "align": "right",
          "font": {
           "color": "rgb(68,76,92)",
           "family": "Arial",
           "size": 14
          },
          "showarrow": false,
          "text": "Utilities",
          "x": 0.13,
          "xanchor": "right",
          "xref": "paper",
          "y": "Utilities",
          "yref": "y"
         },
         {
          "font": {
           "color": "rgb(116,71,0)",
           "family": "Arial",
           "size": 14
          },
          "showarrow": false,
          "text": "72.41%",
          "x": 36.705,
          "xref": "x",
          "y": "Utilities",
          "yref": "y"
         },
         {
          "font": {
           "color": "rgb(68,76,92)",
           "family": "Arial",
           "size": 14
          },
          "showarrow": false,
          "text": "Price Up",
          "x": 36.705,
          "xref": "x",
          "y": 1.1,
          "yref": "paper"
         },
         {
          "font": {
           "color": "rgb(191,154,119)",
           "family": "Arial",
           "size": 14
          },
          "showarrow": false,
          "text": "27.59%",
          "x": 88.205,
          "xref": "x",
          "y": "Utilities",
          "yref": "y"
         },
         {
          "font": {
           "color": "rgb(68,76,92)",
           "family": "Arial",
           "size": 14
          },
          "showarrow": false,
          "text": "Price Down",
          "x": 88.205,
          "xref": "x",
          "y": 1.1,
          "yref": "paper"
         },
         {
          "font": {
           "color": "rgb(150,150,150)",
           "family": "Arial",
           "size": 10
          },
          "showarrow": false,
          "text": "Reference: yfinance S&P 500 data                         \n                        ",
          "x": 0.15,
          "xref": "paper",
          "y": -0.109,
          "yref": "paper"
         }
        ],
        "barmode": "stack",
        "margin": {
         "b": 80,
         "l": 120,
         "r": 10,
         "t": 140
        },
        "paper_bgcolor": "rgb(248, 248, 255)",
        "plot_bgcolor": "rgb(248, 248, 255)",
        "showlegend": false,
        "template": {
         "data": {
          "bar": [
           {
            "error_x": {
             "color": "#2a3f5f"
            },
            "error_y": {
             "color": "#2a3f5f"
            },
            "marker": {
             "line": {
              "color": "#E5ECF6",
              "width": 0.5
             },
             "pattern": {
              "fillmode": "overlay",
              "size": 10,
              "solidity": 0.2
             }
            },
            "type": "bar"
           }
          ],
          "barpolar": [
           {
            "marker": {
             "line": {
              "color": "#E5ECF6",
              "width": 0.5
             },
             "pattern": {
              "fillmode": "overlay",
              "size": 10,
              "solidity": 0.2
             }
            },
            "type": "barpolar"
           }
          ],
          "carpet": [
           {
            "aaxis": {
             "endlinecolor": "#2a3f5f",
             "gridcolor": "white",
             "linecolor": "white",
             "minorgridcolor": "white",
             "startlinecolor": "#2a3f5f"
            },
            "baxis": {
             "endlinecolor": "#2a3f5f",
             "gridcolor": "white",
             "linecolor": "white",
             "minorgridcolor": "white",
             "startlinecolor": "#2a3f5f"
            },
            "type": "carpet"
           }
          ],
          "choropleth": [
           {
            "colorbar": {
             "outlinewidth": 0,
             "ticks": ""
            },
            "type": "choropleth"
           }
          ],
          "contour": [
           {
            "colorbar": {
             "outlinewidth": 0,
             "ticks": ""
            },
            "colorscale": [
             [
              0,
              "#0d0887"
             ],
             [
              0.1111111111111111,
              "#46039f"
             ],
             [
              0.2222222222222222,
              "#7201a8"
             ],
             [
              0.3333333333333333,
              "#9c179e"
             ],
             [
              0.4444444444444444,
              "#bd3786"
             ],
             [
              0.5555555555555556,
              "#d8576b"
             ],
             [
              0.6666666666666666,
              "#ed7953"
             ],
             [
              0.7777777777777778,
              "#fb9f3a"
             ],
             [
              0.8888888888888888,
              "#fdca26"
             ],
             [
              1,
              "#f0f921"
             ]
            ],
            "type": "contour"
           }
          ],
          "contourcarpet": [
           {
            "colorbar": {
             "outlinewidth": 0,
             "ticks": ""
            },
            "type": "contourcarpet"
           }
          ],
          "heatmap": [
           {
            "colorbar": {
             "outlinewidth": 0,
             "ticks": ""
            },
            "colorscale": [
             [
              0,
              "#0d0887"
             ],
             [
              0.1111111111111111,
              "#46039f"
             ],
             [
              0.2222222222222222,
              "#7201a8"
             ],
             [
              0.3333333333333333,
              "#9c179e"
             ],
             [
              0.4444444444444444,
              "#bd3786"
             ],
             [
              0.5555555555555556,
              "#d8576b"
             ],
             [
              0.6666666666666666,
              "#ed7953"
             ],
             [
              0.7777777777777778,
              "#fb9f3a"
             ],
             [
              0.8888888888888888,
              "#fdca26"
             ],
             [
              1,
              "#f0f921"
             ]
            ],
            "type": "heatmap"
           }
          ],
          "heatmapgl": [
           {
            "colorbar": {
             "outlinewidth": 0,
             "ticks": ""
            },
            "colorscale": [
             [
              0,
              "#0d0887"
             ],
             [
              0.1111111111111111,
              "#46039f"
             ],
             [
              0.2222222222222222,
              "#7201a8"
             ],
             [
              0.3333333333333333,
              "#9c179e"
             ],
             [
              0.4444444444444444,
              "#bd3786"
             ],
             [
              0.5555555555555556,
              "#d8576b"
             ],
             [
              0.6666666666666666,
              "#ed7953"
             ],
             [
              0.7777777777777778,
              "#fb9f3a"
             ],
             [
              0.8888888888888888,
              "#fdca26"
             ],
             [
              1,
              "#f0f921"
             ]
            ],
            "type": "heatmapgl"
           }
          ],
          "histogram": [
           {
            "marker": {
             "pattern": {
              "fillmode": "overlay",
              "size": 10,
              "solidity": 0.2
             }
            },
            "type": "histogram"
           }
          ],
          "histogram2d": [
           {
            "colorbar": {
             "outlinewidth": 0,
             "ticks": ""
            },
            "colorscale": [
             [
              0,
              "#0d0887"
             ],
             [
              0.1111111111111111,
              "#46039f"
             ],
             [
              0.2222222222222222,
              "#7201a8"
             ],
             [
              0.3333333333333333,
              "#9c179e"
             ],
             [
              0.4444444444444444,
              "#bd3786"
             ],
             [
              0.5555555555555556,
              "#d8576b"
             ],
             [
              0.6666666666666666,
              "#ed7953"
             ],
             [
              0.7777777777777778,
              "#fb9f3a"
             ],
             [
              0.8888888888888888,
              "#fdca26"
             ],
             [
              1,
              "#f0f921"
             ]
            ],
            "type": "histogram2d"
           }
          ],
          "histogram2dcontour": [
           {
            "colorbar": {
             "outlinewidth": 0,
             "ticks": ""
            },
            "colorscale": [
             [
              0,
              "#0d0887"
             ],
             [
              0.1111111111111111,
              "#46039f"
             ],
             [
              0.2222222222222222,
              "#7201a8"
             ],
             [
              0.3333333333333333,
              "#9c179e"
             ],
             [
              0.4444444444444444,
              "#bd3786"
             ],
             [
              0.5555555555555556,
              "#d8576b"
             ],
             [
              0.6666666666666666,
              "#ed7953"
             ],
             [
              0.7777777777777778,
              "#fb9f3a"
             ],
             [
              0.8888888888888888,
              "#fdca26"
             ],
             [
              1,
              "#f0f921"
             ]
            ],
            "type": "histogram2dcontour"
           }
          ],
          "mesh3d": [
           {
            "colorbar": {
             "outlinewidth": 0,
             "ticks": ""
            },
            "type": "mesh3d"
           }
          ],
          "parcoords": [
           {
            "line": {
             "colorbar": {
              "outlinewidth": 0,
              "ticks": ""
             }
            },
            "type": "parcoords"
           }
          ],
          "pie": [
           {
            "automargin": true,
            "type": "pie"
           }
          ],
          "scatter": [
           {
            "marker": {
             "colorbar": {
              "outlinewidth": 0,
              "ticks": ""
             }
            },
            "type": "scatter"
           }
          ],
          "scatter3d": [
           {
            "line": {
             "colorbar": {
              "outlinewidth": 0,
              "ticks": ""
             }
            },
            "marker": {
             "colorbar": {
              "outlinewidth": 0,
              "ticks": ""
             }
            },
            "type": "scatter3d"
           }
          ],
          "scattercarpet": [
           {
            "marker": {
             "colorbar": {
              "outlinewidth": 0,
              "ticks": ""
             }
            },
            "type": "scattercarpet"
           }
          ],
          "scattergeo": [
           {
            "marker": {
             "colorbar": {
              "outlinewidth": 0,
              "ticks": ""
             }
            },
            "type": "scattergeo"
           }
          ],
          "scattergl": [
           {
            "marker": {
             "colorbar": {
              "outlinewidth": 0,
              "ticks": ""
             }
            },
            "type": "scattergl"
           }
          ],
          "scattermapbox": [
           {
            "marker": {
             "colorbar": {
              "outlinewidth": 0,
              "ticks": ""
             }
            },
            "type": "scattermapbox"
           }
          ],
          "scatterpolar": [
           {
            "marker": {
             "colorbar": {
              "outlinewidth": 0,
              "ticks": ""
             }
            },
            "type": "scatterpolar"
           }
          ],
          "scatterpolargl": [
           {
            "marker": {
             "colorbar": {
              "outlinewidth": 0,
              "ticks": ""
             }
            },
            "type": "scatterpolargl"
           }
          ],
          "scatterternary": [
           {
            "marker": {
             "colorbar": {
              "outlinewidth": 0,
              "ticks": ""
             }
            },
            "type": "scatterternary"
           }
          ],
          "surface": [
           {
            "colorbar": {
             "outlinewidth": 0,
             "ticks": ""
            },
            "colorscale": [
             [
              0,
              "#0d0887"
             ],
             [
              0.1111111111111111,
              "#46039f"
             ],
             [
              0.2222222222222222,
              "#7201a8"
             ],
             [
              0.3333333333333333,
              "#9c179e"
             ],
             [
              0.4444444444444444,
              "#bd3786"
             ],
             [
              0.5555555555555556,
              "#d8576b"
             ],
             [
              0.6666666666666666,
              "#ed7953"
             ],
             [
              0.7777777777777778,
              "#fb9f3a"
             ],
             [
              0.8888888888888888,
              "#fdca26"
             ],
             [
              1,
              "#f0f921"
             ]
            ],
            "type": "surface"
           }
          ],
          "table": [
           {
            "cells": {
             "fill": {
              "color": "#EBF0F8"
             },
             "line": {
              "color": "white"
             }
            },
            "header": {
             "fill": {
              "color": "#C8D4E3"
             },
             "line": {
              "color": "white"
             }
            },
            "type": "table"
           }
          ]
         },
         "layout": {
          "annotationdefaults": {
           "arrowcolor": "#2a3f5f",
           "arrowhead": 0,
           "arrowwidth": 1
          },
          "autotypenumbers": "strict",
          "coloraxis": {
           "colorbar": {
            "outlinewidth": 0,
            "ticks": ""
           }
          },
          "colorscale": {
           "diverging": [
            [
             0,
             "#8e0152"
            ],
            [
             0.1,
             "#c51b7d"
            ],
            [
             0.2,
             "#de77ae"
            ],
            [
             0.3,
             "#f1b6da"
            ],
            [
             0.4,
             "#fde0ef"
            ],
            [
             0.5,
             "#f7f7f7"
            ],
            [
             0.6,
             "#e6f5d0"
            ],
            [
             0.7,
             "#b8e186"
            ],
            [
             0.8,
             "#7fbc41"
            ],
            [
             0.9,
             "#4d9221"
            ],
            [
             1,
             "#276419"
            ]
           ],
           "sequential": [
            [
             0,
             "#0d0887"
            ],
            [
             0.1111111111111111,
             "#46039f"
            ],
            [
             0.2222222222222222,
             "#7201a8"
            ],
            [
             0.3333333333333333,
             "#9c179e"
            ],
            [
             0.4444444444444444,
             "#bd3786"
            ],
            [
             0.5555555555555556,
             "#d8576b"
            ],
            [
             0.6666666666666666,
             "#ed7953"
            ],
            [
             0.7777777777777778,
             "#fb9f3a"
            ],
            [
             0.8888888888888888,
             "#fdca26"
            ],
            [
             1,
             "#f0f921"
            ]
           ],
           "sequentialminus": [
            [
             0,
             "#0d0887"
            ],
            [
             0.1111111111111111,
             "#46039f"
            ],
            [
             0.2222222222222222,
             "#7201a8"
            ],
            [
             0.3333333333333333,
             "#9c179e"
            ],
            [
             0.4444444444444444,
             "#bd3786"
            ],
            [
             0.5555555555555556,
             "#d8576b"
            ],
            [
             0.6666666666666666,
             "#ed7953"
            ],
            [
             0.7777777777777778,
             "#fb9f3a"
            ],
            [
             0.8888888888888888,
             "#fdca26"
            ],
            [
             1,
             "#f0f921"
            ]
           ]
          },
          "colorway": [
           "#636efa",
           "#EF553B",
           "#00cc96",
           "#ab63fa",
           "#FFA15A",
           "#19d3f3",
           "#FF6692",
           "#B6E880",
           "#FF97FF",
           "#FECB52"
          ],
          "font": {
           "color": "#2a3f5f"
          },
          "geo": {
           "bgcolor": "white",
           "lakecolor": "white",
           "landcolor": "#E5ECF6",
           "showlakes": true,
           "showland": true,
           "subunitcolor": "white"
          },
          "hoverlabel": {
           "align": "left"
          },
          "hovermode": "closest",
          "mapbox": {
           "style": "light"
          },
          "paper_bgcolor": "white",
          "plot_bgcolor": "#E5ECF6",
          "polar": {
           "angularaxis": {
            "gridcolor": "white",
            "linecolor": "white",
            "ticks": ""
           },
           "bgcolor": "#E5ECF6",
           "radialaxis": {
            "gridcolor": "white",
            "linecolor": "white",
            "ticks": ""
           }
          },
          "scene": {
           "xaxis": {
            "backgroundcolor": "#E5ECF6",
            "gridcolor": "white",
            "gridwidth": 2,
            "linecolor": "white",
            "showbackground": true,
            "ticks": "",
            "zerolinecolor": "white"
           },
           "yaxis": {
            "backgroundcolor": "#E5ECF6",
            "gridcolor": "white",
            "gridwidth": 2,
            "linecolor": "white",
            "showbackground": true,
            "ticks": "",
            "zerolinecolor": "white"
           },
           "zaxis": {
            "backgroundcolor": "#E5ECF6",
            "gridcolor": "white",
            "gridwidth": 2,
            "linecolor": "white",
            "showbackground": true,
            "ticks": "",
            "zerolinecolor": "white"
           }
          },
          "shapedefaults": {
           "line": {
            "color": "#2a3f5f"
           }
          },
          "ternary": {
           "aaxis": {
            "gridcolor": "white",
            "linecolor": "white",
            "ticks": ""
           },
           "baxis": {
            "gridcolor": "white",
            "linecolor": "white",
            "ticks": ""
           },
           "bgcolor": "#E5ECF6",
           "caxis": {
            "gridcolor": "white",
            "linecolor": "white",
            "ticks": ""
           }
          },
          "title": {
           "x": 0.05
          },
          "xaxis": {
           "automargin": true,
           "gridcolor": "white",
           "linecolor": "white",
           "ticks": "",
           "title": {
            "standoff": 15
           },
           "zerolinecolor": "white",
           "zerolinewidth": 2
          },
          "yaxis": {
           "automargin": true,
           "gridcolor": "white",
           "linecolor": "white",
           "ticks": "",
           "title": {
            "standoff": 15
           },
           "zerolinecolor": "white",
           "zerolinewidth": 2
          }
         }
        },
        "title": {
         "text": "Percentage in Prices Up/Down by Sectors: [2022-03-10 & 2022-05-05]"
        },
        "xaxis": {
         "domain": [
          0.15,
          1
         ],
         "showgrid": false,
         "showline": false,
         "showticklabels": false,
         "zeroline": false
        },
        "yaxis": {
         "showgrid": false,
         "showline": false,
         "showticklabels": false,
         "zeroline": false
        }
       }
      },
      "text/html": [
       "<div>                            <div id=\"c052b8ab-1247-4d69-a762-0cddaff1079d\" class=\"plotly-graph-div\" style=\"height:525px; width:100%;\"></div>            <script type=\"text/javascript\">                require([\"plotly\"], function(Plotly) {                    window.PLOTLYENV=window.PLOTLYENV || {};                                    if (document.getElementById(\"c052b8ab-1247-4d69-a762-0cddaff1079d\")) {                    Plotly.newPlot(                        \"c052b8ab-1247-4d69-a762-0cddaff1079d\",                        [{\"marker\":{\"color\":\"rgba(211,92,55, 0.8)\",\"line\":{\"color\":\"rgb(248, 248, 249)\",\"width\":1}},\"orientation\":\"h\",\"type\":\"bar\",\"x\":[71.43],\"y\":[\"Basic Materials\"]},{\"marker\":{\"color\":\"rgba(211,92,55, 0.8)\",\"line\":{\"color\":\"rgb(248, 248, 249)\",\"width\":1}},\"orientation\":\"h\",\"type\":\"bar\",\"x\":[22.22],\"y\":[\"Communication Services\"]},{\"marker\":{\"color\":\"rgba(211,92,55, 0.8)\",\"line\":{\"color\":\"rgb(248, 248, 249)\",\"width\":1}},\"orientation\":\"h\",\"type\":\"bar\",\"x\":[35.71],\"y\":[\"Consumer Cyclical\"]},{\"marker\":{\"color\":\"rgba(211,92,55, 0.8)\",\"line\":{\"color\":\"rgb(248, 248, 249)\",\"width\":1}},\"orientation\":\"h\",\"type\":\"bar\",\"x\":[81.08],\"y\":[\"Consumer Defensive\"]},{\"marker\":{\"color\":\"rgba(211,92,55, 0.8)\",\"line\":{\"color\":\"rgb(248, 248, 249)\",\"width\":1}},\"orientation\":\"h\",\"type\":\"bar\",\"x\":[75.0],\"y\":[\"Energy\"]},{\"marker\":{\"color\":\"rgba(211,92,55, 0.8)\",\"line\":{\"color\":\"rgb(248, 248, 249)\",\"width\":1}},\"orientation\":\"h\",\"type\":\"bar\",\"x\":[36.23],\"y\":[\"Financial Services\"]},{\"marker\":{\"color\":\"rgba(211,92,55, 0.8)\",\"line\":{\"color\":\"rgb(248, 248, 249)\",\"width\":1}},\"orientation\":\"h\",\"type\":\"bar\",\"x\":[48.44],\"y\":[\"Healthcare\"]},{\"marker\":{\"color\":\"rgba(211,92,55, 0.8)\",\"line\":{\"color\":\"rgb(248, 248, 249)\",\"width\":1}},\"orientation\":\"h\",\"type\":\"bar\",\"x\":[52.17],\"y\":[\"Industrials\"]},{\"marker\":{\"color\":\"rgba(211,92,55, 0.8)\",\"line\":{\"color\":\"rgb(248, 248, 249)\",\"width\":1}},\"orientation\":\"h\",\"type\":\"bar\",\"x\":[36.67],\"y\":[\"Real Estate\"]},{\"marker\":{\"color\":\"rgba(211,92,55, 0.8)\",\"line\":{\"color\":\"rgb(248, 248, 249)\",\"width\":1}},\"orientation\":\"h\",\"type\":\"bar\",\"x\":[21.13],\"y\":[\"Technology\"]},{\"marker\":{\"color\":\"rgba(211,92,55, 0.8)\",\"line\":{\"color\":\"rgb(248, 248, 249)\",\"width\":1}},\"orientation\":\"h\",\"type\":\"bar\",\"x\":[72.41],\"y\":[\"Utilities\"]},{\"marker\":{\"color\":\"rgba(214,198,185, 0.8)\",\"line\":{\"color\":\"rgb(248, 248, 249)\",\"width\":1}},\"orientation\":\"h\",\"type\":\"bar\",\"x\":[28.57],\"y\":[\"Basic Materials\"]},{\"marker\":{\"color\":\"rgba(214,198,185, 0.8)\",\"line\":{\"color\":\"rgb(248, 248, 249)\",\"width\":1}},\"orientation\":\"h\",\"type\":\"bar\",\"x\":[77.78],\"y\":[\"Communication Services\"]},{\"marker\":{\"color\":\"rgba(214,198,185, 0.8)\",\"line\":{\"color\":\"rgb(248, 248, 249)\",\"width\":1}},\"orientation\":\"h\",\"type\":\"bar\",\"x\":[64.29],\"y\":[\"Consumer Cyclical\"]},{\"marker\":{\"color\":\"rgba(214,198,185, 0.8)\",\"line\":{\"color\":\"rgb(248, 248, 249)\",\"width\":1}},\"orientation\":\"h\",\"type\":\"bar\",\"x\":[18.92],\"y\":[\"Consumer Defensive\"]},{\"marker\":{\"color\":\"rgba(214,198,185, 0.8)\",\"line\":{\"color\":\"rgb(248, 248, 249)\",\"width\":1}},\"orientation\":\"h\",\"type\":\"bar\",\"x\":[25.0],\"y\":[\"Energy\"]},{\"marker\":{\"color\":\"rgba(214,198,185, 0.8)\",\"line\":{\"color\":\"rgb(248, 248, 249)\",\"width\":1}},\"orientation\":\"h\",\"type\":\"bar\",\"x\":[63.77],\"y\":[\"Financial Services\"]},{\"marker\":{\"color\":\"rgba(214,198,185, 0.8)\",\"line\":{\"color\":\"rgb(248, 248, 249)\",\"width\":1}},\"orientation\":\"h\",\"type\":\"bar\",\"x\":[51.56],\"y\":[\"Healthcare\"]},{\"marker\":{\"color\":\"rgba(214,198,185, 0.8)\",\"line\":{\"color\":\"rgb(248, 248, 249)\",\"width\":1}},\"orientation\":\"h\",\"type\":\"bar\",\"x\":[47.83],\"y\":[\"Industrials\"]},{\"marker\":{\"color\":\"rgba(214,198,185, 0.8)\",\"line\":{\"color\":\"rgb(248, 248, 249)\",\"width\":1}},\"orientation\":\"h\",\"type\":\"bar\",\"x\":[63.33],\"y\":[\"Real Estate\"]},{\"marker\":{\"color\":\"rgba(214,198,185, 0.8)\",\"line\":{\"color\":\"rgb(248, 248, 249)\",\"width\":1}},\"orientation\":\"h\",\"type\":\"bar\",\"x\":[78.87],\"y\":[\"Technology\"]},{\"marker\":{\"color\":\"rgba(214,198,185, 0.8)\",\"line\":{\"color\":\"rgb(248, 248, 249)\",\"width\":1}},\"orientation\":\"h\",\"type\":\"bar\",\"x\":[27.59],\"y\":[\"Utilities\"]}],                        {\"annotations\":[{\"align\":\"right\",\"font\":{\"color\":\"rgb(68,76,92)\",\"family\":\"Arial\",\"size\":14},\"showarrow\":false,\"text\":\"Basic Materials\",\"x\":0.13,\"xanchor\":\"right\",\"xref\":\"paper\",\"y\":\"Basic Materials\",\"yref\":\"y\"},{\"font\":{\"color\":\"rgb(116,71,0)\",\"family\":\"Arial\",\"size\":14},\"showarrow\":false,\"text\":\"71.43%\",\"x\":36.215,\"xref\":\"x\",\"y\":\"Basic Materials\",\"yref\":\"y\"},{\"font\":{\"color\":\"rgb(191,154,119)\",\"family\":\"Arial\",\"size\":14},\"showarrow\":false,\"text\":\"28.57%\",\"x\":87.715,\"xref\":\"x\",\"y\":\"Basic Materials\",\"yref\":\"y\"},{\"align\":\"right\",\"font\":{\"color\":\"rgb(68,76,92)\",\"family\":\"Arial\",\"size\":14},\"showarrow\":false,\"text\":\"Communication Services\",\"x\":0.13,\"xanchor\":\"right\",\"xref\":\"paper\",\"y\":\"Communication Services\",\"yref\":\"y\"},{\"font\":{\"color\":\"rgb(116,71,0)\",\"family\":\"Arial\",\"size\":14},\"showarrow\":false,\"text\":\"22.22%\",\"x\":11.61,\"xref\":\"x\",\"y\":\"Communication Services\",\"yref\":\"y\"},{\"font\":{\"color\":\"rgb(191,154,119)\",\"family\":\"Arial\",\"size\":14},\"showarrow\":false,\"text\":\"77.78%\",\"x\":63.11,\"xref\":\"x\",\"y\":\"Communication Services\",\"yref\":\"y\"},{\"align\":\"right\",\"font\":{\"color\":\"rgb(68,76,92)\",\"family\":\"Arial\",\"size\":14},\"showarrow\":false,\"text\":\"Consumer Cyclical\",\"x\":0.13,\"xanchor\":\"right\",\"xref\":\"paper\",\"y\":\"Consumer Cyclical\",\"yref\":\"y\"},{\"font\":{\"color\":\"rgb(116,71,0)\",\"family\":\"Arial\",\"size\":14},\"showarrow\":false,\"text\":\"35.71%\",\"x\":18.355,\"xref\":\"x\",\"y\":\"Consumer Cyclical\",\"yref\":\"y\"},{\"font\":{\"color\":\"rgb(191,154,119)\",\"family\":\"Arial\",\"size\":14},\"showarrow\":false,\"text\":\"64.29%\",\"x\":69.855,\"xref\":\"x\",\"y\":\"Consumer Cyclical\",\"yref\":\"y\"},{\"align\":\"right\",\"font\":{\"color\":\"rgb(68,76,92)\",\"family\":\"Arial\",\"size\":14},\"showarrow\":false,\"text\":\"Consumer Defensive\",\"x\":0.13,\"xanchor\":\"right\",\"xref\":\"paper\",\"y\":\"Consumer Defensive\",\"yref\":\"y\"},{\"font\":{\"color\":\"rgb(116,71,0)\",\"family\":\"Arial\",\"size\":14},\"showarrow\":false,\"text\":\"81.08%\",\"x\":41.04,\"xref\":\"x\",\"y\":\"Consumer Defensive\",\"yref\":\"y\"},{\"font\":{\"color\":\"rgb(191,154,119)\",\"family\":\"Arial\",\"size\":14},\"showarrow\":false,\"text\":\"18.92%\",\"x\":92.53999999999999,\"xref\":\"x\",\"y\":\"Consumer Defensive\",\"yref\":\"y\"},{\"align\":\"right\",\"font\":{\"color\":\"rgb(68,76,92)\",\"family\":\"Arial\",\"size\":14},\"showarrow\":false,\"text\":\"Energy\",\"x\":0.13,\"xanchor\":\"right\",\"xref\":\"paper\",\"y\":\"Energy\",\"yref\":\"y\"},{\"font\":{\"color\":\"rgb(116,71,0)\",\"family\":\"Arial\",\"size\":14},\"showarrow\":false,\"text\":\"75.0%\",\"x\":38.0,\"xref\":\"x\",\"y\":\"Energy\",\"yref\":\"y\"},{\"font\":{\"color\":\"rgb(191,154,119)\",\"family\":\"Arial\",\"size\":14},\"showarrow\":false,\"text\":\"25.0%\",\"x\":89.5,\"xref\":\"x\",\"y\":\"Energy\",\"yref\":\"y\"},{\"align\":\"right\",\"font\":{\"color\":\"rgb(68,76,92)\",\"family\":\"Arial\",\"size\":14},\"showarrow\":false,\"text\":\"Financial Services\",\"x\":0.13,\"xanchor\":\"right\",\"xref\":\"paper\",\"y\":\"Financial Services\",\"yref\":\"y\"},{\"font\":{\"color\":\"rgb(116,71,0)\",\"family\":\"Arial\",\"size\":14},\"showarrow\":false,\"text\":\"36.23%\",\"x\":18.615,\"xref\":\"x\",\"y\":\"Financial Services\",\"yref\":\"y\"},{\"font\":{\"color\":\"rgb(191,154,119)\",\"family\":\"Arial\",\"size\":14},\"showarrow\":false,\"text\":\"63.77%\",\"x\":70.115,\"xref\":\"x\",\"y\":\"Financial Services\",\"yref\":\"y\"},{\"align\":\"right\",\"font\":{\"color\":\"rgb(68,76,92)\",\"family\":\"Arial\",\"size\":14},\"showarrow\":false,\"text\":\"Healthcare\",\"x\":0.13,\"xanchor\":\"right\",\"xref\":\"paper\",\"y\":\"Healthcare\",\"yref\":\"y\"},{\"font\":{\"color\":\"rgb(116,71,0)\",\"family\":\"Arial\",\"size\":14},\"showarrow\":false,\"text\":\"48.44%\",\"x\":24.72,\"xref\":\"x\",\"y\":\"Healthcare\",\"yref\":\"y\"},{\"font\":{\"color\":\"rgb(191,154,119)\",\"family\":\"Arial\",\"size\":14},\"showarrow\":false,\"text\":\"51.56%\",\"x\":76.22,\"xref\":\"x\",\"y\":\"Healthcare\",\"yref\":\"y\"},{\"align\":\"right\",\"font\":{\"color\":\"rgb(68,76,92)\",\"family\":\"Arial\",\"size\":14},\"showarrow\":false,\"text\":\"Industrials\",\"x\":0.13,\"xanchor\":\"right\",\"xref\":\"paper\",\"y\":\"Industrials\",\"yref\":\"y\"},{\"font\":{\"color\":\"rgb(116,71,0)\",\"family\":\"Arial\",\"size\":14},\"showarrow\":false,\"text\":\"52.17%\",\"x\":26.585,\"xref\":\"x\",\"y\":\"Industrials\",\"yref\":\"y\"},{\"font\":{\"color\":\"rgb(191,154,119)\",\"family\":\"Arial\",\"size\":14},\"showarrow\":false,\"text\":\"47.83%\",\"x\":78.08500000000001,\"xref\":\"x\",\"y\":\"Industrials\",\"yref\":\"y\"},{\"align\":\"right\",\"font\":{\"color\":\"rgb(68,76,92)\",\"family\":\"Arial\",\"size\":14},\"showarrow\":false,\"text\":\"Real Estate\",\"x\":0.13,\"xanchor\":\"right\",\"xref\":\"paper\",\"y\":\"Real Estate\",\"yref\":\"y\"},{\"font\":{\"color\":\"rgb(116,71,0)\",\"family\":\"Arial\",\"size\":14},\"showarrow\":false,\"text\":\"36.67%\",\"x\":18.835,\"xref\":\"x\",\"y\":\"Real Estate\",\"yref\":\"y\"},{\"font\":{\"color\":\"rgb(191,154,119)\",\"family\":\"Arial\",\"size\":14},\"showarrow\":false,\"text\":\"63.33%\",\"x\":70.33500000000001,\"xref\":\"x\",\"y\":\"Real Estate\",\"yref\":\"y\"},{\"align\":\"right\",\"font\":{\"color\":\"rgb(68,76,92)\",\"family\":\"Arial\",\"size\":14},\"showarrow\":false,\"text\":\"Technology\",\"x\":0.13,\"xanchor\":\"right\",\"xref\":\"paper\",\"y\":\"Technology\",\"yref\":\"y\"},{\"font\":{\"color\":\"rgb(116,71,0)\",\"family\":\"Arial\",\"size\":14},\"showarrow\":false,\"text\":\"21.13%\",\"x\":11.065,\"xref\":\"x\",\"y\":\"Technology\",\"yref\":\"y\"},{\"font\":{\"color\":\"rgb(191,154,119)\",\"family\":\"Arial\",\"size\":14},\"showarrow\":false,\"text\":\"78.87%\",\"x\":62.565,\"xref\":\"x\",\"y\":\"Technology\",\"yref\":\"y\"},{\"align\":\"right\",\"font\":{\"color\":\"rgb(68,76,92)\",\"family\":\"Arial\",\"size\":14},\"showarrow\":false,\"text\":\"Utilities\",\"x\":0.13,\"xanchor\":\"right\",\"xref\":\"paper\",\"y\":\"Utilities\",\"yref\":\"y\"},{\"font\":{\"color\":\"rgb(116,71,0)\",\"family\":\"Arial\",\"size\":14},\"showarrow\":false,\"text\":\"72.41%\",\"x\":36.705,\"xref\":\"x\",\"y\":\"Utilities\",\"yref\":\"y\"},{\"font\":{\"color\":\"rgb(68,76,92)\",\"family\":\"Arial\",\"size\":14},\"showarrow\":false,\"text\":\"Price Up\",\"x\":36.705,\"xref\":\"x\",\"y\":1.1,\"yref\":\"paper\"},{\"font\":{\"color\":\"rgb(191,154,119)\",\"family\":\"Arial\",\"size\":14},\"showarrow\":false,\"text\":\"27.59%\",\"x\":88.205,\"xref\":\"x\",\"y\":\"Utilities\",\"yref\":\"y\"},{\"font\":{\"color\":\"rgb(68,76,92)\",\"family\":\"Arial\",\"size\":14},\"showarrow\":false,\"text\":\"Price Down\",\"x\":88.205,\"xref\":\"x\",\"y\":1.1,\"yref\":\"paper\"},{\"font\":{\"color\":\"rgb(150,150,150)\",\"family\":\"Arial\",\"size\":10},\"showarrow\":false,\"text\":\"Reference: yfinance S&P 500 data                         \\n                        \",\"x\":0.15,\"xref\":\"paper\",\"y\":-0.109,\"yref\":\"paper\"}],\"barmode\":\"stack\",\"margin\":{\"b\":80,\"l\":120,\"r\":10,\"t\":140},\"paper_bgcolor\":\"rgb(248, 248, 255)\",\"plot_bgcolor\":\"rgb(248, 248, 255)\",\"showlegend\":false,\"template\":{\"data\":{\"bar\":[{\"error_x\":{\"color\":\"#2a3f5f\"},\"error_y\":{\"color\":\"#2a3f5f\"},\"marker\":{\"line\":{\"color\":\"#E5ECF6\",\"width\":0.5},\"pattern\":{\"fillmode\":\"overlay\",\"size\":10,\"solidity\":0.2}},\"type\":\"bar\"}],\"barpolar\":[{\"marker\":{\"line\":{\"color\":\"#E5ECF6\",\"width\":0.5},\"pattern\":{\"fillmode\":\"overlay\",\"size\":10,\"solidity\":0.2}},\"type\":\"barpolar\"}],\"carpet\":[{\"aaxis\":{\"endlinecolor\":\"#2a3f5f\",\"gridcolor\":\"white\",\"linecolor\":\"white\",\"minorgridcolor\":\"white\",\"startlinecolor\":\"#2a3f5f\"},\"baxis\":{\"endlinecolor\":\"#2a3f5f\",\"gridcolor\":\"white\",\"linecolor\":\"white\",\"minorgridcolor\":\"white\",\"startlinecolor\":\"#2a3f5f\"},\"type\":\"carpet\"}],\"choropleth\":[{\"colorbar\":{\"outlinewidth\":0,\"ticks\":\"\"},\"type\":\"choropleth\"}],\"contour\":[{\"colorbar\":{\"outlinewidth\":0,\"ticks\":\"\"},\"colorscale\":[[0.0,\"#0d0887\"],[0.1111111111111111,\"#46039f\"],[0.2222222222222222,\"#7201a8\"],[0.3333333333333333,\"#9c179e\"],[0.4444444444444444,\"#bd3786\"],[0.5555555555555556,\"#d8576b\"],[0.6666666666666666,\"#ed7953\"],[0.7777777777777778,\"#fb9f3a\"],[0.8888888888888888,\"#fdca26\"],[1.0,\"#f0f921\"]],\"type\":\"contour\"}],\"contourcarpet\":[{\"colorbar\":{\"outlinewidth\":0,\"ticks\":\"\"},\"type\":\"contourcarpet\"}],\"heatmap\":[{\"colorbar\":{\"outlinewidth\":0,\"ticks\":\"\"},\"colorscale\":[[0.0,\"#0d0887\"],[0.1111111111111111,\"#46039f\"],[0.2222222222222222,\"#7201a8\"],[0.3333333333333333,\"#9c179e\"],[0.4444444444444444,\"#bd3786\"],[0.5555555555555556,\"#d8576b\"],[0.6666666666666666,\"#ed7953\"],[0.7777777777777778,\"#fb9f3a\"],[0.8888888888888888,\"#fdca26\"],[1.0,\"#f0f921\"]],\"type\":\"heatmap\"}],\"heatmapgl\":[{\"colorbar\":{\"outlinewidth\":0,\"ticks\":\"\"},\"colorscale\":[[0.0,\"#0d0887\"],[0.1111111111111111,\"#46039f\"],[0.2222222222222222,\"#7201a8\"],[0.3333333333333333,\"#9c179e\"],[0.4444444444444444,\"#bd3786\"],[0.5555555555555556,\"#d8576b\"],[0.6666666666666666,\"#ed7953\"],[0.7777777777777778,\"#fb9f3a\"],[0.8888888888888888,\"#fdca26\"],[1.0,\"#f0f921\"]],\"type\":\"heatmapgl\"}],\"histogram\":[{\"marker\":{\"pattern\":{\"fillmode\":\"overlay\",\"size\":10,\"solidity\":0.2}},\"type\":\"histogram\"}],\"histogram2d\":[{\"colorbar\":{\"outlinewidth\":0,\"ticks\":\"\"},\"colorscale\":[[0.0,\"#0d0887\"],[0.1111111111111111,\"#46039f\"],[0.2222222222222222,\"#7201a8\"],[0.3333333333333333,\"#9c179e\"],[0.4444444444444444,\"#bd3786\"],[0.5555555555555556,\"#d8576b\"],[0.6666666666666666,\"#ed7953\"],[0.7777777777777778,\"#fb9f3a\"],[0.8888888888888888,\"#fdca26\"],[1.0,\"#f0f921\"]],\"type\":\"histogram2d\"}],\"histogram2dcontour\":[{\"colorbar\":{\"outlinewidth\":0,\"ticks\":\"\"},\"colorscale\":[[0.0,\"#0d0887\"],[0.1111111111111111,\"#46039f\"],[0.2222222222222222,\"#7201a8\"],[0.3333333333333333,\"#9c179e\"],[0.4444444444444444,\"#bd3786\"],[0.5555555555555556,\"#d8576b\"],[0.6666666666666666,\"#ed7953\"],[0.7777777777777778,\"#fb9f3a\"],[0.8888888888888888,\"#fdca26\"],[1.0,\"#f0f921\"]],\"type\":\"histogram2dcontour\"}],\"mesh3d\":[{\"colorbar\":{\"outlinewidth\":0,\"ticks\":\"\"},\"type\":\"mesh3d\"}],\"parcoords\":[{\"line\":{\"colorbar\":{\"outlinewidth\":0,\"ticks\":\"\"}},\"type\":\"parcoords\"}],\"pie\":[{\"automargin\":true,\"type\":\"pie\"}],\"scatter\":[{\"marker\":{\"colorbar\":{\"outlinewidth\":0,\"ticks\":\"\"}},\"type\":\"scatter\"}],\"scatter3d\":[{\"line\":{\"colorbar\":{\"outlinewidth\":0,\"ticks\":\"\"}},\"marker\":{\"colorbar\":{\"outlinewidth\":0,\"ticks\":\"\"}},\"type\":\"scatter3d\"}],\"scattercarpet\":[{\"marker\":{\"colorbar\":{\"outlinewidth\":0,\"ticks\":\"\"}},\"type\":\"scattercarpet\"}],\"scattergeo\":[{\"marker\":{\"colorbar\":{\"outlinewidth\":0,\"ticks\":\"\"}},\"type\":\"scattergeo\"}],\"scattergl\":[{\"marker\":{\"colorbar\":{\"outlinewidth\":0,\"ticks\":\"\"}},\"type\":\"scattergl\"}],\"scattermapbox\":[{\"marker\":{\"colorbar\":{\"outlinewidth\":0,\"ticks\":\"\"}},\"type\":\"scattermapbox\"}],\"scatterpolar\":[{\"marker\":{\"colorbar\":{\"outlinewidth\":0,\"ticks\":\"\"}},\"type\":\"scatterpolar\"}],\"scatterpolargl\":[{\"marker\":{\"colorbar\":{\"outlinewidth\":0,\"ticks\":\"\"}},\"type\":\"scatterpolargl\"}],\"scatterternary\":[{\"marker\":{\"colorbar\":{\"outlinewidth\":0,\"ticks\":\"\"}},\"type\":\"scatterternary\"}],\"surface\":[{\"colorbar\":{\"outlinewidth\":0,\"ticks\":\"\"},\"colorscale\":[[0.0,\"#0d0887\"],[0.1111111111111111,\"#46039f\"],[0.2222222222222222,\"#7201a8\"],[0.3333333333333333,\"#9c179e\"],[0.4444444444444444,\"#bd3786\"],[0.5555555555555556,\"#d8576b\"],[0.6666666666666666,\"#ed7953\"],[0.7777777777777778,\"#fb9f3a\"],[0.8888888888888888,\"#fdca26\"],[1.0,\"#f0f921\"]],\"type\":\"surface\"}],\"table\":[{\"cells\":{\"fill\":{\"color\":\"#EBF0F8\"},\"line\":{\"color\":\"white\"}},\"header\":{\"fill\":{\"color\":\"#C8D4E3\"},\"line\":{\"color\":\"white\"}},\"type\":\"table\"}]},\"layout\":{\"annotationdefaults\":{\"arrowcolor\":\"#2a3f5f\",\"arrowhead\":0,\"arrowwidth\":1},\"autotypenumbers\":\"strict\",\"coloraxis\":{\"colorbar\":{\"outlinewidth\":0,\"ticks\":\"\"}},\"colorscale\":{\"diverging\":[[0,\"#8e0152\"],[0.1,\"#c51b7d\"],[0.2,\"#de77ae\"],[0.3,\"#f1b6da\"],[0.4,\"#fde0ef\"],[0.5,\"#f7f7f7\"],[0.6,\"#e6f5d0\"],[0.7,\"#b8e186\"],[0.8,\"#7fbc41\"],[0.9,\"#4d9221\"],[1,\"#276419\"]],\"sequential\":[[0.0,\"#0d0887\"],[0.1111111111111111,\"#46039f\"],[0.2222222222222222,\"#7201a8\"],[0.3333333333333333,\"#9c179e\"],[0.4444444444444444,\"#bd3786\"],[0.5555555555555556,\"#d8576b\"],[0.6666666666666666,\"#ed7953\"],[0.7777777777777778,\"#fb9f3a\"],[0.8888888888888888,\"#fdca26\"],[1.0,\"#f0f921\"]],\"sequentialminus\":[[0.0,\"#0d0887\"],[0.1111111111111111,\"#46039f\"],[0.2222222222222222,\"#7201a8\"],[0.3333333333333333,\"#9c179e\"],[0.4444444444444444,\"#bd3786\"],[0.5555555555555556,\"#d8576b\"],[0.6666666666666666,\"#ed7953\"],[0.7777777777777778,\"#fb9f3a\"],[0.8888888888888888,\"#fdca26\"],[1.0,\"#f0f921\"]]},\"colorway\":[\"#636efa\",\"#EF553B\",\"#00cc96\",\"#ab63fa\",\"#FFA15A\",\"#19d3f3\",\"#FF6692\",\"#B6E880\",\"#FF97FF\",\"#FECB52\"],\"font\":{\"color\":\"#2a3f5f\"},\"geo\":{\"bgcolor\":\"white\",\"lakecolor\":\"white\",\"landcolor\":\"#E5ECF6\",\"showlakes\":true,\"showland\":true,\"subunitcolor\":\"white\"},\"hoverlabel\":{\"align\":\"left\"},\"hovermode\":\"closest\",\"mapbox\":{\"style\":\"light\"},\"paper_bgcolor\":\"white\",\"plot_bgcolor\":\"#E5ECF6\",\"polar\":{\"angularaxis\":{\"gridcolor\":\"white\",\"linecolor\":\"white\",\"ticks\":\"\"},\"bgcolor\":\"#E5ECF6\",\"radialaxis\":{\"gridcolor\":\"white\",\"linecolor\":\"white\",\"ticks\":\"\"}},\"scene\":{\"xaxis\":{\"backgroundcolor\":\"#E5ECF6\",\"gridcolor\":\"white\",\"gridwidth\":2,\"linecolor\":\"white\",\"showbackground\":true,\"ticks\":\"\",\"zerolinecolor\":\"white\"},\"yaxis\":{\"backgroundcolor\":\"#E5ECF6\",\"gridcolor\":\"white\",\"gridwidth\":2,\"linecolor\":\"white\",\"showbackground\":true,\"ticks\":\"\",\"zerolinecolor\":\"white\"},\"zaxis\":{\"backgroundcolor\":\"#E5ECF6\",\"gridcolor\":\"white\",\"gridwidth\":2,\"linecolor\":\"white\",\"showbackground\":true,\"ticks\":\"\",\"zerolinecolor\":\"white\"}},\"shapedefaults\":{\"line\":{\"color\":\"#2a3f5f\"}},\"ternary\":{\"aaxis\":{\"gridcolor\":\"white\",\"linecolor\":\"white\",\"ticks\":\"\"},\"baxis\":{\"gridcolor\":\"white\",\"linecolor\":\"white\",\"ticks\":\"\"},\"bgcolor\":\"#E5ECF6\",\"caxis\":{\"gridcolor\":\"white\",\"linecolor\":\"white\",\"ticks\":\"\"}},\"title\":{\"x\":0.05},\"xaxis\":{\"automargin\":true,\"gridcolor\":\"white\",\"linecolor\":\"white\",\"ticks\":\"\",\"title\":{\"standoff\":15},\"zerolinecolor\":\"white\",\"zerolinewidth\":2},\"yaxis\":{\"automargin\":true,\"gridcolor\":\"white\",\"linecolor\":\"white\",\"ticks\":\"\",\"title\":{\"standoff\":15},\"zerolinecolor\":\"white\",\"zerolinewidth\":2}}},\"title\":{\"text\":\"Percentage in Prices Up/Down by Sectors: [2022-03-10 & 2022-05-05]\"},\"xaxis\":{\"domain\":[0.15,1],\"showgrid\":false,\"showline\":false,\"showticklabels\":false,\"zeroline\":false},\"yaxis\":{\"showgrid\":false,\"showline\":false,\"showticklabels\":false,\"zeroline\":false}},                        {\"responsive\": true}                    ).then(function(){\n",
       "                            \n",
       "var gd = document.getElementById('c052b8ab-1247-4d69-a762-0cddaff1079d');\n",
       "var x = new MutationObserver(function (mutations, observer) {{\n",
       "        var display = window.getComputedStyle(gd).display;\n",
       "        if (!display || display === 'none') {{\n",
       "            console.log([gd, 'removed!']);\n",
       "            Plotly.purge(gd);\n",
       "            observer.disconnect();\n",
       "        }}\n",
       "}});\n",
       "\n",
       "// Listen for the removal of the full notebook cells\n",
       "var notebookContainer = gd.closest('#notebook-container');\n",
       "if (notebookContainer) {{\n",
       "    x.observe(notebookContainer, {childList: true});\n",
       "}}\n",
       "\n",
       "// Listen for the clearing of the current output cell\n",
       "var outputEl = gd.closest('.output');\n",
       "if (outputEl) {{\n",
       "    x.observe(outputEl, {childList: true});\n",
       "}}\n",
       "\n",
       "                        })                };                });            </script>        </div>"
      ]
     },
     "metadata": {},
     "output_type": "display_data"
    }
   ],
   "source": [
    "fig = go.Figure()\n",
    "for i in range(0, len(x_data[0])):\n",
    "    for xd, yd in zip(x_data, y_data):\n",
    "        fig.add_trace(go.Bar(\n",
    "            x=[xd[i]], y=[yd],\n",
    "            orientation='h',\n",
    "            marker=dict(color=colors[i],\n",
    "                        line=dict(color='rgb(248, 248, 249)', width=1))\n",
    "            ))\n",
    "                   \n",
    "fig.update_layout(\n",
    "    title = f'Percentage in Prices Up/Down by Sectors: [{time_start} & {time_last}]',\n",
    "    xaxis=dict(\n",
    "        showgrid=False,\n",
    "        showline=False,\n",
    "        showticklabels=False,\n",
    "        zeroline=False,\n",
    "        domain=[0.15, 1]\n",
    "    ),\n",
    "    yaxis=dict(\n",
    "        showgrid=False,\n",
    "        showline=False,\n",
    "        showticklabels=False,\n",
    "        zeroline=False,\n",
    "    ),\n",
    "    barmode='stack',\n",
    "    paper_bgcolor='rgb(248, 248, 255)',\n",
    "    plot_bgcolor='rgb(248, 248, 255)',\n",
    "    margin=dict(l=120, r=10, t=140, b=80),\n",
    "    showlegend=False,\n",
    ")\n",
    "\n",
    "annotations = []\n",
    "for yd, xd in zip(y_data, x_data):\n",
    "    # labeling the y-axis\n",
    "    annotations.append(dict(xref='paper', yref='y',\n",
    "                            x=0.13, y=yd,\n",
    "                            xanchor='right',\n",
    "                            text=str(yd),\n",
    "                            font=dict(family='Arial', size=14,\n",
    "                                      color='rgb(68,76,92)'),\n",
    "                            showarrow=False, align='right'))\n",
    "    \n",
    "    # labeling (positive)\n",
    "    annotations.append(dict(xref='x', yref='y',\n",
    "                            x= (xd[0] +1) / 2, y=yd,\n",
    "                            text=str(xd[0]) + '%',\n",
    "                            font=dict(family='Arial', size=14,\n",
    "                                      color='rgb(116,71,0)'),\n",
    "                            showarrow=False))\n",
    "    # labeling on the left\n",
    "    if yd == y_data[-1]:\n",
    "        annotations.append(dict(xref='x', yref='paper',\n",
    "                                x=(xd[0]+1) / 2, y=1.1,\n",
    "                                text=top_labels[0],\n",
    "                                font=dict(family='Arial', size=14,\n",
    "                                          color='rgb(68,76,92)'),\n",
    "                                showarrow=False))\n",
    "    space = xd[0] + 2\n",
    "    for i in range(1, len(xd)):\n",
    "            # labeling negative percentage\n",
    "            annotations.append(dict(xref='x', yref='y',\n",
    "                                    x=space + (xd[i]/2), y=yd,\n",
    "                                    text=str(xd[i]) + '%',\n",
    "                                    font=dict(family='Arial', size=14,\n",
    "                                              color='rgb(191,154,119)'),\n",
    "                                    showarrow=False))\n",
    "            # labeling negative title\n",
    "            if yd == y_data[-1]:\n",
    "                annotations.append(dict(xref='x', yref='paper',\n",
    "                                        x=space + (xd[i]/2), y=1.1,\n",
    "                                        text=top_labels[i],\n",
    "                                        font=dict(family='Arial', size=14,\n",
    "                                                  color='rgb(68,76,92)'),\n",
    "                                        showarrow=False))\n",
    "            space += xd[i]\n",
    "\n",
    "annotations.append(dict(xref='paper', yref='paper',\n",
    "                        x= 0.15, y=-0.109,\n",
    "                        text=\"\"\"Reference: yfinance S&P 500 data                         \n",
    "                        \"\"\",\n",
    "                        font=dict(family='Arial', size=10, color='rgb(150,150,150)'),\n",
    "                        showarrow=False))\n",
    "\n",
    "fig.update_layout(annotations=annotations)\n",
    "fig.show()"
   ]
  },
  {
   "cell_type": "code",
   "execution_count": null,
   "id": "c1238f5d",
   "metadata": {},
   "outputs": [],
   "source": []
  },
  {
   "cell_type": "code",
   "execution_count": null,
   "id": "9f232ef5",
   "metadata": {},
   "outputs": [],
   "source": []
  },
  {
   "cell_type": "code",
   "execution_count": null,
   "id": "f7e51c6e",
   "metadata": {},
   "outputs": [],
   "source": []
  },
  {
   "cell_type": "code",
   "execution_count": null,
   "id": "01e5b6ae",
   "metadata": {},
   "outputs": [],
   "source": []
  },
  {
   "cell_type": "code",
   "execution_count": 399,
   "id": "f14d49d9",
   "metadata": {},
   "outputs": [
    {
     "data": {
      "application/vnd.plotly.v1+json": {
       "config": {
        "plotlyServerURL": "https://plot.ly"
       },
       "data": [
        {
         "marker": {
          "color": "rgba(50, 171, 96, 0.6)",
          "line": {
           "color": "rgba(50, 171, 96, 1.0)",
           "width": 1
          }
         },
         "name": "Sector proportion in S&P 500.",
         "orientation": "h",
         "type": "bar",
         "x": [
          21,
          27,
          70,
          37,
          20,
          69,
          64,
          69,
          30,
          71,
          29
         ],
         "xaxis": "x",
         "y": [
          "Basic Materials",
          "Communication Services",
          "Consumer Cyclical",
          "Consumer Defensive",
          "Energy",
          "Financial Services",
          "Healthcare",
          "Industrials",
          "Real Estate",
          "Technology",
          "Utilities"
         ],
         "yaxis": "y"
        },
        {
         "line": {
          "color": "rgb(128, 0, 128)"
         },
         "mode": "lines+markers",
         "name": "The number of tickers increased stock prices.",
         "type": "scatter",
         "x": [
          28.6,
          7.4,
          38.6,
          56.8,
          75,
          18.8,
          6.2,
          31.9,
          13.3,
          15.5,
          0
         ],
         "xaxis": "x2",
         "y": [
          "Basic Materials",
          "Communication Services",
          "Consumer Cyclical",
          "Consumer Defensive",
          "Energy",
          "Financial Services",
          "Healthcare",
          "Industrials",
          "Real Estate",
          "Technology",
          "Utilities"
         ],
         "yaxis": "y2"
        }
       ],
       "layout": {
        "annotations": [
         {
          "font": {
           "color": "rgb(50, 171, 96)",
           "family": "Arial",
           "size": 12
          },
          "showarrow": false,
          "text": "4.14%",
          "x": 31,
          "xref": "x",
          "y": "Basic Materials",
          "yref": "y"
         },
         {
          "font": {
           "color": "rgb(50, 171, 96)",
           "family": "Arial",
           "size": 12
          },
          "showarrow": false,
          "text": "5.33%",
          "x": 37,
          "xref": "x",
          "y": "Communication Services",
          "yref": "y"
         },
         {
          "font": {
           "color": "rgb(50, 171, 96)",
           "family": "Arial",
           "size": 12
          },
          "showarrow": false,
          "text": "13.81%",
          "x": 80,
          "xref": "x",
          "y": "Consumer Cyclical",
          "yref": "y"
         },
         {
          "font": {
           "color": "rgb(50, 171, 96)",
           "family": "Arial",
           "size": 12
          },
          "showarrow": false,
          "text": "7.3%",
          "x": 47,
          "xref": "x",
          "y": "Consumer Defensive",
          "yref": "y"
         },
         {
          "font": {
           "color": "rgb(50, 171, 96)",
           "family": "Arial",
           "size": 12
          },
          "showarrow": false,
          "text": "3.94%",
          "x": 30,
          "xref": "x",
          "y": "Energy",
          "yref": "y"
         },
         {
          "font": {
           "color": "rgb(50, 171, 96)",
           "family": "Arial",
           "size": 12
          },
          "showarrow": false,
          "text": "13.61%",
          "x": 79,
          "xref": "x",
          "y": "Financial Services",
          "yref": "y"
         },
         {
          "font": {
           "color": "rgb(50, 171, 96)",
           "family": "Arial",
           "size": 12
          },
          "showarrow": false,
          "text": "12.62%",
          "x": 74,
          "xref": "x",
          "y": "Healthcare",
          "yref": "y"
         },
         {
          "font": {
           "color": "rgb(50, 171, 96)",
           "family": "Arial",
           "size": 12
          },
          "showarrow": false,
          "text": "13.61%",
          "x": 79,
          "xref": "x",
          "y": "Industrials",
          "yref": "y"
         },
         {
          "font": {
           "color": "rgb(50, 171, 96)",
           "family": "Arial",
           "size": 12
          },
          "showarrow": false,
          "text": "5.92%",
          "x": 40,
          "xref": "x",
          "y": "Real Estate",
          "yref": "y"
         },
         {
          "font": {
           "color": "rgb(50, 171, 96)",
           "family": "Arial",
           "size": 12
          },
          "showarrow": false,
          "text": "14.0%",
          "x": 81,
          "xref": "x",
          "y": "Technology",
          "yref": "y"
         },
         {
          "font": {
           "color": "rgb(50, 171, 96)",
           "family": "Arial",
           "size": 12
          },
          "showarrow": false,
          "text": "5.72%",
          "x": 39,
          "xref": "x",
          "y": "Utilities",
          "yref": "y"
         },
         {
          "font": {
           "color": "rgb(150,150,150)",
           "family": "Arial",
           "size": 10
          },
          "showarrow": false,
          "text": "yfinance S&P 500 data",
          "x": -0.2,
          "xref": "paper",
          "y": -0.109,
          "yref": "paper"
         }
        ],
        "legend": {
         "font": {
          "size": 10
         },
         "x": 0.029,
         "y": 1.038
        },
        "margin": {
         "b": 70,
         "l": 100,
         "r": 20,
         "t": 70
        },
        "paper_bgcolor": "rgb(248, 248, 255)",
        "plot_bgcolor": "rgb(248, 248, 255)",
        "template": {
         "data": {
          "bar": [
           {
            "error_x": {
             "color": "#2a3f5f"
            },
            "error_y": {
             "color": "#2a3f5f"
            },
            "marker": {
             "line": {
              "color": "#E5ECF6",
              "width": 0.5
             },
             "pattern": {
              "fillmode": "overlay",
              "size": 10,
              "solidity": 0.2
             }
            },
            "type": "bar"
           }
          ],
          "barpolar": [
           {
            "marker": {
             "line": {
              "color": "#E5ECF6",
              "width": 0.5
             },
             "pattern": {
              "fillmode": "overlay",
              "size": 10,
              "solidity": 0.2
             }
            },
            "type": "barpolar"
           }
          ],
          "carpet": [
           {
            "aaxis": {
             "endlinecolor": "#2a3f5f",
             "gridcolor": "white",
             "linecolor": "white",
             "minorgridcolor": "white",
             "startlinecolor": "#2a3f5f"
            },
            "baxis": {
             "endlinecolor": "#2a3f5f",
             "gridcolor": "white",
             "linecolor": "white",
             "minorgridcolor": "white",
             "startlinecolor": "#2a3f5f"
            },
            "type": "carpet"
           }
          ],
          "choropleth": [
           {
            "colorbar": {
             "outlinewidth": 0,
             "ticks": ""
            },
            "type": "choropleth"
           }
          ],
          "contour": [
           {
            "colorbar": {
             "outlinewidth": 0,
             "ticks": ""
            },
            "colorscale": [
             [
              0,
              "#0d0887"
             ],
             [
              0.1111111111111111,
              "#46039f"
             ],
             [
              0.2222222222222222,
              "#7201a8"
             ],
             [
              0.3333333333333333,
              "#9c179e"
             ],
             [
              0.4444444444444444,
              "#bd3786"
             ],
             [
              0.5555555555555556,
              "#d8576b"
             ],
             [
              0.6666666666666666,
              "#ed7953"
             ],
             [
              0.7777777777777778,
              "#fb9f3a"
             ],
             [
              0.8888888888888888,
              "#fdca26"
             ],
             [
              1,
              "#f0f921"
             ]
            ],
            "type": "contour"
           }
          ],
          "contourcarpet": [
           {
            "colorbar": {
             "outlinewidth": 0,
             "ticks": ""
            },
            "type": "contourcarpet"
           }
          ],
          "heatmap": [
           {
            "colorbar": {
             "outlinewidth": 0,
             "ticks": ""
            },
            "colorscale": [
             [
              0,
              "#0d0887"
             ],
             [
              0.1111111111111111,
              "#46039f"
             ],
             [
              0.2222222222222222,
              "#7201a8"
             ],
             [
              0.3333333333333333,
              "#9c179e"
             ],
             [
              0.4444444444444444,
              "#bd3786"
             ],
             [
              0.5555555555555556,
              "#d8576b"
             ],
             [
              0.6666666666666666,
              "#ed7953"
             ],
             [
              0.7777777777777778,
              "#fb9f3a"
             ],
             [
              0.8888888888888888,
              "#fdca26"
             ],
             [
              1,
              "#f0f921"
             ]
            ],
            "type": "heatmap"
           }
          ],
          "heatmapgl": [
           {
            "colorbar": {
             "outlinewidth": 0,
             "ticks": ""
            },
            "colorscale": [
             [
              0,
              "#0d0887"
             ],
             [
              0.1111111111111111,
              "#46039f"
             ],
             [
              0.2222222222222222,
              "#7201a8"
             ],
             [
              0.3333333333333333,
              "#9c179e"
             ],
             [
              0.4444444444444444,
              "#bd3786"
             ],
             [
              0.5555555555555556,
              "#d8576b"
             ],
             [
              0.6666666666666666,
              "#ed7953"
             ],
             [
              0.7777777777777778,
              "#fb9f3a"
             ],
             [
              0.8888888888888888,
              "#fdca26"
             ],
             [
              1,
              "#f0f921"
             ]
            ],
            "type": "heatmapgl"
           }
          ],
          "histogram": [
           {
            "marker": {
             "pattern": {
              "fillmode": "overlay",
              "size": 10,
              "solidity": 0.2
             }
            },
            "type": "histogram"
           }
          ],
          "histogram2d": [
           {
            "colorbar": {
             "outlinewidth": 0,
             "ticks": ""
            },
            "colorscale": [
             [
              0,
              "#0d0887"
             ],
             [
              0.1111111111111111,
              "#46039f"
             ],
             [
              0.2222222222222222,
              "#7201a8"
             ],
             [
              0.3333333333333333,
              "#9c179e"
             ],
             [
              0.4444444444444444,
              "#bd3786"
             ],
             [
              0.5555555555555556,
              "#d8576b"
             ],
             [
              0.6666666666666666,
              "#ed7953"
             ],
             [
              0.7777777777777778,
              "#fb9f3a"
             ],
             [
              0.8888888888888888,
              "#fdca26"
             ],
             [
              1,
              "#f0f921"
             ]
            ],
            "type": "histogram2d"
           }
          ],
          "histogram2dcontour": [
           {
            "colorbar": {
             "outlinewidth": 0,
             "ticks": ""
            },
            "colorscale": [
             [
              0,
              "#0d0887"
             ],
             [
              0.1111111111111111,
              "#46039f"
             ],
             [
              0.2222222222222222,
              "#7201a8"
             ],
             [
              0.3333333333333333,
              "#9c179e"
             ],
             [
              0.4444444444444444,
              "#bd3786"
             ],
             [
              0.5555555555555556,
              "#d8576b"
             ],
             [
              0.6666666666666666,
              "#ed7953"
             ],
             [
              0.7777777777777778,
              "#fb9f3a"
             ],
             [
              0.8888888888888888,
              "#fdca26"
             ],
             [
              1,
              "#f0f921"
             ]
            ],
            "type": "histogram2dcontour"
           }
          ],
          "mesh3d": [
           {
            "colorbar": {
             "outlinewidth": 0,
             "ticks": ""
            },
            "type": "mesh3d"
           }
          ],
          "parcoords": [
           {
            "line": {
             "colorbar": {
              "outlinewidth": 0,
              "ticks": ""
             }
            },
            "type": "parcoords"
           }
          ],
          "pie": [
           {
            "automargin": true,
            "type": "pie"
           }
          ],
          "scatter": [
           {
            "marker": {
             "colorbar": {
              "outlinewidth": 0,
              "ticks": ""
             }
            },
            "type": "scatter"
           }
          ],
          "scatter3d": [
           {
            "line": {
             "colorbar": {
              "outlinewidth": 0,
              "ticks": ""
             }
            },
            "marker": {
             "colorbar": {
              "outlinewidth": 0,
              "ticks": ""
             }
            },
            "type": "scatter3d"
           }
          ],
          "scattercarpet": [
           {
            "marker": {
             "colorbar": {
              "outlinewidth": 0,
              "ticks": ""
             }
            },
            "type": "scattercarpet"
           }
          ],
          "scattergeo": [
           {
            "marker": {
             "colorbar": {
              "outlinewidth": 0,
              "ticks": ""
             }
            },
            "type": "scattergeo"
           }
          ],
          "scattergl": [
           {
            "marker": {
             "colorbar": {
              "outlinewidth": 0,
              "ticks": ""
             }
            },
            "type": "scattergl"
           }
          ],
          "scattermapbox": [
           {
            "marker": {
             "colorbar": {
              "outlinewidth": 0,
              "ticks": ""
             }
            },
            "type": "scattermapbox"
           }
          ],
          "scatterpolar": [
           {
            "marker": {
             "colorbar": {
              "outlinewidth": 0,
              "ticks": ""
             }
            },
            "type": "scatterpolar"
           }
          ],
          "scatterpolargl": [
           {
            "marker": {
             "colorbar": {
              "outlinewidth": 0,
              "ticks": ""
             }
            },
            "type": "scatterpolargl"
           }
          ],
          "scatterternary": [
           {
            "marker": {
             "colorbar": {
              "outlinewidth": 0,
              "ticks": ""
             }
            },
            "type": "scatterternary"
           }
          ],
          "surface": [
           {
            "colorbar": {
             "outlinewidth": 0,
             "ticks": ""
            },
            "colorscale": [
             [
              0,
              "#0d0887"
             ],
             [
              0.1111111111111111,
              "#46039f"
             ],
             [
              0.2222222222222222,
              "#7201a8"
             ],
             [
              0.3333333333333333,
              "#9c179e"
             ],
             [
              0.4444444444444444,
              "#bd3786"
             ],
             [
              0.5555555555555556,
              "#d8576b"
             ],
             [
              0.6666666666666666,
              "#ed7953"
             ],
             [
              0.7777777777777778,
              "#fb9f3a"
             ],
             [
              0.8888888888888888,
              "#fdca26"
             ],
             [
              1,
              "#f0f921"
             ]
            ],
            "type": "surface"
           }
          ],
          "table": [
           {
            "cells": {
             "fill": {
              "color": "#EBF0F8"
             },
             "line": {
              "color": "white"
             }
            },
            "header": {
             "fill": {
              "color": "#C8D4E3"
             },
             "line": {
              "color": "white"
             }
            },
            "type": "table"
           }
          ]
         },
         "layout": {
          "annotationdefaults": {
           "arrowcolor": "#2a3f5f",
           "arrowhead": 0,
           "arrowwidth": 1
          },
          "autotypenumbers": "strict",
          "coloraxis": {
           "colorbar": {
            "outlinewidth": 0,
            "ticks": ""
           }
          },
          "colorscale": {
           "diverging": [
            [
             0,
             "#8e0152"
            ],
            [
             0.1,
             "#c51b7d"
            ],
            [
             0.2,
             "#de77ae"
            ],
            [
             0.3,
             "#f1b6da"
            ],
            [
             0.4,
             "#fde0ef"
            ],
            [
             0.5,
             "#f7f7f7"
            ],
            [
             0.6,
             "#e6f5d0"
            ],
            [
             0.7,
             "#b8e186"
            ],
            [
             0.8,
             "#7fbc41"
            ],
            [
             0.9,
             "#4d9221"
            ],
            [
             1,
             "#276419"
            ]
           ],
           "sequential": [
            [
             0,
             "#0d0887"
            ],
            [
             0.1111111111111111,
             "#46039f"
            ],
            [
             0.2222222222222222,
             "#7201a8"
            ],
            [
             0.3333333333333333,
             "#9c179e"
            ],
            [
             0.4444444444444444,
             "#bd3786"
            ],
            [
             0.5555555555555556,
             "#d8576b"
            ],
            [
             0.6666666666666666,
             "#ed7953"
            ],
            [
             0.7777777777777778,
             "#fb9f3a"
            ],
            [
             0.8888888888888888,
             "#fdca26"
            ],
            [
             1,
             "#f0f921"
            ]
           ],
           "sequentialminus": [
            [
             0,
             "#0d0887"
            ],
            [
             0.1111111111111111,
             "#46039f"
            ],
            [
             0.2222222222222222,
             "#7201a8"
            ],
            [
             0.3333333333333333,
             "#9c179e"
            ],
            [
             0.4444444444444444,
             "#bd3786"
            ],
            [
             0.5555555555555556,
             "#d8576b"
            ],
            [
             0.6666666666666666,
             "#ed7953"
            ],
            [
             0.7777777777777778,
             "#fb9f3a"
            ],
            [
             0.8888888888888888,
             "#fdca26"
            ],
            [
             1,
             "#f0f921"
            ]
           ]
          },
          "colorway": [
           "#636efa",
           "#EF553B",
           "#00cc96",
           "#ab63fa",
           "#FFA15A",
           "#19d3f3",
           "#FF6692",
           "#B6E880",
           "#FF97FF",
           "#FECB52"
          ],
          "font": {
           "color": "#2a3f5f"
          },
          "geo": {
           "bgcolor": "white",
           "lakecolor": "white",
           "landcolor": "#E5ECF6",
           "showlakes": true,
           "showland": true,
           "subunitcolor": "white"
          },
          "hoverlabel": {
           "align": "left"
          },
          "hovermode": "closest",
          "mapbox": {
           "style": "light"
          },
          "paper_bgcolor": "white",
          "plot_bgcolor": "#E5ECF6",
          "polar": {
           "angularaxis": {
            "gridcolor": "white",
            "linecolor": "white",
            "ticks": ""
           },
           "bgcolor": "#E5ECF6",
           "radialaxis": {
            "gridcolor": "white",
            "linecolor": "white",
            "ticks": ""
           }
          },
          "scene": {
           "xaxis": {
            "backgroundcolor": "#E5ECF6",
            "gridcolor": "white",
            "gridwidth": 2,
            "linecolor": "white",
            "showbackground": true,
            "ticks": "",
            "zerolinecolor": "white"
           },
           "yaxis": {
            "backgroundcolor": "#E5ECF6",
            "gridcolor": "white",
            "gridwidth": 2,
            "linecolor": "white",
            "showbackground": true,
            "ticks": "",
            "zerolinecolor": "white"
           },
           "zaxis": {
            "backgroundcolor": "#E5ECF6",
            "gridcolor": "white",
            "gridwidth": 2,
            "linecolor": "white",
            "showbackground": true,
            "ticks": "",
            "zerolinecolor": "white"
           }
          },
          "shapedefaults": {
           "line": {
            "color": "#2a3f5f"
           }
          },
          "ternary": {
           "aaxis": {
            "gridcolor": "white",
            "linecolor": "white",
            "ticks": ""
           },
           "baxis": {
            "gridcolor": "white",
            "linecolor": "white",
            "ticks": ""
           },
           "bgcolor": "#E5ECF6",
           "caxis": {
            "gridcolor": "white",
            "linecolor": "white",
            "ticks": ""
           }
          },
          "title": {
           "x": 0.05
          },
          "xaxis": {
           "automargin": true,
           "gridcolor": "white",
           "linecolor": "white",
           "ticks": "",
           "title": {
            "standoff": 15
           },
           "zerolinecolor": "white",
           "zerolinewidth": 2
          },
          "yaxis": {
           "automargin": true,
           "gridcolor": "white",
           "linecolor": "white",
           "ticks": "",
           "title": {
            "standoff": 15
           },
           "zerolinecolor": "white",
           "zerolinewidth": 2
          }
         }
        },
        "title": {
         "text": "Sector Analysis for past 20 days."
        },
        "xaxis": {
         "anchor": "y",
         "domain": [
          0,
          0.42
         ],
         "showgrid": true,
         "showline": false,
         "showticklabels": true,
         "zeroline": false
        },
        "xaxis2": {
         "anchor": "y2",
         "domain": [
          0.47,
          1
         ],
         "dtick": 25000,
         "showgrid": true,
         "showline": false,
         "showticklabels": true,
         "zeroline": false
        },
        "yaxis": {
         "anchor": "x",
         "domain": [
          0,
          0.85
         ],
         "showgrid": false,
         "showline": false,
         "showticklabels": true
        },
        "yaxis2": {
         "anchor": "x2",
         "domain": [
          0,
          0.85
         ],
         "linecolor": "rgba(102, 102, 102, 0.8)",
         "linewidth": 2,
         "showgrid": false,
         "showline": true,
         "showticklabels": false
        }
       }
      },
      "text/html": [
       "<div>                            <div id=\"932ad4f7-47bf-42fc-88a1-e312757d4cdb\" class=\"plotly-graph-div\" style=\"height:525px; width:100%;\"></div>            <script type=\"text/javascript\">                require([\"plotly\"], function(Plotly) {                    window.PLOTLYENV=window.PLOTLYENV || {};                                    if (document.getElementById(\"932ad4f7-47bf-42fc-88a1-e312757d4cdb\")) {                    Plotly.newPlot(                        \"932ad4f7-47bf-42fc-88a1-e312757d4cdb\",                        [{\"marker\":{\"color\":\"rgba(50, 171, 96, 0.6)\",\"line\":{\"color\":\"rgba(50, 171, 96, 1.0)\",\"width\":1}},\"name\":\"Sector proportion in S&P 500.\",\"orientation\":\"h\",\"type\":\"bar\",\"x\":[21,27,70,37,20,69,64,69,30,71,29],\"xaxis\":\"x\",\"y\":[\"Basic Materials\",\"Communication Services\",\"Consumer Cyclical\",\"Consumer Defensive\",\"Energy\",\"Financial Services\",\"Healthcare\",\"Industrials\",\"Real Estate\",\"Technology\",\"Utilities\"],\"yaxis\":\"y\"},{\"line\":{\"color\":\"rgb(128, 0, 128)\"},\"mode\":\"lines+markers\",\"name\":\"The number of tickers increased stock prices.\",\"type\":\"scatter\",\"x\":[28.6,7.4,38.6,56.8,75.0,18.8,6.2,31.9,13.3,15.5,0.0],\"xaxis\":\"x2\",\"y\":[\"Basic Materials\",\"Communication Services\",\"Consumer Cyclical\",\"Consumer Defensive\",\"Energy\",\"Financial Services\",\"Healthcare\",\"Industrials\",\"Real Estate\",\"Technology\",\"Utilities\"],\"yaxis\":\"y2\"}],                        {\"annotations\":[{\"font\":{\"color\":\"rgb(50, 171, 96)\",\"family\":\"Arial\",\"size\":12},\"showarrow\":false,\"text\":\"4.14%\",\"x\":31,\"xref\":\"x\",\"y\":\"Basic Materials\",\"yref\":\"y\"},{\"font\":{\"color\":\"rgb(50, 171, 96)\",\"family\":\"Arial\",\"size\":12},\"showarrow\":false,\"text\":\"5.33%\",\"x\":37,\"xref\":\"x\",\"y\":\"Communication Services\",\"yref\":\"y\"},{\"font\":{\"color\":\"rgb(50, 171, 96)\",\"family\":\"Arial\",\"size\":12},\"showarrow\":false,\"text\":\"13.81%\",\"x\":80,\"xref\":\"x\",\"y\":\"Consumer Cyclical\",\"yref\":\"y\"},{\"font\":{\"color\":\"rgb(50, 171, 96)\",\"family\":\"Arial\",\"size\":12},\"showarrow\":false,\"text\":\"7.3%\",\"x\":47,\"xref\":\"x\",\"y\":\"Consumer Defensive\",\"yref\":\"y\"},{\"font\":{\"color\":\"rgb(50, 171, 96)\",\"family\":\"Arial\",\"size\":12},\"showarrow\":false,\"text\":\"3.94%\",\"x\":30,\"xref\":\"x\",\"y\":\"Energy\",\"yref\":\"y\"},{\"font\":{\"color\":\"rgb(50, 171, 96)\",\"family\":\"Arial\",\"size\":12},\"showarrow\":false,\"text\":\"13.61%\",\"x\":79,\"xref\":\"x\",\"y\":\"Financial Services\",\"yref\":\"y\"},{\"font\":{\"color\":\"rgb(50, 171, 96)\",\"family\":\"Arial\",\"size\":12},\"showarrow\":false,\"text\":\"12.62%\",\"x\":74,\"xref\":\"x\",\"y\":\"Healthcare\",\"yref\":\"y\"},{\"font\":{\"color\":\"rgb(50, 171, 96)\",\"family\":\"Arial\",\"size\":12},\"showarrow\":false,\"text\":\"13.61%\",\"x\":79,\"xref\":\"x\",\"y\":\"Industrials\",\"yref\":\"y\"},{\"font\":{\"color\":\"rgb(50, 171, 96)\",\"family\":\"Arial\",\"size\":12},\"showarrow\":false,\"text\":\"5.92%\",\"x\":40,\"xref\":\"x\",\"y\":\"Real Estate\",\"yref\":\"y\"},{\"font\":{\"color\":\"rgb(50, 171, 96)\",\"family\":\"Arial\",\"size\":12},\"showarrow\":false,\"text\":\"14.0%\",\"x\":81,\"xref\":\"x\",\"y\":\"Technology\",\"yref\":\"y\"},{\"font\":{\"color\":\"rgb(50, 171, 96)\",\"family\":\"Arial\",\"size\":12},\"showarrow\":false,\"text\":\"5.72%\",\"x\":39,\"xref\":\"x\",\"y\":\"Utilities\",\"yref\":\"y\"},{\"font\":{\"color\":\"rgb(150,150,150)\",\"family\":\"Arial\",\"size\":10},\"showarrow\":false,\"text\":\"yfinance S&P 500 data\",\"x\":-0.2,\"xref\":\"paper\",\"y\":-0.109,\"yref\":\"paper\"}],\"legend\":{\"font\":{\"size\":10},\"x\":0.029,\"y\":1.038},\"margin\":{\"b\":70,\"l\":100,\"r\":20,\"t\":70},\"paper_bgcolor\":\"rgb(248, 248, 255)\",\"plot_bgcolor\":\"rgb(248, 248, 255)\",\"template\":{\"data\":{\"bar\":[{\"error_x\":{\"color\":\"#2a3f5f\"},\"error_y\":{\"color\":\"#2a3f5f\"},\"marker\":{\"line\":{\"color\":\"#E5ECF6\",\"width\":0.5},\"pattern\":{\"fillmode\":\"overlay\",\"size\":10,\"solidity\":0.2}},\"type\":\"bar\"}],\"barpolar\":[{\"marker\":{\"line\":{\"color\":\"#E5ECF6\",\"width\":0.5},\"pattern\":{\"fillmode\":\"overlay\",\"size\":10,\"solidity\":0.2}},\"type\":\"barpolar\"}],\"carpet\":[{\"aaxis\":{\"endlinecolor\":\"#2a3f5f\",\"gridcolor\":\"white\",\"linecolor\":\"white\",\"minorgridcolor\":\"white\",\"startlinecolor\":\"#2a3f5f\"},\"baxis\":{\"endlinecolor\":\"#2a3f5f\",\"gridcolor\":\"white\",\"linecolor\":\"white\",\"minorgridcolor\":\"white\",\"startlinecolor\":\"#2a3f5f\"},\"type\":\"carpet\"}],\"choropleth\":[{\"colorbar\":{\"outlinewidth\":0,\"ticks\":\"\"},\"type\":\"choropleth\"}],\"contour\":[{\"colorbar\":{\"outlinewidth\":0,\"ticks\":\"\"},\"colorscale\":[[0.0,\"#0d0887\"],[0.1111111111111111,\"#46039f\"],[0.2222222222222222,\"#7201a8\"],[0.3333333333333333,\"#9c179e\"],[0.4444444444444444,\"#bd3786\"],[0.5555555555555556,\"#d8576b\"],[0.6666666666666666,\"#ed7953\"],[0.7777777777777778,\"#fb9f3a\"],[0.8888888888888888,\"#fdca26\"],[1.0,\"#f0f921\"]],\"type\":\"contour\"}],\"contourcarpet\":[{\"colorbar\":{\"outlinewidth\":0,\"ticks\":\"\"},\"type\":\"contourcarpet\"}],\"heatmap\":[{\"colorbar\":{\"outlinewidth\":0,\"ticks\":\"\"},\"colorscale\":[[0.0,\"#0d0887\"],[0.1111111111111111,\"#46039f\"],[0.2222222222222222,\"#7201a8\"],[0.3333333333333333,\"#9c179e\"],[0.4444444444444444,\"#bd3786\"],[0.5555555555555556,\"#d8576b\"],[0.6666666666666666,\"#ed7953\"],[0.7777777777777778,\"#fb9f3a\"],[0.8888888888888888,\"#fdca26\"],[1.0,\"#f0f921\"]],\"type\":\"heatmap\"}],\"heatmapgl\":[{\"colorbar\":{\"outlinewidth\":0,\"ticks\":\"\"},\"colorscale\":[[0.0,\"#0d0887\"],[0.1111111111111111,\"#46039f\"],[0.2222222222222222,\"#7201a8\"],[0.3333333333333333,\"#9c179e\"],[0.4444444444444444,\"#bd3786\"],[0.5555555555555556,\"#d8576b\"],[0.6666666666666666,\"#ed7953\"],[0.7777777777777778,\"#fb9f3a\"],[0.8888888888888888,\"#fdca26\"],[1.0,\"#f0f921\"]],\"type\":\"heatmapgl\"}],\"histogram\":[{\"marker\":{\"pattern\":{\"fillmode\":\"overlay\",\"size\":10,\"solidity\":0.2}},\"type\":\"histogram\"}],\"histogram2d\":[{\"colorbar\":{\"outlinewidth\":0,\"ticks\":\"\"},\"colorscale\":[[0.0,\"#0d0887\"],[0.1111111111111111,\"#46039f\"],[0.2222222222222222,\"#7201a8\"],[0.3333333333333333,\"#9c179e\"],[0.4444444444444444,\"#bd3786\"],[0.5555555555555556,\"#d8576b\"],[0.6666666666666666,\"#ed7953\"],[0.7777777777777778,\"#fb9f3a\"],[0.8888888888888888,\"#fdca26\"],[1.0,\"#f0f921\"]],\"type\":\"histogram2d\"}],\"histogram2dcontour\":[{\"colorbar\":{\"outlinewidth\":0,\"ticks\":\"\"},\"colorscale\":[[0.0,\"#0d0887\"],[0.1111111111111111,\"#46039f\"],[0.2222222222222222,\"#7201a8\"],[0.3333333333333333,\"#9c179e\"],[0.4444444444444444,\"#bd3786\"],[0.5555555555555556,\"#d8576b\"],[0.6666666666666666,\"#ed7953\"],[0.7777777777777778,\"#fb9f3a\"],[0.8888888888888888,\"#fdca26\"],[1.0,\"#f0f921\"]],\"type\":\"histogram2dcontour\"}],\"mesh3d\":[{\"colorbar\":{\"outlinewidth\":0,\"ticks\":\"\"},\"type\":\"mesh3d\"}],\"parcoords\":[{\"line\":{\"colorbar\":{\"outlinewidth\":0,\"ticks\":\"\"}},\"type\":\"parcoords\"}],\"pie\":[{\"automargin\":true,\"type\":\"pie\"}],\"scatter\":[{\"marker\":{\"colorbar\":{\"outlinewidth\":0,\"ticks\":\"\"}},\"type\":\"scatter\"}],\"scatter3d\":[{\"line\":{\"colorbar\":{\"outlinewidth\":0,\"ticks\":\"\"}},\"marker\":{\"colorbar\":{\"outlinewidth\":0,\"ticks\":\"\"}},\"type\":\"scatter3d\"}],\"scattercarpet\":[{\"marker\":{\"colorbar\":{\"outlinewidth\":0,\"ticks\":\"\"}},\"type\":\"scattercarpet\"}],\"scattergeo\":[{\"marker\":{\"colorbar\":{\"outlinewidth\":0,\"ticks\":\"\"}},\"type\":\"scattergeo\"}],\"scattergl\":[{\"marker\":{\"colorbar\":{\"outlinewidth\":0,\"ticks\":\"\"}},\"type\":\"scattergl\"}],\"scattermapbox\":[{\"marker\":{\"colorbar\":{\"outlinewidth\":0,\"ticks\":\"\"}},\"type\":\"scattermapbox\"}],\"scatterpolar\":[{\"marker\":{\"colorbar\":{\"outlinewidth\":0,\"ticks\":\"\"}},\"type\":\"scatterpolar\"}],\"scatterpolargl\":[{\"marker\":{\"colorbar\":{\"outlinewidth\":0,\"ticks\":\"\"}},\"type\":\"scatterpolargl\"}],\"scatterternary\":[{\"marker\":{\"colorbar\":{\"outlinewidth\":0,\"ticks\":\"\"}},\"type\":\"scatterternary\"}],\"surface\":[{\"colorbar\":{\"outlinewidth\":0,\"ticks\":\"\"},\"colorscale\":[[0.0,\"#0d0887\"],[0.1111111111111111,\"#46039f\"],[0.2222222222222222,\"#7201a8\"],[0.3333333333333333,\"#9c179e\"],[0.4444444444444444,\"#bd3786\"],[0.5555555555555556,\"#d8576b\"],[0.6666666666666666,\"#ed7953\"],[0.7777777777777778,\"#fb9f3a\"],[0.8888888888888888,\"#fdca26\"],[1.0,\"#f0f921\"]],\"type\":\"surface\"}],\"table\":[{\"cells\":{\"fill\":{\"color\":\"#EBF0F8\"},\"line\":{\"color\":\"white\"}},\"header\":{\"fill\":{\"color\":\"#C8D4E3\"},\"line\":{\"color\":\"white\"}},\"type\":\"table\"}]},\"layout\":{\"annotationdefaults\":{\"arrowcolor\":\"#2a3f5f\",\"arrowhead\":0,\"arrowwidth\":1},\"autotypenumbers\":\"strict\",\"coloraxis\":{\"colorbar\":{\"outlinewidth\":0,\"ticks\":\"\"}},\"colorscale\":{\"diverging\":[[0,\"#8e0152\"],[0.1,\"#c51b7d\"],[0.2,\"#de77ae\"],[0.3,\"#f1b6da\"],[0.4,\"#fde0ef\"],[0.5,\"#f7f7f7\"],[0.6,\"#e6f5d0\"],[0.7,\"#b8e186\"],[0.8,\"#7fbc41\"],[0.9,\"#4d9221\"],[1,\"#276419\"]],\"sequential\":[[0.0,\"#0d0887\"],[0.1111111111111111,\"#46039f\"],[0.2222222222222222,\"#7201a8\"],[0.3333333333333333,\"#9c179e\"],[0.4444444444444444,\"#bd3786\"],[0.5555555555555556,\"#d8576b\"],[0.6666666666666666,\"#ed7953\"],[0.7777777777777778,\"#fb9f3a\"],[0.8888888888888888,\"#fdca26\"],[1.0,\"#f0f921\"]],\"sequentialminus\":[[0.0,\"#0d0887\"],[0.1111111111111111,\"#46039f\"],[0.2222222222222222,\"#7201a8\"],[0.3333333333333333,\"#9c179e\"],[0.4444444444444444,\"#bd3786\"],[0.5555555555555556,\"#d8576b\"],[0.6666666666666666,\"#ed7953\"],[0.7777777777777778,\"#fb9f3a\"],[0.8888888888888888,\"#fdca26\"],[1.0,\"#f0f921\"]]},\"colorway\":[\"#636efa\",\"#EF553B\",\"#00cc96\",\"#ab63fa\",\"#FFA15A\",\"#19d3f3\",\"#FF6692\",\"#B6E880\",\"#FF97FF\",\"#FECB52\"],\"font\":{\"color\":\"#2a3f5f\"},\"geo\":{\"bgcolor\":\"white\",\"lakecolor\":\"white\",\"landcolor\":\"#E5ECF6\",\"showlakes\":true,\"showland\":true,\"subunitcolor\":\"white\"},\"hoverlabel\":{\"align\":\"left\"},\"hovermode\":\"closest\",\"mapbox\":{\"style\":\"light\"},\"paper_bgcolor\":\"white\",\"plot_bgcolor\":\"#E5ECF6\",\"polar\":{\"angularaxis\":{\"gridcolor\":\"white\",\"linecolor\":\"white\",\"ticks\":\"\"},\"bgcolor\":\"#E5ECF6\",\"radialaxis\":{\"gridcolor\":\"white\",\"linecolor\":\"white\",\"ticks\":\"\"}},\"scene\":{\"xaxis\":{\"backgroundcolor\":\"#E5ECF6\",\"gridcolor\":\"white\",\"gridwidth\":2,\"linecolor\":\"white\",\"showbackground\":true,\"ticks\":\"\",\"zerolinecolor\":\"white\"},\"yaxis\":{\"backgroundcolor\":\"#E5ECF6\",\"gridcolor\":\"white\",\"gridwidth\":2,\"linecolor\":\"white\",\"showbackground\":true,\"ticks\":\"\",\"zerolinecolor\":\"white\"},\"zaxis\":{\"backgroundcolor\":\"#E5ECF6\",\"gridcolor\":\"white\",\"gridwidth\":2,\"linecolor\":\"white\",\"showbackground\":true,\"ticks\":\"\",\"zerolinecolor\":\"white\"}},\"shapedefaults\":{\"line\":{\"color\":\"#2a3f5f\"}},\"ternary\":{\"aaxis\":{\"gridcolor\":\"white\",\"linecolor\":\"white\",\"ticks\":\"\"},\"baxis\":{\"gridcolor\":\"white\",\"linecolor\":\"white\",\"ticks\":\"\"},\"bgcolor\":\"#E5ECF6\",\"caxis\":{\"gridcolor\":\"white\",\"linecolor\":\"white\",\"ticks\":\"\"}},\"title\":{\"x\":0.05},\"xaxis\":{\"automargin\":true,\"gridcolor\":\"white\",\"linecolor\":\"white\",\"ticks\":\"\",\"title\":{\"standoff\":15},\"zerolinecolor\":\"white\",\"zerolinewidth\":2},\"yaxis\":{\"automargin\":true,\"gridcolor\":\"white\",\"linecolor\":\"white\",\"ticks\":\"\",\"title\":{\"standoff\":15},\"zerolinecolor\":\"white\",\"zerolinewidth\":2}}},\"title\":{\"text\":\"Sector Analysis for past 20 days.\"},\"xaxis\":{\"anchor\":\"y\",\"domain\":[0,0.42],\"showgrid\":true,\"showline\":false,\"showticklabels\":true,\"zeroline\":false},\"xaxis2\":{\"anchor\":\"y2\",\"domain\":[0.47,1],\"dtick\":25000,\"showgrid\":true,\"showline\":false,\"showticklabels\":true,\"zeroline\":false},\"yaxis\":{\"anchor\":\"x\",\"domain\":[0,0.85],\"showgrid\":false,\"showline\":false,\"showticklabels\":true},\"yaxis2\":{\"anchor\":\"x2\",\"domain\":[0,0.85],\"linecolor\":\"rgba(102, 102, 102, 0.8)\",\"linewidth\":2,\"showgrid\":false,\"showline\":true,\"showticklabels\":false}},                        {\"responsive\": true}                    ).then(function(){\n",
       "                            \n",
       "var gd = document.getElementById('932ad4f7-47bf-42fc-88a1-e312757d4cdb');\n",
       "var x = new MutationObserver(function (mutations, observer) {{\n",
       "        var display = window.getComputedStyle(gd).display;\n",
       "        if (!display || display === 'none') {{\n",
       "            console.log([gd, 'removed!']);\n",
       "            Plotly.purge(gd);\n",
       "            observer.disconnect();\n",
       "        }}\n",
       "}});\n",
       "\n",
       "// Listen for the removal of the full notebook cells\n",
       "var notebookContainer = gd.closest('#notebook-container');\n",
       "if (notebookContainer) {{\n",
       "    x.observe(notebookContainer, {childList: true});\n",
       "}}\n",
       "\n",
       "// Listen for the clearing of the current output cell\n",
       "var outputEl = gd.closest('.output');\n",
       "if (outputEl) {{\n",
       "    x.observe(outputEl, {childList: true});\n",
       "}}\n",
       "\n",
       "                        })                };                });            </script>        </div>"
      ]
     },
     "metadata": {},
     "output_type": "display_data"
    }
   ],
   "source": [
    "df_final_analysis[\"p_perc\"] = round(df_final_analysis[\"diff_close_positive\"]/df_final_analysis[\"total\"]*100, 1)\n",
    "df_final_analysis[\"n_perc\"] = round(df_final_analysis[\"diff_close_negative\"]/df_final_analysis[\"total\"]*100, 1)\n",
    "\n",
    "\n",
    "# Creating two subplots\n",
    "fig = make_subplots(rows=1, cols=2, specs=[[{}, {}]], shared_xaxes=True,\n",
    "                    shared_yaxes=False, vertical_spacing=0.001)\n",
    "\n",
    "fig.append_trace(go.Bar(\n",
    "    x=df_final_analysis.total,\n",
    "    y=df_final_analysis.sector,\n",
    "    marker=dict(\n",
    "        color='rgba(50, 171, 96, 0.6)',\n",
    "        line=dict(\n",
    "            color='rgba(50, 171, 96, 1.0)',\n",
    "            width=1),\n",
    "    ),\n",
    "    name=f'Sector proportion in S&P 500.',\n",
    "    orientation='h',\n",
    "), 1, 1)\n",
    "\n",
    "# x_data = df_final_analysis[[\"p_perc\", \"n_perc\"]].values.tolist()\n",
    "# y_data = df_final_analysis[\"sector\"].tolist()\n",
    "\n",
    "\n",
    "\n",
    "fig.append_trace(go.Scatter(\n",
    "    x=df_final_analysis.p_perc, \n",
    "    y=df_final_analysis.sector,\n",
    "    mode='lines+markers',\n",
    "    line_color='rgb(128, 0, 128)',\n",
    "    name=f'The number of tickers increased stock prices.',\n",
    "), 1, 2)\n",
    "\n",
    "\n",
    "fig.update_layout(\n",
    "    title=f'Sector Analysis for past {sector_period} days.',\n",
    "    yaxis=dict(\n",
    "        showgrid=False,\n",
    "        showline=False,\n",
    "        showticklabels=True,\n",
    "        domain=[0, 0.85],\n",
    "    ),\n",
    "    yaxis2=dict(\n",
    "        showgrid=False,\n",
    "        showline=True,\n",
    "        showticklabels=False,\n",
    "        linecolor='rgba(102, 102, 102, 0.8)',\n",
    "        linewidth=2,\n",
    "        domain=[0, 0.85],\n",
    "    ),\n",
    "    xaxis=dict(\n",
    "        zeroline=False,\n",
    "        showline=False,\n",
    "        showticklabels=True,\n",
    "        showgrid=True,\n",
    "        domain=[0, 0.42],\n",
    "    ),\n",
    "    xaxis2=dict(\n",
    "        zeroline=False,\n",
    "        showline=False,\n",
    "        showticklabels=True,\n",
    "        showgrid=True,\n",
    "        domain=[0.47, 1],\n",
    "#         side='top',\n",
    "        dtick=25000,\n",
    "    ),\n",
    "    legend=dict(x=0.029, y=1.038, font_size=10),\n",
    "    margin=dict(l=100, r=20, t=70, b=70),\n",
    "    paper_bgcolor='rgb(248, 248, 255)',\n",
    "    plot_bgcolor='rgb(248, 248, 255)',\n",
    ")\n",
    "annotations = []\n",
    "\n",
    "total_list = total_list\n",
    "total_prop = round(total_list/sum(total_list)*100, 2)\n",
    "sector_list = df_final_analysis.sector\n",
    "\n",
    "# Adding labels\n",
    "for totald, yd, xd in zip(total_list, total_prop, sector_list):\n",
    "    # labeling the bar \n",
    "    annotations.append(dict(xref='x1', yref='y1',\n",
    "                            y=xd, x=totald + 10,\n",
    "                            text=str(yd) + '%',\n",
    "                            font=dict(family='Arial', size=12,\n",
    "                                      color='rgb(50, 171, 96)'),\n",
    "                            showarrow=False))\n",
    "\n",
    "# Source\n",
    "annotations.append(dict(xref='paper', yref='paper',\n",
    "                        x=-0.2, y=-0.109,\n",
    "                        text='yfinance S&P 500 data',\n",
    "                        font=dict(family='Arial', size=10, color='rgb(150,150,150)'),\n",
    "                        showarrow=False))\n",
    "\n",
    "fig.update_layout(annotations=annotations)\n",
    "fig.show()"
   ]
  },
  {
   "cell_type": "code",
   "execution_count": null,
   "id": "6debe9a4",
   "metadata": {},
   "outputs": [],
   "source": []
  },
  {
   "cell_type": "code",
   "execution_count": null,
   "id": "5722e09a",
   "metadata": {},
   "outputs": [],
   "source": []
  },
  {
   "cell_type": "code",
   "execution_count": null,
   "id": "0ddea33a",
   "metadata": {},
   "outputs": [],
   "source": []
  },
  {
   "cell_type": "code",
   "execution_count": null,
   "id": "6eb51e02",
   "metadata": {},
   "outputs": [],
   "source": []
  },
  {
   "cell_type": "code",
   "execution_count": null,
   "id": "1dca18cc",
   "metadata": {},
   "outputs": [],
   "source": []
  },
  {
   "cell_type": "code",
   "execution_count": 118,
   "id": "e89035e5",
   "metadata": {},
   "outputs": [],
   "source": [
    "input_dict = {}\n",
    "input_dict[\"risk\"] = [1, 2, 3]\n",
    "input_dict[\"period\"] = [\"less than 6 months\"]"
   ]
  },
  {
   "cell_type": "code",
   "execution_count": 119,
   "id": "4ce185f7",
   "metadata": {},
   "outputs": [],
   "source": [
    "input_sectors = [\"Basic Materials\"] # need to filter row-wise \n",
    "input_risk = [3] # aggresive (fluctuate)"
   ]
  },
  {
   "cell_type": "code",
   "execution_count": 120,
   "id": "7f283710",
   "metadata": {},
   "outputs": [],
   "source": [
    "def pct_rank_qcut(series, n):\n",
    "    edges = pd.Series([float(i) / n for i in range(n + 1)])\n",
    "    f = lambda x: (edges >= x).values.argmax()\n",
    "    return series.rank(pct=1).apply(f)"
   ]
  },
  {
   "cell_type": "code",
   "execution_count": 121,
   "id": "b91e45b1",
   "metadata": {},
   "outputs": [
    {
     "name": "stdout",
     "output_type": "stream",
     "text": [
      "6\n"
     ]
    },
    {
     "name": "stderr",
     "output_type": "stream",
     "text": [
      "/var/folders/bj/vyhj_k290_97p48w_81tkhfc0000gp/T/ipykernel_93810/282457499.py:15: SettingWithCopyWarning: \n",
      "A value is trying to be set on a copy of a slice from a DataFrame.\n",
      "Try using .loc[row_indexer,col_indexer] = value instead\n",
      "\n",
      "See the caveats in the documentation: https://pandas.pydata.org/pandas-docs/stable/user_guide/indexing.html#returning-a-view-versus-a-copy\n",
      "  df_temp[\"cutoff_bin\"]= pct_rank_qcut(df_temp[\"cutoff_60\"], 3)\n",
      "/var/folders/bj/vyhj_k290_97p48w_81tkhfc0000gp/T/ipykernel_93810/282457499.py:16: SettingWithCopyWarning: \n",
      "A value is trying to be set on a copy of a slice from a DataFrame.\n",
      "Try using .loc[row_indexer,col_indexer] = value instead\n",
      "\n",
      "See the caveats in the documentation: https://pandas.pydata.org/pandas-docs/stable/user_guide/indexing.html#returning-a-view-versus-a-copy\n",
      "  df_temp[\"cutoff_skew\"] = df_temp[\"skew_60\"]\n"
     ]
    }
   ],
   "source": [
    "df_temp = df_final[df_final[\"sector\"].isin(input_sectors)]\n",
    "\n",
    "# filter by timeframe (period)\n",
    "if input_dict[\"period\"][0] == \"less than 3 months\":\n",
    "    print('3')\n",
    "#     df_temp[\"cutoff_bin\"] = pd.qcut(df_temp[\"cutoff_1\"], \n",
    "#                                   3, labels=[1, 2, 3], duplicates='drop')\n",
    "    df_temp[\"cutoff_bin\"] = pct_rank_qcut(df_temp[\"cutoff_1\"], 3)\n",
    "    df_temp[\"cutoff_skew\"] = df_temp[\"skew_1\"]\n",
    "\n",
    "elif input_dict[\"period\"][0] == \"less than 6 months\": \n",
    "    print('6')\n",
    "#     df_temp[\"cutoff_bin\"] = pd.qcut(df_temp[\"cutoff_60\"], \n",
    "#                                    3, labels=[1, 2, 3], duplicates='drop')\n",
    "    df_temp[\"cutoff_bin\"]= pct_rank_qcut(df_temp[\"cutoff_60\"], 3)\n",
    "    df_temp[\"cutoff_skew\"] = df_temp[\"skew_60\"]\n",
    "\n",
    "elif input_dict[\"period\"][0] == \"more than 6 months\":  \n",
    "    print('6 이상')\n",
    "#     df_temp[\"cutoff_bin\"] = pd.qcut(df_temp[\"cutoff_120\"], \n",
    "#                                        3, labels=[1, 2, 3], duplicates='drop')\n",
    "    df_temp[\"cutoff_bin\"] = pct_rank_qcut(df_temp[\"cutoff_120\"], 3)\n",
    "    df_temp[\"cutoff_skew\"] = df_temp[\"skew_120\"]"
   ]
  },
  {
   "cell_type": "code",
   "execution_count": 122,
   "id": "7885258c",
   "metadata": {},
   "outputs": [
    {
     "data": {
      "text/html": [
       "<div>\n",
       "<style scoped>\n",
       "    .dataframe tbody tr th:only-of-type {\n",
       "        vertical-align: middle;\n",
       "    }\n",
       "\n",
       "    .dataframe tbody tr th {\n",
       "        vertical-align: top;\n",
       "    }\n",
       "\n",
       "    .dataframe thead th {\n",
       "        text-align: right;\n",
       "    }\n",
       "</style>\n",
       "<table border=\"1\" class=\"dataframe\">\n",
       "  <thead>\n",
       "    <tr style=\"text-align: right;\">\n",
       "      <th></th>\n",
       "      <th>ticker</th>\n",
       "      <th>close_price</th>\n",
       "      <th>day_1</th>\n",
       "      <th>day_5</th>\n",
       "      <th>df_size</th>\n",
       "      <th>skew_1</th>\n",
       "      <th>skew_60</th>\n",
       "      <th>skew_120</th>\n",
       "      <th>cutoff_1</th>\n",
       "      <th>cutoff_60</th>\n",
       "      <th>cutoff_120</th>\n",
       "      <th>created_date</th>\n",
       "      <th>longName</th>\n",
       "      <th>industry</th>\n",
       "      <th>sector</th>\n",
       "      <th>url</th>\n",
       "      <th>cutoff_bin</th>\n",
       "      <th>cutoff_skew</th>\n",
       "    </tr>\n",
       "  </thead>\n",
       "  <tbody>\n",
       "    <tr>\n",
       "      <th>364</th>\n",
       "      <td>NUE</td>\n",
       "      <td>140.820007</td>\n",
       "      <td>140.33565837079288</td>\n",
       "      <td>140.46116712792363</td>\n",
       "      <td>1642.0</td>\n",
       "      <td>-0.630978</td>\n",
       "      <td>0.592035</td>\n",
       "      <td>0.153755</td>\n",
       "      <td>21.666667</td>\n",
       "      <td>6.5</td>\n",
       "      <td>17.5</td>\n",
       "      <td>20220506.0</td>\n",
       "      <td>Nucor Corporation</td>\n",
       "      <td>Steel</td>\n",
       "      <td>Basic Materials</td>\n",
       "      <td>https://www.nucor.com</td>\n",
       "      <td>2</td>\n",
       "      <td>0.592035</td>\n",
       "    </tr>\n",
       "    <tr>\n",
       "      <th>467</th>\n",
       "      <td>DOW</td>\n",
       "      <td>68.470001</td>\n",
       "      <td>68.47000122070312</td>\n",
       "      <td>68.47000122070312</td>\n",
       "      <td>670.0</td>\n",
       "      <td>0.432054</td>\n",
       "      <td>0.500925</td>\n",
       "      <td>0.069097</td>\n",
       "      <td>1.666667</td>\n",
       "      <td>0.0</td>\n",
       "      <td>0.0</td>\n",
       "      <td>20220506.0</td>\n",
       "      <td>Dow Inc.</td>\n",
       "      <td>Chemicals</td>\n",
       "      <td>Basic Materials</td>\n",
       "      <td>https://www.dow.com</td>\n",
       "      <td>1</td>\n",
       "      <td>0.500925</td>\n",
       "    </tr>\n",
       "    <tr>\n",
       "      <th>245</th>\n",
       "      <td>EMN</td>\n",
       "      <td>105.669998</td>\n",
       "      <td>105.66999816894531</td>\n",
       "      <td>105.66999816894531</td>\n",
       "      <td>1642.0</td>\n",
       "      <td>-1.094688</td>\n",
       "      <td>0.484444</td>\n",
       "      <td>-0.490101</td>\n",
       "      <td>6.666667</td>\n",
       "      <td>0.0</td>\n",
       "      <td>0.0</td>\n",
       "      <td>20220506.0</td>\n",
       "      <td>Eastman Chemical Company</td>\n",
       "      <td>Chemicals</td>\n",
       "      <td>Basic Materials</td>\n",
       "      <td>https://www.eastman.com</td>\n",
       "      <td>1</td>\n",
       "      <td>0.484444</td>\n",
       "    </tr>\n",
       "    <tr>\n",
       "      <th>13</th>\n",
       "      <td>DD</td>\n",
       "      <td>66.139999</td>\n",
       "      <td>66.13999938964844</td>\n",
       "      <td>66.13999938964844</td>\n",
       "      <td>1642.0</td>\n",
       "      <td>-0.303200</td>\n",
       "      <td>0.292808</td>\n",
       "      <td>-0.270844</td>\n",
       "      <td>13.333333</td>\n",
       "      <td>0.0</td>\n",
       "      <td>0.0</td>\n",
       "      <td>20220506.0</td>\n",
       "      <td>DuPont de Nemours, Inc.</td>\n",
       "      <td>Specialty Chemicals</td>\n",
       "      <td>Basic Materials</td>\n",
       "      <td>https://www.dupont.com</td>\n",
       "      <td>1</td>\n",
       "      <td>0.292808</td>\n",
       "    </tr>\n",
       "    <tr>\n",
       "      <th>337</th>\n",
       "      <td>LYB</td>\n",
       "      <td>111.430000</td>\n",
       "      <td>111.43000030517578</td>\n",
       "      <td>111.43000030517578</td>\n",
       "      <td>1642.0</td>\n",
       "      <td>-0.291975</td>\n",
       "      <td>0.269740</td>\n",
       "      <td>-0.082601</td>\n",
       "      <td>13.333333</td>\n",
       "      <td>0.0</td>\n",
       "      <td>0.0</td>\n",
       "      <td>20220506.0</td>\n",
       "      <td>LyondellBasell Industries N.V.</td>\n",
       "      <td>Specialty Chemicals</td>\n",
       "      <td>Basic Materials</td>\n",
       "      <td>https://www.lyondellbasell.com</td>\n",
       "      <td>1</td>\n",
       "      <td>0.269740</td>\n",
       "    </tr>\n",
       "    <tr>\n",
       "      <th>439</th>\n",
       "      <td>VMC</td>\n",
       "      <td>177.080002</td>\n",
       "      <td>177.09701352741115</td>\n",
       "      <td>177.15019014615146</td>\n",
       "      <td>1642.0</td>\n",
       "      <td>-0.262466</td>\n",
       "      <td>0.185515</td>\n",
       "      <td>-0.307576</td>\n",
       "      <td>10.000000</td>\n",
       "      <td>0.0</td>\n",
       "      <td>0.0</td>\n",
       "      <td>20220506.0</td>\n",
       "      <td>Vulcan Materials Company</td>\n",
       "      <td>Building Materials</td>\n",
       "      <td>Basic Materials</td>\n",
       "      <td>https://www.vulcanmaterials.com</td>\n",
       "      <td>1</td>\n",
       "      <td>0.185515</td>\n",
       "    </tr>\n",
       "    <tr>\n",
       "      <th>342</th>\n",
       "      <td>MLM</td>\n",
       "      <td>356.140015</td>\n",
       "      <td>356.81591980595834</td>\n",
       "      <td>356.9330808968398</td>\n",
       "      <td>1642.0</td>\n",
       "      <td>-0.312593</td>\n",
       "      <td>0.143873</td>\n",
       "      <td>-0.517160</td>\n",
       "      <td>15.000000</td>\n",
       "      <td>0.0</td>\n",
       "      <td>0.0</td>\n",
       "      <td>20220506.0</td>\n",
       "      <td>Martin Marietta Materials, Inc.</td>\n",
       "      <td>Building Materials</td>\n",
       "      <td>Basic Materials</td>\n",
       "      <td>https://www.martinmarietta.com</td>\n",
       "      <td>1</td>\n",
       "      <td>0.143873</td>\n",
       "    </tr>\n",
       "    <tr>\n",
       "      <th>350</th>\n",
       "      <td>MOS</td>\n",
       "      <td>64.730003</td>\n",
       "      <td>e</td>\n",
       "      <td>r</td>\n",
       "      <td>1638.0</td>\n",
       "      <td>0.055284</td>\n",
       "      <td>0.132080</td>\n",
       "      <td>0.374237</td>\n",
       "      <td>21.666667</td>\n",
       "      <td>14.0</td>\n",
       "      <td>3.0</td>\n",
       "      <td>20220506.0</td>\n",
       "      <td>The Mosaic Company</td>\n",
       "      <td>Agricultural Inputs</td>\n",
       "      <td>Basic Materials</td>\n",
       "      <td>https://www.mosaicco.com</td>\n",
       "      <td>3</td>\n",
       "      <td>0.132080</td>\n",
       "    </tr>\n",
       "    <tr>\n",
       "      <th>355</th>\n",
       "      <td>NEM</td>\n",
       "      <td>72.339996</td>\n",
       "      <td>e</td>\n",
       "      <td>r</td>\n",
       "      <td>1638.0</td>\n",
       "      <td>0.137256</td>\n",
       "      <td>-0.081291</td>\n",
       "      <td>0.169317</td>\n",
       "      <td>16.666667</td>\n",
       "      <td>6.5</td>\n",
       "      <td>5.5</td>\n",
       "      <td>20220506.0</td>\n",
       "      <td>Newmont Corporation</td>\n",
       "      <td>Gold</td>\n",
       "      <td>Basic Materials</td>\n",
       "      <td>https://www.newmont.com</td>\n",
       "      <td>2</td>\n",
       "      <td>-0.081291</td>\n",
       "    </tr>\n",
       "    <tr>\n",
       "      <th>158</th>\n",
       "      <td>APD</td>\n",
       "      <td>235.979996</td>\n",
       "      <td>237.09662538621586</td>\n",
       "      <td>235.75314968288254</td>\n",
       "      <td>1642.0</td>\n",
       "      <td>-0.299562</td>\n",
       "      <td>-0.083447</td>\n",
       "      <td>-0.743371</td>\n",
       "      <td>16.666667</td>\n",
       "      <td>27.5</td>\n",
       "      <td>18.5</td>\n",
       "      <td>20220506.0</td>\n",
       "      <td>Air Products and Chemicals, Inc.</td>\n",
       "      <td>Specialty Chemicals</td>\n",
       "      <td>Basic Materials</td>\n",
       "      <td>https://www.airproducts.com</td>\n",
       "      <td>3</td>\n",
       "      <td>-0.083447</td>\n",
       "    </tr>\n",
       "    <tr>\n",
       "      <th>307</th>\n",
       "      <td>IFF</td>\n",
       "      <td>122.750000</td>\n",
       "      <td>123.07145725989054</td>\n",
       "      <td>123.38930173436111</td>\n",
       "      <td>1642.0</td>\n",
       "      <td>-0.202947</td>\n",
       "      <td>-0.157770</td>\n",
       "      <td>-0.054698</td>\n",
       "      <td>18.333333</td>\n",
       "      <td>4.5</td>\n",
       "      <td>8.0</td>\n",
       "      <td>20220506.0</td>\n",
       "      <td>International Flavors &amp; Fragrances Inc.</td>\n",
       "      <td>Specialty Chemicals</td>\n",
       "      <td>Basic Materials</td>\n",
       "      <td>https://www.iff.com</td>\n",
       "      <td>2</td>\n",
       "      <td>-0.157770</td>\n",
       "    </tr>\n",
       "    <tr>\n",
       "      <th>457</th>\n",
       "      <td>CTVA</td>\n",
       "      <td>58.040001</td>\n",
       "      <td>58.040000915527344</td>\n",
       "      <td>58.040000915527344</td>\n",
       "      <td>624.0</td>\n",
       "      <td>-0.043378</td>\n",
       "      <td>-0.178724</td>\n",
       "      <td>0.172365</td>\n",
       "      <td>1.666667</td>\n",
       "      <td>2.0</td>\n",
       "      <td>0.0</td>\n",
       "      <td>20220506.0</td>\n",
       "      <td>Corteva, Inc.</td>\n",
       "      <td>Agricultural Inputs</td>\n",
       "      <td>Basic Materials</td>\n",
       "      <td>https://www.corteva.com</td>\n",
       "      <td>2</td>\n",
       "      <td>-0.178724</td>\n",
       "    </tr>\n",
       "    <tr>\n",
       "      <th>376</th>\n",
       "      <td>PPG</td>\n",
       "      <td>131.570007</td>\n",
       "      <td>131.63111340088918</td>\n",
       "      <td>131.4200302468213</td>\n",
       "      <td>1642.0</td>\n",
       "      <td>-0.423911</td>\n",
       "      <td>-0.214081</td>\n",
       "      <td>0.473426</td>\n",
       "      <td>20.000000</td>\n",
       "      <td>16.0</td>\n",
       "      <td>7.0</td>\n",
       "      <td>20220506.0</td>\n",
       "      <td>PPG Industries, Inc.</td>\n",
       "      <td>Specialty Chemicals</td>\n",
       "      <td>Basic Materials</td>\n",
       "      <td>https://www.ppg.com</td>\n",
       "      <td>3</td>\n",
       "      <td>-0.214081</td>\n",
       "    </tr>\n",
       "    <tr>\n",
       "      <th>205</th>\n",
       "      <td>CE</td>\n",
       "      <td>151.550003</td>\n",
       "      <td>151.71770755241596</td>\n",
       "      <td>151.71172063816542</td>\n",
       "      <td>1642.0</td>\n",
       "      <td>-0.204278</td>\n",
       "      <td>-0.354135</td>\n",
       "      <td>-0.078821</td>\n",
       "      <td>13.333333</td>\n",
       "      <td>0.0</td>\n",
       "      <td>0.0</td>\n",
       "      <td>20220506.0</td>\n",
       "      <td>Celanese Corporation</td>\n",
       "      <td>Chemicals</td>\n",
       "      <td>Basic Materials</td>\n",
       "      <td>https://www.celanese.com</td>\n",
       "      <td>1</td>\n",
       "      <td>-0.354135</td>\n",
       "    </tr>\n",
       "    <tr>\n",
       "      <th>276</th>\n",
       "      <td>FCX</td>\n",
       "      <td>39.639999</td>\n",
       "      <td>39.54191917246681</td>\n",
       "      <td>39.53576033331692</td>\n",
       "      <td>1642.0</td>\n",
       "      <td>-0.510777</td>\n",
       "      <td>-0.459280</td>\n",
       "      <td>0.244966</td>\n",
       "      <td>6.666667</td>\n",
       "      <td>0.0</td>\n",
       "      <td>0.0</td>\n",
       "      <td>20220506.0</td>\n",
       "      <td>Freeport-McMoRan Inc.</td>\n",
       "      <td>Copper</td>\n",
       "      <td>Basic Materials</td>\n",
       "      <td>https://fcx.com</td>\n",
       "      <td>1</td>\n",
       "      <td>-0.459280</td>\n",
       "    </tr>\n",
       "    <tr>\n",
       "      <th>160</th>\n",
       "      <td>ALB</td>\n",
       "      <td>236.500000</td>\n",
       "      <td>237.10139799638986</td>\n",
       "      <td>236.47908379401926</td>\n",
       "      <td>1642.0</td>\n",
       "      <td>-1.572730</td>\n",
       "      <td>-0.550353</td>\n",
       "      <td>-0.673308</td>\n",
       "      <td>18.333333</td>\n",
       "      <td>12.5</td>\n",
       "      <td>3.0</td>\n",
       "      <td>20220506.0</td>\n",
       "      <td>Albemarle Corporation</td>\n",
       "      <td>Specialty Chemicals</td>\n",
       "      <td>Basic Materials</td>\n",
       "      <td>https://www.albemarle.com</td>\n",
       "      <td>3</td>\n",
       "      <td>-0.550353</td>\n",
       "    </tr>\n",
       "    <tr>\n",
       "      <th>268</th>\n",
       "      <td>FMC</td>\n",
       "      <td>118.540001</td>\n",
       "      <td>118.77453695851192</td>\n",
       "      <td>118.23754044885139</td>\n",
       "      <td>1642.0</td>\n",
       "      <td>-0.334871</td>\n",
       "      <td>-0.560707</td>\n",
       "      <td>0.285151</td>\n",
       "      <td>6.666667</td>\n",
       "      <td>11.5</td>\n",
       "      <td>13.0</td>\n",
       "      <td>20220506.0</td>\n",
       "      <td>FMC Corporation</td>\n",
       "      <td>Agricultural Inputs</td>\n",
       "      <td>Basic Materials</td>\n",
       "      <td>https://www.fmc.com</td>\n",
       "      <td>3</td>\n",
       "      <td>-0.560707</td>\n",
       "    </tr>\n",
       "    <tr>\n",
       "      <th>209</th>\n",
       "      <td>CF</td>\n",
       "      <td>100.290001</td>\n",
       "      <td>100.29000091552734</td>\n",
       "      <td>100.29000091552734</td>\n",
       "      <td>1642.0</td>\n",
       "      <td>-0.535733</td>\n",
       "      <td>-0.725390</td>\n",
       "      <td>-0.123572</td>\n",
       "      <td>15.000000</td>\n",
       "      <td>7.0</td>\n",
       "      <td>4.0</td>\n",
       "      <td>20220506.0</td>\n",
       "      <td>CF Industries Holdings, Inc.</td>\n",
       "      <td>Agricultural Inputs</td>\n",
       "      <td>Basic Materials</td>\n",
       "      <td>https://www.cfindustries.com</td>\n",
       "      <td>2</td>\n",
       "      <td>-0.725390</td>\n",
       "    </tr>\n",
       "    <tr>\n",
       "      <th>0</th>\n",
       "      <td>LIN</td>\n",
       "      <td>312.609985</td>\n",
       "      <td>313.4662285145444</td>\n",
       "      <td>313.3963172814061</td>\n",
       "      <td>1642.0</td>\n",
       "      <td>0.242280</td>\n",
       "      <td>-0.805755</td>\n",
       "      <td>-0.473211</td>\n",
       "      <td>28.333333</td>\n",
       "      <td>7.0</td>\n",
       "      <td>3.0</td>\n",
       "      <td>20220506.0</td>\n",
       "      <td>Linde plc</td>\n",
       "      <td>Specialty Chemicals</td>\n",
       "      <td>Basic Materials</td>\n",
       "      <td>https://www.linde.com</td>\n",
       "      <td>2</td>\n",
       "      <td>-0.805755</td>\n",
       "    </tr>\n",
       "    <tr>\n",
       "      <th>247</th>\n",
       "      <td>ECL</td>\n",
       "      <td>166.690002</td>\n",
       "      <td>167.67297253380357</td>\n",
       "      <td>167.54899716731197</td>\n",
       "      <td>1642.0</td>\n",
       "      <td>0.121651</td>\n",
       "      <td>-0.886077</td>\n",
       "      <td>-0.664657</td>\n",
       "      <td>20.000000</td>\n",
       "      <td>29.5</td>\n",
       "      <td>35.5</td>\n",
       "      <td>20220506.0</td>\n",
       "      <td>Ecolab Inc.</td>\n",
       "      <td>Specialty Chemicals</td>\n",
       "      <td>Basic Materials</td>\n",
       "      <td>https://www.ecolab.com</td>\n",
       "      <td>3</td>\n",
       "      <td>-0.886077</td>\n",
       "    </tr>\n",
       "    <tr>\n",
       "      <th>407</th>\n",
       "      <td>SHW</td>\n",
       "      <td>276.950012</td>\n",
       "      <td>277.21786475555024</td>\n",
       "      <td>277.21786475555024</td>\n",
       "      <td>1642.0</td>\n",
       "      <td>0.919430</td>\n",
       "      <td>-0.975781</td>\n",
       "      <td>-0.495535</td>\n",
       "      <td>13.333333</td>\n",
       "      <td>24.5</td>\n",
       "      <td>25.5</td>\n",
       "      <td>20220506.0</td>\n",
       "      <td>The Sherwin-Williams Company</td>\n",
       "      <td>Specialty Chemicals</td>\n",
       "      <td>Basic Materials</td>\n",
       "      <td>https://www.sherwin-williams.com</td>\n",
       "      <td>3</td>\n",
       "      <td>-0.975781</td>\n",
       "    </tr>\n",
       "  </tbody>\n",
       "</table>\n",
       "</div>"
      ],
      "text/plain": [
       "    ticker  close_price               day_1               day_5  df_size  \\\n",
       "364    NUE   140.820007  140.33565837079288  140.46116712792363   1642.0   \n",
       "467    DOW    68.470001   68.47000122070312   68.47000122070312    670.0   \n",
       "245    EMN   105.669998  105.66999816894531  105.66999816894531   1642.0   \n",
       "13      DD    66.139999   66.13999938964844   66.13999938964844   1642.0   \n",
       "337    LYB   111.430000  111.43000030517578  111.43000030517578   1642.0   \n",
       "439    VMC   177.080002  177.09701352741115  177.15019014615146   1642.0   \n",
       "342    MLM   356.140015  356.81591980595834   356.9330808968398   1642.0   \n",
       "350    MOS    64.730003                   e                   r   1638.0   \n",
       "355    NEM    72.339996                   e                   r   1638.0   \n",
       "158    APD   235.979996  237.09662538621586  235.75314968288254   1642.0   \n",
       "307    IFF   122.750000  123.07145725989054  123.38930173436111   1642.0   \n",
       "457   CTVA    58.040001  58.040000915527344  58.040000915527344    624.0   \n",
       "376    PPG   131.570007  131.63111340088918   131.4200302468213   1642.0   \n",
       "205     CE   151.550003  151.71770755241596  151.71172063816542   1642.0   \n",
       "276    FCX    39.639999   39.54191917246681   39.53576033331692   1642.0   \n",
       "160    ALB   236.500000  237.10139799638986  236.47908379401926   1642.0   \n",
       "268    FMC   118.540001  118.77453695851192  118.23754044885139   1642.0   \n",
       "209     CF   100.290001  100.29000091552734  100.29000091552734   1642.0   \n",
       "0      LIN   312.609985   313.4662285145444   313.3963172814061   1642.0   \n",
       "247    ECL   166.690002  167.67297253380357  167.54899716731197   1642.0   \n",
       "407    SHW   276.950012  277.21786475555024  277.21786475555024   1642.0   \n",
       "\n",
       "       skew_1   skew_60  skew_120   cutoff_1  cutoff_60  cutoff_120  \\\n",
       "364 -0.630978  0.592035  0.153755  21.666667        6.5        17.5   \n",
       "467  0.432054  0.500925  0.069097   1.666667        0.0         0.0   \n",
       "245 -1.094688  0.484444 -0.490101   6.666667        0.0         0.0   \n",
       "13  -0.303200  0.292808 -0.270844  13.333333        0.0         0.0   \n",
       "337 -0.291975  0.269740 -0.082601  13.333333        0.0         0.0   \n",
       "439 -0.262466  0.185515 -0.307576  10.000000        0.0         0.0   \n",
       "342 -0.312593  0.143873 -0.517160  15.000000        0.0         0.0   \n",
       "350  0.055284  0.132080  0.374237  21.666667       14.0         3.0   \n",
       "355  0.137256 -0.081291  0.169317  16.666667        6.5         5.5   \n",
       "158 -0.299562 -0.083447 -0.743371  16.666667       27.5        18.5   \n",
       "307 -0.202947 -0.157770 -0.054698  18.333333        4.5         8.0   \n",
       "457 -0.043378 -0.178724  0.172365   1.666667        2.0         0.0   \n",
       "376 -0.423911 -0.214081  0.473426  20.000000       16.0         7.0   \n",
       "205 -0.204278 -0.354135 -0.078821  13.333333        0.0         0.0   \n",
       "276 -0.510777 -0.459280  0.244966   6.666667        0.0         0.0   \n",
       "160 -1.572730 -0.550353 -0.673308  18.333333       12.5         3.0   \n",
       "268 -0.334871 -0.560707  0.285151   6.666667       11.5        13.0   \n",
       "209 -0.535733 -0.725390 -0.123572  15.000000        7.0         4.0   \n",
       "0    0.242280 -0.805755 -0.473211  28.333333        7.0         3.0   \n",
       "247  0.121651 -0.886077 -0.664657  20.000000       29.5        35.5   \n",
       "407  0.919430 -0.975781 -0.495535  13.333333       24.5        25.5   \n",
       "\n",
       "     created_date                                 longName  \\\n",
       "364    20220506.0                        Nucor Corporation   \n",
       "467    20220506.0                                 Dow Inc.   \n",
       "245    20220506.0                 Eastman Chemical Company   \n",
       "13     20220506.0                  DuPont de Nemours, Inc.   \n",
       "337    20220506.0           LyondellBasell Industries N.V.   \n",
       "439    20220506.0                 Vulcan Materials Company   \n",
       "342    20220506.0          Martin Marietta Materials, Inc.   \n",
       "350    20220506.0                       The Mosaic Company   \n",
       "355    20220506.0                      Newmont Corporation   \n",
       "158    20220506.0         Air Products and Chemicals, Inc.   \n",
       "307    20220506.0  International Flavors & Fragrances Inc.   \n",
       "457    20220506.0                            Corteva, Inc.   \n",
       "376    20220506.0                     PPG Industries, Inc.   \n",
       "205    20220506.0                     Celanese Corporation   \n",
       "276    20220506.0                    Freeport-McMoRan Inc.   \n",
       "160    20220506.0                    Albemarle Corporation   \n",
       "268    20220506.0                          FMC Corporation   \n",
       "209    20220506.0             CF Industries Holdings, Inc.   \n",
       "0      20220506.0                                Linde plc   \n",
       "247    20220506.0                              Ecolab Inc.   \n",
       "407    20220506.0             The Sherwin-Williams Company   \n",
       "\n",
       "                industry           sector                               url  \\\n",
       "364                Steel  Basic Materials             https://www.nucor.com   \n",
       "467            Chemicals  Basic Materials               https://www.dow.com   \n",
       "245            Chemicals  Basic Materials           https://www.eastman.com   \n",
       "13   Specialty Chemicals  Basic Materials            https://www.dupont.com   \n",
       "337  Specialty Chemicals  Basic Materials    https://www.lyondellbasell.com   \n",
       "439   Building Materials  Basic Materials   https://www.vulcanmaterials.com   \n",
       "342   Building Materials  Basic Materials    https://www.martinmarietta.com   \n",
       "350  Agricultural Inputs  Basic Materials          https://www.mosaicco.com   \n",
       "355                 Gold  Basic Materials           https://www.newmont.com   \n",
       "158  Specialty Chemicals  Basic Materials       https://www.airproducts.com   \n",
       "307  Specialty Chemicals  Basic Materials               https://www.iff.com   \n",
       "457  Agricultural Inputs  Basic Materials           https://www.corteva.com   \n",
       "376  Specialty Chemicals  Basic Materials               https://www.ppg.com   \n",
       "205            Chemicals  Basic Materials          https://www.celanese.com   \n",
       "276               Copper  Basic Materials                   https://fcx.com   \n",
       "160  Specialty Chemicals  Basic Materials         https://www.albemarle.com   \n",
       "268  Agricultural Inputs  Basic Materials               https://www.fmc.com   \n",
       "209  Agricultural Inputs  Basic Materials      https://www.cfindustries.com   \n",
       "0    Specialty Chemicals  Basic Materials             https://www.linde.com   \n",
       "247  Specialty Chemicals  Basic Materials            https://www.ecolab.com   \n",
       "407  Specialty Chemicals  Basic Materials  https://www.sherwin-williams.com   \n",
       "\n",
       "     cutoff_bin  cutoff_skew  \n",
       "364           2     0.592035  \n",
       "467           1     0.500925  \n",
       "245           1     0.484444  \n",
       "13            1     0.292808  \n",
       "337           1     0.269740  \n",
       "439           1     0.185515  \n",
       "342           1     0.143873  \n",
       "350           3     0.132080  \n",
       "355           2    -0.081291  \n",
       "158           3    -0.083447  \n",
       "307           2    -0.157770  \n",
       "457           2    -0.178724  \n",
       "376           3    -0.214081  \n",
       "205           1    -0.354135  \n",
       "276           1    -0.459280  \n",
       "160           3    -0.550353  \n",
       "268           3    -0.560707  \n",
       "209           2    -0.725390  \n",
       "0             2    -0.805755  \n",
       "247           3    -0.886077  \n",
       "407           3    -0.975781  "
      ]
     },
     "execution_count": 122,
     "metadata": {},
     "output_type": "execute_result"
    }
   ],
   "source": [
    "df_temp = df_temp.sort_values(by=\"cutoff_skew\", ascending=False)\n",
    "df_temp"
   ]
  },
  {
   "cell_type": "code",
   "execution_count": 80,
   "id": "26bba5f9",
   "metadata": {},
   "outputs": [],
   "source": [
    "df_temp = df_temp[df_temp[\"cutoff_bin\"] == 3]\n",
    "df_temp.reset_index(inplace=True, drop=True)"
   ]
  },
  {
   "cell_type": "code",
   "execution_count": 81,
   "id": "496be661",
   "metadata": {},
   "outputs": [
    {
     "data": {
      "text/html": [
       "<div>\n",
       "<style scoped>\n",
       "    .dataframe tbody tr th:only-of-type {\n",
       "        vertical-align: middle;\n",
       "    }\n",
       "\n",
       "    .dataframe tbody tr th {\n",
       "        vertical-align: top;\n",
       "    }\n",
       "\n",
       "    .dataframe thead th {\n",
       "        text-align: right;\n",
       "    }\n",
       "</style>\n",
       "<table border=\"1\" class=\"dataframe\">\n",
       "  <thead>\n",
       "    <tr style=\"text-align: right;\">\n",
       "      <th></th>\n",
       "      <th>ticker</th>\n",
       "      <th>close_price</th>\n",
       "      <th>day_1</th>\n",
       "      <th>day_5</th>\n",
       "      <th>df_size</th>\n",
       "      <th>skew_1</th>\n",
       "      <th>skew_60</th>\n",
       "      <th>skew_120</th>\n",
       "      <th>cutoff_1</th>\n",
       "      <th>cutoff_60</th>\n",
       "      <th>cutoff_120</th>\n",
       "      <th>created_date</th>\n",
       "      <th>longName</th>\n",
       "      <th>industry</th>\n",
       "      <th>sector</th>\n",
       "      <th>url</th>\n",
       "      <th>cutoff_bin</th>\n",
       "      <th>cutoff_skew</th>\n",
       "    </tr>\n",
       "  </thead>\n",
       "  <tbody>\n",
       "    <tr>\n",
       "      <th>0</th>\n",
       "      <td>APD</td>\n",
       "      <td>235.979996</td>\n",
       "      <td>237.09662538621586</td>\n",
       "      <td>235.75314968288254</td>\n",
       "      <td>1642.0</td>\n",
       "      <td>-0.299562</td>\n",
       "      <td>-0.083447</td>\n",
       "      <td>-0.743371</td>\n",
       "      <td>16.666667</td>\n",
       "      <td>27.5</td>\n",
       "      <td>18.5</td>\n",
       "      <td>20220506.0</td>\n",
       "      <td>Air Products and Chemicals, Inc.</td>\n",
       "      <td>Specialty Chemicals</td>\n",
       "      <td>Basic Materials</td>\n",
       "      <td>https://www.airproducts.com</td>\n",
       "      <td>3</td>\n",
       "      <td>-0.083447</td>\n",
       "    </tr>\n",
       "    <tr>\n",
       "      <th>1</th>\n",
       "      <td>ALB</td>\n",
       "      <td>236.500000</td>\n",
       "      <td>237.10139799638986</td>\n",
       "      <td>236.47908379401926</td>\n",
       "      <td>1642.0</td>\n",
       "      <td>-1.572730</td>\n",
       "      <td>-0.550353</td>\n",
       "      <td>-0.673308</td>\n",
       "      <td>18.333333</td>\n",
       "      <td>12.5</td>\n",
       "      <td>3.0</td>\n",
       "      <td>20220506.0</td>\n",
       "      <td>Albemarle Corporation</td>\n",
       "      <td>Specialty Chemicals</td>\n",
       "      <td>Basic Materials</td>\n",
       "      <td>https://www.albemarle.com</td>\n",
       "      <td>3</td>\n",
       "      <td>-0.550353</td>\n",
       "    </tr>\n",
       "    <tr>\n",
       "      <th>2</th>\n",
       "      <td>ECL</td>\n",
       "      <td>166.690002</td>\n",
       "      <td>167.67297253380357</td>\n",
       "      <td>167.54899716731197</td>\n",
       "      <td>1642.0</td>\n",
       "      <td>0.121651</td>\n",
       "      <td>-0.886077</td>\n",
       "      <td>-0.664657</td>\n",
       "      <td>20.000000</td>\n",
       "      <td>29.5</td>\n",
       "      <td>35.5</td>\n",
       "      <td>20220506.0</td>\n",
       "      <td>Ecolab Inc.</td>\n",
       "      <td>Specialty Chemicals</td>\n",
       "      <td>Basic Materials</td>\n",
       "      <td>https://www.ecolab.com</td>\n",
       "      <td>3</td>\n",
       "      <td>-0.886077</td>\n",
       "    </tr>\n",
       "    <tr>\n",
       "      <th>3</th>\n",
       "      <td>FMC</td>\n",
       "      <td>118.540001</td>\n",
       "      <td>118.77453695851192</td>\n",
       "      <td>118.23754044885139</td>\n",
       "      <td>1642.0</td>\n",
       "      <td>-0.334871</td>\n",
       "      <td>-0.560707</td>\n",
       "      <td>0.285151</td>\n",
       "      <td>6.666667</td>\n",
       "      <td>11.5</td>\n",
       "      <td>13.0</td>\n",
       "      <td>20220506.0</td>\n",
       "      <td>FMC Corporation</td>\n",
       "      <td>Agricultural Inputs</td>\n",
       "      <td>Basic Materials</td>\n",
       "      <td>https://www.fmc.com</td>\n",
       "      <td>3</td>\n",
       "      <td>-0.560707</td>\n",
       "    </tr>\n",
       "    <tr>\n",
       "      <th>4</th>\n",
       "      <td>MOS</td>\n",
       "      <td>64.730003</td>\n",
       "      <td>e</td>\n",
       "      <td>r</td>\n",
       "      <td>1638.0</td>\n",
       "      <td>0.055284</td>\n",
       "      <td>0.132080</td>\n",
       "      <td>0.374237</td>\n",
       "      <td>21.666667</td>\n",
       "      <td>14.0</td>\n",
       "      <td>3.0</td>\n",
       "      <td>20220506.0</td>\n",
       "      <td>The Mosaic Company</td>\n",
       "      <td>Agricultural Inputs</td>\n",
       "      <td>Basic Materials</td>\n",
       "      <td>https://www.mosaicco.com</td>\n",
       "      <td>3</td>\n",
       "      <td>0.132080</td>\n",
       "    </tr>\n",
       "    <tr>\n",
       "      <th>5</th>\n",
       "      <td>PPG</td>\n",
       "      <td>131.570007</td>\n",
       "      <td>131.63111340088918</td>\n",
       "      <td>131.4200302468213</td>\n",
       "      <td>1642.0</td>\n",
       "      <td>-0.423911</td>\n",
       "      <td>-0.214081</td>\n",
       "      <td>0.473426</td>\n",
       "      <td>20.000000</td>\n",
       "      <td>16.0</td>\n",
       "      <td>7.0</td>\n",
       "      <td>20220506.0</td>\n",
       "      <td>PPG Industries, Inc.</td>\n",
       "      <td>Specialty Chemicals</td>\n",
       "      <td>Basic Materials</td>\n",
       "      <td>https://www.ppg.com</td>\n",
       "      <td>3</td>\n",
       "      <td>-0.214081</td>\n",
       "    </tr>\n",
       "    <tr>\n",
       "      <th>6</th>\n",
       "      <td>SHW</td>\n",
       "      <td>276.950012</td>\n",
       "      <td>277.21786475555024</td>\n",
       "      <td>277.21786475555024</td>\n",
       "      <td>1642.0</td>\n",
       "      <td>0.919430</td>\n",
       "      <td>-0.975781</td>\n",
       "      <td>-0.495535</td>\n",
       "      <td>13.333333</td>\n",
       "      <td>24.5</td>\n",
       "      <td>25.5</td>\n",
       "      <td>20220506.0</td>\n",
       "      <td>The Sherwin-Williams Company</td>\n",
       "      <td>Specialty Chemicals</td>\n",
       "      <td>Basic Materials</td>\n",
       "      <td>https://www.sherwin-williams.com</td>\n",
       "      <td>3</td>\n",
       "      <td>-0.975781</td>\n",
       "    </tr>\n",
       "  </tbody>\n",
       "</table>\n",
       "</div>"
      ],
      "text/plain": [
       "  ticker  close_price               day_1               day_5  df_size  \\\n",
       "0    APD   235.979996  237.09662538621586  235.75314968288254   1642.0   \n",
       "1    ALB   236.500000  237.10139799638986  236.47908379401926   1642.0   \n",
       "2    ECL   166.690002  167.67297253380357  167.54899716731197   1642.0   \n",
       "3    FMC   118.540001  118.77453695851192  118.23754044885139   1642.0   \n",
       "4    MOS    64.730003                   e                   r   1638.0   \n",
       "5    PPG   131.570007  131.63111340088918   131.4200302468213   1642.0   \n",
       "6    SHW   276.950012  277.21786475555024  277.21786475555024   1642.0   \n",
       "\n",
       "     skew_1   skew_60  skew_120   cutoff_1  cutoff_60  cutoff_120  \\\n",
       "0 -0.299562 -0.083447 -0.743371  16.666667       27.5        18.5   \n",
       "1 -1.572730 -0.550353 -0.673308  18.333333       12.5         3.0   \n",
       "2  0.121651 -0.886077 -0.664657  20.000000       29.5        35.5   \n",
       "3 -0.334871 -0.560707  0.285151   6.666667       11.5        13.0   \n",
       "4  0.055284  0.132080  0.374237  21.666667       14.0         3.0   \n",
       "5 -0.423911 -0.214081  0.473426  20.000000       16.0         7.0   \n",
       "6  0.919430 -0.975781 -0.495535  13.333333       24.5        25.5   \n",
       "\n",
       "   created_date                          longName             industry  \\\n",
       "0    20220506.0  Air Products and Chemicals, Inc.  Specialty Chemicals   \n",
       "1    20220506.0             Albemarle Corporation  Specialty Chemicals   \n",
       "2    20220506.0                       Ecolab Inc.  Specialty Chemicals   \n",
       "3    20220506.0                   FMC Corporation  Agricultural Inputs   \n",
       "4    20220506.0                The Mosaic Company  Agricultural Inputs   \n",
       "5    20220506.0              PPG Industries, Inc.  Specialty Chemicals   \n",
       "6    20220506.0      The Sherwin-Williams Company  Specialty Chemicals   \n",
       "\n",
       "            sector                               url  cutoff_bin  cutoff_skew  \n",
       "0  Basic Materials       https://www.airproducts.com           3    -0.083447  \n",
       "1  Basic Materials         https://www.albemarle.com           3    -0.550353  \n",
       "2  Basic Materials            https://www.ecolab.com           3    -0.886077  \n",
       "3  Basic Materials               https://www.fmc.com           3    -0.560707  \n",
       "4  Basic Materials          https://www.mosaicco.com           3     0.132080  \n",
       "5  Basic Materials               https://www.ppg.com           3    -0.214081  \n",
       "6  Basic Materials  https://www.sherwin-williams.com           3    -0.975781  "
      ]
     },
     "execution_count": 81,
     "metadata": {},
     "output_type": "execute_result"
    }
   ],
   "source": [
    "df_temp"
   ]
  },
  {
   "cell_type": "code",
   "execution_count": 124,
   "id": "8eb2cafd",
   "metadata": {},
   "outputs": [
    {
     "data": {
      "text/html": [
       "<div>\n",
       "<style scoped>\n",
       "    .dataframe tbody tr th:only-of-type {\n",
       "        vertical-align: middle;\n",
       "    }\n",
       "\n",
       "    .dataframe tbody tr th {\n",
       "        vertical-align: top;\n",
       "    }\n",
       "\n",
       "    .dataframe thead th {\n",
       "        text-align: right;\n",
       "    }\n",
       "</style>\n",
       "<table border=\"1\" class=\"dataframe\">\n",
       "  <thead>\n",
       "    <tr style=\"text-align: right;\">\n",
       "      <th></th>\n",
       "      <th>ticker</th>\n",
       "      <th>close_price</th>\n",
       "      <th>industry</th>\n",
       "      <th>sector</th>\n",
       "      <th>url</th>\n",
       "      <th>cutoff_skew</th>\n",
       "    </tr>\n",
       "  </thead>\n",
       "  <tbody>\n",
       "    <tr>\n",
       "      <th>0</th>\n",
       "      <td>NUE</td>\n",
       "      <td>140.820007</td>\n",
       "      <td>Steel</td>\n",
       "      <td>Basic Materials</td>\n",
       "      <td>https://www.nucor.com</td>\n",
       "      <td>0.592035</td>\n",
       "    </tr>\n",
       "    <tr>\n",
       "      <th>1</th>\n",
       "      <td>DOW</td>\n",
       "      <td>68.470001</td>\n",
       "      <td>Chemicals</td>\n",
       "      <td>Basic Materials</td>\n",
       "      <td>https://www.dow.com</td>\n",
       "      <td>0.500925</td>\n",
       "    </tr>\n",
       "    <tr>\n",
       "      <th>2</th>\n",
       "      <td>EMN</td>\n",
       "      <td>105.669998</td>\n",
       "      <td>Chemicals</td>\n",
       "      <td>Basic Materials</td>\n",
       "      <td>https://www.eastman.com</td>\n",
       "      <td>0.484444</td>\n",
       "    </tr>\n",
       "    <tr>\n",
       "      <th>3</th>\n",
       "      <td>DD</td>\n",
       "      <td>66.139999</td>\n",
       "      <td>Specialty Chemicals</td>\n",
       "      <td>Basic Materials</td>\n",
       "      <td>https://www.dupont.com</td>\n",
       "      <td>0.292808</td>\n",
       "    </tr>\n",
       "    <tr>\n",
       "      <th>4</th>\n",
       "      <td>LYB</td>\n",
       "      <td>111.430000</td>\n",
       "      <td>Specialty Chemicals</td>\n",
       "      <td>Basic Materials</td>\n",
       "      <td>https://www.lyondellbasell.com</td>\n",
       "      <td>0.269740</td>\n",
       "    </tr>\n",
       "  </tbody>\n",
       "</table>\n",
       "</div>"
      ],
      "text/plain": [
       "  ticker  close_price             industry           sector  \\\n",
       "0    NUE   140.820007                Steel  Basic Materials   \n",
       "1    DOW    68.470001            Chemicals  Basic Materials   \n",
       "2    EMN   105.669998            Chemicals  Basic Materials   \n",
       "3     DD    66.139999  Specialty Chemicals  Basic Materials   \n",
       "4    LYB   111.430000  Specialty Chemicals  Basic Materials   \n",
       "\n",
       "                              url  cutoff_skew  \n",
       "0           https://www.nucor.com     0.592035  \n",
       "1             https://www.dow.com     0.500925  \n",
       "2         https://www.eastman.com     0.484444  \n",
       "3          https://www.dupont.com     0.292808  \n",
       "4  https://www.lyondellbasell.com     0.269740  "
      ]
     },
     "execution_count": 124,
     "metadata": {},
     "output_type": "execute_result"
    }
   ],
   "source": [
    "df_temp = df_temp.sort_values(by=\"cutoff_skew\", ascending=False)\n",
    "df_temp = df_temp[[\"ticker\", \"close_price\", \"industry\", \"sector\", \"url\", \"cutoff_skew\"]]\n",
    "df_temp.reset_index(inplace=True, drop=True)\n",
    "df_temp.head()"
   ]
  },
  {
   "cell_type": "code",
   "execution_count": null,
   "id": "e5af9897",
   "metadata": {},
   "outputs": [],
   "source": []
  },
  {
   "cell_type": "code",
   "execution_count": null,
   "id": "016847a4",
   "metadata": {},
   "outputs": [],
   "source": []
  },
  {
   "cell_type": "code",
   "execution_count": 85,
   "id": "9cdd7dfc",
   "metadata": {},
   "outputs": [],
   "source": [
    "path = \"/Users/jeeyounglee/Desktop/python/class101/streamlit/v1_sp500/data/\"\n",
    "import pickle\n",
    "today = datetime.datetime.now().strftime('%Y%m%d') \n",
    "df_final = pd.read_csv(path + f\"df_forcasting/df_forcasting_{today}.csv\", sep='\\t')\n",
    "\n",
    "with open(path + f'stock_history/stock_history_{today}.pickle', 'rb') as handle:\n",
    "    stock_history = pickle.load(handle) "
   ]
  },
  {
   "cell_type": "code",
   "execution_count": 111,
   "id": "4afeb00c",
   "metadata": {},
   "outputs": [
    {
     "name": "stdout",
     "output_type": "stream",
     "text": [
      "AAPL\n",
      "MSFT\n"
     ]
    },
    {
     "data": {
      "text/html": [
       "<div>\n",
       "<style scoped>\n",
       "    .dataframe tbody tr th:only-of-type {\n",
       "        vertical-align: middle;\n",
       "    }\n",
       "\n",
       "    .dataframe tbody tr th {\n",
       "        vertical-align: top;\n",
       "    }\n",
       "\n",
       "    .dataframe thead th {\n",
       "        text-align: right;\n",
       "    }\n",
       "</style>\n",
       "<table border=\"1\" class=\"dataframe\">\n",
       "  <thead>\n",
       "    <tr style=\"text-align: right;\">\n",
       "      <th></th>\n",
       "      <th>Date</th>\n",
       "      <th>Close</th>\n",
       "      <th>ticker</th>\n",
       "    </tr>\n",
       "  </thead>\n",
       "  <tbody>\n",
       "    <tr>\n",
       "      <th>0</th>\n",
       "      <td>2021-03-01</td>\n",
       "      <td>127.790001</td>\n",
       "      <td>AAPL</td>\n",
       "    </tr>\n",
       "    <tr>\n",
       "      <th>1</th>\n",
       "      <td>2021-03-02</td>\n",
       "      <td>125.120003</td>\n",
       "      <td>AAPL</td>\n",
       "    </tr>\n",
       "    <tr>\n",
       "      <th>2</th>\n",
       "      <td>2021-03-03</td>\n",
       "      <td>122.059998</td>\n",
       "      <td>AAPL</td>\n",
       "    </tr>\n",
       "    <tr>\n",
       "      <th>3</th>\n",
       "      <td>2021-03-04</td>\n",
       "      <td>120.129997</td>\n",
       "      <td>AAPL</td>\n",
       "    </tr>\n",
       "    <tr>\n",
       "      <th>4</th>\n",
       "      <td>2021-03-05</td>\n",
       "      <td>121.419998</td>\n",
       "      <td>AAPL</td>\n",
       "    </tr>\n",
       "    <tr>\n",
       "      <th>...</th>\n",
       "      <td>...</td>\n",
       "      <td>...</td>\n",
       "      <td>...</td>\n",
       "    </tr>\n",
       "    <tr>\n",
       "      <th>595</th>\n",
       "      <td>2022-04-29</td>\n",
       "      <td>277.519989</td>\n",
       "      <td>MSFT</td>\n",
       "    </tr>\n",
       "    <tr>\n",
       "      <th>596</th>\n",
       "      <td>2022-05-02</td>\n",
       "      <td>284.470001</td>\n",
       "      <td>MSFT</td>\n",
       "    </tr>\n",
       "    <tr>\n",
       "      <th>597</th>\n",
       "      <td>2022-05-03</td>\n",
       "      <td>281.779999</td>\n",
       "      <td>MSFT</td>\n",
       "    </tr>\n",
       "    <tr>\n",
       "      <th>598</th>\n",
       "      <td>2022-05-04</td>\n",
       "      <td>289.980011</td>\n",
       "      <td>MSFT</td>\n",
       "    </tr>\n",
       "    <tr>\n",
       "      <th>599</th>\n",
       "      <td>2022-05-05</td>\n",
       "      <td>277.350006</td>\n",
       "      <td>MSFT</td>\n",
       "    </tr>\n",
       "  </tbody>\n",
       "</table>\n",
       "<p>600 rows × 3 columns</p>\n",
       "</div>"
      ],
      "text/plain": [
       "          Date       Close ticker\n",
       "0   2021-03-01  127.790001   AAPL\n",
       "1   2021-03-02  125.120003   AAPL\n",
       "2   2021-03-03  122.059998   AAPL\n",
       "3   2021-03-04  120.129997   AAPL\n",
       "4   2021-03-05  121.419998   AAPL\n",
       "..         ...         ...    ...\n",
       "595 2022-04-29  277.519989   MSFT\n",
       "596 2022-05-02  284.470001   MSFT\n",
       "597 2022-05-03  281.779999   MSFT\n",
       "598 2022-05-04  289.980011   MSFT\n",
       "599 2022-05-05  277.350006   MSFT\n",
       "\n",
       "[600 rows x 3 columns]"
      ]
     },
     "execution_count": 111,
     "metadata": {},
     "output_type": "execute_result"
    }
   ],
   "source": [
    "symbols = [\"AAPL\", \"MSFT\"]\n",
    "\n",
    "df_graph = pd.DataFrame()\n",
    "for i in symbols:\n",
    "    print(i)\n",
    "    df_temp = stock_history[i].iloc[-300:][[\"Date\", \"Close\"]]\n",
    "    df_temp[\"ticker\"] = i\n",
    "    df_graph = df_graph.append(df_temp, ignore_index = True)\n",
    "    \n",
    "df_graph   "
   ]
  },
  {
   "cell_type": "code",
   "execution_count": 116,
   "id": "8861aad8",
   "metadata": {},
   "outputs": [
    {
     "data": {
      "text/plain": [
       "127.79000091552734"
      ]
     },
     "execution_count": 116,
     "metadata": {},
     "output_type": "execute_result"
    }
   ],
   "source": [
    "df_graph.iloc[0]['Close']"
   ]
  },
  {
   "cell_type": "code",
   "execution_count": null,
   "id": "ee22f287",
   "metadata": {},
   "outputs": [],
   "source": []
  },
  {
   "cell_type": "code",
   "execution_count": null,
   "id": "77192b51",
   "metadata": {},
   "outputs": [],
   "source": []
  },
  {
   "cell_type": "code",
   "execution_count": null,
   "id": "e5e2ba05",
   "metadata": {},
   "outputs": [],
   "source": []
  },
  {
   "cell_type": "code",
   "execution_count": null,
   "id": "8e3a349f",
   "metadata": {},
   "outputs": [],
   "source": []
  }
 ],
 "metadata": {
  "kernelspec": {
   "display_name": "Python 3 (ipykernel)",
   "language": "python",
   "name": "python3"
  },
  "language_info": {
   "codemirror_mode": {
    "name": "ipython",
    "version": 3
   },
   "file_extension": ".py",
   "mimetype": "text/x-python",
   "name": "python",
   "nbconvert_exporter": "python",
   "pygments_lexer": "ipython3",
   "version": "3.9.7"
  }
 },
 "nbformat": 4,
 "nbformat_minor": 5
}

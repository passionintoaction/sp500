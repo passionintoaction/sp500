{
 "cells": [
  {
   "cell_type": "code",
   "execution_count": 630,
   "id": "a83746fc",
   "metadata": {},
   "outputs": [],
   "source": [
    "import pathlib\n",
    "from bs4 import BeautifulSoup\n",
    "import logging\n",
    "import shutil"
   ]
  },
  {
   "cell_type": "code",
   "execution_count": 631,
   "id": "4e918962",
   "metadata": {},
   "outputs": [],
   "source": [
    "def newest(path):\n",
    "    files = os.listdir(path)\n",
    "    paths = [os.path.join(path, basename) for basename in files]\n",
    "    return max(paths, key=os.path.getctime)"
   ]
  },
  {
   "cell_type": "code",
   "execution_count": 633,
   "id": "1d4349e7",
   "metadata": {},
   "outputs": [
    {
     "data": {
      "text/plain": [
       "'20220525'"
      ]
     },
     "execution_count": 633,
     "metadata": {},
     "output_type": "execute_result"
    }
   ],
   "source": [
    "new_path = newest(path)\n",
    "new_path.split('_')[-1].split('.')[0]"
   ]
  },
  {
   "cell_type": "code",
   "execution_count": 640,
   "id": "eccb7438",
   "metadata": {},
   "outputs": [
    {
     "name": "stdout",
     "output_type": "stream",
     "text": [
      "20220525\n"
     ]
    }
   ],
   "source": [
    "# path = \"/Users/jeeyounglee/Desktop/python/class101/streamlit/v1_sp500/data/\"\n",
    "today = datetime.datetime.now().strftime('%Y%m%d')\n",
    "today_st = datetime.datetime.now().strftime('%m-%d-%Y')\n",
    "\n",
    "# just in case there is no updated file \n",
    "def newest(path):\n",
    "    files = os.listdir(path)\n",
    "    paths = [os.path.join(path, basename) for basename in files]\n",
    "    return max(paths, key=os.path.getctime)\n",
    "\n",
    "date_path = \"../data/\"\n",
    "new_path = newest(date_path)\n",
    "latest_date = new_path.split('_')[-1].split('.')[0]\n",
    "print(latest_date)\n",
    "\n",
    "if latest_date != today:\n",
    "    today = latest_date\n",
    "    today_st = latest_date[:4] + '-' + latest_date[4:6] + '-' + latest_date[6:]\n",
    "    st.error(f\"Note that the current file date: {latest_date}\")"
   ]
  },
  {
   "cell_type": "code",
   "execution_count": 638,
   "id": "1d9767b2",
   "metadata": {},
   "outputs": [
    {
     "name": "stdout",
     "output_type": "stream",
     "text": [
      "['../data/df_forcasting_20220525.csv']\n"
     ]
    }
   ],
   "source": [
    "import glob\n",
    "print(glob.glob(\"../data/*\"))"
   ]
  },
  {
   "cell_type": "code",
   "execution_count": null,
   "id": "77380daf",
   "metadata": {},
   "outputs": [],
   "source": []
  },
  {
   "cell_type": "code",
   "execution_count": null,
   "id": "39181816",
   "metadata": {},
   "outputs": [],
   "source": []
  },
  {
   "cell_type": "code",
   "execution_count": 619,
   "id": "bef06bd5",
   "metadata": {},
   "outputs": [
    {
     "data": {
      "text/plain": [
       "'20220523'"
      ]
     },
     "execution_count": 619,
     "metadata": {},
     "output_type": "execute_result"
    }
   ],
   "source": [
    "# just in case there is no updated file \n",
    "def newest(path):\n",
    "    files = os.listdir(path)\n",
    "    paths = [os.path.join(path, basename) for basename in files]\n",
    "    return max(paths, key=os.path.getctime)\n",
    "\n",
    "new_path = newest(path)\n",
    "latest_date = new_path.split('_')[-1].split('.')[0]\n",
    "\n",
    "if latest_date != today:\n",
    "    today = latest_date\n",
    "    today_st = latest_date[:4] + '-' + latest_date[4:6] + '-' + latest_date[6:]\n",
    "    \n",
    "    print(today)\n",
    "    print(today_st)"
   ]
  },
  {
   "cell_type": "code",
   "execution_count": 618,
   "id": "f512af0f",
   "metadata": {},
   "outputs": [
    {
     "name": "stdout",
     "output_type": "stream",
     "text": [
      "20220524\n",
      "05-24-2022\n"
     ]
    }
   ],
   "source": [
    "today = datetime.datetime.now().strftime('%Y%m%d')\n",
    "today_st = datetime.datetime.now().strftime('%m-%d-%Y')\n",
    "print(today)\n",
    "print(today_st)"
   ]
  },
  {
   "cell_type": "code",
   "execution_count": 627,
   "id": "749e4119",
   "metadata": {},
   "outputs": [
    {
     "name": "stdout",
     "output_type": "stream",
     "text": [
      "20220523\n",
      "2022-05-23\n"
     ]
    }
   ],
   "source": [
    "if latest_date != today:\n",
    "    today = latest_date\n",
    "    today_st = latest_date[:4] + '-' + latest_date[4:6] + '-' + latest_date[6:]\n",
    "    \n",
    "    print(today)\n",
    "    print(today_st)"
   ]
  },
  {
   "cell_type": "code",
   "execution_count": 626,
   "id": "d1b502ff",
   "metadata": {},
   "outputs": [
    {
     "data": {
      "text/plain": [
       "'2022-05-23'"
      ]
     },
     "execution_count": 626,
     "metadata": {},
     "output_type": "execute_result"
    }
   ],
   "source": [
    "latest_date[:4] + '-' + latest_date[4:6] + '-' + latest_date[6:]"
   ]
  },
  {
   "cell_type": "code",
   "execution_count": 578,
   "id": "0ff22b1f",
   "metadata": {},
   "outputs": [],
   "source": [
    "import datetime\n",
    "import pandas as pd\n",
    "path = \"/Users/jeeyounglee/Desktop/python/class101/streamlit/v1_sp500/data/df_forcasting/\"\n",
    "\n",
    "today = datetime.datetime.now().strftime('%Y%m%d') \n",
    "df_final = pd.read_csv(path + f\"df_forcasting_{today}.csv\", sep='\\t')"
   ]
  },
  {
   "cell_type": "code",
   "execution_count": 582,
   "id": "a7a34e34",
   "metadata": {},
   "outputs": [
    {
     "data": {
      "text/html": [
       "<div>\n",
       "<style scoped>\n",
       "    .dataframe tbody tr th:only-of-type {\n",
       "        vertical-align: middle;\n",
       "    }\n",
       "\n",
       "    .dataframe tbody tr th {\n",
       "        vertical-align: top;\n",
       "    }\n",
       "\n",
       "    .dataframe thead th {\n",
       "        text-align: right;\n",
       "    }\n",
       "</style>\n",
       "<table border=\"1\" class=\"dataframe\">\n",
       "  <thead>\n",
       "    <tr style=\"text-align: right;\">\n",
       "      <th></th>\n",
       "      <th>ticker</th>\n",
       "      <th>close_price</th>\n",
       "      <th>day_1</th>\n",
       "      <th>day_5</th>\n",
       "      <th>df_size</th>\n",
       "      <th>skew_1</th>\n",
       "      <th>skew_60</th>\n",
       "      <th>skew_120</th>\n",
       "      <th>cutoff_1</th>\n",
       "      <th>cutoff_60</th>\n",
       "      <th>cutoff_120</th>\n",
       "      <th>created_date</th>\n",
       "      <th>longName</th>\n",
       "      <th>industry</th>\n",
       "      <th>sector</th>\n",
       "      <th>url</th>\n",
       "    </tr>\n",
       "  </thead>\n",
       "  <tbody>\n",
       "    <tr>\n",
       "      <th>5</th>\n",
       "      <td>MMM</td>\n",
       "      <td>143.830002</td>\n",
       "      <td>143.8300018310547</td>\n",
       "      <td>143.8300018310547</td>\n",
       "      <td>1642.0</td>\n",
       "      <td>0.293475</td>\n",
       "      <td>-0.220857</td>\n",
       "      <td>0.881238</td>\n",
       "      <td>10.000000</td>\n",
       "      <td>18.5</td>\n",
       "      <td>19.0</td>\n",
       "      <td>20220523.0</td>\n",
       "      <td>3M Company</td>\n",
       "      <td>Conglomerates</td>\n",
       "      <td>Industrials</td>\n",
       "      <td>https://www.3m.com</td>\n",
       "    </tr>\n",
       "    <tr>\n",
       "      <th>8</th>\n",
       "      <td>BA</td>\n",
       "      <td>120.699997</td>\n",
       "      <td>120.675564409588</td>\n",
       "      <td>120.04442325797076</td>\n",
       "      <td>1642.0</td>\n",
       "      <td>-0.460394</td>\n",
       "      <td>-2.156166</td>\n",
       "      <td>-1.620588</td>\n",
       "      <td>16.666667</td>\n",
       "      <td>5.0</td>\n",
       "      <td>1.0</td>\n",
       "      <td>20220523.0</td>\n",
       "      <td>The Boeing Company</td>\n",
       "      <td>Aerospace &amp; Defense</td>\n",
       "      <td>Industrials</td>\n",
       "      <td>https://www.boeing.com</td>\n",
       "    </tr>\n",
       "    <tr>\n",
       "      <th>9</th>\n",
       "      <td>CAT</td>\n",
       "      <td>197.820007</td>\n",
       "      <td>e</td>\n",
       "      <td>r</td>\n",
       "      <td>1642.0</td>\n",
       "      <td>0.034316</td>\n",
       "      <td>0.084626</td>\n",
       "      <td>0.098441</td>\n",
       "      <td>13.333333</td>\n",
       "      <td>0.0</td>\n",
       "      <td>0.0</td>\n",
       "      <td>20220523.0</td>\n",
       "      <td>Caterpillar Inc.</td>\n",
       "      <td>Farm &amp; Heavy Construction Machinery</td>\n",
       "      <td>Industrials</td>\n",
       "      <td>https://www.caterpillar.com</td>\n",
       "    </tr>\n",
       "    <tr>\n",
       "      <th>41</th>\n",
       "      <td>AAL</td>\n",
       "      <td>16.260000</td>\n",
       "      <td>16.23169298950802</td>\n",
       "      <td>16.22995743863594</td>\n",
       "      <td>1642.0</td>\n",
       "      <td>0.165548</td>\n",
       "      <td>0.238701</td>\n",
       "      <td>-0.002504</td>\n",
       "      <td>18.333333</td>\n",
       "      <td>0.0</td>\n",
       "      <td>0.0</td>\n",
       "      <td>20220523.0</td>\n",
       "      <td>American Airlines Group Inc.</td>\n",
       "      <td>Airlines</td>\n",
       "      <td>Industrials</td>\n",
       "      <td>https://www.aa.com</td>\n",
       "    </tr>\n",
       "    <tr>\n",
       "      <th>46</th>\n",
       "      <td>ADP</td>\n",
       "      <td>208.639999</td>\n",
       "      <td>208.33220613515863</td>\n",
       "      <td>208.11060601627798</td>\n",
       "      <td>1642.0</td>\n",
       "      <td>-0.729110</td>\n",
       "      <td>-0.442502</td>\n",
       "      <td>-0.572750</td>\n",
       "      <td>15.000000</td>\n",
       "      <td>12.5</td>\n",
       "      <td>3.5</td>\n",
       "      <td>20220523.0</td>\n",
       "      <td>Automatic Data Processing, Inc.</td>\n",
       "      <td>Staffing &amp; Employment Services</td>\n",
       "      <td>Industrials</td>\n",
       "      <td>https://www.adp.com</td>\n",
       "    </tr>\n",
       "    <tr>\n",
       "      <th>...</th>\n",
       "      <td>...</td>\n",
       "      <td>...</td>\n",
       "      <td>...</td>\n",
       "      <td>...</td>\n",
       "      <td>...</td>\n",
       "      <td>...</td>\n",
       "      <td>...</td>\n",
       "      <td>...</td>\n",
       "      <td>...</td>\n",
       "      <td>...</td>\n",
       "      <td>...</td>\n",
       "      <td>...</td>\n",
       "      <td>...</td>\n",
       "      <td>...</td>\n",
       "      <td>...</td>\n",
       "      <td>...</td>\n",
       "    </tr>\n",
       "    <tr>\n",
       "      <th>496</th>\n",
       "      <td>TXT</td>\n",
       "      <td>62.490002</td>\n",
       "      <td>62.4900016784668</td>\n",
       "      <td>62.4900016784668</td>\n",
       "      <td>1642.0</td>\n",
       "      <td>0.427590</td>\n",
       "      <td>-0.587005</td>\n",
       "      <td>-0.053997</td>\n",
       "      <td>10.000000</td>\n",
       "      <td>0.0</td>\n",
       "      <td>0.0</td>\n",
       "      <td>20220523.0</td>\n",
       "      <td>Textron Inc.</td>\n",
       "      <td>Aerospace &amp; Defense</td>\n",
       "      <td>Industrials</td>\n",
       "      <td>https://www.textron.com</td>\n",
       "    </tr>\n",
       "    <tr>\n",
       "      <th>497</th>\n",
       "      <td>TT</td>\n",
       "      <td>130.720001</td>\n",
       "      <td>130.72000122070312</td>\n",
       "      <td>130.72000122070312</td>\n",
       "      <td>1642.0</td>\n",
       "      <td>-0.087386</td>\n",
       "      <td>-0.250828</td>\n",
       "      <td>-0.436752</td>\n",
       "      <td>15.000000</td>\n",
       "      <td>25.5</td>\n",
       "      <td>28.5</td>\n",
       "      <td>20220523.0</td>\n",
       "      <td>Trane Technologies plc</td>\n",
       "      <td>Specialty Industrial Machinery</td>\n",
       "      <td>Industrials</td>\n",
       "      <td>https://www.tranetechnologies.com</td>\n",
       "    </tr>\n",
       "    <tr>\n",
       "      <th>498</th>\n",
       "      <td>TDG</td>\n",
       "      <td>550.239990</td>\n",
       "      <td>547.3428931745968</td>\n",
       "      <td>547.4237289268342</td>\n",
       "      <td>1642.0</td>\n",
       "      <td>-0.214840</td>\n",
       "      <td>-0.277125</td>\n",
       "      <td>-0.793934</td>\n",
       "      <td>10.000000</td>\n",
       "      <td>0.0</td>\n",
       "      <td>0.0</td>\n",
       "      <td>20220523.0</td>\n",
       "      <td>TransDigm Group Incorporated</td>\n",
       "      <td>Aerospace &amp; Defense</td>\n",
       "      <td>Industrials</td>\n",
       "      <td>https://www.transdigm.com</td>\n",
       "    </tr>\n",
       "    <tr>\n",
       "      <th>513</th>\n",
       "      <td>GNRC</td>\n",
       "      <td>220.839996</td>\n",
       "      <td>220.5857310741945</td>\n",
       "      <td>220.5857310741945</td>\n",
       "      <td>1642.0</td>\n",
       "      <td>0.277270</td>\n",
       "      <td>-0.538159</td>\n",
       "      <td>-0.301558</td>\n",
       "      <td>30.000000</td>\n",
       "      <td>26.0</td>\n",
       "      <td>44.5</td>\n",
       "      <td>20220523.0</td>\n",
       "      <td>Generac Holdings Inc.</td>\n",
       "      <td>Specialty Industrial Machinery</td>\n",
       "      <td>Industrials</td>\n",
       "      <td>https://www.generac.com</td>\n",
       "    </tr>\n",
       "    <tr>\n",
       "      <th>523</th>\n",
       "      <td>IR</td>\n",
       "      <td>44.950001</td>\n",
       "      <td>44.769110310882176</td>\n",
       "      <td>44.787577876146614</td>\n",
       "      <td>1146.0</td>\n",
       "      <td>-0.148873</td>\n",
       "      <td>-0.527414</td>\n",
       "      <td>-1.090545</td>\n",
       "      <td>10.000000</td>\n",
       "      <td>2.0</td>\n",
       "      <td>7.0</td>\n",
       "      <td>20220523.0</td>\n",
       "      <td>Ingersoll Rand Inc.</td>\n",
       "      <td>Specialty Industrial Machinery</td>\n",
       "      <td>Industrials</td>\n",
       "      <td>https://www.irco.com</td>\n",
       "    </tr>\n",
       "  </tbody>\n",
       "</table>\n",
       "<p>69 rows × 16 columns</p>\n",
       "</div>"
      ],
      "text/plain": [
       "    ticker  close_price               day_1               day_5  df_size  \\\n",
       "5      MMM   143.830002   143.8300018310547   143.8300018310547   1642.0   \n",
       "8       BA   120.699997    120.675564409588  120.04442325797076   1642.0   \n",
       "9      CAT   197.820007                   e                   r   1642.0   \n",
       "41     AAL    16.260000   16.23169298950802   16.22995743863594   1642.0   \n",
       "46     ADP   208.639999  208.33220613515863  208.11060601627798   1642.0   \n",
       "..     ...          ...                 ...                 ...      ...   \n",
       "496    TXT    62.490002    62.4900016784668    62.4900016784668   1642.0   \n",
       "497     TT   130.720001  130.72000122070312  130.72000122070312   1642.0   \n",
       "498    TDG   550.239990   547.3428931745968   547.4237289268342   1642.0   \n",
       "513   GNRC   220.839996   220.5857310741945   220.5857310741945   1642.0   \n",
       "523     IR    44.950001  44.769110310882176  44.787577876146614   1146.0   \n",
       "\n",
       "       skew_1   skew_60  skew_120   cutoff_1  cutoff_60  cutoff_120  \\\n",
       "5    0.293475 -0.220857  0.881238  10.000000       18.5        19.0   \n",
       "8   -0.460394 -2.156166 -1.620588  16.666667        5.0         1.0   \n",
       "9    0.034316  0.084626  0.098441  13.333333        0.0         0.0   \n",
       "41   0.165548  0.238701 -0.002504  18.333333        0.0         0.0   \n",
       "46  -0.729110 -0.442502 -0.572750  15.000000       12.5         3.5   \n",
       "..        ...       ...       ...        ...        ...         ...   \n",
       "496  0.427590 -0.587005 -0.053997  10.000000        0.0         0.0   \n",
       "497 -0.087386 -0.250828 -0.436752  15.000000       25.5        28.5   \n",
       "498 -0.214840 -0.277125 -0.793934  10.000000        0.0         0.0   \n",
       "513  0.277270 -0.538159 -0.301558  30.000000       26.0        44.5   \n",
       "523 -0.148873 -0.527414 -1.090545  10.000000        2.0         7.0   \n",
       "\n",
       "     created_date                         longName  \\\n",
       "5      20220523.0                       3M Company   \n",
       "8      20220523.0               The Boeing Company   \n",
       "9      20220523.0                 Caterpillar Inc.   \n",
       "41     20220523.0     American Airlines Group Inc.   \n",
       "46     20220523.0  Automatic Data Processing, Inc.   \n",
       "..            ...                              ...   \n",
       "496    20220523.0                     Textron Inc.   \n",
       "497    20220523.0           Trane Technologies plc   \n",
       "498    20220523.0     TransDigm Group Incorporated   \n",
       "513    20220523.0            Generac Holdings Inc.   \n",
       "523    20220523.0              Ingersoll Rand Inc.   \n",
       "\n",
       "                                industry       sector  \\\n",
       "5                          Conglomerates  Industrials   \n",
       "8                    Aerospace & Defense  Industrials   \n",
       "9    Farm & Heavy Construction Machinery  Industrials   \n",
       "41                              Airlines  Industrials   \n",
       "46        Staffing & Employment Services  Industrials   \n",
       "..                                   ...          ...   \n",
       "496                  Aerospace & Defense  Industrials   \n",
       "497       Specialty Industrial Machinery  Industrials   \n",
       "498                  Aerospace & Defense  Industrials   \n",
       "513       Specialty Industrial Machinery  Industrials   \n",
       "523       Specialty Industrial Machinery  Industrials   \n",
       "\n",
       "                                   url  \n",
       "5                   https://www.3m.com  \n",
       "8               https://www.boeing.com  \n",
       "9          https://www.caterpillar.com  \n",
       "41                  https://www.aa.com  \n",
       "46                 https://www.adp.com  \n",
       "..                                 ...  \n",
       "496            https://www.textron.com  \n",
       "497  https://www.tranetechnologies.com  \n",
       "498          https://www.transdigm.com  \n",
       "513            https://www.generac.com  \n",
       "523               https://www.irco.com  \n",
       "\n",
       "[69 rows x 16 columns]"
      ]
     },
     "execution_count": 582,
     "metadata": {},
     "output_type": "execute_result"
    }
   ],
   "source": [
    "df_final[df_final[\"sector\"] == \"Industrials\"]"
   ]
  },
  {
   "cell_type": "code",
   "execution_count": 596,
   "id": "0bc6921d",
   "metadata": {},
   "outputs": [],
   "source": [
    "sector = 'Industrials'\n",
    "risk = 3"
   ]
  },
  {
   "cell_type": "code",
   "execution_count": 597,
   "id": "f18e58ab",
   "metadata": {},
   "outputs": [],
   "source": [
    "def pct_rank_qcut(series, n):\n",
    "    edges = pd.Series([float(i) / n for i in range(n + 1)])\n",
    "    f = lambda x: (edges >= x).values.argmax()\n",
    "    return series.rank(pct=1).apply(f)"
   ]
  },
  {
   "cell_type": "code",
   "execution_count": null,
   "id": "36e87c7e",
   "metadata": {},
   "outputs": [],
   "source": []
  },
  {
   "cell_type": "code",
   "execution_count": null,
   "id": "88069116",
   "metadata": {},
   "outputs": [],
   "source": []
  },
  {
   "cell_type": "code",
   "execution_count": 608,
   "id": "a25db692",
   "metadata": {
    "scrolled": true
   },
   "outputs": [
    {
     "data": {
      "text/html": [
       "<div>\n",
       "<style scoped>\n",
       "    .dataframe tbody tr th:only-of-type {\n",
       "        vertical-align: middle;\n",
       "    }\n",
       "\n",
       "    .dataframe tbody tr th {\n",
       "        vertical-align: top;\n",
       "    }\n",
       "\n",
       "    .dataframe thead th {\n",
       "        text-align: right;\n",
       "    }\n",
       "</style>\n",
       "<table border=\"1\" class=\"dataframe\">\n",
       "  <thead>\n",
       "    <tr style=\"text-align: right;\">\n",
       "      <th></th>\n",
       "      <th>ticker</th>\n",
       "      <th>close_price</th>\n",
       "      <th>day_1</th>\n",
       "      <th>day_5</th>\n",
       "      <th>df_size</th>\n",
       "      <th>skew_1</th>\n",
       "      <th>skew_60</th>\n",
       "      <th>skew_120</th>\n",
       "      <th>cutoff_1</th>\n",
       "      <th>cutoff_60</th>\n",
       "      <th>cutoff_120</th>\n",
       "      <th>created_date</th>\n",
       "      <th>longName</th>\n",
       "      <th>industry</th>\n",
       "      <th>sector</th>\n",
       "      <th>url</th>\n",
       "      <th>cutoff_bin</th>\n",
       "      <th>cutoff_skew</th>\n",
       "    </tr>\n",
       "  </thead>\n",
       "  <tbody>\n",
       "    <tr>\n",
       "      <th>0</th>\n",
       "      <td>CSX</td>\n",
       "      <td>30.940001</td>\n",
       "      <td>30.86850991917504</td>\n",
       "      <td>30.870550887244498</td>\n",
       "      <td>1642.0</td>\n",
       "      <td>-0.321467</td>\n",
       "      <td>0.785174</td>\n",
       "      <td>-0.236405</td>\n",
       "      <td>15.000000</td>\n",
       "      <td>0.0</td>\n",
       "      <td>0.0</td>\n",
       "      <td>20220523.0</td>\n",
       "      <td>CSX Corporation</td>\n",
       "      <td>Railroads</td>\n",
       "      <td>Industrials</td>\n",
       "      <td>https://www.csx.com</td>\n",
       "      <td>1</td>\n",
       "      <td>0.785174</td>\n",
       "    </tr>\n",
       "    <tr>\n",
       "      <th>1</th>\n",
       "      <td>RTX</td>\n",
       "      <td>90.080002</td>\n",
       "      <td>89.89200841970411</td>\n",
       "      <td>89.53579637332174</td>\n",
       "      <td>1642.0</td>\n",
       "      <td>0.438592</td>\n",
       "      <td>0.762674</td>\n",
       "      <td>-0.532696</td>\n",
       "      <td>11.666667</td>\n",
       "      <td>0.5</td>\n",
       "      <td>0.0</td>\n",
       "      <td>20220523.0</td>\n",
       "      <td>Raytheon Technologies Corporation</td>\n",
       "      <td>Aerospace &amp; Defense</td>\n",
       "      <td>Industrials</td>\n",
       "      <td>https://www.rtx.com</td>\n",
       "      <td>1</td>\n",
       "      <td>0.762674</td>\n",
       "    </tr>\n",
       "    <tr>\n",
       "      <th>2</th>\n",
       "      <td>NSC</td>\n",
       "      <td>228.860001</td>\n",
       "      <td>228.79633063679756</td>\n",
       "      <td>228.80086667020018</td>\n",
       "      <td>1642.0</td>\n",
       "      <td>-0.523785</td>\n",
       "      <td>0.684851</td>\n",
       "      <td>-0.189578</td>\n",
       "      <td>15.000000</td>\n",
       "      <td>0.0</td>\n",
       "      <td>2.0</td>\n",
       "      <td>20220523.0</td>\n",
       "      <td>Norfolk Southern Corporation</td>\n",
       "      <td>Railroads</td>\n",
       "      <td>Industrials</td>\n",
       "      <td>https://www.norfolksouthern.com</td>\n",
       "      <td>1</td>\n",
       "      <td>0.684851</td>\n",
       "    </tr>\n",
       "    <tr>\n",
       "      <th>3</th>\n",
       "      <td>AME</td>\n",
       "      <td>117.360001</td>\n",
       "      <td>117.30115769198665</td>\n",
       "      <td>117.30604205910618</td>\n",
       "      <td>1642.0</td>\n",
       "      <td>-0.655083</td>\n",
       "      <td>0.672415</td>\n",
       "      <td>-0.758997</td>\n",
       "      <td>6.666667</td>\n",
       "      <td>0.0</td>\n",
       "      <td>4.5</td>\n",
       "      <td>20220523.0</td>\n",
       "      <td>AMETEK, Inc.</td>\n",
       "      <td>Specialty Industrial Machinery</td>\n",
       "      <td>Industrials</td>\n",
       "      <td>https://www.ametek.com</td>\n",
       "      <td>1</td>\n",
       "      <td>0.672415</td>\n",
       "    </tr>\n",
       "    <tr>\n",
       "      <th>4</th>\n",
       "      <td>GWW</td>\n",
       "      <td>464.540009</td>\n",
       "      <td>464.70344418395933</td>\n",
       "      <td>464.70344418395933</td>\n",
       "      <td>1642.0</td>\n",
       "      <td>-0.632104</td>\n",
       "      <td>0.596303</td>\n",
       "      <td>-0.145197</td>\n",
       "      <td>11.666667</td>\n",
       "      <td>0.5</td>\n",
       "      <td>0.0</td>\n",
       "      <td>20220523.0</td>\n",
       "      <td>W.W. Grainger, Inc.</td>\n",
       "      <td>Industrial Distribution</td>\n",
       "      <td>Industrials</td>\n",
       "      <td>https://www.grainger.com</td>\n",
       "      <td>1</td>\n",
       "      <td>0.596303</td>\n",
       "    </tr>\n",
       "    <tr>\n",
       "      <th>...</th>\n",
       "      <td>...</td>\n",
       "      <td>...</td>\n",
       "      <td>...</td>\n",
       "      <td>...</td>\n",
       "      <td>...</td>\n",
       "      <td>...</td>\n",
       "      <td>...</td>\n",
       "      <td>...</td>\n",
       "      <td>...</td>\n",
       "      <td>...</td>\n",
       "      <td>...</td>\n",
       "      <td>...</td>\n",
       "      <td>...</td>\n",
       "      <td>...</td>\n",
       "      <td>...</td>\n",
       "      <td>...</td>\n",
       "      <td>...</td>\n",
       "      <td>...</td>\n",
       "    </tr>\n",
       "    <tr>\n",
       "      <th>64</th>\n",
       "      <td>RSG</td>\n",
       "      <td>129.449997</td>\n",
       "      <td>128.71817500624294</td>\n",
       "      <td>129.06200479091788</td>\n",
       "      <td>1642.0</td>\n",
       "      <td>-0.401008</td>\n",
       "      <td>-1.020699</td>\n",
       "      <td>-0.360006</td>\n",
       "      <td>20.000000</td>\n",
       "      <td>8.5</td>\n",
       "      <td>24.0</td>\n",
       "      <td>20220523.0</td>\n",
       "      <td>Republic Services, Inc.</td>\n",
       "      <td>Waste Management</td>\n",
       "      <td>Industrials</td>\n",
       "      <td>https://www.republicservices.com</td>\n",
       "      <td>2</td>\n",
       "      <td>-1.020699</td>\n",
       "    </tr>\n",
       "    <tr>\n",
       "      <th>65</th>\n",
       "      <td>WM</td>\n",
       "      <td>154.500000</td>\n",
       "      <td>154.77219734442406</td>\n",
       "      <td>154.7351352783828</td>\n",
       "      <td>1642.0</td>\n",
       "      <td>-0.353639</td>\n",
       "      <td>-1.071182</td>\n",
       "      <td>-0.014053</td>\n",
       "      <td>16.666667</td>\n",
       "      <td>11.0</td>\n",
       "      <td>14.0</td>\n",
       "      <td>20220523.0</td>\n",
       "      <td>Waste Management, Inc.</td>\n",
       "      <td>Waste Management</td>\n",
       "      <td>Industrials</td>\n",
       "      <td>https://www.wm.com</td>\n",
       "      <td>2</td>\n",
       "      <td>-1.071182</td>\n",
       "    </tr>\n",
       "    <tr>\n",
       "      <th>66</th>\n",
       "      <td>GE</td>\n",
       "      <td>75.250000</td>\n",
       "      <td>75.25</td>\n",
       "      <td>75.25</td>\n",
       "      <td>1642.0</td>\n",
       "      <td>-1.350282</td>\n",
       "      <td>-1.276527</td>\n",
       "      <td>-1.254806</td>\n",
       "      <td>6.666667</td>\n",
       "      <td>0.0</td>\n",
       "      <td>0.0</td>\n",
       "      <td>20220523.0</td>\n",
       "      <td>General Electric Company</td>\n",
       "      <td>Specialty Industrial Machinery</td>\n",
       "      <td>Industrials</td>\n",
       "      <td>https://www.ge.com</td>\n",
       "      <td>1</td>\n",
       "      <td>-1.276527</td>\n",
       "    </tr>\n",
       "    <tr>\n",
       "      <th>67</th>\n",
       "      <td>RHI</td>\n",
       "      <td>88.610001</td>\n",
       "      <td>88.61000061035156</td>\n",
       "      <td>88.61000061035156</td>\n",
       "      <td>1642.0</td>\n",
       "      <td>-0.527583</td>\n",
       "      <td>-1.681915</td>\n",
       "      <td>-1.690577</td>\n",
       "      <td>15.000000</td>\n",
       "      <td>5.5</td>\n",
       "      <td>1.0</td>\n",
       "      <td>20220523.0</td>\n",
       "      <td>Robert Half International Inc.</td>\n",
       "      <td>Staffing &amp; Employment Services</td>\n",
       "      <td>Industrials</td>\n",
       "      <td>https://www.roberthalf.com</td>\n",
       "      <td>2</td>\n",
       "      <td>-1.681915</td>\n",
       "    </tr>\n",
       "    <tr>\n",
       "      <th>68</th>\n",
       "      <td>BA</td>\n",
       "      <td>120.699997</td>\n",
       "      <td>120.675564409588</td>\n",
       "      <td>120.04442325797076</td>\n",
       "      <td>1642.0</td>\n",
       "      <td>-0.460394</td>\n",
       "      <td>-2.156166</td>\n",
       "      <td>-1.620588</td>\n",
       "      <td>16.666667</td>\n",
       "      <td>5.0</td>\n",
       "      <td>1.0</td>\n",
       "      <td>20220523.0</td>\n",
       "      <td>The Boeing Company</td>\n",
       "      <td>Aerospace &amp; Defense</td>\n",
       "      <td>Industrials</td>\n",
       "      <td>https://www.boeing.com</td>\n",
       "      <td>2</td>\n",
       "      <td>-2.156166</td>\n",
       "    </tr>\n",
       "  </tbody>\n",
       "</table>\n",
       "<p>69 rows × 18 columns</p>\n",
       "</div>"
      ],
      "text/plain": [
       "   ticker  close_price               day_1               day_5  df_size  \\\n",
       "0     CSX    30.940001   30.86850991917504  30.870550887244498   1642.0   \n",
       "1     RTX    90.080002   89.89200841970411   89.53579637332174   1642.0   \n",
       "2     NSC   228.860001  228.79633063679756  228.80086667020018   1642.0   \n",
       "3     AME   117.360001  117.30115769198665  117.30604205910618   1642.0   \n",
       "4     GWW   464.540009  464.70344418395933  464.70344418395933   1642.0   \n",
       "..    ...          ...                 ...                 ...      ...   \n",
       "64    RSG   129.449997  128.71817500624294  129.06200479091788   1642.0   \n",
       "65     WM   154.500000  154.77219734442406   154.7351352783828   1642.0   \n",
       "66     GE    75.250000               75.25               75.25   1642.0   \n",
       "67    RHI    88.610001   88.61000061035156   88.61000061035156   1642.0   \n",
       "68     BA   120.699997    120.675564409588  120.04442325797076   1642.0   \n",
       "\n",
       "      skew_1   skew_60  skew_120   cutoff_1  cutoff_60  cutoff_120  \\\n",
       "0  -0.321467  0.785174 -0.236405  15.000000        0.0         0.0   \n",
       "1   0.438592  0.762674 -0.532696  11.666667        0.5         0.0   \n",
       "2  -0.523785  0.684851 -0.189578  15.000000        0.0         2.0   \n",
       "3  -0.655083  0.672415 -0.758997   6.666667        0.0         4.5   \n",
       "4  -0.632104  0.596303 -0.145197  11.666667        0.5         0.0   \n",
       "..       ...       ...       ...        ...        ...         ...   \n",
       "64 -0.401008 -1.020699 -0.360006  20.000000        8.5        24.0   \n",
       "65 -0.353639 -1.071182 -0.014053  16.666667       11.0        14.0   \n",
       "66 -1.350282 -1.276527 -1.254806   6.666667        0.0         0.0   \n",
       "67 -0.527583 -1.681915 -1.690577  15.000000        5.5         1.0   \n",
       "68 -0.460394 -2.156166 -1.620588  16.666667        5.0         1.0   \n",
       "\n",
       "    created_date                           longName  \\\n",
       "0     20220523.0                    CSX Corporation   \n",
       "1     20220523.0  Raytheon Technologies Corporation   \n",
       "2     20220523.0       Norfolk Southern Corporation   \n",
       "3     20220523.0                       AMETEK, Inc.   \n",
       "4     20220523.0                W.W. Grainger, Inc.   \n",
       "..           ...                                ...   \n",
       "64    20220523.0            Republic Services, Inc.   \n",
       "65    20220523.0             Waste Management, Inc.   \n",
       "66    20220523.0           General Electric Company   \n",
       "67    20220523.0     Robert Half International Inc.   \n",
       "68    20220523.0                 The Boeing Company   \n",
       "\n",
       "                          industry       sector  \\\n",
       "0                        Railroads  Industrials   \n",
       "1              Aerospace & Defense  Industrials   \n",
       "2                        Railroads  Industrials   \n",
       "3   Specialty Industrial Machinery  Industrials   \n",
       "4          Industrial Distribution  Industrials   \n",
       "..                             ...          ...   \n",
       "64                Waste Management  Industrials   \n",
       "65                Waste Management  Industrials   \n",
       "66  Specialty Industrial Machinery  Industrials   \n",
       "67  Staffing & Employment Services  Industrials   \n",
       "68             Aerospace & Defense  Industrials   \n",
       "\n",
       "                                 url  cutoff_bin  cutoff_skew  \n",
       "0                https://www.csx.com           1     0.785174  \n",
       "1                https://www.rtx.com           1     0.762674  \n",
       "2    https://www.norfolksouthern.com           1     0.684851  \n",
       "3             https://www.ametek.com           1     0.672415  \n",
       "4           https://www.grainger.com           1     0.596303  \n",
       "..                               ...         ...          ...  \n",
       "64  https://www.republicservices.com           2    -1.020699  \n",
       "65                https://www.wm.com           2    -1.071182  \n",
       "66                https://www.ge.com           1    -1.276527  \n",
       "67        https://www.roberthalf.com           2    -1.681915  \n",
       "68            https://www.boeing.com           2    -2.156166  \n",
       "\n",
       "[69 rows x 18 columns]"
      ]
     },
     "execution_count": 608,
     "metadata": {},
     "output_type": "execute_result"
    }
   ],
   "source": [
    "df_temp = df_final[df_final[\"sector\"].isin([sector])]\n",
    "\n",
    "# filter by timeframe (period)\n",
    "\n",
    "# df_temp[\"cutoff_bin\"] = pct_rank_qcut(df_temp[\"cutoff_1\"], 3)\n",
    "# df_temp[\"cutoff_skew\"] = df_temp[\"skew_1\"]\n",
    "\n",
    "\n",
    "df_temp[\"cutoff_bin\"] = pct_rank_qcut(df_temp[\"cutoff_60\"], 3)\n",
    "df_temp[\"cutoff_skew\"] = df_temp[\"skew_60\"]\n",
    "\n",
    "\n",
    "# df_temp[\"cutoff_bin\"] = utils.pct_rank_qcut(df_temp[\"cutoff_120\"], 3)\n",
    "# df_temp[\"cutoff_skew\"] = df_temp[\"skew_120\"]\n",
    "\n",
    "# df_temp = df_temp[df_temp[\"cutoff_bin\"] == risk]\n",
    "df_temp = df_temp.sort_values(by=\"cutoff_skew\", ascending=False)\n",
    "#                 df_temp = df_temp[[\"ticker\", \"close_price\", \"industry\", \"sector\", \"url\", \"cutoff_skew\"]]\n",
    "df_temp.reset_index(inplace=True, drop=True)\n",
    "# df_temp = df_temp.head()\n",
    "df_temp"
   ]
  },
  {
   "cell_type": "code",
   "execution_count": 609,
   "id": "ae10242e",
   "metadata": {},
   "outputs": [
    {
     "data": {
      "text/html": [
       "<div>\n",
       "<style scoped>\n",
       "    .dataframe tbody tr th:only-of-type {\n",
       "        vertical-align: middle;\n",
       "    }\n",
       "\n",
       "    .dataframe tbody tr th {\n",
       "        vertical-align: top;\n",
       "    }\n",
       "\n",
       "    .dataframe thead th {\n",
       "        text-align: right;\n",
       "    }\n",
       "</style>\n",
       "<table border=\"1\" class=\"dataframe\">\n",
       "  <thead>\n",
       "    <tr style=\"text-align: right;\">\n",
       "      <th></th>\n",
       "      <th>ticker</th>\n",
       "      <th>close_price</th>\n",
       "      <th>day_1</th>\n",
       "      <th>day_5</th>\n",
       "      <th>df_size</th>\n",
       "      <th>skew_1</th>\n",
       "      <th>skew_60</th>\n",
       "      <th>skew_120</th>\n",
       "      <th>cutoff_1</th>\n",
       "      <th>cutoff_60</th>\n",
       "      <th>cutoff_120</th>\n",
       "      <th>created_date</th>\n",
       "      <th>longName</th>\n",
       "      <th>industry</th>\n",
       "      <th>sector</th>\n",
       "      <th>url</th>\n",
       "      <th>cutoff_bin</th>\n",
       "      <th>cutoff_skew</th>\n",
       "    </tr>\n",
       "  </thead>\n",
       "  <tbody>\n",
       "    <tr>\n",
       "      <th>6</th>\n",
       "      <td>NLSN</td>\n",
       "      <td>25.500000</td>\n",
       "      <td>25.483435992184024</td>\n",
       "      <td>25.48119058795506</td>\n",
       "      <td>1642.0</td>\n",
       "      <td>4.472541</td>\n",
       "      <td>0.576198</td>\n",
       "      <td>0.890154</td>\n",
       "      <td>8.333333</td>\n",
       "      <td>20.0</td>\n",
       "      <td>6.5</td>\n",
       "      <td>20220523.0</td>\n",
       "      <td>Nielsen Holdings plc</td>\n",
       "      <td>Consulting Services</td>\n",
       "      <td>Industrials</td>\n",
       "      <td>https://www.nielsen.com</td>\n",
       "      <td>3</td>\n",
       "      <td>0.576198</td>\n",
       "    </tr>\n",
       "    <tr>\n",
       "      <th>9</th>\n",
       "      <td>LMT</td>\n",
       "      <td>424.149994</td>\n",
       "      <td>423.88622361315055</td>\n",
       "      <td>423.09685374698256</td>\n",
       "      <td>1642.0</td>\n",
       "      <td>0.278023</td>\n",
       "      <td>0.432968</td>\n",
       "      <td>0.203215</td>\n",
       "      <td>18.333333</td>\n",
       "      <td>19.0</td>\n",
       "      <td>23.0</td>\n",
       "      <td>20220523.0</td>\n",
       "      <td>Lockheed Martin Corporation</td>\n",
       "      <td>Aerospace &amp; Defense</td>\n",
       "      <td>Industrials</td>\n",
       "      <td>https://www.lockheedmartin.com</td>\n",
       "      <td>3</td>\n",
       "      <td>0.432968</td>\n",
       "    </tr>\n",
       "    <tr>\n",
       "      <th>12</th>\n",
       "      <td>GPN</td>\n",
       "      <td>122.099998</td>\n",
       "      <td>121.52895230669968</td>\n",
       "      <td>121.45779079735325</td>\n",
       "      <td>1642.0</td>\n",
       "      <td>-0.494528</td>\n",
       "      <td>0.346911</td>\n",
       "      <td>-0.211866</td>\n",
       "      <td>26.666667</td>\n",
       "      <td>33.5</td>\n",
       "      <td>56.5</td>\n",
       "      <td>20220523.0</td>\n",
       "      <td>Global Payments Inc.</td>\n",
       "      <td>Specialty Business Services</td>\n",
       "      <td>Industrials</td>\n",
       "      <td>https://www.globalpaymentsinc.com</td>\n",
       "      <td>3</td>\n",
       "      <td>0.346911</td>\n",
       "    </tr>\n",
       "    <tr>\n",
       "      <th>18</th>\n",
       "      <td>AOS</td>\n",
       "      <td>57.770000</td>\n",
       "      <td>57.77000045776367</td>\n",
       "      <td>57.77000045776367</td>\n",
       "      <td>1642.0</td>\n",
       "      <td>-0.096009</td>\n",
       "      <td>0.192343</td>\n",
       "      <td>-1.328025</td>\n",
       "      <td>18.333333</td>\n",
       "      <td>28.0</td>\n",
       "      <td>9.5</td>\n",
       "      <td>20220523.0</td>\n",
       "      <td>A. O. Smith Corporation</td>\n",
       "      <td>Specialty Industrial Machinery</td>\n",
       "      <td>Industrials</td>\n",
       "      <td>https://www.aosmith.com</td>\n",
       "      <td>3</td>\n",
       "      <td>0.192343</td>\n",
       "    </tr>\n",
       "    <tr>\n",
       "      <th>23</th>\n",
       "      <td>ITW</td>\n",
       "      <td>201.770004</td>\n",
       "      <td>200.87075265347968</td>\n",
       "      <td>201.04954202902752</td>\n",
       "      <td>1642.0</td>\n",
       "      <td>0.002336</td>\n",
       "      <td>-0.033613</td>\n",
       "      <td>-0.241607</td>\n",
       "      <td>16.666667</td>\n",
       "      <td>18.5</td>\n",
       "      <td>11.5</td>\n",
       "      <td>20220523.0</td>\n",
       "      <td>Illinois Tool Works Inc.</td>\n",
       "      <td>Specialty Industrial Machinery</td>\n",
       "      <td>Industrials</td>\n",
       "      <td>https://www.itw.com</td>\n",
       "      <td>3</td>\n",
       "      <td>-0.033613</td>\n",
       "    </tr>\n",
       "    <tr>\n",
       "      <th>26</th>\n",
       "      <td>PNR</td>\n",
       "      <td>48.959999</td>\n",
       "      <td>48.959999084472656</td>\n",
       "      <td>48.959999084472656</td>\n",
       "      <td>1642.0</td>\n",
       "      <td>-0.362823</td>\n",
       "      <td>-0.084580</td>\n",
       "      <td>-0.293534</td>\n",
       "      <td>18.333333</td>\n",
       "      <td>20.5</td>\n",
       "      <td>33.0</td>\n",
       "      <td>20220523.0</td>\n",
       "      <td>Pentair plc</td>\n",
       "      <td>Specialty Industrial Machinery</td>\n",
       "      <td>Industrials</td>\n",
       "      <td>https://www.pentair.com</td>\n",
       "      <td>3</td>\n",
       "      <td>-0.084580</td>\n",
       "    </tr>\n",
       "    <tr>\n",
       "      <th>32</th>\n",
       "      <td>MMM</td>\n",
       "      <td>143.830002</td>\n",
       "      <td>143.8300018310547</td>\n",
       "      <td>143.8300018310547</td>\n",
       "      <td>1642.0</td>\n",
       "      <td>0.293475</td>\n",
       "      <td>-0.220857</td>\n",
       "      <td>0.881238</td>\n",
       "      <td>10.000000</td>\n",
       "      <td>18.5</td>\n",
       "      <td>19.0</td>\n",
       "      <td>20220523.0</td>\n",
       "      <td>3M Company</td>\n",
       "      <td>Conglomerates</td>\n",
       "      <td>Industrials</td>\n",
       "      <td>https://www.3m.com</td>\n",
       "      <td>3</td>\n",
       "      <td>-0.220857</td>\n",
       "    </tr>\n",
       "    <tr>\n",
       "      <th>34</th>\n",
       "      <td>ODFL</td>\n",
       "      <td>243.179993</td>\n",
       "      <td>e</td>\n",
       "      <td>r</td>\n",
       "      <td>1638.0</td>\n",
       "      <td>-0.979467</td>\n",
       "      <td>-0.228381</td>\n",
       "      <td>-1.220814</td>\n",
       "      <td>25.000000</td>\n",
       "      <td>22.5</td>\n",
       "      <td>15.5</td>\n",
       "      <td>20220523.0</td>\n",
       "      <td>Old Dominion Freight Line, Inc.</td>\n",
       "      <td>Trucking</td>\n",
       "      <td>Industrials</td>\n",
       "      <td>https://www.odfl.com</td>\n",
       "      <td>3</td>\n",
       "      <td>-0.228381</td>\n",
       "    </tr>\n",
       "    <tr>\n",
       "      <th>35</th>\n",
       "      <td>TT</td>\n",
       "      <td>130.720001</td>\n",
       "      <td>130.72000122070312</td>\n",
       "      <td>130.72000122070312</td>\n",
       "      <td>1642.0</td>\n",
       "      <td>-0.087386</td>\n",
       "      <td>-0.250828</td>\n",
       "      <td>-0.436752</td>\n",
       "      <td>15.000000</td>\n",
       "      <td>25.5</td>\n",
       "      <td>28.5</td>\n",
       "      <td>20220523.0</td>\n",
       "      <td>Trane Technologies plc</td>\n",
       "      <td>Specialty Industrial Machinery</td>\n",
       "      <td>Industrials</td>\n",
       "      <td>https://www.tranetechnologies.com</td>\n",
       "      <td>3</td>\n",
       "      <td>-0.250828</td>\n",
       "    </tr>\n",
       "    <tr>\n",
       "      <th>36</th>\n",
       "      <td>CPRT</td>\n",
       "      <td>112.110001</td>\n",
       "      <td>112.10540561296614</td>\n",
       "      <td>112.10541456160148</td>\n",
       "      <td>1642.0</td>\n",
       "      <td>-0.180297</td>\n",
       "      <td>-0.253207</td>\n",
       "      <td>-0.375601</td>\n",
       "      <td>25.000000</td>\n",
       "      <td>24.0</td>\n",
       "      <td>29.0</td>\n",
       "      <td>20220523.0</td>\n",
       "      <td>Copart, Inc.</td>\n",
       "      <td>Specialty Business Services</td>\n",
       "      <td>Industrials</td>\n",
       "      <td>https://www.copart.com</td>\n",
       "      <td>3</td>\n",
       "      <td>-0.253207</td>\n",
       "    </tr>\n",
       "    <tr>\n",
       "      <th>39</th>\n",
       "      <td>DOV</td>\n",
       "      <td>130.779999</td>\n",
       "      <td>130.73578038850349</td>\n",
       "      <td>130.78636576790538</td>\n",
       "      <td>1642.0</td>\n",
       "      <td>-0.859483</td>\n",
       "      <td>-0.288892</td>\n",
       "      <td>-0.671984</td>\n",
       "      <td>13.333333</td>\n",
       "      <td>14.5</td>\n",
       "      <td>18.0</td>\n",
       "      <td>20220523.0</td>\n",
       "      <td>Dover Corporation</td>\n",
       "      <td>Specialty Industrial Machinery</td>\n",
       "      <td>Industrials</td>\n",
       "      <td>https://www.dovercorporation.com</td>\n",
       "      <td>3</td>\n",
       "      <td>-0.288892</td>\n",
       "    </tr>\n",
       "    <tr>\n",
       "      <th>41</th>\n",
       "      <td>XYL</td>\n",
       "      <td>81.690002</td>\n",
       "      <td>81.4333770675624</td>\n",
       "      <td>81.37325868291289</td>\n",
       "      <td>1642.0</td>\n",
       "      <td>0.901306</td>\n",
       "      <td>-0.324777</td>\n",
       "      <td>-0.243963</td>\n",
       "      <td>20.000000</td>\n",
       "      <td>33.5</td>\n",
       "      <td>39.5</td>\n",
       "      <td>20220523.0</td>\n",
       "      <td>Xylem Inc.</td>\n",
       "      <td>Specialty Industrial Machinery</td>\n",
       "      <td>Industrials</td>\n",
       "      <td>https://www.xylem.com</td>\n",
       "      <td>3</td>\n",
       "      <td>-0.324777</td>\n",
       "    </tr>\n",
       "    <tr>\n",
       "      <th>44</th>\n",
       "      <td>ROK</td>\n",
       "      <td>199.509995</td>\n",
       "      <td>199.46022965777075</td>\n",
       "      <td>199.46317872262725</td>\n",
       "      <td>1642.0</td>\n",
       "      <td>-2.354878</td>\n",
       "      <td>-0.385964</td>\n",
       "      <td>-1.298917</td>\n",
       "      <td>16.666667</td>\n",
       "      <td>29.0</td>\n",
       "      <td>16.0</td>\n",
       "      <td>20220523.0</td>\n",
       "      <td>Rockwell Automation, Inc.</td>\n",
       "      <td>Specialty Industrial Machinery</td>\n",
       "      <td>Industrials</td>\n",
       "      <td>https://www.rockwellautomation.com</td>\n",
       "      <td>3</td>\n",
       "      <td>-0.385964</td>\n",
       "    </tr>\n",
       "    <tr>\n",
       "      <th>46</th>\n",
       "      <td>MAS</td>\n",
       "      <td>54.290001</td>\n",
       "      <td>54.34498770665191</td>\n",
       "      <td>54.18280196069482</td>\n",
       "      <td>1642.0</td>\n",
       "      <td>-0.194575</td>\n",
       "      <td>-0.404260</td>\n",
       "      <td>-0.350565</td>\n",
       "      <td>21.666667</td>\n",
       "      <td>19.5</td>\n",
       "      <td>14.0</td>\n",
       "      <td>20220523.0</td>\n",
       "      <td>Masco Corporation</td>\n",
       "      <td>Building Products &amp; Equipment</td>\n",
       "      <td>Industrials</td>\n",
       "      <td>https://masco.com</td>\n",
       "      <td>3</td>\n",
       "      <td>-0.404260</td>\n",
       "    </tr>\n",
       "    <tr>\n",
       "      <th>47</th>\n",
       "      <td>JCI</td>\n",
       "      <td>51.110001</td>\n",
       "      <td>51.11000061035156</td>\n",
       "      <td>51.11000061035156</td>\n",
       "      <td>1642.0</td>\n",
       "      <td>-0.693231</td>\n",
       "      <td>-0.424395</td>\n",
       "      <td>-1.148801</td>\n",
       "      <td>15.000000</td>\n",
       "      <td>13.0</td>\n",
       "      <td>6.5</td>\n",
       "      <td>20220523.0</td>\n",
       "      <td>Johnson Controls International plc</td>\n",
       "      <td>Engineering &amp; Construction</td>\n",
       "      <td>Industrials</td>\n",
       "      <td>https://www.johnsoncontrols.com</td>\n",
       "      <td>3</td>\n",
       "      <td>-0.424395</td>\n",
       "    </tr>\n",
       "    <tr>\n",
       "      <th>48</th>\n",
       "      <td>EFX</td>\n",
       "      <td>194.610001</td>\n",
       "      <td>193.8652756984647</td>\n",
       "      <td>194.2855385975074</td>\n",
       "      <td>1642.0</td>\n",
       "      <td>-0.870643</td>\n",
       "      <td>-0.435859</td>\n",
       "      <td>-0.328398</td>\n",
       "      <td>15.000000</td>\n",
       "      <td>15.0</td>\n",
       "      <td>31.5</td>\n",
       "      <td>20220523.0</td>\n",
       "      <td>Equifax Inc.</td>\n",
       "      <td>Consulting Services</td>\n",
       "      <td>Industrials</td>\n",
       "      <td>https://www.equifax.com</td>\n",
       "      <td>3</td>\n",
       "      <td>-0.435859</td>\n",
       "    </tr>\n",
       "    <tr>\n",
       "      <th>49</th>\n",
       "      <td>SWK</td>\n",
       "      <td>116.349998</td>\n",
       "      <td>116.3499984741211</td>\n",
       "      <td>116.3499984741211</td>\n",
       "      <td>1642.0</td>\n",
       "      <td>-0.541708</td>\n",
       "      <td>-0.441841</td>\n",
       "      <td>-0.977245</td>\n",
       "      <td>16.666667</td>\n",
       "      <td>19.0</td>\n",
       "      <td>15.0</td>\n",
       "      <td>20220523.0</td>\n",
       "      <td>Stanley Black &amp; Decker, Inc.</td>\n",
       "      <td>Tools &amp; Accessories</td>\n",
       "      <td>Industrials</td>\n",
       "      <td>https://www.stanleyblackanddecker.com</td>\n",
       "      <td>3</td>\n",
       "      <td>-0.441841</td>\n",
       "    </tr>\n",
       "    <tr>\n",
       "      <th>50</th>\n",
       "      <td>ADP</td>\n",
       "      <td>208.639999</td>\n",
       "      <td>208.33220613515863</td>\n",
       "      <td>208.11060601627798</td>\n",
       "      <td>1642.0</td>\n",
       "      <td>-0.729110</td>\n",
       "      <td>-0.442502</td>\n",
       "      <td>-0.572750</td>\n",
       "      <td>15.000000</td>\n",
       "      <td>12.5</td>\n",
       "      <td>3.5</td>\n",
       "      <td>20220523.0</td>\n",
       "      <td>Automatic Data Processing, Inc.</td>\n",
       "      <td>Staffing &amp; Employment Services</td>\n",
       "      <td>Industrials</td>\n",
       "      <td>https://www.adp.com</td>\n",
       "      <td>3</td>\n",
       "      <td>-0.442502</td>\n",
       "    </tr>\n",
       "    <tr>\n",
       "      <th>52</th>\n",
       "      <td>IEX</td>\n",
       "      <td>185.490005</td>\n",
       "      <td>185.30414975615136</td>\n",
       "      <td>185.31804470559177</td>\n",
       "      <td>1642.0</td>\n",
       "      <td>-0.081814</td>\n",
       "      <td>-0.493136</td>\n",
       "      <td>-0.365044</td>\n",
       "      <td>15.000000</td>\n",
       "      <td>24.5</td>\n",
       "      <td>26.0</td>\n",
       "      <td>20220523.0</td>\n",
       "      <td>IDEX Corporation</td>\n",
       "      <td>Specialty Industrial Machinery</td>\n",
       "      <td>Industrials</td>\n",
       "      <td>https://www.idexcorp.com</td>\n",
       "      <td>3</td>\n",
       "      <td>-0.493136</td>\n",
       "    </tr>\n",
       "    <tr>\n",
       "      <th>57</th>\n",
       "      <td>GNRC</td>\n",
       "      <td>220.839996</td>\n",
       "      <td>220.5857310741945</td>\n",
       "      <td>220.5857310741945</td>\n",
       "      <td>1642.0</td>\n",
       "      <td>0.277270</td>\n",
       "      <td>-0.538159</td>\n",
       "      <td>-0.301558</td>\n",
       "      <td>30.000000</td>\n",
       "      <td>26.0</td>\n",
       "      <td>44.5</td>\n",
       "      <td>20220523.0</td>\n",
       "      <td>Generac Holdings Inc.</td>\n",
       "      <td>Specialty Industrial Machinery</td>\n",
       "      <td>Industrials</td>\n",
       "      <td>https://www.generac.com</td>\n",
       "      <td>3</td>\n",
       "      <td>-0.538159</td>\n",
       "    </tr>\n",
       "    <tr>\n",
       "      <th>58</th>\n",
       "      <td>EXPD</td>\n",
       "      <td>105.440002</td>\n",
       "      <td>105.52124946516699</td>\n",
       "      <td>105.61556643085183</td>\n",
       "      <td>1642.0</td>\n",
       "      <td>-0.496236</td>\n",
       "      <td>-0.571548</td>\n",
       "      <td>0.088053</td>\n",
       "      <td>18.333333</td>\n",
       "      <td>30.0</td>\n",
       "      <td>38.0</td>\n",
       "      <td>20220523.0</td>\n",
       "      <td>Expeditors International of Washington, Inc.</td>\n",
       "      <td>Integrated Freight &amp; Logistics</td>\n",
       "      <td>Industrials</td>\n",
       "      <td>https://www.expeditors.com</td>\n",
       "      <td>3</td>\n",
       "      <td>-0.571548</td>\n",
       "    </tr>\n",
       "    <tr>\n",
       "      <th>60</th>\n",
       "      <td>AVY</td>\n",
       "      <td>164.500000</td>\n",
       "      <td>164.13338088224003</td>\n",
       "      <td>164.83582835469815</td>\n",
       "      <td>1642.0</td>\n",
       "      <td>-0.327164</td>\n",
       "      <td>-0.707204</td>\n",
       "      <td>-0.079108</td>\n",
       "      <td>21.666667</td>\n",
       "      <td>26.5</td>\n",
       "      <td>32.0</td>\n",
       "      <td>20220523.0</td>\n",
       "      <td>Avery Dennison Corporation</td>\n",
       "      <td>Business Equipment &amp; Supplies</td>\n",
       "      <td>Industrials</td>\n",
       "      <td>https://www.averydennison.com</td>\n",
       "      <td>3</td>\n",
       "      <td>-0.707204</td>\n",
       "    </tr>\n",
       "    <tr>\n",
       "      <th>63</th>\n",
       "      <td>VRSK</td>\n",
       "      <td>168.889999</td>\n",
       "      <td>168.95087319790858</td>\n",
       "      <td>168.99468708836332</td>\n",
       "      <td>1642.0</td>\n",
       "      <td>-0.343382</td>\n",
       "      <td>-0.846248</td>\n",
       "      <td>-0.919853</td>\n",
       "      <td>18.333333</td>\n",
       "      <td>17.0</td>\n",
       "      <td>19.5</td>\n",
       "      <td>20220523.0</td>\n",
       "      <td>Verisk Analytics, Inc.</td>\n",
       "      <td>Consulting Services</td>\n",
       "      <td>Industrials</td>\n",
       "      <td>https://www.verisk.com</td>\n",
       "      <td>3</td>\n",
       "      <td>-0.846248</td>\n",
       "    </tr>\n",
       "  </tbody>\n",
       "</table>\n",
       "</div>"
      ],
      "text/plain": [
       "   ticker  close_price               day_1               day_5  df_size  \\\n",
       "6    NLSN    25.500000  25.483435992184024   25.48119058795506   1642.0   \n",
       "9     LMT   424.149994  423.88622361315055  423.09685374698256   1642.0   \n",
       "12    GPN   122.099998  121.52895230669968  121.45779079735325   1642.0   \n",
       "18    AOS    57.770000   57.77000045776367   57.77000045776367   1642.0   \n",
       "23    ITW   201.770004  200.87075265347968  201.04954202902752   1642.0   \n",
       "26    PNR    48.959999  48.959999084472656  48.959999084472656   1642.0   \n",
       "32    MMM   143.830002   143.8300018310547   143.8300018310547   1642.0   \n",
       "34   ODFL   243.179993                   e                   r   1638.0   \n",
       "35     TT   130.720001  130.72000122070312  130.72000122070312   1642.0   \n",
       "36   CPRT   112.110001  112.10540561296614  112.10541456160148   1642.0   \n",
       "39    DOV   130.779999  130.73578038850349  130.78636576790538   1642.0   \n",
       "41    XYL    81.690002    81.4333770675624   81.37325868291289   1642.0   \n",
       "44    ROK   199.509995  199.46022965777075  199.46317872262725   1642.0   \n",
       "46    MAS    54.290001   54.34498770665191   54.18280196069482   1642.0   \n",
       "47    JCI    51.110001   51.11000061035156   51.11000061035156   1642.0   \n",
       "48    EFX   194.610001   193.8652756984647   194.2855385975074   1642.0   \n",
       "49    SWK   116.349998   116.3499984741211   116.3499984741211   1642.0   \n",
       "50    ADP   208.639999  208.33220613515863  208.11060601627798   1642.0   \n",
       "52    IEX   185.490005  185.30414975615136  185.31804470559177   1642.0   \n",
       "57   GNRC   220.839996   220.5857310741945   220.5857310741945   1642.0   \n",
       "58   EXPD   105.440002  105.52124946516699  105.61556643085183   1642.0   \n",
       "60    AVY   164.500000  164.13338088224003  164.83582835469815   1642.0   \n",
       "63   VRSK   168.889999  168.95087319790858  168.99468708836332   1642.0   \n",
       "\n",
       "      skew_1   skew_60  skew_120   cutoff_1  cutoff_60  cutoff_120  \\\n",
       "6   4.472541  0.576198  0.890154   8.333333       20.0         6.5   \n",
       "9   0.278023  0.432968  0.203215  18.333333       19.0        23.0   \n",
       "12 -0.494528  0.346911 -0.211866  26.666667       33.5        56.5   \n",
       "18 -0.096009  0.192343 -1.328025  18.333333       28.0         9.5   \n",
       "23  0.002336 -0.033613 -0.241607  16.666667       18.5        11.5   \n",
       "26 -0.362823 -0.084580 -0.293534  18.333333       20.5        33.0   \n",
       "32  0.293475 -0.220857  0.881238  10.000000       18.5        19.0   \n",
       "34 -0.979467 -0.228381 -1.220814  25.000000       22.5        15.5   \n",
       "35 -0.087386 -0.250828 -0.436752  15.000000       25.5        28.5   \n",
       "36 -0.180297 -0.253207 -0.375601  25.000000       24.0        29.0   \n",
       "39 -0.859483 -0.288892 -0.671984  13.333333       14.5        18.0   \n",
       "41  0.901306 -0.324777 -0.243963  20.000000       33.5        39.5   \n",
       "44 -2.354878 -0.385964 -1.298917  16.666667       29.0        16.0   \n",
       "46 -0.194575 -0.404260 -0.350565  21.666667       19.5        14.0   \n",
       "47 -0.693231 -0.424395 -1.148801  15.000000       13.0         6.5   \n",
       "48 -0.870643 -0.435859 -0.328398  15.000000       15.0        31.5   \n",
       "49 -0.541708 -0.441841 -0.977245  16.666667       19.0        15.0   \n",
       "50 -0.729110 -0.442502 -0.572750  15.000000       12.5         3.5   \n",
       "52 -0.081814 -0.493136 -0.365044  15.000000       24.5        26.0   \n",
       "57  0.277270 -0.538159 -0.301558  30.000000       26.0        44.5   \n",
       "58 -0.496236 -0.571548  0.088053  18.333333       30.0        38.0   \n",
       "60 -0.327164 -0.707204 -0.079108  21.666667       26.5        32.0   \n",
       "63 -0.343382 -0.846248 -0.919853  18.333333       17.0        19.5   \n",
       "\n",
       "    created_date                                      longName  \\\n",
       "6     20220523.0                          Nielsen Holdings plc   \n",
       "9     20220523.0                   Lockheed Martin Corporation   \n",
       "12    20220523.0                          Global Payments Inc.   \n",
       "18    20220523.0                       A. O. Smith Corporation   \n",
       "23    20220523.0                      Illinois Tool Works Inc.   \n",
       "26    20220523.0                                   Pentair plc   \n",
       "32    20220523.0                                    3M Company   \n",
       "34    20220523.0               Old Dominion Freight Line, Inc.   \n",
       "35    20220523.0                        Trane Technologies plc   \n",
       "36    20220523.0                                  Copart, Inc.   \n",
       "39    20220523.0                             Dover Corporation   \n",
       "41    20220523.0                                    Xylem Inc.   \n",
       "44    20220523.0                     Rockwell Automation, Inc.   \n",
       "46    20220523.0                             Masco Corporation   \n",
       "47    20220523.0            Johnson Controls International plc   \n",
       "48    20220523.0                                  Equifax Inc.   \n",
       "49    20220523.0                  Stanley Black & Decker, Inc.   \n",
       "50    20220523.0               Automatic Data Processing, Inc.   \n",
       "52    20220523.0                              IDEX Corporation   \n",
       "57    20220523.0                         Generac Holdings Inc.   \n",
       "58    20220523.0  Expeditors International of Washington, Inc.   \n",
       "60    20220523.0                    Avery Dennison Corporation   \n",
       "63    20220523.0                        Verisk Analytics, Inc.   \n",
       "\n",
       "                          industry       sector  \\\n",
       "6              Consulting Services  Industrials   \n",
       "9              Aerospace & Defense  Industrials   \n",
       "12     Specialty Business Services  Industrials   \n",
       "18  Specialty Industrial Machinery  Industrials   \n",
       "23  Specialty Industrial Machinery  Industrials   \n",
       "26  Specialty Industrial Machinery  Industrials   \n",
       "32                   Conglomerates  Industrials   \n",
       "34                        Trucking  Industrials   \n",
       "35  Specialty Industrial Machinery  Industrials   \n",
       "36     Specialty Business Services  Industrials   \n",
       "39  Specialty Industrial Machinery  Industrials   \n",
       "41  Specialty Industrial Machinery  Industrials   \n",
       "44  Specialty Industrial Machinery  Industrials   \n",
       "46   Building Products & Equipment  Industrials   \n",
       "47      Engineering & Construction  Industrials   \n",
       "48             Consulting Services  Industrials   \n",
       "49             Tools & Accessories  Industrials   \n",
       "50  Staffing & Employment Services  Industrials   \n",
       "52  Specialty Industrial Machinery  Industrials   \n",
       "57  Specialty Industrial Machinery  Industrials   \n",
       "58  Integrated Freight & Logistics  Industrials   \n",
       "60   Business Equipment & Supplies  Industrials   \n",
       "63             Consulting Services  Industrials   \n",
       "\n",
       "                                      url  cutoff_bin  cutoff_skew  \n",
       "6                 https://www.nielsen.com           3     0.576198  \n",
       "9          https://www.lockheedmartin.com           3     0.432968  \n",
       "12      https://www.globalpaymentsinc.com           3     0.346911  \n",
       "18                https://www.aosmith.com           3     0.192343  \n",
       "23                    https://www.itw.com           3    -0.033613  \n",
       "26                https://www.pentair.com           3    -0.084580  \n",
       "32                     https://www.3m.com           3    -0.220857  \n",
       "34                   https://www.odfl.com           3    -0.228381  \n",
       "35      https://www.tranetechnologies.com           3    -0.250828  \n",
       "36                 https://www.copart.com           3    -0.253207  \n",
       "39       https://www.dovercorporation.com           3    -0.288892  \n",
       "41                  https://www.xylem.com           3    -0.324777  \n",
       "44     https://www.rockwellautomation.com           3    -0.385964  \n",
       "46                      https://masco.com           3    -0.404260  \n",
       "47        https://www.johnsoncontrols.com           3    -0.424395  \n",
       "48                https://www.equifax.com           3    -0.435859  \n",
       "49  https://www.stanleyblackanddecker.com           3    -0.441841  \n",
       "50                    https://www.adp.com           3    -0.442502  \n",
       "52               https://www.idexcorp.com           3    -0.493136  \n",
       "57                https://www.generac.com           3    -0.538159  \n",
       "58             https://www.expeditors.com           3    -0.571548  \n",
       "60          https://www.averydennison.com           3    -0.707204  \n",
       "63                 https://www.verisk.com           3    -0.846248  "
      ]
     },
     "execution_count": 609,
     "metadata": {},
     "output_type": "execute_result"
    }
   ],
   "source": [
    "df_temp[df_temp[\"cutoff_bin\"] == 3]"
   ]
  },
  {
   "cell_type": "code",
   "execution_count": 611,
   "id": "5cec8988",
   "metadata": {},
   "outputs": [
    {
     "data": {
      "text/html": [
       "<div>\n",
       "<style scoped>\n",
       "    .dataframe tbody tr th:only-of-type {\n",
       "        vertical-align: middle;\n",
       "    }\n",
       "\n",
       "    .dataframe tbody tr th {\n",
       "        vertical-align: top;\n",
       "    }\n",
       "\n",
       "    .dataframe thead th {\n",
       "        text-align: right;\n",
       "    }\n",
       "</style>\n",
       "<table border=\"1\" class=\"dataframe\">\n",
       "  <thead>\n",
       "    <tr style=\"text-align: right;\">\n",
       "      <th></th>\n",
       "      <th>ticker</th>\n",
       "      <th>close_price</th>\n",
       "      <th>day_1</th>\n",
       "      <th>day_5</th>\n",
       "      <th>df_size</th>\n",
       "      <th>skew_1</th>\n",
       "      <th>skew_60</th>\n",
       "      <th>skew_120</th>\n",
       "      <th>cutoff_1</th>\n",
       "      <th>cutoff_60</th>\n",
       "      <th>cutoff_120</th>\n",
       "      <th>created_date</th>\n",
       "      <th>longName</th>\n",
       "      <th>industry</th>\n",
       "      <th>sector</th>\n",
       "      <th>url</th>\n",
       "      <th>cutoff_bin</th>\n",
       "      <th>cutoff_skew</th>\n",
       "    </tr>\n",
       "  </thead>\n",
       "  <tbody>\n",
       "    <tr>\n",
       "      <th>0</th>\n",
       "      <td>CSX</td>\n",
       "      <td>30.940001</td>\n",
       "      <td>30.86850991917504</td>\n",
       "      <td>30.870550887244498</td>\n",
       "      <td>1642.0</td>\n",
       "      <td>-0.321467</td>\n",
       "      <td>0.785174</td>\n",
       "      <td>-0.236405</td>\n",
       "      <td>15.000000</td>\n",
       "      <td>0.0</td>\n",
       "      <td>0.0</td>\n",
       "      <td>20220523.0</td>\n",
       "      <td>CSX Corporation</td>\n",
       "      <td>Railroads</td>\n",
       "      <td>Industrials</td>\n",
       "      <td>https://www.csx.com</td>\n",
       "      <td>1</td>\n",
       "      <td>0.785174</td>\n",
       "    </tr>\n",
       "    <tr>\n",
       "      <th>1</th>\n",
       "      <td>RTX</td>\n",
       "      <td>90.080002</td>\n",
       "      <td>89.89200841970411</td>\n",
       "      <td>89.53579637332174</td>\n",
       "      <td>1642.0</td>\n",
       "      <td>0.438592</td>\n",
       "      <td>0.762674</td>\n",
       "      <td>-0.532696</td>\n",
       "      <td>11.666667</td>\n",
       "      <td>0.5</td>\n",
       "      <td>0.0</td>\n",
       "      <td>20220523.0</td>\n",
       "      <td>Raytheon Technologies Corporation</td>\n",
       "      <td>Aerospace &amp; Defense</td>\n",
       "      <td>Industrials</td>\n",
       "      <td>https://www.rtx.com</td>\n",
       "      <td>1</td>\n",
       "      <td>0.762674</td>\n",
       "    </tr>\n",
       "    <tr>\n",
       "      <th>2</th>\n",
       "      <td>NSC</td>\n",
       "      <td>228.860001</td>\n",
       "      <td>228.79633063679756</td>\n",
       "      <td>228.80086667020018</td>\n",
       "      <td>1642.0</td>\n",
       "      <td>-0.523785</td>\n",
       "      <td>0.684851</td>\n",
       "      <td>-0.189578</td>\n",
       "      <td>15.000000</td>\n",
       "      <td>0.0</td>\n",
       "      <td>2.0</td>\n",
       "      <td>20220523.0</td>\n",
       "      <td>Norfolk Southern Corporation</td>\n",
       "      <td>Railroads</td>\n",
       "      <td>Industrials</td>\n",
       "      <td>https://www.norfolksouthern.com</td>\n",
       "      <td>1</td>\n",
       "      <td>0.684851</td>\n",
       "    </tr>\n",
       "    <tr>\n",
       "      <th>3</th>\n",
       "      <td>AME</td>\n",
       "      <td>117.360001</td>\n",
       "      <td>117.30115769198665</td>\n",
       "      <td>117.30604205910618</td>\n",
       "      <td>1642.0</td>\n",
       "      <td>-0.655083</td>\n",
       "      <td>0.672415</td>\n",
       "      <td>-0.758997</td>\n",
       "      <td>6.666667</td>\n",
       "      <td>0.0</td>\n",
       "      <td>4.5</td>\n",
       "      <td>20220523.0</td>\n",
       "      <td>AMETEK, Inc.</td>\n",
       "      <td>Specialty Industrial Machinery</td>\n",
       "      <td>Industrials</td>\n",
       "      <td>https://www.ametek.com</td>\n",
       "      <td>1</td>\n",
       "      <td>0.672415</td>\n",
       "    </tr>\n",
       "    <tr>\n",
       "      <th>4</th>\n",
       "      <td>GWW</td>\n",
       "      <td>464.540009</td>\n",
       "      <td>464.70344418395933</td>\n",
       "      <td>464.70344418395933</td>\n",
       "      <td>1642.0</td>\n",
       "      <td>-0.632104</td>\n",
       "      <td>0.596303</td>\n",
       "      <td>-0.145197</td>\n",
       "      <td>11.666667</td>\n",
       "      <td>0.5</td>\n",
       "      <td>0.0</td>\n",
       "      <td>20220523.0</td>\n",
       "      <td>W.W. Grainger, Inc.</td>\n",
       "      <td>Industrial Distribution</td>\n",
       "      <td>Industrials</td>\n",
       "      <td>https://www.grainger.com</td>\n",
       "      <td>1</td>\n",
       "      <td>0.596303</td>\n",
       "    </tr>\n",
       "    <tr>\n",
       "      <th>5</th>\n",
       "      <td>HII</td>\n",
       "      <td>197.759995</td>\n",
       "      <td>197.75999450683594</td>\n",
       "      <td>197.75999450683594</td>\n",
       "      <td>1642.0</td>\n",
       "      <td>0.085434</td>\n",
       "      <td>0.593500</td>\n",
       "      <td>-0.053745</td>\n",
       "      <td>15.000000</td>\n",
       "      <td>0.0</td>\n",
       "      <td>0.0</td>\n",
       "      <td>20220523.0</td>\n",
       "      <td>Huntington Ingalls Industries, Inc.</td>\n",
       "      <td>Aerospace &amp; Defense</td>\n",
       "      <td>Industrials</td>\n",
       "      <td>https://www.huntingtoningalls.com</td>\n",
       "      <td>1</td>\n",
       "      <td>0.593500</td>\n",
       "    </tr>\n",
       "    <tr>\n",
       "      <th>8</th>\n",
       "      <td>HWM</td>\n",
       "      <td>33.160000</td>\n",
       "      <td>33.15999984741211</td>\n",
       "      <td>33.15999984741211</td>\n",
       "      <td>1278.0</td>\n",
       "      <td>-0.356381</td>\n",
       "      <td>0.446915</td>\n",
       "      <td>-0.587761</td>\n",
       "      <td>6.666667</td>\n",
       "      <td>0.0</td>\n",
       "      <td>0.0</td>\n",
       "      <td>20220523.0</td>\n",
       "      <td>Howmet Aerospace Inc.</td>\n",
       "      <td>Specialty Industrial Machinery</td>\n",
       "      <td>Industrials</td>\n",
       "      <td>https://www.howmet.com</td>\n",
       "      <td>1</td>\n",
       "      <td>0.446915</td>\n",
       "    </tr>\n",
       "    <tr>\n",
       "      <th>13</th>\n",
       "      <td>DE</td>\n",
       "      <td>313.309998</td>\n",
       "      <td>313.30999755859375</td>\n",
       "      <td>313.30999755859375</td>\n",
       "      <td>1642.0</td>\n",
       "      <td>-2.061347</td>\n",
       "      <td>0.317389</td>\n",
       "      <td>0.274608</td>\n",
       "      <td>18.333333</td>\n",
       "      <td>0.0</td>\n",
       "      <td>0.0</td>\n",
       "      <td>20220523.0</td>\n",
       "      <td>Deere &amp; Company</td>\n",
       "      <td>Farm &amp; Heavy Construction Machinery</td>\n",
       "      <td>Industrials</td>\n",
       "      <td>https://www.deere.com</td>\n",
       "      <td>1</td>\n",
       "      <td>0.317389</td>\n",
       "    </tr>\n",
       "    <tr>\n",
       "      <th>16</th>\n",
       "      <td>AAL</td>\n",
       "      <td>16.260000</td>\n",
       "      <td>16.23169298950802</td>\n",
       "      <td>16.22995743863594</td>\n",
       "      <td>1642.0</td>\n",
       "      <td>0.165548</td>\n",
       "      <td>0.238701</td>\n",
       "      <td>-0.002504</td>\n",
       "      <td>18.333333</td>\n",
       "      <td>0.0</td>\n",
       "      <td>0.0</td>\n",
       "      <td>20220523.0</td>\n",
       "      <td>American Airlines Group Inc.</td>\n",
       "      <td>Airlines</td>\n",
       "      <td>Industrials</td>\n",
       "      <td>https://www.aa.com</td>\n",
       "      <td>1</td>\n",
       "      <td>0.238701</td>\n",
       "    </tr>\n",
       "    <tr>\n",
       "      <th>19</th>\n",
       "      <td>PH</td>\n",
       "      <td>258.769989</td>\n",
       "      <td>257.5166468381221</td>\n",
       "      <td>257.6550915916948</td>\n",
       "      <td>1642.0</td>\n",
       "      <td>0.115452</td>\n",
       "      <td>0.149716</td>\n",
       "      <td>-0.764554</td>\n",
       "      <td>16.666667</td>\n",
       "      <td>0.0</td>\n",
       "      <td>3.5</td>\n",
       "      <td>20220523.0</td>\n",
       "      <td>Parker-Hannifin Corporation</td>\n",
       "      <td>Specialty Industrial Machinery</td>\n",
       "      <td>Industrials</td>\n",
       "      <td>https://www.parker.com</td>\n",
       "      <td>1</td>\n",
       "      <td>0.149716</td>\n",
       "    </tr>\n",
       "    <tr>\n",
       "      <th>20</th>\n",
       "      <td>DAL</td>\n",
       "      <td>38.639999</td>\n",
       "      <td>38.63999938964844</td>\n",
       "      <td>38.63999938964844</td>\n",
       "      <td>1642.0</td>\n",
       "      <td>-0.210704</td>\n",
       "      <td>0.100603</td>\n",
       "      <td>0.291275</td>\n",
       "      <td>15.000000</td>\n",
       "      <td>0.0</td>\n",
       "      <td>0.0</td>\n",
       "      <td>20220523.0</td>\n",
       "      <td>Delta Air Lines, Inc.</td>\n",
       "      <td>Airlines</td>\n",
       "      <td>Industrials</td>\n",
       "      <td>https://www.delta.com</td>\n",
       "      <td>1</td>\n",
       "      <td>0.100603</td>\n",
       "    </tr>\n",
       "    <tr>\n",
       "      <th>21</th>\n",
       "      <td>CAT</td>\n",
       "      <td>197.820007</td>\n",
       "      <td>e</td>\n",
       "      <td>r</td>\n",
       "      <td>1642.0</td>\n",
       "      <td>0.034316</td>\n",
       "      <td>0.084626</td>\n",
       "      <td>0.098441</td>\n",
       "      <td>13.333333</td>\n",
       "      <td>0.0</td>\n",
       "      <td>0.0</td>\n",
       "      <td>20220523.0</td>\n",
       "      <td>Caterpillar Inc.</td>\n",
       "      <td>Farm &amp; Heavy Construction Machinery</td>\n",
       "      <td>Industrials</td>\n",
       "      <td>https://www.caterpillar.com</td>\n",
       "      <td>1</td>\n",
       "      <td>0.084626</td>\n",
       "    </tr>\n",
       "    <tr>\n",
       "      <th>22</th>\n",
       "      <td>UAL</td>\n",
       "      <td>43.549999</td>\n",
       "      <td>43.54999923706055</td>\n",
       "      <td>43.54999923706055</td>\n",
       "      <td>1642.0</td>\n",
       "      <td>-0.138031</td>\n",
       "      <td>0.033666</td>\n",
       "      <td>-0.025945</td>\n",
       "      <td>21.666667</td>\n",
       "      <td>0.0</td>\n",
       "      <td>0.0</td>\n",
       "      <td>20220523.0</td>\n",
       "      <td>United Airlines Holdings, Inc.</td>\n",
       "      <td>Airlines</td>\n",
       "      <td>Industrials</td>\n",
       "      <td>https://www.united.com</td>\n",
       "      <td>1</td>\n",
       "      <td>0.033666</td>\n",
       "    </tr>\n",
       "    <tr>\n",
       "      <th>28</th>\n",
       "      <td>ALK</td>\n",
       "      <td>46.099998</td>\n",
       "      <td>46.099998474121094</td>\n",
       "      <td>46.099998474121094</td>\n",
       "      <td>1642.0</td>\n",
       "      <td>-0.309151</td>\n",
       "      <td>-0.160553</td>\n",
       "      <td>0.243341</td>\n",
       "      <td>15.000000</td>\n",
       "      <td>0.0</td>\n",
       "      <td>0.0</td>\n",
       "      <td>20220523.0</td>\n",
       "      <td>Alaska Air Group, Inc.</td>\n",
       "      <td>Airlines</td>\n",
       "      <td>Industrials</td>\n",
       "      <td>https://www.alaskaair.com</td>\n",
       "      <td>1</td>\n",
       "      <td>-0.160553</td>\n",
       "    </tr>\n",
       "    <tr>\n",
       "      <th>29</th>\n",
       "      <td>PCAR</td>\n",
       "      <td>79.809998</td>\n",
       "      <td>79.80999755859375</td>\n",
       "      <td>79.80999755859375</td>\n",
       "      <td>1642.0</td>\n",
       "      <td>-0.351826</td>\n",
       "      <td>-0.194628</td>\n",
       "      <td>0.147721</td>\n",
       "      <td>16.666667</td>\n",
       "      <td>0.5</td>\n",
       "      <td>1.5</td>\n",
       "      <td>20220523.0</td>\n",
       "      <td>PACCAR Inc</td>\n",
       "      <td>Farm &amp; Heavy Construction Machinery</td>\n",
       "      <td>Industrials</td>\n",
       "      <td>https://www.paccar.com</td>\n",
       "      <td>1</td>\n",
       "      <td>-0.194628</td>\n",
       "    </tr>\n",
       "    <tr>\n",
       "      <th>31</th>\n",
       "      <td>SNA</td>\n",
       "      <td>209.960007</td>\n",
       "      <td>210.20111996832583</td>\n",
       "      <td>210.67202687950854</td>\n",
       "      <td>1642.0</td>\n",
       "      <td>0.305974</td>\n",
       "      <td>-0.212107</td>\n",
       "      <td>0.118370</td>\n",
       "      <td>13.333333</td>\n",
       "      <td>0.0</td>\n",
       "      <td>0.0</td>\n",
       "      <td>20220523.0</td>\n",
       "      <td>Snap-on Incorporated</td>\n",
       "      <td>Tools &amp; Accessories</td>\n",
       "      <td>Industrials</td>\n",
       "      <td>https://www.snapon.com</td>\n",
       "      <td>1</td>\n",
       "      <td>-0.212107</td>\n",
       "    </tr>\n",
       "    <tr>\n",
       "      <th>37</th>\n",
       "      <td>TDG</td>\n",
       "      <td>550.239990</td>\n",
       "      <td>547.3428931745968</td>\n",
       "      <td>547.4237289268342</td>\n",
       "      <td>1642.0</td>\n",
       "      <td>-0.214840</td>\n",
       "      <td>-0.277125</td>\n",
       "      <td>-0.793934</td>\n",
       "      <td>10.000000</td>\n",
       "      <td>0.0</td>\n",
       "      <td>0.0</td>\n",
       "      <td>20220523.0</td>\n",
       "      <td>TransDigm Group Incorporated</td>\n",
       "      <td>Aerospace &amp; Defense</td>\n",
       "      <td>Industrials</td>\n",
       "      <td>https://www.transdigm.com</td>\n",
       "      <td>1</td>\n",
       "      <td>-0.277125</td>\n",
       "    </tr>\n",
       "    <tr>\n",
       "      <th>38</th>\n",
       "      <td>EMR</td>\n",
       "      <td>83.639999</td>\n",
       "      <td>83.55864867649471</td>\n",
       "      <td>83.57161834180725</td>\n",
       "      <td>1642.0</td>\n",
       "      <td>-0.228528</td>\n",
       "      <td>-0.286451</td>\n",
       "      <td>0.415863</td>\n",
       "      <td>10.000000</td>\n",
       "      <td>0.0</td>\n",
       "      <td>0.0</td>\n",
       "      <td>20220523.0</td>\n",
       "      <td>Emerson Electric Co.</td>\n",
       "      <td>Specialty Industrial Machinery</td>\n",
       "      <td>Industrials</td>\n",
       "      <td>https://www.emerson.com</td>\n",
       "      <td>1</td>\n",
       "      <td>-0.286451</td>\n",
       "    </tr>\n",
       "    <tr>\n",
       "      <th>45</th>\n",
       "      <td>WAB</td>\n",
       "      <td>86.959999</td>\n",
       "      <td>86.95999908447266</td>\n",
       "      <td>86.95999908447266</td>\n",
       "      <td>1642.0</td>\n",
       "      <td>0.104125</td>\n",
       "      <td>-0.403107</td>\n",
       "      <td>-0.613117</td>\n",
       "      <td>16.666667</td>\n",
       "      <td>0.0</td>\n",
       "      <td>0.0</td>\n",
       "      <td>20220523.0</td>\n",
       "      <td>Westinghouse Air Brake Technologies Corporation</td>\n",
       "      <td>Railroads</td>\n",
       "      <td>Industrials</td>\n",
       "      <td>https://www.wabteccorp.com</td>\n",
       "      <td>1</td>\n",
       "      <td>-0.403107</td>\n",
       "    </tr>\n",
       "    <tr>\n",
       "      <th>53</th>\n",
       "      <td>LUV</td>\n",
       "      <td>42.650002</td>\n",
       "      <td>42.650001525878906</td>\n",
       "      <td>42.650001525878906</td>\n",
       "      <td>1642.0</td>\n",
       "      <td>-0.024598</td>\n",
       "      <td>-0.503161</td>\n",
       "      <td>0.315527</td>\n",
       "      <td>11.666667</td>\n",
       "      <td>0.5</td>\n",
       "      <td>0.0</td>\n",
       "      <td>20220523.0</td>\n",
       "      <td>Southwest Airlines Co.</td>\n",
       "      <td>Airlines</td>\n",
       "      <td>Industrials</td>\n",
       "      <td>https://www.southwest.com</td>\n",
       "      <td>1</td>\n",
       "      <td>-0.503161</td>\n",
       "    </tr>\n",
       "    <tr>\n",
       "      <th>56</th>\n",
       "      <td>URI</td>\n",
       "      <td>269.920013</td>\n",
       "      <td>269.9200134277344</td>\n",
       "      <td>269.9200134277344</td>\n",
       "      <td>1642.0</td>\n",
       "      <td>-0.629010</td>\n",
       "      <td>-0.537140</td>\n",
       "      <td>-0.892014</td>\n",
       "      <td>10.000000</td>\n",
       "      <td>0.0</td>\n",
       "      <td>0.5</td>\n",
       "      <td>20220523.0</td>\n",
       "      <td>United Rentals, Inc.</td>\n",
       "      <td>Rental &amp; Leasing Services</td>\n",
       "      <td>Industrials</td>\n",
       "      <td>https://www.unitedrentals.com</td>\n",
       "      <td>1</td>\n",
       "      <td>-0.537140</td>\n",
       "    </tr>\n",
       "    <tr>\n",
       "      <th>59</th>\n",
       "      <td>TXT</td>\n",
       "      <td>62.490002</td>\n",
       "      <td>62.4900016784668</td>\n",
       "      <td>62.4900016784668</td>\n",
       "      <td>1642.0</td>\n",
       "      <td>0.427590</td>\n",
       "      <td>-0.587005</td>\n",
       "      <td>-0.053997</td>\n",
       "      <td>10.000000</td>\n",
       "      <td>0.0</td>\n",
       "      <td>0.0</td>\n",
       "      <td>20220523.0</td>\n",
       "      <td>Textron Inc.</td>\n",
       "      <td>Aerospace &amp; Defense</td>\n",
       "      <td>Industrials</td>\n",
       "      <td>https://www.textron.com</td>\n",
       "      <td>1</td>\n",
       "      <td>-0.587005</td>\n",
       "    </tr>\n",
       "    <tr>\n",
       "      <th>66</th>\n",
       "      <td>GE</td>\n",
       "      <td>75.250000</td>\n",
       "      <td>75.25</td>\n",
       "      <td>75.25</td>\n",
       "      <td>1642.0</td>\n",
       "      <td>-1.350282</td>\n",
       "      <td>-1.276527</td>\n",
       "      <td>-1.254806</td>\n",
       "      <td>6.666667</td>\n",
       "      <td>0.0</td>\n",
       "      <td>0.0</td>\n",
       "      <td>20220523.0</td>\n",
       "      <td>General Electric Company</td>\n",
       "      <td>Specialty Industrial Machinery</td>\n",
       "      <td>Industrials</td>\n",
       "      <td>https://www.ge.com</td>\n",
       "      <td>1</td>\n",
       "      <td>-1.276527</td>\n",
       "    </tr>\n",
       "  </tbody>\n",
       "</table>\n",
       "</div>"
      ],
      "text/plain": [
       "   ticker  close_price               day_1               day_5  df_size  \\\n",
       "0     CSX    30.940001   30.86850991917504  30.870550887244498   1642.0   \n",
       "1     RTX    90.080002   89.89200841970411   89.53579637332174   1642.0   \n",
       "2     NSC   228.860001  228.79633063679756  228.80086667020018   1642.0   \n",
       "3     AME   117.360001  117.30115769198665  117.30604205910618   1642.0   \n",
       "4     GWW   464.540009  464.70344418395933  464.70344418395933   1642.0   \n",
       "5     HII   197.759995  197.75999450683594  197.75999450683594   1642.0   \n",
       "8     HWM    33.160000   33.15999984741211   33.15999984741211   1278.0   \n",
       "13     DE   313.309998  313.30999755859375  313.30999755859375   1642.0   \n",
       "16    AAL    16.260000   16.23169298950802   16.22995743863594   1642.0   \n",
       "19     PH   258.769989   257.5166468381221   257.6550915916948   1642.0   \n",
       "20    DAL    38.639999   38.63999938964844   38.63999938964844   1642.0   \n",
       "21    CAT   197.820007                   e                   r   1642.0   \n",
       "22    UAL    43.549999   43.54999923706055   43.54999923706055   1642.0   \n",
       "28    ALK    46.099998  46.099998474121094  46.099998474121094   1642.0   \n",
       "29   PCAR    79.809998   79.80999755859375   79.80999755859375   1642.0   \n",
       "31    SNA   209.960007  210.20111996832583  210.67202687950854   1642.0   \n",
       "37    TDG   550.239990   547.3428931745968   547.4237289268342   1642.0   \n",
       "38    EMR    83.639999   83.55864867649471   83.57161834180725   1642.0   \n",
       "45    WAB    86.959999   86.95999908447266   86.95999908447266   1642.0   \n",
       "53    LUV    42.650002  42.650001525878906  42.650001525878906   1642.0   \n",
       "56    URI   269.920013   269.9200134277344   269.9200134277344   1642.0   \n",
       "59    TXT    62.490002    62.4900016784668    62.4900016784668   1642.0   \n",
       "66     GE    75.250000               75.25               75.25   1642.0   \n",
       "\n",
       "      skew_1   skew_60  skew_120   cutoff_1  cutoff_60  cutoff_120  \\\n",
       "0  -0.321467  0.785174 -0.236405  15.000000        0.0         0.0   \n",
       "1   0.438592  0.762674 -0.532696  11.666667        0.5         0.0   \n",
       "2  -0.523785  0.684851 -0.189578  15.000000        0.0         2.0   \n",
       "3  -0.655083  0.672415 -0.758997   6.666667        0.0         4.5   \n",
       "4  -0.632104  0.596303 -0.145197  11.666667        0.5         0.0   \n",
       "5   0.085434  0.593500 -0.053745  15.000000        0.0         0.0   \n",
       "8  -0.356381  0.446915 -0.587761   6.666667        0.0         0.0   \n",
       "13 -2.061347  0.317389  0.274608  18.333333        0.0         0.0   \n",
       "16  0.165548  0.238701 -0.002504  18.333333        0.0         0.0   \n",
       "19  0.115452  0.149716 -0.764554  16.666667        0.0         3.5   \n",
       "20 -0.210704  0.100603  0.291275  15.000000        0.0         0.0   \n",
       "21  0.034316  0.084626  0.098441  13.333333        0.0         0.0   \n",
       "22 -0.138031  0.033666 -0.025945  21.666667        0.0         0.0   \n",
       "28 -0.309151 -0.160553  0.243341  15.000000        0.0         0.0   \n",
       "29 -0.351826 -0.194628  0.147721  16.666667        0.5         1.5   \n",
       "31  0.305974 -0.212107  0.118370  13.333333        0.0         0.0   \n",
       "37 -0.214840 -0.277125 -0.793934  10.000000        0.0         0.0   \n",
       "38 -0.228528 -0.286451  0.415863  10.000000        0.0         0.0   \n",
       "45  0.104125 -0.403107 -0.613117  16.666667        0.0         0.0   \n",
       "53 -0.024598 -0.503161  0.315527  11.666667        0.5         0.0   \n",
       "56 -0.629010 -0.537140 -0.892014  10.000000        0.0         0.5   \n",
       "59  0.427590 -0.587005 -0.053997  10.000000        0.0         0.0   \n",
       "66 -1.350282 -1.276527 -1.254806   6.666667        0.0         0.0   \n",
       "\n",
       "    created_date                                         longName  \\\n",
       "0     20220523.0                                  CSX Corporation   \n",
       "1     20220523.0                Raytheon Technologies Corporation   \n",
       "2     20220523.0                     Norfolk Southern Corporation   \n",
       "3     20220523.0                                     AMETEK, Inc.   \n",
       "4     20220523.0                              W.W. Grainger, Inc.   \n",
       "5     20220523.0              Huntington Ingalls Industries, Inc.   \n",
       "8     20220523.0                            Howmet Aerospace Inc.   \n",
       "13    20220523.0                                  Deere & Company   \n",
       "16    20220523.0                     American Airlines Group Inc.   \n",
       "19    20220523.0                      Parker-Hannifin Corporation   \n",
       "20    20220523.0                            Delta Air Lines, Inc.   \n",
       "21    20220523.0                                 Caterpillar Inc.   \n",
       "22    20220523.0                   United Airlines Holdings, Inc.   \n",
       "28    20220523.0                           Alaska Air Group, Inc.   \n",
       "29    20220523.0                                       PACCAR Inc   \n",
       "31    20220523.0                             Snap-on Incorporated   \n",
       "37    20220523.0                     TransDigm Group Incorporated   \n",
       "38    20220523.0                             Emerson Electric Co.   \n",
       "45    20220523.0  Westinghouse Air Brake Technologies Corporation   \n",
       "53    20220523.0                           Southwest Airlines Co.   \n",
       "56    20220523.0                             United Rentals, Inc.   \n",
       "59    20220523.0                                     Textron Inc.   \n",
       "66    20220523.0                         General Electric Company   \n",
       "\n",
       "                               industry       sector  \\\n",
       "0                             Railroads  Industrials   \n",
       "1                   Aerospace & Defense  Industrials   \n",
       "2                             Railroads  Industrials   \n",
       "3        Specialty Industrial Machinery  Industrials   \n",
       "4               Industrial Distribution  Industrials   \n",
       "5                   Aerospace & Defense  Industrials   \n",
       "8        Specialty Industrial Machinery  Industrials   \n",
       "13  Farm & Heavy Construction Machinery  Industrials   \n",
       "16                             Airlines  Industrials   \n",
       "19       Specialty Industrial Machinery  Industrials   \n",
       "20                             Airlines  Industrials   \n",
       "21  Farm & Heavy Construction Machinery  Industrials   \n",
       "22                             Airlines  Industrials   \n",
       "28                             Airlines  Industrials   \n",
       "29  Farm & Heavy Construction Machinery  Industrials   \n",
       "31                  Tools & Accessories  Industrials   \n",
       "37                  Aerospace & Defense  Industrials   \n",
       "38       Specialty Industrial Machinery  Industrials   \n",
       "45                            Railroads  Industrials   \n",
       "53                             Airlines  Industrials   \n",
       "56            Rental & Leasing Services  Industrials   \n",
       "59                  Aerospace & Defense  Industrials   \n",
       "66       Specialty Industrial Machinery  Industrials   \n",
       "\n",
       "                                  url  cutoff_bin  cutoff_skew  \n",
       "0                 https://www.csx.com           1     0.785174  \n",
       "1                 https://www.rtx.com           1     0.762674  \n",
       "2     https://www.norfolksouthern.com           1     0.684851  \n",
       "3              https://www.ametek.com           1     0.672415  \n",
       "4            https://www.grainger.com           1     0.596303  \n",
       "5   https://www.huntingtoningalls.com           1     0.593500  \n",
       "8              https://www.howmet.com           1     0.446915  \n",
       "13              https://www.deere.com           1     0.317389  \n",
       "16                 https://www.aa.com           1     0.238701  \n",
       "19             https://www.parker.com           1     0.149716  \n",
       "20              https://www.delta.com           1     0.100603  \n",
       "21        https://www.caterpillar.com           1     0.084626  \n",
       "22             https://www.united.com           1     0.033666  \n",
       "28          https://www.alaskaair.com           1    -0.160553  \n",
       "29             https://www.paccar.com           1    -0.194628  \n",
       "31             https://www.snapon.com           1    -0.212107  \n",
       "37          https://www.transdigm.com           1    -0.277125  \n",
       "38            https://www.emerson.com           1    -0.286451  \n",
       "45         https://www.wabteccorp.com           1    -0.403107  \n",
       "53          https://www.southwest.com           1    -0.503161  \n",
       "56      https://www.unitedrentals.com           1    -0.537140  \n",
       "59            https://www.textron.com           1    -0.587005  \n",
       "66                 https://www.ge.com           1    -1.276527  "
      ]
     },
     "execution_count": 611,
     "metadata": {},
     "output_type": "execute_result"
    }
   ],
   "source": [
    "df_temp[df_temp[\"cutoff_bin\"] == 1]\n"
   ]
  },
  {
   "cell_type": "code",
   "execution_count": null,
   "id": "4d72b4ad",
   "metadata": {},
   "outputs": [],
   "source": []
  },
  {
   "cell_type": "code",
   "execution_count": 1,
   "id": "71bdbcde",
   "metadata": {},
   "outputs": [],
   "source": [
    "import streamlit as st"
   ]
  },
  {
   "cell_type": "code",
   "execution_count": 125,
   "id": "f9028193",
   "metadata": {},
   "outputs": [],
   "source": [
    "field = {}\n",
    "field[\"date_range\"] = [1, 60, 120]\n",
    "field[\"int_years\"] = 7\n",
    "field[\"cutoff\"] = [-1.56, 1.56] \n",
    "\n",
    "field[\"SectorReport\"] = [1, 5, 10, 20, 60]\n",
    "\n",
    "field[\"sector\"] = ['Basic Materials',\n",
    "                 'Consumer Cyclical',\n",
    "                 'Healthcare',\n",
    "                 'Industrials',\n",
    "                 'Financial Services',\n",
    "                 'Technology',\n",
    "                 'Energy',\n",
    "                 'Consumer Defensive',\n",
    "                 'Communication Services',\n",
    "                 'Utilities',\n",
    "                 'Real Estate']\n",
    "field[\"risk\"] = [1, 2, 3]\n",
    "field[\"period\"] = [\"less than 3 months\", \"less than 6 months\", \"more than 6 months\"]\n",
    "\n",
    "field[\"Basic Materials\"] = ['Specialty Chemicals',\n",
    "                         'Chemicals',\n",
    "                         'Agricultural Inputs',\n",
    "                         'Copper',\n",
    "                         'Building Materials',\n",
    "                         'Gold',\n",
    "                         'Steel']\n",
    "\n",
    "field['Consumer Cyclical'] = ['Travel Services',\n",
    "                             'Leisure',\n",
    "                             'Home Improvement Retail',\n",
    "                             'Restaurants',\n",
    "                             'Footwear & Accessories',\n",
    "                             'Internet Retail',\n",
    "                             'Lodging',\n",
    "                             'Specialty Retail',\n",
    "                             'Apparel Retail',\n",
    "                             'Auto Manufacturers',\n",
    "                             'Auto Parts',\n",
    "                             'Packaging & Containers',\n",
    "                             'Resorts & Casinos',\n",
    "                             'Auto & Truck Dealerships',\n",
    "                             'Residential Construction',\n",
    "                             'Furnishings, Fixtures & Appliances',\n",
    "                             'Apparel Manufacturing',\n",
    "                             'Personal Services',\n",
    "                             'Luxury Goods']\n",
    "field['Healthcare'] = ['Medical Devices',\n",
    "                         'Drug Manufacturers—General',\n",
    "                         'Healthcare Plans',\n",
    "                         'Pharmaceutical Retailers',\n",
    "                         'Health Information Services',\n",
    "                         'Medical Instruments & Supplies',\n",
    "                         'Medical Distribution',\n",
    "                         'Diagnostics & Research',\n",
    "                         'Biotechnology',\n",
    "                         'Medical Care Facilities',\n",
    "                         'Drug Manufacturers—Specialty & Generic']\n",
    "\n",
    "field['Industrials'] = ['Conglomerates',\n",
    "                         'Aerospace & Defense',\n",
    "                         'Farm & Heavy Construction Machinery',\n",
    "                         'Airlines',\n",
    "                         'Staffing & Employment Services',\n",
    "                         'Railroads',\n",
    "                         'Industrial Distribution',\n",
    "                         'Consulting Services',\n",
    "                         'Specialty Industrial Machinery',\n",
    "                         'Integrated Freight & Logistics',\n",
    "                         'Security & Protection Services',\n",
    "                         'Business Equipment & Supplies',\n",
    "                         'Specialty Business Services',\n",
    "                         'Engineering & Construction',\n",
    "                         'Building Products & Equipment',\n",
    "                         'Waste Management',\n",
    "                         'Tools & Accessories',\n",
    "                         'Rental & Leasing Services',\n",
    "                         'Trucking']\n",
    "field['Financial Services'] = ['Credit Services',\n",
    "                             'Capital Markets',\n",
    "                             'Banks—Diversified',\n",
    "                             'Insurance—Property & Casualty',\n",
    "                             'Insurance—Diversified',\n",
    "                             'Asset Management',\n",
    "                             'Insurance—Life',\n",
    "                             'Banks—Regional',\n",
    "                             'Insurance Brokers',\n",
    "                             'Insurance—Specialty',\n",
    "                             'Financial Data & Stock Exchanges',\n",
    "                             'Insurance—Reinsurance']\n",
    "\n",
    "field['Technology'] = ['Consumer Electronics',\n",
    "                         'Communication Equipment',\n",
    "                         'Information Technology Services',\n",
    "                         'Semiconductors',\n",
    "                         'Software—Infrastructure',\n",
    "                         'Semiconductor Equipment & Materials',\n",
    "                         'Software—Application',\n",
    "                         'Computer Hardware',\n",
    "                         'Electronic Components',\n",
    "                         'Scientific & Technical Instruments',\n",
    "                         'Solar']\n",
    "\n",
    "field['Energy'] = ['Oil & Gas Integrated',\n",
    "                     'Oil & Gas E&P',\n",
    "                     'Oil & Gas Midstream',\n",
    "                     'Oil & Gas Equipment & Services',\n",
    "                     'Oil & Gas Refining & Marketing']\n",
    "\n",
    "field['Consumer Defensive'] = ['Beverages—Non-Alcoholic',\n",
    "                                 'Household & Personal Products',\n",
    "                                 'Discount Stores',\n",
    "                                 'Packaged Foods',\n",
    "                                 'Confectioners',\n",
    "                                 'Tobacco',\n",
    "                                 'Farm Products',\n",
    "                                 'Beverages—Wineries & Distilleries',\n",
    "                                 'Grocery Stores',\n",
    "                                 'Food Distribution',\n",
    "                                 'Beverages—Brewers']\n",
    "\n",
    "\n",
    "field['Communication Services'] = ['Telecom Services',\n",
    "                                     'Entertainment',\n",
    "                                     'Electronic Gaming & Multimedia',\n",
    "                                     'Internet Content & Information',\n",
    "                                     'Broadcasting',\n",
    "                                     'Advertising Agencies']\n",
    "field['Utilities'] = ['Utilities—Regulated Electric',\n",
    "                     'Utilities—Diversified',\n",
    "                     'Utilities—Regulated Water',\n",
    "                     'Utilities—Regulated Gas',\n",
    "                     'Utilities—Independent Power Producers']\n",
    "\n",
    "field['Real Estate'] = ['REIT—Retail',\n",
    "                         'REIT—Office',\n",
    "                         'REIT—Specialty',\n",
    "                         'REIT—Residential',\n",
    "                         'Real Estate Services',\n",
    "                         'REIT—Industrial',\n",
    "                         'REIT—Healthcare Facilities',\n",
    "                         'REIT—Hotel & Motel']\n",
    "\n",
    "with open('../dictionaries/master_dict.json', 'w') as f:\n",
    "    json.dump(field, f)"
   ]
  },
  {
   "cell_type": "code",
   "execution_count": 520,
   "id": "574036ee",
   "metadata": {},
   "outputs": [
    {
     "data": {
      "text/plain": [
       "{'date_range': [1, 60, 120],\n",
       " 'int_years': 7,\n",
       " 'cutoff': [-1.56, 1.56],\n",
       " 'SectorReport': [1, 5, 10, 20, 60],\n",
       " 'sector': ['Basic Materials',\n",
       "  'Consumer Cyclical',\n",
       "  'Healthcare',\n",
       "  'Industrials',\n",
       "  'Financial Services',\n",
       "  'Technology',\n",
       "  'Energy',\n",
       "  'Consumer Defensive',\n",
       "  'Communication Services',\n",
       "  'Utilities',\n",
       "  'Real Estate'],\n",
       " 'risk': [1, 2, 3],\n",
       " 'period': ['less than 3 months', 'less than 6 months', 'more than 6 months'],\n",
       " 'Basic Materials': ['Specialty Chemicals',\n",
       "  'Chemicals',\n",
       "  'Agricultural Inputs',\n",
       "  'Copper',\n",
       "  'Building Materials',\n",
       "  'Gold',\n",
       "  'Steel'],\n",
       " 'Consumer Cyclical': ['Travel Services',\n",
       "  'Leisure',\n",
       "  'Home Improvement Retail',\n",
       "  'Restaurants',\n",
       "  'Footwear & Accessories',\n",
       "  'Internet Retail',\n",
       "  'Lodging',\n",
       "  'Specialty Retail',\n",
       "  'Apparel Retail',\n",
       "  'Auto Manufacturers',\n",
       "  'Auto Parts',\n",
       "  'Packaging & Containers',\n",
       "  'Resorts & Casinos',\n",
       "  'Auto & Truck Dealerships',\n",
       "  'Residential Construction',\n",
       "  'Furnishings, Fixtures & Appliances',\n",
       "  'Apparel Manufacturing',\n",
       "  'Personal Services',\n",
       "  'Luxury Goods'],\n",
       " 'Healthcare': ['Medical Devices',\n",
       "  'Drug Manufacturers—General',\n",
       "  'Healthcare Plans',\n",
       "  'Pharmaceutical Retailers',\n",
       "  'Health Information Services',\n",
       "  'Medical Instruments & Supplies',\n",
       "  'Medical Distribution',\n",
       "  'Diagnostics & Research',\n",
       "  'Biotechnology',\n",
       "  'Medical Care Facilities',\n",
       "  'Drug Manufacturers—Specialty & Generic'],\n",
       " 'Industrials': ['Conglomerates',\n",
       "  'Aerospace & Defense',\n",
       "  'Farm & Heavy Construction Machinery',\n",
       "  'Airlines',\n",
       "  'Staffing & Employment Services',\n",
       "  'Railroads',\n",
       "  'Industrial Distribution',\n",
       "  'Consulting Services',\n",
       "  'Specialty Industrial Machinery',\n",
       "  'Integrated Freight & Logistics',\n",
       "  'Security & Protection Services',\n",
       "  'Business Equipment & Supplies',\n",
       "  'Specialty Business Services',\n",
       "  'Engineering & Construction',\n",
       "  'Building Products & Equipment',\n",
       "  'Waste Management',\n",
       "  'Tools & Accessories',\n",
       "  'Rental & Leasing Services',\n",
       "  'Trucking'],\n",
       " 'Financial Services': ['Credit Services',\n",
       "  'Capital Markets',\n",
       "  'Banks—Diversified',\n",
       "  'Insurance—Property & Casualty',\n",
       "  'Insurance—Diversified',\n",
       "  'Asset Management',\n",
       "  'Insurance—Life',\n",
       "  'Banks—Regional',\n",
       "  'Insurance Brokers',\n",
       "  'Insurance—Specialty',\n",
       "  'Financial Data & Stock Exchanges',\n",
       "  'Insurance—Reinsurance'],\n",
       " 'Technology': ['Consumer Electronics',\n",
       "  'Communication Equipment',\n",
       "  'Information Technology Services',\n",
       "  'Semiconductors',\n",
       "  'Software—Infrastructure',\n",
       "  'Semiconductor Equipment & Materials',\n",
       "  'Software—Application',\n",
       "  'Computer Hardware',\n",
       "  'Electronic Components',\n",
       "  'Scientific & Technical Instruments',\n",
       "  'Solar'],\n",
       " 'Energy': ['Oil & Gas Integrated',\n",
       "  'Oil & Gas E&P',\n",
       "  'Oil & Gas Midstream',\n",
       "  'Oil & Gas Equipment & Services',\n",
       "  'Oil & Gas Refining & Marketing'],\n",
       " 'Consumer Defensive': ['Beverages—Non-Alcoholic',\n",
       "  'Household & Personal Products',\n",
       "  'Discount Stores',\n",
       "  'Packaged Foods',\n",
       "  'Confectioners',\n",
       "  'Tobacco',\n",
       "  'Farm Products',\n",
       "  'Beverages—Wineries & Distilleries',\n",
       "  'Grocery Stores',\n",
       "  'Food Distribution',\n",
       "  'Beverages—Brewers'],\n",
       " 'Communication Services': ['Telecom Services',\n",
       "  'Entertainment',\n",
       "  'Electronic Gaming & Multimedia',\n",
       "  'Internet Content & Information',\n",
       "  'Broadcasting',\n",
       "  'Advertising Agencies'],\n",
       " 'Utilities': ['Utilities—Regulated Electric',\n",
       "  'Utilities—Diversified',\n",
       "  'Utilities—Regulated Water',\n",
       "  'Utilities—Regulated Gas',\n",
       "  'Utilities—Independent Power Producers'],\n",
       " 'Real Estate': ['REIT—Retail',\n",
       "  'REIT—Office',\n",
       "  'REIT—Specialty',\n",
       "  'REIT—Residential',\n",
       "  'Real Estate Services',\n",
       "  'REIT—Industrial',\n",
       "  'REIT—Healthcare Facilities',\n",
       "  'REIT—Hotel & Motel']}"
      ]
     },
     "execution_count": 520,
     "metadata": {},
     "output_type": "execute_result"
    }
   ],
   "source": [
    "import json\n",
    "with open('../dictionaries/master_dict.json') as json_file:\n",
    "    master_dict = json.load(json_file)\n",
    "master_dict"
   ]
  },
  {
   "cell_type": "code",
   "execution_count": 521,
   "id": "10e0c52d",
   "metadata": {},
   "outputs": [
    {
     "data": {
      "text/plain": [
       "dict_keys(['date_range', 'int_years', 'cutoff', 'SectorReport', 'sector', 'risk', 'period', 'Basic Materials', 'Consumer Cyclical', 'Healthcare', 'Industrials', 'Financial Services', 'Technology', 'Energy', 'Consumer Defensive', 'Communication Services', 'Utilities', 'Real Estate'])"
      ]
     },
     "execution_count": 521,
     "metadata": {},
     "output_type": "execute_result"
    }
   ],
   "source": [
    "master_dict.keys()"
   ]
  },
  {
   "cell_type": "code",
   "execution_count": 523,
   "id": "06e5f56e",
   "metadata": {},
   "outputs": [
    {
     "data": {
      "text/plain": [
       "['Utilities—Regulated Electric',\n",
       " 'Utilities—Diversified',\n",
       " 'Utilities—Regulated Water',\n",
       " 'Utilities—Regulated Gas',\n",
       " 'Utilities—Independent Power Producers']"
      ]
     },
     "execution_count": 523,
     "metadata": {},
     "output_type": "execute_result"
    }
   ],
   "source": [
    "master_dict[\"Utilities\"]"
   ]
  },
  {
   "cell_type": "code",
   "execution_count": 530,
   "id": "b6d41fb8",
   "metadata": {},
   "outputs": [
    {
     "data": {
      "text/plain": [
       "['ticker',\n",
       " 'close_price',\n",
       " 'day_1',\n",
       " 'day_5',\n",
       " 'df_size',\n",
       " 'skew_1',\n",
       " 'skew_60',\n",
       " 'skew_120',\n",
       " 'cutoff_1',\n",
       " 'cutoff_60',\n",
       " 'cutoff_120',\n",
       " 'created_date',\n",
       " 'longName',\n",
       " 'industry',\n",
       " 'sector',\n",
       " 'url']"
      ]
     },
     "execution_count": 530,
     "metadata": {},
     "output_type": "execute_result"
    }
   ],
   "source": [
    "df_final.columns.tolist()"
   ]
  },
  {
   "cell_type": "code",
   "execution_count": 577,
   "id": "17e8d0e9",
   "metadata": {},
   "outputs": [
    {
     "data": {
      "text/html": [
       "<div>\n",
       "<style scoped>\n",
       "    .dataframe tbody tr th:only-of-type {\n",
       "        vertical-align: middle;\n",
       "    }\n",
       "\n",
       "    .dataframe tbody tr th {\n",
       "        vertical-align: top;\n",
       "    }\n",
       "\n",
       "    .dataframe thead th {\n",
       "        text-align: right;\n",
       "    }\n",
       "</style>\n",
       "<table border=\"1\" class=\"dataframe\">\n",
       "  <thead>\n",
       "    <tr style=\"text-align: right;\">\n",
       "      <th></th>\n",
       "      <th>ticker</th>\n",
       "      <th>close_price</th>\n",
       "      <th>day_1</th>\n",
       "      <th>day_5</th>\n",
       "      <th>df_size</th>\n",
       "      <th>skew_1</th>\n",
       "      <th>skew_60</th>\n",
       "      <th>skew_120</th>\n",
       "      <th>cutoff_1</th>\n",
       "      <th>cutoff_60</th>\n",
       "      <th>cutoff_120</th>\n",
       "      <th>created_date</th>\n",
       "      <th>longName</th>\n",
       "      <th>industry</th>\n",
       "      <th>sector</th>\n",
       "      <th>url</th>\n",
       "    </tr>\n",
       "  </thead>\n",
       "  <tbody>\n",
       "    <tr>\n",
       "      <th>358</th>\n",
       "      <td>NLSN</td>\n",
       "      <td>26.709999</td>\n",
       "      <td>26.710283818080583</td>\n",
       "      <td>26.713206583659403</td>\n",
       "      <td>1642.0</td>\n",
       "      <td>4.439617</td>\n",
       "      <td>0.751224</td>\n",
       "      <td>0.973881</td>\n",
       "      <td>8.333333</td>\n",
       "      <td>14.5</td>\n",
       "      <td>7.5</td>\n",
       "      <td>20220506.0</td>\n",
       "      <td>Nielsen Holdings plc</td>\n",
       "      <td>Consulting Services</td>\n",
       "      <td>Industrials</td>\n",
       "      <td>https://www.nielsen.com</td>\n",
       "    </tr>\n",
       "  </tbody>\n",
       "</table>\n",
       "</div>"
      ],
      "text/plain": [
       "    ticker  close_price               day_1               day_5  df_size  \\\n",
       "358   NLSN    26.709999  26.710283818080583  26.713206583659403   1642.0   \n",
       "\n",
       "       skew_1   skew_60  skew_120  cutoff_1  cutoff_60  cutoff_120  \\\n",
       "358  4.439617  0.751224  0.973881  8.333333       14.5         7.5   \n",
       "\n",
       "     created_date              longName             industry       sector  \\\n",
       "358    20220506.0  Nielsen Holdings plc  Consulting Services  Industrials   \n",
       "\n",
       "                         url  \n",
       "358  https://www.nielsen.com  "
      ]
     },
     "execution_count": 577,
     "metadata": {},
     "output_type": "execute_result"
    }
   ],
   "source": [
    "df_final[df_final[\"ticker\"] == \"NLSN\"]"
   ]
  },
  {
   "cell_type": "code",
   "execution_count": null,
   "id": "26680caa",
   "metadata": {},
   "outputs": [],
   "source": []
  },
  {
   "cell_type": "code",
   "execution_count": 546,
   "id": "59aeed33",
   "metadata": {},
   "outputs": [
    {
     "data": {
      "text/plain": [
       "dict_keys(['Basic Materials', 'Consumer Cyclical', 'Healthcare', 'Industrials', 'Financial Services', 'Technology', 'Energy', 'Consumer Defensive', 'Communication Services', 'Utilities', 'Real Estate'])"
      ]
     },
     "execution_count": 546,
     "metadata": {},
     "output_type": "execute_result"
    }
   ],
   "source": [
    "output_dict.keys()"
   ]
  },
  {
   "cell_type": "code",
   "execution_count": 575,
   "id": "07d90a2b",
   "metadata": {},
   "outputs": [
    {
     "data": {
      "text/plain": [
       "{'Basic Materials': {'pos_diff_close': ['LIN',\n",
       "   'APD',\n",
       "   'ALB',\n",
       "   'CE',\n",
       "   'CF',\n",
       "   'ECL',\n",
       "   'IFF',\n",
       "   'LYB',\n",
       "   'MOS',\n",
       "   'NUE',\n",
       "   'PPG',\n",
       "   'SHW',\n",
       "   'VMC',\n",
       "   'CTVA',\n",
       "   'DOW'],\n",
       "  'neg_diff_close': ['DD', 'EMN', 'FMC', 'FCX', 'MLM', 'NEM']},\n",
       " 'Consumer Cyclical': {'pos_diff_close': ['CUKPF',\n",
       "   'MCD',\n",
       "   'MAR',\n",
       "   'ROST',\n",
       "   'TSLA',\n",
       "   'ULTA',\n",
       "   'BKNG',\n",
       "   'AZO',\n",
       "   'BWA',\n",
       "   'GPC',\n",
       "   'HAS',\n",
       "   'HLT',\n",
       "   'IP',\n",
       "   'LEG',\n",
       "   'LKQ',\n",
       "   'MHK',\n",
       "   'NCLH',\n",
       "   'PKG',\n",
       "   'ROL',\n",
       "   'RCL',\n",
       "   'SEE',\n",
       "   'WRK',\n",
       "   'WHR',\n",
       "   'AMCR',\n",
       "   'BBWI'],\n",
       "  'neg_diff_close': ['CCL',\n",
       "   'CUK',\n",
       "   'HD',\n",
       "   'NKE',\n",
       "   'AMZN',\n",
       "   'EBAY',\n",
       "   'EXPE',\n",
       "   'ORLY',\n",
       "   'SBUX',\n",
       "   'TSCO',\n",
       "   'F',\n",
       "   'GM',\n",
       "   'LOW',\n",
       "   'AAP',\n",
       "   'APTV',\n",
       "   'BLL',\n",
       "   'BALY',\n",
       "   'BBY',\n",
       "   'KMX',\n",
       "   'CMG',\n",
       "   'DRI',\n",
       "   'DHI',\n",
       "   'FBHS',\n",
       "   'GPS',\n",
       "   'HBI',\n",
       "   'LEN',\n",
       "   'MGM',\n",
       "   'PHM',\n",
       "   'PVH',\n",
       "   'RL',\n",
       "   'TPR',\n",
       "   'TJX',\n",
       "   'UAA',\n",
       "   'UA',\n",
       "   'VFC',\n",
       "   'WYNN',\n",
       "   'YUM',\n",
       "   'DPZ',\n",
       "   'DPUKY',\n",
       "   'ETSY',\n",
       "   'LVS',\n",
       "   'NVR',\n",
       "   'POOL',\n",
       "   'CZR',\n",
       "   'PENN']},\n",
       " 'Healthcare': {'pos_diff_close': ['STE',\n",
       "   'JNJ',\n",
       "   'MRK',\n",
       "   'UNH',\n",
       "   'AMGN',\n",
       "   'BIIB',\n",
       "   'CERN',\n",
       "   'GILD',\n",
       "   'INCY',\n",
       "   'REGN',\n",
       "   'VRTX',\n",
       "   'ABBV',\n",
       "   'BMY',\n",
       "   'LLY',\n",
       "   'MDT',\n",
       "   'ABC',\n",
       "   'ANTM',\n",
       "   'BDX',\n",
       "   'BSX',\n",
       "   'CAH',\n",
       "   'CNC',\n",
       "   'CI',\n",
       "   'HOLX',\n",
       "   'HUM',\n",
       "   'MCK',\n",
       "   'DGX',\n",
       "   'TMO',\n",
       "   'WAT',\n",
       "   'ZBH',\n",
       "   'CTLT',\n",
       "   'MRNA'],\n",
       "  'neg_diff_close': ['PFE',\n",
       "   'WBA',\n",
       "   'XRAY',\n",
       "   'HSIC',\n",
       "   'ILMN',\n",
       "   'ISRG',\n",
       "   'ABT',\n",
       "   'CVS',\n",
       "   'DHR',\n",
       "   'ABMD',\n",
       "   'A',\n",
       "   'ALGN',\n",
       "   'BAX',\n",
       "   'COO',\n",
       "   'DVA',\n",
       "   'EW',\n",
       "   'HCA',\n",
       "   'IDXX',\n",
       "   'IQV',\n",
       "   'LH',\n",
       "   'MTD',\n",
       "   'PKI',\n",
       "   'RMD',\n",
       "   'SYK',\n",
       "   'TFX',\n",
       "   'UHS',\n",
       "   'ZTS',\n",
       "   'BIO',\n",
       "   'DXCM',\n",
       "   'VTRS',\n",
       "   'WST',\n",
       "   'CRL',\n",
       "   'TECH']},\n",
       " 'Industrials': {'pos_diff_close': ['MMM',\n",
       "   'CAT',\n",
       "   'AAL',\n",
       "   'ADP',\n",
       "   'PAYX',\n",
       "   'VRSK',\n",
       "   'HON',\n",
       "   'ALK',\n",
       "   'ALLE',\n",
       "   'AVY',\n",
       "   'CHRW',\n",
       "   'CTAS',\n",
       "   'CMI',\n",
       "   'DE',\n",
       "   'DAL',\n",
       "   'ETN',\n",
       "   'EXPD',\n",
       "   'HII',\n",
       "   'ITW',\n",
       "   'J',\n",
       "   'MAS',\n",
       "   'NLSN',\n",
       "   'PH',\n",
       "   'RSG',\n",
       "   'ROP',\n",
       "   'SNA',\n",
       "   'LUV',\n",
       "   'UAL',\n",
       "   'WAB',\n",
       "   'WM',\n",
       "   'XYL',\n",
       "   'GD',\n",
       "   'HWM',\n",
       "   'IEX',\n",
       "   'NOC',\n",
       "   'TXT'],\n",
       "  'neg_diff_close': ['BA',\n",
       "   'CSX',\n",
       "   'FAST',\n",
       "   'PCAR',\n",
       "   'EMR',\n",
       "   'FDX',\n",
       "   'GE',\n",
       "   'RTX',\n",
       "   'UNP',\n",
       "   'UPS',\n",
       "   'AME',\n",
       "   'AOS',\n",
       "   'CPRT',\n",
       "   'DOV',\n",
       "   'EFX',\n",
       "   'GPN',\n",
       "   'GWW',\n",
       "   'JBHT',\n",
       "   'JCI',\n",
       "   'NSC',\n",
       "   'PNR',\n",
       "   'PWR',\n",
       "   'RHI',\n",
       "   'ROK',\n",
       "   'SWK',\n",
       "   'URI',\n",
       "   'LHX',\n",
       "   'LMT',\n",
       "   'ODFL',\n",
       "   'TT',\n",
       "   'TDG',\n",
       "   'GNRC',\n",
       "   'IR']},\n",
       " 'Financial Services': {'pos_diff_close': ['AXP',\n",
       "   'TRV',\n",
       "   'V',\n",
       "   'ALL',\n",
       "   'AIG',\n",
       "   'COF',\n",
       "   'MA',\n",
       "   'MET',\n",
       "   'AJG',\n",
       "   'AIZ',\n",
       "   'CB',\n",
       "   'CINF',\n",
       "   'DFS',\n",
       "   'RE',\n",
       "   'HIG',\n",
       "   'L',\n",
       "   'MMC',\n",
       "   'NTRS',\n",
       "   'PGR',\n",
       "   'PRU',\n",
       "   'RJF',\n",
       "   'SYF',\n",
       "   'GL',\n",
       "   'PFG',\n",
       "   'WRB'],\n",
       "  'neg_diff_close': ['GS-PK',\n",
       "   'GS',\n",
       "   'JPM',\n",
       "   'PYPL',\n",
       "   'BAC',\n",
       "   'BK',\n",
       "   'BRK-B',\n",
       "   'BLK',\n",
       "   'C',\n",
       "   'MS',\n",
       "   'USB',\n",
       "   'WFC',\n",
       "   'AFL',\n",
       "   'AMP',\n",
       "   'AON',\n",
       "   'CFG',\n",
       "   'CME',\n",
       "   'CMA',\n",
       "   'FITB',\n",
       "   'FRC',\n",
       "   'FXBY',\n",
       "   'BEN',\n",
       "   'HBAN',\n",
       "   'ICE',\n",
       "   'IVZ',\n",
       "   'LNC',\n",
       "   'MTB',\n",
       "   'MSCI',\n",
       "   'NDAQ',\n",
       "   'PBCT',\n",
       "   'PNC',\n",
       "   'RF-PB',\n",
       "   'RF',\n",
       "   'SPGI',\n",
       "   'SCHW',\n",
       "   'STT',\n",
       "   'SIVB',\n",
       "   'TROW',\n",
       "   'WU',\n",
       "   'ZION',\n",
       "   'KEY',\n",
       "   'MKTX',\n",
       "   'TFC',\n",
       "   'BRO']},\n",
       " 'Technology': {'pos_diff_close': ['IBM',\n",
       "   'ADI',\n",
       "   'FISV',\n",
       "   'WDC',\n",
       "   'FIS',\n",
       "   'FLT',\n",
       "   'FTV',\n",
       "   'HPQ',\n",
       "   'JKHY',\n",
       "   'KLAC',\n",
       "   'CDW',\n",
       "   'LDOS',\n",
       "   'ENPH',\n",
       "   'MPWR',\n",
       "   'PTC'],\n",
       "  'neg_diff_close': ['AAPL',\n",
       "   'CSCO',\n",
       "   'INTC',\n",
       "   'MSFT',\n",
       "   'ADBE',\n",
       "   'AKAM',\n",
       "   'AMAT',\n",
       "   'ADSK',\n",
       "   'CTXS',\n",
       "   'CTSH',\n",
       "   'INTU',\n",
       "   'LRCX',\n",
       "   'MCHP',\n",
       "   'MU',\n",
       "   'NTAP',\n",
       "   'NVDA',\n",
       "   'NXPI',\n",
       "   'QCOM',\n",
       "   'STX',\n",
       "   'SWKS',\n",
       "   'TXN',\n",
       "   'ACN',\n",
       "   'ORCL',\n",
       "   'OCLCF',\n",
       "   'AMD',\n",
       "   'APH',\n",
       "   'ANSS',\n",
       "   'ANET',\n",
       "   'AVGO',\n",
       "   'BR',\n",
       "   'CDNS',\n",
       "   'GLW',\n",
       "   'DXC',\n",
       "   'FFIV',\n",
       "   'FTNT',\n",
       "   'GRMN',\n",
       "   'IT',\n",
       "   'HPE',\n",
       "   'IPGP',\n",
       "   'JNPR',\n",
       "   'KEYS',\n",
       "   'MSI',\n",
       "   'QRVO',\n",
       "   'CRM',\n",
       "   'SNPS',\n",
       "   'TEL',\n",
       "   'VRSN',\n",
       "   'NLOK',\n",
       "   'PAYC',\n",
       "   'NOW',\n",
       "   'TDY',\n",
       "   'TER',\n",
       "   'TYL',\n",
       "   'ZBRA',\n",
       "   'TRMB',\n",
       "   'CDAY']},\n",
       " 'Energy': {'pos_diff_close': ['XOM',\n",
       "   'COP',\n",
       "   'KMI',\n",
       "   'OXY',\n",
       "   'APA',\n",
       "   'DVN',\n",
       "   'FANG',\n",
       "   'EOG',\n",
       "   'HES',\n",
       "   'MRO',\n",
       "   'MPC',\n",
       "   'PSX',\n",
       "   'PXD',\n",
       "   'VLO',\n",
       "   'WMB'],\n",
       "  'neg_diff_close': ['CVX', 'SLB', 'BKR', 'HAL', 'OKE']},\n",
       " 'Consumer Defensive': {'pos_diff_close': ['KO',\n",
       "   'PG',\n",
       "   'WMT',\n",
       "   'DLTR',\n",
       "   'KHC',\n",
       "   'MDLZ',\n",
       "   'MNST',\n",
       "   'MO',\n",
       "   'CL',\n",
       "   'PM',\n",
       "   'TGT',\n",
       "   'ADM',\n",
       "   'BF-B',\n",
       "   'CPB',\n",
       "   'CLX',\n",
       "   'CAG',\n",
       "   'STZ',\n",
       "   'DG',\n",
       "   'GIS',\n",
       "   'HSY',\n",
       "   'HRL',\n",
       "   'SJM',\n",
       "   'K',\n",
       "   'KMB',\n",
       "   'LW',\n",
       "   'NWL',\n",
       "   'SYY',\n",
       "   'TSN',\n",
       "   'TAP',\n",
       "   'PEP'],\n",
       "  'neg_diff_close': ['COST', 'CHD', 'KR', 'ELAA.F', 'EL', 'MKC', 'TAP-A']},\n",
       " 'Communication Services': {'pos_diff_close': ['FB',\n",
       "   'TMUS',\n",
       "   'T',\n",
       "   'OMC',\n",
       "   'TWTR',\n",
       "   'LUMN'],\n",
       "  'neg_diff_close': ['VZ',\n",
       "   'DIS',\n",
       "   'ATVI',\n",
       "   'GOOGL',\n",
       "   'GOOG',\n",
       "   'CHTR',\n",
       "   'CMCSA',\n",
       "   'DISCA',\n",
       "   'DISCK',\n",
       "   'DISCB',\n",
       "   'DISH',\n",
       "   'EA',\n",
       "   'NFLX',\n",
       "   'FOXA',\n",
       "   'FOX',\n",
       "   'IPG',\n",
       "   'NWSA',\n",
       "   'NWS',\n",
       "   'TTWO',\n",
       "   'LYV',\n",
       "   'MTCH']},\n",
       " 'Utilities': {'pos_diff_close': ['DUK',\n",
       "   'EXC',\n",
       "   'SO',\n",
       "   'AEE',\n",
       "   'AEP',\n",
       "   'ATO',\n",
       "   'CNP',\n",
       "   'CMS',\n",
       "   'ED',\n",
       "   'D',\n",
       "   'DTE',\n",
       "   'EIX',\n",
       "   'ETR',\n",
       "   'EVRG',\n",
       "   'ES',\n",
       "   'NRG',\n",
       "   'PPL',\n",
       "   'PEG',\n",
       "   'SRE',\n",
       "   'WEC',\n",
       "   'XEL'],\n",
       "  'neg_diff_close': ['NEE', 'AES', 'AWK', 'CMS-PB', 'FE', 'NI', 'PNW', 'LNT']},\n",
       " 'Real Estate': {'pos_diff_close': ['AMT',\n",
       "   'CCI',\n",
       "   'DLR',\n",
       "   'EQIX',\n",
       "   'HST',\n",
       "   'IRM',\n",
       "   'KIM',\n",
       "   'O',\n",
       "   'SBAC',\n",
       "   'WY',\n",
       "   'REG'],\n",
       "  'neg_diff_close': ['SPG',\n",
       "   'ARE',\n",
       "   'AVB',\n",
       "   'BXP',\n",
       "   'CBRE',\n",
       "   'DRE',\n",
       "   'EQR',\n",
       "   'ESS',\n",
       "   'EXR',\n",
       "   'FRT',\n",
       "   'PEAK',\n",
       "   'MAA',\n",
       "   'PLD',\n",
       "   'PSA',\n",
       "   'UHT',\n",
       "   'UDR',\n",
       "   'VTR',\n",
       "   'VNO',\n",
       "   'WELL']}}"
      ]
     },
     "execution_count": 575,
     "metadata": {},
     "output_type": "execute_result"
    }
   ],
   "source": [
    "output_dict"
   ]
  },
  {
   "cell_type": "code",
   "execution_count": 564,
   "id": "0d6a6344",
   "metadata": {},
   "outputs": [
    {
     "data": {
      "text/plain": [
       "['NEE', 'AES', 'AWK', 'CMS-PB', 'FE', 'NI', 'PNW', 'LNT']"
      ]
     },
     "execution_count": 564,
     "metadata": {},
     "output_type": "execute_result"
    }
   ],
   "source": [
    "output_dict[\"Utilities\"][\"neg_diff_close\"]"
   ]
  },
  {
   "cell_type": "code",
   "execution_count": 569,
   "id": "1906fa87",
   "metadata": {},
   "outputs": [],
   "source": [
    "def sector_df(output_dict, sector, up): \n",
    "    indu_col = [\"ticker\", \"close_price\", \"longName\", \"url\"]\n",
    "    if up == True: \n",
    "        df_temp = df_final[df_final[\"ticker\"].isin(output_dict[sector][\"pos_diff_close\"])][indu_col].sort_values(\"close_price\")\n",
    "    else: \n",
    "        df_temp = df_final[df_final[\"ticker\"].isin(output_dict[sector][\"neg_diff_close\"])][indu_col].sort_values(\"close_price\")\n",
    "    \n",
    "    df_temp[\"close_price\"] = df_temp[\"close_price\"].round(1)\n",
    "    df_temp[\"close_price\"] = '$' + df_temp[\"close_price\"].astype(str)\n",
    "    df_temp.reset_index(inplace=True, drop=True)\n",
    "    df_temp.rename(columns={\"ticker\": \"Ticker\", \n",
    "                           \"close_price\": \"Close Price\", \n",
    "                           \"longName\": \"Company Name\",\n",
    "                           \"url\": \"URL\"}, inplace=True)\n",
    "    return df_temp\n",
    "    "
   ]
  },
  {
   "cell_type": "code",
   "execution_count": 574,
   "id": "e3ab0ab5",
   "metadata": {},
   "outputs": [
    {
     "data": {
      "text/html": [
       "<div>\n",
       "<style scoped>\n",
       "    .dataframe tbody tr th:only-of-type {\n",
       "        vertical-align: middle;\n",
       "    }\n",
       "\n",
       "    .dataframe tbody tr th {\n",
       "        vertical-align: top;\n",
       "    }\n",
       "\n",
       "    .dataframe thead th {\n",
       "        text-align: right;\n",
       "    }\n",
       "</style>\n",
       "<table border=\"1\" class=\"dataframe\">\n",
       "  <thead>\n",
       "    <tr style=\"text-align: right;\">\n",
       "      <th></th>\n",
       "      <th>Ticker</th>\n",
       "      <th>Close Price</th>\n",
       "      <th>Company Name</th>\n",
       "      <th>URL</th>\n",
       "    </tr>\n",
       "  </thead>\n",
       "  <tbody>\n",
       "    <tr>\n",
       "      <th>0</th>\n",
       "      <td>AES</td>\n",
       "      <td>$21.3</td>\n",
       "      <td>The AES Corporation</td>\n",
       "      <td>https://www.aes.com</td>\n",
       "    </tr>\n",
       "    <tr>\n",
       "      <th>1</th>\n",
       "      <td>NI</td>\n",
       "      <td>$29.3</td>\n",
       "      <td>NiSource Inc.</td>\n",
       "      <td>https://www.nisource.com</td>\n",
       "    </tr>\n",
       "    <tr>\n",
       "      <th>2</th>\n",
       "      <td>FE</td>\n",
       "      <td>$42.5</td>\n",
       "      <td>FirstEnergy Corp.</td>\n",
       "      <td>https://www.firstenergycorp.com</td>\n",
       "    </tr>\n",
       "    <tr>\n",
       "      <th>3</th>\n",
       "      <td>LNT</td>\n",
       "      <td>$58.9</td>\n",
       "      <td>Alliant Energy Corporation</td>\n",
       "      <td>https://www.alliantenergy.com</td>\n",
       "    </tr>\n",
       "    <tr>\n",
       "      <th>4</th>\n",
       "      <td>NEE</td>\n",
       "      <td>$71.8</td>\n",
       "      <td>NextEra Energy, Inc.</td>\n",
       "      <td>https://www.nexteraenergy.com</td>\n",
       "    </tr>\n",
       "    <tr>\n",
       "      <th>5</th>\n",
       "      <td>PNW</td>\n",
       "      <td>$72.8</td>\n",
       "      <td>Pinnacle West Capital Corporation</td>\n",
       "      <td>https://www.pinnaclewest.com</td>\n",
       "    </tr>\n",
       "    <tr>\n",
       "      <th>6</th>\n",
       "      <td>CMS-PB</td>\n",
       "      <td>$93.0</td>\n",
       "      <td>Consumers Energy Company</td>\n",
       "      <td>https://www.consumersenergy.com</td>\n",
       "    </tr>\n",
       "    <tr>\n",
       "      <th>7</th>\n",
       "      <td>AWK</td>\n",
       "      <td>$148.4</td>\n",
       "      <td>American Water Works Company, Inc.</td>\n",
       "      <td>https://www.amwater.com</td>\n",
       "    </tr>\n",
       "  </tbody>\n",
       "</table>\n",
       "</div>"
      ],
      "text/plain": [
       "   Ticker Close Price                        Company Name  \\\n",
       "0     AES       $21.3                 The AES Corporation   \n",
       "1      NI       $29.3                       NiSource Inc.   \n",
       "2      FE       $42.5                   FirstEnergy Corp.   \n",
       "3     LNT       $58.9          Alliant Energy Corporation   \n",
       "4     NEE       $71.8                NextEra Energy, Inc.   \n",
       "5     PNW       $72.8   Pinnacle West Capital Corporation   \n",
       "6  CMS-PB       $93.0            Consumers Energy Company   \n",
       "7     AWK      $148.4  American Water Works Company, Inc.   \n",
       "\n",
       "                               URL  \n",
       "0              https://www.aes.com  \n",
       "1         https://www.nisource.com  \n",
       "2  https://www.firstenergycorp.com  \n",
       "3    https://www.alliantenergy.com  \n",
       "4    https://www.nexteraenergy.com  \n",
       "5     https://www.pinnaclewest.com  \n",
       "6  https://www.consumersenergy.com  \n",
       "7          https://www.amwater.com  "
      ]
     },
     "execution_count": 574,
     "metadata": {},
     "output_type": "execute_result"
    }
   ],
   "source": [
    "sector_df(output_dict, \"Utilities\", False)"
   ]
  },
  {
   "cell_type": "code",
   "execution_count": 534,
   "id": "098cfaf9",
   "metadata": {},
   "outputs": [],
   "source": [
    "indu_col = [\"ticker\", \"close_price\", \"longName\", \"url\"]"
   ]
  },
  {
   "cell_type": "code",
   "execution_count": 559,
   "id": "a040132b",
   "metadata": {},
   "outputs": [
    {
     "data": {
      "text/html": [
       "<div>\n",
       "<style scoped>\n",
       "    .dataframe tbody tr th:only-of-type {\n",
       "        vertical-align: middle;\n",
       "    }\n",
       "\n",
       "    .dataframe tbody tr th {\n",
       "        vertical-align: top;\n",
       "    }\n",
       "\n",
       "    .dataframe thead th {\n",
       "        text-align: right;\n",
       "    }\n",
       "</style>\n",
       "<table border=\"1\" class=\"dataframe\">\n",
       "  <thead>\n",
       "    <tr style=\"text-align: right;\">\n",
       "      <th></th>\n",
       "      <th>ticker</th>\n",
       "      <th>close_price</th>\n",
       "      <th>longName</th>\n",
       "      <th>url</th>\n",
       "    </tr>\n",
       "  </thead>\n",
       "  <tbody>\n",
       "    <tr>\n",
       "      <th>0</th>\n",
       "      <td>PPL</td>\n",
       "      <td>$28.8</td>\n",
       "      <td>PPL Corporation</td>\n",
       "      <td>https://www.pplweb.com</td>\n",
       "    </tr>\n",
       "    <tr>\n",
       "      <th>1</th>\n",
       "      <td>CNP</td>\n",
       "      <td>$30.9</td>\n",
       "      <td>CenterPoint Energy, Inc.</td>\n",
       "      <td>https://www.centerpointenergy.com</td>\n",
       "    </tr>\n",
       "    <tr>\n",
       "      <th>2</th>\n",
       "      <td>NRG</td>\n",
       "      <td>$37.7</td>\n",
       "      <td>NRG Energy, Inc.</td>\n",
       "      <td>https://www.nrg.com</td>\n",
       "    </tr>\n",
       "    <tr>\n",
       "      <th>3</th>\n",
       "      <td>EXC</td>\n",
       "      <td>$46.9</td>\n",
       "      <td>Exelon Corporation</td>\n",
       "      <td>https://www.exeloncorp.com</td>\n",
       "    </tr>\n",
       "    <tr>\n",
       "      <th>4</th>\n",
       "      <td>CMS</td>\n",
       "      <td>$67.5</td>\n",
       "      <td>CMS Energy Corporation</td>\n",
       "      <td>https://www.cmsenergy.com</td>\n",
       "    </tr>\n",
       "    <tr>\n",
       "      <th>5</th>\n",
       "      <td>EVRG</td>\n",
       "      <td>$68.3</td>\n",
       "      <td>Evergy, Inc.</td>\n",
       "      <td>https://www.evergyinc.com</td>\n",
       "    </tr>\n",
       "    <tr>\n",
       "      <th>6</th>\n",
       "      <td>EIX</td>\n",
       "      <td>$68.8</td>\n",
       "      <td>Edison International</td>\n",
       "      <td>https://www.edison.com</td>\n",
       "    </tr>\n",
       "    <tr>\n",
       "      <th>7</th>\n",
       "      <td>PEG</td>\n",
       "      <td>$68.9</td>\n",
       "      <td>Public Service Enterprise Group Incorporated</td>\n",
       "      <td>https://www.pseg.com</td>\n",
       "    </tr>\n",
       "    <tr>\n",
       "      <th>8</th>\n",
       "      <td>XEL</td>\n",
       "      <td>$72.8</td>\n",
       "      <td>Xcel Energy Inc.</td>\n",
       "      <td>https://www.xcelenergy.com</td>\n",
       "    </tr>\n",
       "    <tr>\n",
       "      <th>9</th>\n",
       "      <td>SO</td>\n",
       "      <td>$74.1</td>\n",
       "      <td>The Southern Company</td>\n",
       "      <td>https://www.southerncompany.com</td>\n",
       "    </tr>\n",
       "    <tr>\n",
       "      <th>10</th>\n",
       "      <td>D</td>\n",
       "      <td>$83.0</td>\n",
       "      <td>Dominion Energy, Inc.</td>\n",
       "      <td>https://www.dominionenergy.com</td>\n",
       "    </tr>\n",
       "    <tr>\n",
       "      <th>11</th>\n",
       "      <td>ES</td>\n",
       "      <td>$89.8</td>\n",
       "      <td>Eversource Energy</td>\n",
       "      <td>https://www.eversource.com</td>\n",
       "    </tr>\n",
       "    <tr>\n",
       "      <th>12</th>\n",
       "      <td>ED</td>\n",
       "      <td>$92.7</td>\n",
       "      <td>Consolidated Edison, Inc.</td>\n",
       "      <td>https://www.conedison.com</td>\n",
       "    </tr>\n",
       "    <tr>\n",
       "      <th>13</th>\n",
       "      <td>AEE</td>\n",
       "      <td>$93.2</td>\n",
       "      <td>Ameren Corporation</td>\n",
       "      <td>https://www.ameren.com</td>\n",
       "    </tr>\n",
       "    <tr>\n",
       "      <th>14</th>\n",
       "      <td>AEP</td>\n",
       "      <td>$99.7</td>\n",
       "      <td>American Electric Power Company, Inc.</td>\n",
       "      <td>https://www.aep.com</td>\n",
       "    </tr>\n",
       "    <tr>\n",
       "      <th>15</th>\n",
       "      <td>WEC</td>\n",
       "      <td>$101.1</td>\n",
       "      <td>WEC Energy Group, Inc.</td>\n",
       "      <td>https://www.wecenergygroup.com</td>\n",
       "    </tr>\n",
       "    <tr>\n",
       "      <th>16</th>\n",
       "      <td>DUK</td>\n",
       "      <td>$110.1</td>\n",
       "      <td>Duke Energy Corporation</td>\n",
       "      <td>https://www.duke-energy.com</td>\n",
       "    </tr>\n",
       "    <tr>\n",
       "      <th>17</th>\n",
       "      <td>ATO</td>\n",
       "      <td>$115.0</td>\n",
       "      <td>Atmos Energy Corporation</td>\n",
       "      <td>https://www.atmosenergy.com</td>\n",
       "    </tr>\n",
       "    <tr>\n",
       "      <th>18</th>\n",
       "      <td>ETR</td>\n",
       "      <td>$118.3</td>\n",
       "      <td>Entergy Corporation</td>\n",
       "      <td>https://www.entergy.com</td>\n",
       "    </tr>\n",
       "    <tr>\n",
       "      <th>19</th>\n",
       "      <td>DTE</td>\n",
       "      <td>$128.8</td>\n",
       "      <td>DTE Energy Company</td>\n",
       "      <td>https://newlook.dteenergy.com</td>\n",
       "    </tr>\n",
       "    <tr>\n",
       "      <th>20</th>\n",
       "      <td>SRE</td>\n",
       "      <td>$161.1</td>\n",
       "      <td>Sempra</td>\n",
       "      <td>https://www.sempra.com</td>\n",
       "    </tr>\n",
       "  </tbody>\n",
       "</table>\n",
       "</div>"
      ],
      "text/plain": [
       "   ticker close_price                                      longName  \\\n",
       "0     PPL       $28.8                               PPL Corporation   \n",
       "1     CNP       $30.9                      CenterPoint Energy, Inc.   \n",
       "2     NRG       $37.7                              NRG Energy, Inc.   \n",
       "3     EXC       $46.9                            Exelon Corporation   \n",
       "4     CMS       $67.5                        CMS Energy Corporation   \n",
       "5    EVRG       $68.3                                  Evergy, Inc.   \n",
       "6     EIX       $68.8                          Edison International   \n",
       "7     PEG       $68.9  Public Service Enterprise Group Incorporated   \n",
       "8     XEL       $72.8                              Xcel Energy Inc.   \n",
       "9      SO       $74.1                          The Southern Company   \n",
       "10      D       $83.0                         Dominion Energy, Inc.   \n",
       "11     ES       $89.8                             Eversource Energy   \n",
       "12     ED       $92.7                     Consolidated Edison, Inc.   \n",
       "13    AEE       $93.2                            Ameren Corporation   \n",
       "14    AEP       $99.7         American Electric Power Company, Inc.   \n",
       "15    WEC      $101.1                        WEC Energy Group, Inc.   \n",
       "16    DUK      $110.1                       Duke Energy Corporation   \n",
       "17    ATO      $115.0                      Atmos Energy Corporation   \n",
       "18    ETR      $118.3                           Entergy Corporation   \n",
       "19    DTE      $128.8                            DTE Energy Company   \n",
       "20    SRE      $161.1                                        Sempra   \n",
       "\n",
       "                                  url  \n",
       "0              https://www.pplweb.com  \n",
       "1   https://www.centerpointenergy.com  \n",
       "2                 https://www.nrg.com  \n",
       "3          https://www.exeloncorp.com  \n",
       "4           https://www.cmsenergy.com  \n",
       "5           https://www.evergyinc.com  \n",
       "6              https://www.edison.com  \n",
       "7                https://www.pseg.com  \n",
       "8          https://www.xcelenergy.com  \n",
       "9     https://www.southerncompany.com  \n",
       "10     https://www.dominionenergy.com  \n",
       "11         https://www.eversource.com  \n",
       "12          https://www.conedison.com  \n",
       "13             https://www.ameren.com  \n",
       "14                https://www.aep.com  \n",
       "15     https://www.wecenergygroup.com  \n",
       "16        https://www.duke-energy.com  \n",
       "17        https://www.atmosenergy.com  \n",
       "18            https://www.entergy.com  \n",
       "19      https://newlook.dteenergy.com  \n",
       "20             https://www.sempra.com  "
      ]
     },
     "execution_count": 559,
     "metadata": {},
     "output_type": "execute_result"
    }
   ],
   "source": [
    "sec_up = df_final[df_final[\"ticker\"].isin(output_dict[\"Utilities\"][\"pos_diff_close\"])][indu_col].sort_values(\"close_price\")\n",
    "sec_up[\"close_price\"] = sec_up[\"close_price\"].round(1)\n",
    "sec_up[\"close_price\"] = '$' + sec_up[\"close_price\"].astype(str)\n",
    "sec_up.reset_index(inplace=True, drop=True)\n",
    "sec_up"
   ]
  },
  {
   "cell_type": "code",
   "execution_count": null,
   "id": "8e606072",
   "metadata": {},
   "outputs": [],
   "source": []
  },
  {
   "cell_type": "code",
   "execution_count": null,
   "id": "d71de534",
   "metadata": {},
   "outputs": [],
   "source": []
  },
  {
   "cell_type": "code",
   "execution_count": 522,
   "id": "cafbc3f9",
   "metadata": {},
   "outputs": [
    {
     "data": {
      "text/plain": [
       "['Oil & Gas Integrated',\n",
       " 'Oil & Gas E&P',\n",
       " 'Oil & Gas Midstream',\n",
       " 'Oil & Gas Equipment & Services',\n",
       " 'Oil & Gas Refining & Marketing']"
      ]
     },
     "execution_count": 522,
     "metadata": {},
     "output_type": "execute_result"
    }
   ],
   "source": [
    "master_dict[\"Energy\"]"
   ]
  },
  {
   "cell_type": "code",
   "execution_count": 69,
   "id": "3a290eb3",
   "metadata": {},
   "outputs": [],
   "source": [
    "import datetime\n",
    "import pandas as pd\n",
    "path = \"/Users/jeeyounglee/Desktop/python/class101/streamlit/v1_sp500/data/df_forcasting/\"\n",
    "\n",
    "today = datetime.datetime.now().strftime('%Y%m%d') \n",
    "df_final = pd.read_csv(path + f\"df_forcasting_{today}.csv\", sep='\\t')"
   ]
  },
  {
   "cell_type": "code",
   "execution_count": 70,
   "id": "0b7267cb",
   "metadata": {},
   "outputs": [
    {
     "data": {
      "text/html": [
       "<div>\n",
       "<style scoped>\n",
       "    .dataframe tbody tr th:only-of-type {\n",
       "        vertical-align: middle;\n",
       "    }\n",
       "\n",
       "    .dataframe tbody tr th {\n",
       "        vertical-align: top;\n",
       "    }\n",
       "\n",
       "    .dataframe thead th {\n",
       "        text-align: right;\n",
       "    }\n",
       "</style>\n",
       "<table border=\"1\" class=\"dataframe\">\n",
       "  <thead>\n",
       "    <tr style=\"text-align: right;\">\n",
       "      <th></th>\n",
       "      <th>ticker</th>\n",
       "      <th>close_price</th>\n",
       "      <th>day_1</th>\n",
       "      <th>day_5</th>\n",
       "      <th>df_size</th>\n",
       "      <th>skew_1</th>\n",
       "      <th>skew_60</th>\n",
       "      <th>skew_120</th>\n",
       "      <th>cutoff_1</th>\n",
       "      <th>cutoff_60</th>\n",
       "      <th>cutoff_120</th>\n",
       "      <th>created_date</th>\n",
       "      <th>longName</th>\n",
       "      <th>industry</th>\n",
       "      <th>sector</th>\n",
       "      <th>url</th>\n",
       "    </tr>\n",
       "  </thead>\n",
       "  <tbody>\n",
       "    <tr>\n",
       "      <th>0</th>\n",
       "      <td>LIN</td>\n",
       "      <td>312.609985</td>\n",
       "      <td>313.4662285145444</td>\n",
       "      <td>313.3963172814061</td>\n",
       "      <td>1642.0</td>\n",
       "      <td>0.242280</td>\n",
       "      <td>-0.805755</td>\n",
       "      <td>-0.473211</td>\n",
       "      <td>28.333333</td>\n",
       "      <td>7.0</td>\n",
       "      <td>3.0</td>\n",
       "      <td>20220506.0</td>\n",
       "      <td>Linde plc</td>\n",
       "      <td>Specialty Chemicals</td>\n",
       "      <td>Basic Materials</td>\n",
       "      <td>https://www.linde.com</td>\n",
       "    </tr>\n",
       "    <tr>\n",
       "      <th>1</th>\n",
       "      <td>CCL</td>\n",
       "      <td>16.540001</td>\n",
       "      <td>16.540000915527344</td>\n",
       "      <td>16.540000915527344</td>\n",
       "      <td>1642.0</td>\n",
       "      <td>0.068765</td>\n",
       "      <td>0.118345</td>\n",
       "      <td>-0.585923</td>\n",
       "      <td>16.666667</td>\n",
       "      <td>0.0</td>\n",
       "      <td>0.0</td>\n",
       "      <td>20220506.0</td>\n",
       "      <td>Carnival Corporation &amp; plc</td>\n",
       "      <td>Travel Services</td>\n",
       "      <td>Consumer Cyclical</td>\n",
       "      <td>https://www.carnivalcorp.com</td>\n",
       "    </tr>\n",
       "    <tr>\n",
       "      <th>2</th>\n",
       "      <td>CUK</td>\n",
       "      <td>15.150000</td>\n",
       "      <td>15.149999618530273</td>\n",
       "      <td>15.149999618530273</td>\n",
       "      <td>1642.0</td>\n",
       "      <td>0.085430</td>\n",
       "      <td>0.101775</td>\n",
       "      <td>-0.401751</td>\n",
       "      <td>15.000000</td>\n",
       "      <td>0.0</td>\n",
       "      <td>0.0</td>\n",
       "      <td>20220506.0</td>\n",
       "      <td>Carnival Corporation &amp; plc</td>\n",
       "      <td>Leisure</td>\n",
       "      <td>Consumer Cyclical</td>\n",
       "      <td>https://www.carnivalcorp.com</td>\n",
       "    </tr>\n",
       "    <tr>\n",
       "      <th>3</th>\n",
       "      <td>CUKPF</td>\n",
       "      <td>17.750000</td>\n",
       "      <td>17.750000000000004</td>\n",
       "      <td>17.750000000000004</td>\n",
       "      <td>1642.0</td>\n",
       "      <td>-1.822426</td>\n",
       "      <td>0.071849</td>\n",
       "      <td>-0.368190</td>\n",
       "      <td>6.666667</td>\n",
       "      <td>0.0</td>\n",
       "      <td>0.0</td>\n",
       "      <td>20220506.0</td>\n",
       "      <td>Carnival Corporation &amp; plc</td>\n",
       "      <td>Leisure</td>\n",
       "      <td>Consumer Cyclical</td>\n",
       "      <td>https://www.carnivalcorp.com</td>\n",
       "    </tr>\n",
       "    <tr>\n",
       "      <th>4</th>\n",
       "      <td>STE</td>\n",
       "      <td>226.970001</td>\n",
       "      <td>227.46851154802076</td>\n",
       "      <td>227.24654556133885</td>\n",
       "      <td>1642.0</td>\n",
       "      <td>-0.638177</td>\n",
       "      <td>-0.056772</td>\n",
       "      <td>-0.118115</td>\n",
       "      <td>16.666667</td>\n",
       "      <td>1.0</td>\n",
       "      <td>1.0</td>\n",
       "      <td>20220506.0</td>\n",
       "      <td>STERIS plc</td>\n",
       "      <td>Medical Devices</td>\n",
       "      <td>Healthcare</td>\n",
       "      <td>https://www.steris.com</td>\n",
       "    </tr>\n",
       "  </tbody>\n",
       "</table>\n",
       "</div>"
      ],
      "text/plain": [
       "  ticker  close_price               day_1               day_5  df_size  \\\n",
       "0    LIN   312.609985   313.4662285145444   313.3963172814061   1642.0   \n",
       "1    CCL    16.540001  16.540000915527344  16.540000915527344   1642.0   \n",
       "2    CUK    15.150000  15.149999618530273  15.149999618530273   1642.0   \n",
       "3  CUKPF    17.750000  17.750000000000004  17.750000000000004   1642.0   \n",
       "4    STE   226.970001  227.46851154802076  227.24654556133885   1642.0   \n",
       "\n",
       "     skew_1   skew_60  skew_120   cutoff_1  cutoff_60  cutoff_120  \\\n",
       "0  0.242280 -0.805755 -0.473211  28.333333        7.0         3.0   \n",
       "1  0.068765  0.118345 -0.585923  16.666667        0.0         0.0   \n",
       "2  0.085430  0.101775 -0.401751  15.000000        0.0         0.0   \n",
       "3 -1.822426  0.071849 -0.368190   6.666667        0.0         0.0   \n",
       "4 -0.638177 -0.056772 -0.118115  16.666667        1.0         1.0   \n",
       "\n",
       "   created_date                    longName             industry  \\\n",
       "0    20220506.0                   Linde plc  Specialty Chemicals   \n",
       "1    20220506.0  Carnival Corporation & plc      Travel Services   \n",
       "2    20220506.0  Carnival Corporation & plc              Leisure   \n",
       "3    20220506.0  Carnival Corporation & plc              Leisure   \n",
       "4    20220506.0                  STERIS plc      Medical Devices   \n",
       "\n",
       "              sector                           url  \n",
       "0    Basic Materials         https://www.linde.com  \n",
       "1  Consumer Cyclical  https://www.carnivalcorp.com  \n",
       "2  Consumer Cyclical  https://www.carnivalcorp.com  \n",
       "3  Consumer Cyclical  https://www.carnivalcorp.com  \n",
       "4         Healthcare        https://www.steris.com  "
      ]
     },
     "execution_count": 70,
     "metadata": {},
     "output_type": "execute_result"
    }
   ],
   "source": [
    "df_final.head()"
   ]
  },
  {
   "cell_type": "code",
   "execution_count": 576,
   "id": "2de615db",
   "metadata": {},
   "outputs": [
    {
     "data": {
      "text/plain": [
       "dict_keys(['date_range', 'int_years', 'cutoff', 'SectorReport', 'sector', 'risk', 'period', 'Basic Materials', 'Consumer Cyclical', 'Healthcare', 'Industrials', 'Financial Services', 'Technology', 'Energy', 'Consumer Defensive', 'Communication Services', 'Utilities', 'Real Estate'])"
      ]
     },
     "execution_count": 576,
     "metadata": {},
     "output_type": "execute_result"
    }
   ],
   "source": [
    "master_dict.keys()"
   ]
  },
  {
   "cell_type": "code",
   "execution_count": 199,
   "id": "f03ebcce",
   "metadata": {},
   "outputs": [
    {
     "data": {
      "text/html": [
       "<div>\n",
       "<style scoped>\n",
       "    .dataframe tbody tr th:only-of-type {\n",
       "        vertical-align: middle;\n",
       "    }\n",
       "\n",
       "    .dataframe tbody tr th {\n",
       "        vertical-align: top;\n",
       "    }\n",
       "\n",
       "    .dataframe thead th {\n",
       "        text-align: right;\n",
       "    }\n",
       "</style>\n",
       "<table border=\"1\" class=\"dataframe\">\n",
       "  <thead>\n",
       "    <tr style=\"text-align: right;\">\n",
       "      <th></th>\n",
       "      <th>ticker</th>\n",
       "      <th>sector</th>\n",
       "      <th>Date</th>\n",
       "      <th>Close</th>\n",
       "      <th>Volume</th>\n",
       "      <th>diff_maxmin</th>\n",
       "      <th>diff_close</th>\n",
       "      <th>ch_per_1_mean</th>\n",
       "    </tr>\n",
       "  </thead>\n",
       "  <tbody>\n",
       "    <tr>\n",
       "      <th>15</th>\n",
       "      <td>IR</td>\n",
       "      <td>Industrials</td>\n",
       "      <td>2022-04-29</td>\n",
       "      <td>43.959999</td>\n",
       "      <td>2136100.0</td>\n",
       "      <td>5.549999</td>\n",
       "      <td>-2.220001</td>\n",
       "      <td>-0.226661</td>\n",
       "    </tr>\n",
       "    <tr>\n",
       "      <th>16</th>\n",
       "      <td>IR</td>\n",
       "      <td>Industrials</td>\n",
       "      <td>2022-05-02</td>\n",
       "      <td>44.549999</td>\n",
       "      <td>2782400.0</td>\n",
       "      <td>5.549999</td>\n",
       "      <td>-2.220001</td>\n",
       "      <td>-0.226661</td>\n",
       "    </tr>\n",
       "    <tr>\n",
       "      <th>17</th>\n",
       "      <td>IR</td>\n",
       "      <td>Industrials</td>\n",
       "      <td>2022-05-03</td>\n",
       "      <td>45.209999</td>\n",
       "      <td>2554100.0</td>\n",
       "      <td>5.549999</td>\n",
       "      <td>-2.220001</td>\n",
       "      <td>-0.226661</td>\n",
       "    </tr>\n",
       "    <tr>\n",
       "      <th>18</th>\n",
       "      <td>IR</td>\n",
       "      <td>Industrials</td>\n",
       "      <td>2022-05-04</td>\n",
       "      <td>46.990002</td>\n",
       "      <td>3178700.0</td>\n",
       "      <td>5.549999</td>\n",
       "      <td>-2.220001</td>\n",
       "      <td>-0.226661</td>\n",
       "    </tr>\n",
       "    <tr>\n",
       "      <th>19</th>\n",
       "      <td>IR</td>\n",
       "      <td>Industrials</td>\n",
       "      <td>2022-05-05</td>\n",
       "      <td>45.529999</td>\n",
       "      <td>3485800.0</td>\n",
       "      <td>5.549999</td>\n",
       "      <td>-2.220001</td>\n",
       "      <td>-0.226661</td>\n",
       "    </tr>\n",
       "  </tbody>\n",
       "</table>\n",
       "</div>"
      ],
      "text/plain": [
       "   ticker       sector       Date      Close     Volume  diff_maxmin  \\\n",
       "15     IR  Industrials 2022-04-29  43.959999  2136100.0     5.549999   \n",
       "16     IR  Industrials 2022-05-02  44.549999  2782400.0     5.549999   \n",
       "17     IR  Industrials 2022-05-03  45.209999  2554100.0     5.549999   \n",
       "18     IR  Industrials 2022-05-04  46.990002  3178700.0     5.549999   \n",
       "19     IR  Industrials 2022-05-05  45.529999  3485800.0     5.549999   \n",
       "\n",
       "    diff_close  ch_per_1_mean  \n",
       "15   -2.220001      -0.226661  \n",
       "16   -2.220001      -0.226661  \n",
       "17   -2.220001      -0.226661  \n",
       "18   -2.220001      -0.226661  \n",
       "19   -2.220001      -0.226661  "
      ]
     },
     "execution_count": 199,
     "metadata": {},
     "output_type": "execute_result"
    }
   ],
   "source": [
    "import warnings\n",
    "warnings.filterwarnings('ignore')\n",
    "\n",
    "sector_period = 20 \n",
    "# time_start = df_temp.iloc[0][\"Date\"].strftime('%Y-%m-%d') \n",
    "# time_last = df_temp.iloc[-1][\"Date\"].strftime('%Y-%m-%d') \n",
    "\n",
    "df_all = pd.DataFrame()\n",
    "\n",
    "for ticker in stock_history.keys():\n",
    "    df_temp = stock_history[ticker].iloc[-sector_period:]\n",
    "    df_temp.reset_index(inplace=True, drop=True)\n",
    "    \n",
    "    if len(df_temp) > sector_period-1:\n",
    "        df_temp[\"ticker\"] = ticker\n",
    "        df_temp[\"sector\"] = df_final[df_final[\"ticker\"] == ticker][\"sector\"].tolist()[0]\n",
    "        df_temp[\"diff_maxmin\"] = df_temp[\"Close\"].max() - df_temp[\"Close\"].min()\n",
    "        df_temp[\"diff_close\"] = df_temp.iloc[-1][\"Close\"] - df_temp.iloc[0][\"Close\"] \n",
    "        df_temp[\"ch_per_1_mean\"] = df_temp[\"ch_per_1\"].mean()\n",
    "        df_temp = df_temp[[\"ticker\", \"sector\", \"Date\", \"Close\", \"Volume\", \n",
    "                           \"diff_maxmin\", \"diff_close\", \"ch_per_1_mean\"]]\n",
    "        df_all = df_all.append(df_temp)\n",
    "\n",
    "df_all.tail()"
   ]
  },
  {
   "cell_type": "code",
   "execution_count": 400,
   "id": "acbd4205",
   "metadata": {},
   "outputs": [
    {
     "data": {
      "text/html": [
       "<div>\n",
       "<style scoped>\n",
       "    .dataframe tbody tr th:only-of-type {\n",
       "        vertical-align: middle;\n",
       "    }\n",
       "\n",
       "    .dataframe tbody tr th {\n",
       "        vertical-align: top;\n",
       "    }\n",
       "\n",
       "    .dataframe thead th {\n",
       "        text-align: right;\n",
       "    }\n",
       "</style>\n",
       "<table border=\"1\" class=\"dataframe\">\n",
       "  <thead>\n",
       "    <tr style=\"text-align: right;\">\n",
       "      <th></th>\n",
       "      <th>ticker</th>\n",
       "      <th>sector</th>\n",
       "      <th>Date</th>\n",
       "      <th>Close</th>\n",
       "      <th>Volume</th>\n",
       "      <th>diff_maxmin</th>\n",
       "      <th>diff_close</th>\n",
       "      <th>ch_per_1_mean</th>\n",
       "    </tr>\n",
       "  </thead>\n",
       "  <tbody>\n",
       "    <tr>\n",
       "      <th>0</th>\n",
       "      <td>AAPL</td>\n",
       "      <td>Technology</td>\n",
       "      <td>2022-04-07</td>\n",
       "      <td>172.139999</td>\n",
       "      <td>77594700.0</td>\n",
       "      <td>15.569992</td>\n",
       "      <td>-15.369995</td>\n",
       "      <td>-0.434712</td>\n",
       "    </tr>\n",
       "    <tr>\n",
       "      <th>1</th>\n",
       "      <td>AAPL</td>\n",
       "      <td>Technology</td>\n",
       "      <td>2022-04-08</td>\n",
       "      <td>170.089996</td>\n",
       "      <td>76515900.0</td>\n",
       "      <td>15.569992</td>\n",
       "      <td>-15.369995</td>\n",
       "      <td>-0.434712</td>\n",
       "    </tr>\n",
       "    <tr>\n",
       "      <th>2</th>\n",
       "      <td>AAPL</td>\n",
       "      <td>Technology</td>\n",
       "      <td>2022-04-11</td>\n",
       "      <td>165.750000</td>\n",
       "      <td>72246700.0</td>\n",
       "      <td>15.569992</td>\n",
       "      <td>-15.369995</td>\n",
       "      <td>-0.434712</td>\n",
       "    </tr>\n",
       "    <tr>\n",
       "      <th>3</th>\n",
       "      <td>AAPL</td>\n",
       "      <td>Technology</td>\n",
       "      <td>2022-04-12</td>\n",
       "      <td>167.660004</td>\n",
       "      <td>79265200.0</td>\n",
       "      <td>15.569992</td>\n",
       "      <td>-15.369995</td>\n",
       "      <td>-0.434712</td>\n",
       "    </tr>\n",
       "    <tr>\n",
       "      <th>4</th>\n",
       "      <td>AAPL</td>\n",
       "      <td>Technology</td>\n",
       "      <td>2022-04-13</td>\n",
       "      <td>170.399994</td>\n",
       "      <td>70618900.0</td>\n",
       "      <td>15.569992</td>\n",
       "      <td>-15.369995</td>\n",
       "      <td>-0.434712</td>\n",
       "    </tr>\n",
       "    <tr>\n",
       "      <th>...</th>\n",
       "      <td>...</td>\n",
       "      <td>...</td>\n",
       "      <td>...</td>\n",
       "      <td>...</td>\n",
       "      <td>...</td>\n",
       "      <td>...</td>\n",
       "      <td>...</td>\n",
       "      <td>...</td>\n",
       "    </tr>\n",
       "    <tr>\n",
       "      <th>15</th>\n",
       "      <td>CDAY</td>\n",
       "      <td>Technology</td>\n",
       "      <td>2022-04-29</td>\n",
       "      <td>56.130001</td>\n",
       "      <td>2091700.0</td>\n",
       "      <td>6.750000</td>\n",
       "      <td>-6.329998</td>\n",
       "      <td>-0.593618</td>\n",
       "    </tr>\n",
       "    <tr>\n",
       "      <th>16</th>\n",
       "      <td>CDAY</td>\n",
       "      <td>Technology</td>\n",
       "      <td>2022-05-02</td>\n",
       "      <td>57.330002</td>\n",
       "      <td>1403400.0</td>\n",
       "      <td>6.750000</td>\n",
       "      <td>-6.329998</td>\n",
       "      <td>-0.593618</td>\n",
       "    </tr>\n",
       "    <tr>\n",
       "      <th>17</th>\n",
       "      <td>CDAY</td>\n",
       "      <td>Technology</td>\n",
       "      <td>2022-05-03</td>\n",
       "      <td>57.160000</td>\n",
       "      <td>1521000.0</td>\n",
       "      <td>6.750000</td>\n",
       "      <td>-6.329998</td>\n",
       "      <td>-0.593618</td>\n",
       "    </tr>\n",
       "    <tr>\n",
       "      <th>18</th>\n",
       "      <td>CDAY</td>\n",
       "      <td>Technology</td>\n",
       "      <td>2022-05-04</td>\n",
       "      <td>61.240002</td>\n",
       "      <td>2837400.0</td>\n",
       "      <td>6.750000</td>\n",
       "      <td>-6.329998</td>\n",
       "      <td>-0.593618</td>\n",
       "    </tr>\n",
       "    <tr>\n",
       "      <th>19</th>\n",
       "      <td>CDAY</td>\n",
       "      <td>Technology</td>\n",
       "      <td>2022-05-05</td>\n",
       "      <td>56.470001</td>\n",
       "      <td>5187100.0</td>\n",
       "      <td>6.750000</td>\n",
       "      <td>-6.329998</td>\n",
       "      <td>-0.593618</td>\n",
       "    </tr>\n",
       "  </tbody>\n",
       "</table>\n",
       "<p>1420 rows × 8 columns</p>\n",
       "</div>"
      ],
      "text/plain": [
       "   ticker      sector       Date       Close      Volume  diff_maxmin  \\\n",
       "0    AAPL  Technology 2022-04-07  172.139999  77594700.0    15.569992   \n",
       "1    AAPL  Technology 2022-04-08  170.089996  76515900.0    15.569992   \n",
       "2    AAPL  Technology 2022-04-11  165.750000  72246700.0    15.569992   \n",
       "3    AAPL  Technology 2022-04-12  167.660004  79265200.0    15.569992   \n",
       "4    AAPL  Technology 2022-04-13  170.399994  70618900.0    15.569992   \n",
       "..    ...         ...        ...         ...         ...          ...   \n",
       "15   CDAY  Technology 2022-04-29   56.130001   2091700.0     6.750000   \n",
       "16   CDAY  Technology 2022-05-02   57.330002   1403400.0     6.750000   \n",
       "17   CDAY  Technology 2022-05-03   57.160000   1521000.0     6.750000   \n",
       "18   CDAY  Technology 2022-05-04   61.240002   2837400.0     6.750000   \n",
       "19   CDAY  Technology 2022-05-05   56.470001   5187100.0     6.750000   \n",
       "\n",
       "    diff_close  ch_per_1_mean  \n",
       "0   -15.369995      -0.434712  \n",
       "1   -15.369995      -0.434712  \n",
       "2   -15.369995      -0.434712  \n",
       "3   -15.369995      -0.434712  \n",
       "4   -15.369995      -0.434712  \n",
       "..         ...            ...  \n",
       "15   -6.329998      -0.593618  \n",
       "16   -6.329998      -0.593618  \n",
       "17   -6.329998      -0.593618  \n",
       "18   -6.329998      -0.593618  \n",
       "19   -6.329998      -0.593618  \n",
       "\n",
       "[1420 rows x 8 columns]"
      ]
     },
     "execution_count": 400,
     "metadata": {},
     "output_type": "execute_result"
    }
   ],
   "source": [
    "df_all[df_all[\"sector\"] == \"Technology\"]"
   ]
  },
  {
   "cell_type": "code",
   "execution_count": 328,
   "id": "65371f1f",
   "metadata": {},
   "outputs": [
    {
     "data": {
      "text/plain": [
       "['Basic Materials',\n",
       " 'Consumer Cyclical',\n",
       " 'Healthcare',\n",
       " 'Industrials',\n",
       " 'Financial Services',\n",
       " 'Technology',\n",
       " 'Energy',\n",
       " 'Consumer Defensive',\n",
       " 'Communication Services',\n",
       " nan,\n",
       " 'Utilities',\n",
       " 'Real Estate']"
      ]
     },
     "execution_count": 328,
     "metadata": {},
     "output_type": "execute_result"
    }
   ],
   "source": [
    "df_all[\"sector\"].unique().tolist()"
   ]
  },
  {
   "cell_type": "code",
   "execution_count": 331,
   "id": "ab5dda9b",
   "metadata": {},
   "outputs": [
    {
     "data": {
      "text/plain": [
       "dict_keys(['Basic Materials', 'Consumer Cyclical', 'Healthcare', 'Industrials', 'Financial Services', 'Technology', 'Energy', 'Consumer Defensive', 'Communication Services', nan, 'Utilities', 'Real Estate'])"
      ]
     },
     "execution_count": 331,
     "metadata": {},
     "output_type": "execute_result"
    }
   ],
   "source": [
    "output_dict = {}\n",
    "for sector in df_all[\"sector\"].unique().tolist():\n",
    "    output_dict[sector] = {}\n",
    "\n",
    "df_filter = df_all[df_all[\"diff_close\"] > 0]\n",
    "for sector in df_filter[\"sector\"].unique().tolist():\n",
    "    df_filter_temp = df_filter[df_filter[\"sector\"] == sector]\n",
    "    output_dict[sector][\"pos_diff_close\"] = df_filter_temp[\"ticker\"].unique().tolist()\n",
    "    \n",
    "df_filter = df_all[df_all[\"diff_close\"] < 0]\n",
    "for sector in df_filter[\"sector\"].unique().tolist():\n",
    "    df_filter_temp = df_filter[df_filter[\"sector\"] == sector]\n",
    "    output_dict[sector][\"neg_diff_close\"] = df_filter_temp[\"ticker\"].unique().tolist()\n",
    "    \n",
    "output_dict.keys()    "
   ]
  },
  {
   "cell_type": "code",
   "execution_count": 276,
   "id": "6bf46ccd",
   "metadata": {},
   "outputs": [],
   "source": [
    "import plotly.graph_objects as go\n",
    "from plotly.subplots import make_subplots"
   ]
  },
  {
   "cell_type": "code",
   "execution_count": 402,
   "id": "0ab303b4",
   "metadata": {
    "code_folding": []
   },
   "outputs": [
    {
     "data": {
      "application/vnd.plotly.v1+json": {
       "config": {
        "plotlyServerURL": "https://plot.ly"
       },
       "data": [
        {
         "marker": {
          "color": "rgba(50, 171, 96, 0.6)",
          "line": {
           "color": "rgba(50, 171, 96, 1.0)",
           "width": 1
          }
         },
         "name": "Sector proportion in S&P 500.",
         "orientation": "h",
         "type": "bar",
         "x": [
          21,
          27,
          70,
          37,
          20,
          69,
          64,
          69,
          30,
          71,
          29
         ],
         "xaxis": "x",
         "y": [
          "Basic Materials",
          "Communication Services",
          "Consumer Cyclical",
          "Consumer Defensive",
          "Energy",
          "Financial Services",
          "Healthcare",
          "Industrials",
          "Real Estate",
          "Technology",
          "Utilities"
         ],
         "yaxis": "y"
        },
        {
         "line": {
          "color": "rgb(128, 0, 128)"
         },
         "mode": "lines+markers",
         "name": "The number of tickers increased stock prices.",
         "type": "scatter",
         "x": [
          6,
          2,
          27,
          21,
          15,
          13,
          4,
          22,
          4,
          11,
          0
         ],
         "xaxis": "x",
         "y": [
          "Basic Materials",
          "Communication Services",
          "Consumer Cyclical",
          "Consumer Defensive",
          "Energy",
          "Financial Services",
          "Healthcare",
          "Industrials",
          "Real Estate",
          "Technology",
          "Utilities"
         ],
         "yaxis": "y"
        },
        {
         "marker": {
          "color": "rgba(50, 171, 96, 0.6)",
          "line": {
           "color": "rgba(50, 171, 96, 1.0)",
           "width": 1
          }
         },
         "name": "Sector proportion in S&P 500.",
         "orientation": "h",
         "type": "bar",
         "x": [
          21,
          27,
          70,
          37,
          20,
          69,
          64,
          69,
          30,
          71,
          29
         ],
         "xaxis": "x2",
         "y": [
          "Basic Materials",
          "Communication Services",
          "Consumer Cyclical",
          "Consumer Defensive",
          "Energy",
          "Financial Services",
          "Healthcare",
          "Industrials",
          "Real Estate",
          "Technology",
          "Utilities"
         ],
         "yaxis": "y2"
        }
       ],
       "layout": {
        "annotations": [
         {
          "font": {
           "color": "rgb(50, 171, 96)",
           "family": "Arial",
           "size": 12
          },
          "showarrow": false,
          "text": "4.14%",
          "x": 31,
          "xref": "x",
          "y": "Basic Materials",
          "yref": "y"
         },
         {
          "font": {
           "color": "rgb(50, 171, 96)",
           "family": "Arial",
           "size": 12
          },
          "showarrow": false,
          "text": "5.33%",
          "x": 37,
          "xref": "x",
          "y": "Communication Services",
          "yref": "y"
         },
         {
          "font": {
           "color": "rgb(50, 171, 96)",
           "family": "Arial",
           "size": 12
          },
          "showarrow": false,
          "text": "13.81%",
          "x": 80,
          "xref": "x",
          "y": "Consumer Cyclical",
          "yref": "y"
         },
         {
          "font": {
           "color": "rgb(50, 171, 96)",
           "family": "Arial",
           "size": 12
          },
          "showarrow": false,
          "text": "7.3%",
          "x": 47,
          "xref": "x",
          "y": "Consumer Defensive",
          "yref": "y"
         },
         {
          "font": {
           "color": "rgb(50, 171, 96)",
           "family": "Arial",
           "size": 12
          },
          "showarrow": false,
          "text": "3.94%",
          "x": 30,
          "xref": "x",
          "y": "Energy",
          "yref": "y"
         },
         {
          "font": {
           "color": "rgb(50, 171, 96)",
           "family": "Arial",
           "size": 12
          },
          "showarrow": false,
          "text": "13.61%",
          "x": 79,
          "xref": "x",
          "y": "Financial Services",
          "yref": "y"
         },
         {
          "font": {
           "color": "rgb(50, 171, 96)",
           "family": "Arial",
           "size": 12
          },
          "showarrow": false,
          "text": "12.62%",
          "x": 74,
          "xref": "x",
          "y": "Healthcare",
          "yref": "y"
         },
         {
          "font": {
           "color": "rgb(50, 171, 96)",
           "family": "Arial",
           "size": 12
          },
          "showarrow": false,
          "text": "13.61%",
          "x": 79,
          "xref": "x",
          "y": "Industrials",
          "yref": "y"
         },
         {
          "font": {
           "color": "rgb(50, 171, 96)",
           "family": "Arial",
           "size": 12
          },
          "showarrow": false,
          "text": "5.92%",
          "x": 40,
          "xref": "x",
          "y": "Real Estate",
          "yref": "y"
         },
         {
          "font": {
           "color": "rgb(50, 171, 96)",
           "family": "Arial",
           "size": 12
          },
          "showarrow": false,
          "text": "14.0%",
          "x": 81,
          "xref": "x",
          "y": "Technology",
          "yref": "y"
         },
         {
          "font": {
           "color": "rgb(50, 171, 96)",
           "family": "Arial",
           "size": 12
          },
          "showarrow": false,
          "text": "5.72%",
          "x": 39,
          "xref": "x",
          "y": "Utilities",
          "yref": "y"
         },
         {
          "font": {
           "color": "rgb(150,150,150)",
           "family": "Arial",
           "size": 10
          },
          "showarrow": false,
          "text": "yfinance S&P 500 data",
          "x": -0.2,
          "xref": "paper",
          "y": -0.109,
          "yref": "paper"
         }
        ],
        "legend": {
         "font": {
          "size": 10
         },
         "x": 0.029,
         "y": 1.038
        },
        "margin": {
         "b": 70,
         "l": 100,
         "r": 20,
         "t": 70
        },
        "paper_bgcolor": "rgb(248, 248, 255)",
        "plot_bgcolor": "rgb(248, 248, 255)",
        "template": {
         "data": {
          "bar": [
           {
            "error_x": {
             "color": "#2a3f5f"
            },
            "error_y": {
             "color": "#2a3f5f"
            },
            "marker": {
             "line": {
              "color": "#E5ECF6",
              "width": 0.5
             },
             "pattern": {
              "fillmode": "overlay",
              "size": 10,
              "solidity": 0.2
             }
            },
            "type": "bar"
           }
          ],
          "barpolar": [
           {
            "marker": {
             "line": {
              "color": "#E5ECF6",
              "width": 0.5
             },
             "pattern": {
              "fillmode": "overlay",
              "size": 10,
              "solidity": 0.2
             }
            },
            "type": "barpolar"
           }
          ],
          "carpet": [
           {
            "aaxis": {
             "endlinecolor": "#2a3f5f",
             "gridcolor": "white",
             "linecolor": "white",
             "minorgridcolor": "white",
             "startlinecolor": "#2a3f5f"
            },
            "baxis": {
             "endlinecolor": "#2a3f5f",
             "gridcolor": "white",
             "linecolor": "white",
             "minorgridcolor": "white",
             "startlinecolor": "#2a3f5f"
            },
            "type": "carpet"
           }
          ],
          "choropleth": [
           {
            "colorbar": {
             "outlinewidth": 0,
             "ticks": ""
            },
            "type": "choropleth"
           }
          ],
          "contour": [
           {
            "colorbar": {
             "outlinewidth": 0,
             "ticks": ""
            },
            "colorscale": [
             [
              0,
              "#0d0887"
             ],
             [
              0.1111111111111111,
              "#46039f"
             ],
             [
              0.2222222222222222,
              "#7201a8"
             ],
             [
              0.3333333333333333,
              "#9c179e"
             ],
             [
              0.4444444444444444,
              "#bd3786"
             ],
             [
              0.5555555555555556,
              "#d8576b"
             ],
             [
              0.6666666666666666,
              "#ed7953"
             ],
             [
              0.7777777777777778,
              "#fb9f3a"
             ],
             [
              0.8888888888888888,
              "#fdca26"
             ],
             [
              1,
              "#f0f921"
             ]
            ],
            "type": "contour"
           }
          ],
          "contourcarpet": [
           {
            "colorbar": {
             "outlinewidth": 0,
             "ticks": ""
            },
            "type": "contourcarpet"
           }
          ],
          "heatmap": [
           {
            "colorbar": {
             "outlinewidth": 0,
             "ticks": ""
            },
            "colorscale": [
             [
              0,
              "#0d0887"
             ],
             [
              0.1111111111111111,
              "#46039f"
             ],
             [
              0.2222222222222222,
              "#7201a8"
             ],
             [
              0.3333333333333333,
              "#9c179e"
             ],
             [
              0.4444444444444444,
              "#bd3786"
             ],
             [
              0.5555555555555556,
              "#d8576b"
             ],
             [
              0.6666666666666666,
              "#ed7953"
             ],
             [
              0.7777777777777778,
              "#fb9f3a"
             ],
             [
              0.8888888888888888,
              "#fdca26"
             ],
             [
              1,
              "#f0f921"
             ]
            ],
            "type": "heatmap"
           }
          ],
          "heatmapgl": [
           {
            "colorbar": {
             "outlinewidth": 0,
             "ticks": ""
            },
            "colorscale": [
             [
              0,
              "#0d0887"
             ],
             [
              0.1111111111111111,
              "#46039f"
             ],
             [
              0.2222222222222222,
              "#7201a8"
             ],
             [
              0.3333333333333333,
              "#9c179e"
             ],
             [
              0.4444444444444444,
              "#bd3786"
             ],
             [
              0.5555555555555556,
              "#d8576b"
             ],
             [
              0.6666666666666666,
              "#ed7953"
             ],
             [
              0.7777777777777778,
              "#fb9f3a"
             ],
             [
              0.8888888888888888,
              "#fdca26"
             ],
             [
              1,
              "#f0f921"
             ]
            ],
            "type": "heatmapgl"
           }
          ],
          "histogram": [
           {
            "marker": {
             "pattern": {
              "fillmode": "overlay",
              "size": 10,
              "solidity": 0.2
             }
            },
            "type": "histogram"
           }
          ],
          "histogram2d": [
           {
            "colorbar": {
             "outlinewidth": 0,
             "ticks": ""
            },
            "colorscale": [
             [
              0,
              "#0d0887"
             ],
             [
              0.1111111111111111,
              "#46039f"
             ],
             [
              0.2222222222222222,
              "#7201a8"
             ],
             [
              0.3333333333333333,
              "#9c179e"
             ],
             [
              0.4444444444444444,
              "#bd3786"
             ],
             [
              0.5555555555555556,
              "#d8576b"
             ],
             [
              0.6666666666666666,
              "#ed7953"
             ],
             [
              0.7777777777777778,
              "#fb9f3a"
             ],
             [
              0.8888888888888888,
              "#fdca26"
             ],
             [
              1,
              "#f0f921"
             ]
            ],
            "type": "histogram2d"
           }
          ],
          "histogram2dcontour": [
           {
            "colorbar": {
             "outlinewidth": 0,
             "ticks": ""
            },
            "colorscale": [
             [
              0,
              "#0d0887"
             ],
             [
              0.1111111111111111,
              "#46039f"
             ],
             [
              0.2222222222222222,
              "#7201a8"
             ],
             [
              0.3333333333333333,
              "#9c179e"
             ],
             [
              0.4444444444444444,
              "#bd3786"
             ],
             [
              0.5555555555555556,
              "#d8576b"
             ],
             [
              0.6666666666666666,
              "#ed7953"
             ],
             [
              0.7777777777777778,
              "#fb9f3a"
             ],
             [
              0.8888888888888888,
              "#fdca26"
             ],
             [
              1,
              "#f0f921"
             ]
            ],
            "type": "histogram2dcontour"
           }
          ],
          "mesh3d": [
           {
            "colorbar": {
             "outlinewidth": 0,
             "ticks": ""
            },
            "type": "mesh3d"
           }
          ],
          "parcoords": [
           {
            "line": {
             "colorbar": {
              "outlinewidth": 0,
              "ticks": ""
             }
            },
            "type": "parcoords"
           }
          ],
          "pie": [
           {
            "automargin": true,
            "type": "pie"
           }
          ],
          "scatter": [
           {
            "marker": {
             "colorbar": {
              "outlinewidth": 0,
              "ticks": ""
             }
            },
            "type": "scatter"
           }
          ],
          "scatter3d": [
           {
            "line": {
             "colorbar": {
              "outlinewidth": 0,
              "ticks": ""
             }
            },
            "marker": {
             "colorbar": {
              "outlinewidth": 0,
              "ticks": ""
             }
            },
            "type": "scatter3d"
           }
          ],
          "scattercarpet": [
           {
            "marker": {
             "colorbar": {
              "outlinewidth": 0,
              "ticks": ""
             }
            },
            "type": "scattercarpet"
           }
          ],
          "scattergeo": [
           {
            "marker": {
             "colorbar": {
              "outlinewidth": 0,
              "ticks": ""
             }
            },
            "type": "scattergeo"
           }
          ],
          "scattergl": [
           {
            "marker": {
             "colorbar": {
              "outlinewidth": 0,
              "ticks": ""
             }
            },
            "type": "scattergl"
           }
          ],
          "scattermapbox": [
           {
            "marker": {
             "colorbar": {
              "outlinewidth": 0,
              "ticks": ""
             }
            },
            "type": "scattermapbox"
           }
          ],
          "scatterpolar": [
           {
            "marker": {
             "colorbar": {
              "outlinewidth": 0,
              "ticks": ""
             }
            },
            "type": "scatterpolar"
           }
          ],
          "scatterpolargl": [
           {
            "marker": {
             "colorbar": {
              "outlinewidth": 0,
              "ticks": ""
             }
            },
            "type": "scatterpolargl"
           }
          ],
          "scatterternary": [
           {
            "marker": {
             "colorbar": {
              "outlinewidth": 0,
              "ticks": ""
             }
            },
            "type": "scatterternary"
           }
          ],
          "surface": [
           {
            "colorbar": {
             "outlinewidth": 0,
             "ticks": ""
            },
            "colorscale": [
             [
              0,
              "#0d0887"
             ],
             [
              0.1111111111111111,
              "#46039f"
             ],
             [
              0.2222222222222222,
              "#7201a8"
             ],
             [
              0.3333333333333333,
              "#9c179e"
             ],
             [
              0.4444444444444444,
              "#bd3786"
             ],
             [
              0.5555555555555556,
              "#d8576b"
             ],
             [
              0.6666666666666666,
              "#ed7953"
             ],
             [
              0.7777777777777778,
              "#fb9f3a"
             ],
             [
              0.8888888888888888,
              "#fdca26"
             ],
             [
              1,
              "#f0f921"
             ]
            ],
            "type": "surface"
           }
          ],
          "table": [
           {
            "cells": {
             "fill": {
              "color": "#EBF0F8"
             },
             "line": {
              "color": "white"
             }
            },
            "header": {
             "fill": {
              "color": "#C8D4E3"
             },
             "line": {
              "color": "white"
             }
            },
            "type": "table"
           }
          ]
         },
         "layout": {
          "annotationdefaults": {
           "arrowcolor": "#2a3f5f",
           "arrowhead": 0,
           "arrowwidth": 1
          },
          "autotypenumbers": "strict",
          "coloraxis": {
           "colorbar": {
            "outlinewidth": 0,
            "ticks": ""
           }
          },
          "colorscale": {
           "diverging": [
            [
             0,
             "#8e0152"
            ],
            [
             0.1,
             "#c51b7d"
            ],
            [
             0.2,
             "#de77ae"
            ],
            [
             0.3,
             "#f1b6da"
            ],
            [
             0.4,
             "#fde0ef"
            ],
            [
             0.5,
             "#f7f7f7"
            ],
            [
             0.6,
             "#e6f5d0"
            ],
            [
             0.7,
             "#b8e186"
            ],
            [
             0.8,
             "#7fbc41"
            ],
            [
             0.9,
             "#4d9221"
            ],
            [
             1,
             "#276419"
            ]
           ],
           "sequential": [
            [
             0,
             "#0d0887"
            ],
            [
             0.1111111111111111,
             "#46039f"
            ],
            [
             0.2222222222222222,
             "#7201a8"
            ],
            [
             0.3333333333333333,
             "#9c179e"
            ],
            [
             0.4444444444444444,
             "#bd3786"
            ],
            [
             0.5555555555555556,
             "#d8576b"
            ],
            [
             0.6666666666666666,
             "#ed7953"
            ],
            [
             0.7777777777777778,
             "#fb9f3a"
            ],
            [
             0.8888888888888888,
             "#fdca26"
            ],
            [
             1,
             "#f0f921"
            ]
           ],
           "sequentialminus": [
            [
             0,
             "#0d0887"
            ],
            [
             0.1111111111111111,
             "#46039f"
            ],
            [
             0.2222222222222222,
             "#7201a8"
            ],
            [
             0.3333333333333333,
             "#9c179e"
            ],
            [
             0.4444444444444444,
             "#bd3786"
            ],
            [
             0.5555555555555556,
             "#d8576b"
            ],
            [
             0.6666666666666666,
             "#ed7953"
            ],
            [
             0.7777777777777778,
             "#fb9f3a"
            ],
            [
             0.8888888888888888,
             "#fdca26"
            ],
            [
             1,
             "#f0f921"
            ]
           ]
          },
          "colorway": [
           "#636efa",
           "#EF553B",
           "#00cc96",
           "#ab63fa",
           "#FFA15A",
           "#19d3f3",
           "#FF6692",
           "#B6E880",
           "#FF97FF",
           "#FECB52"
          ],
          "font": {
           "color": "#2a3f5f"
          },
          "geo": {
           "bgcolor": "white",
           "lakecolor": "white",
           "landcolor": "#E5ECF6",
           "showlakes": true,
           "showland": true,
           "subunitcolor": "white"
          },
          "hoverlabel": {
           "align": "left"
          },
          "hovermode": "closest",
          "mapbox": {
           "style": "light"
          },
          "paper_bgcolor": "white",
          "plot_bgcolor": "#E5ECF6",
          "polar": {
           "angularaxis": {
            "gridcolor": "white",
            "linecolor": "white",
            "ticks": ""
           },
           "bgcolor": "#E5ECF6",
           "radialaxis": {
            "gridcolor": "white",
            "linecolor": "white",
            "ticks": ""
           }
          },
          "scene": {
           "xaxis": {
            "backgroundcolor": "#E5ECF6",
            "gridcolor": "white",
            "gridwidth": 2,
            "linecolor": "white",
            "showbackground": true,
            "ticks": "",
            "zerolinecolor": "white"
           },
           "yaxis": {
            "backgroundcolor": "#E5ECF6",
            "gridcolor": "white",
            "gridwidth": 2,
            "linecolor": "white",
            "showbackground": true,
            "ticks": "",
            "zerolinecolor": "white"
           },
           "zaxis": {
            "backgroundcolor": "#E5ECF6",
            "gridcolor": "white",
            "gridwidth": 2,
            "linecolor": "white",
            "showbackground": true,
            "ticks": "",
            "zerolinecolor": "white"
           }
          },
          "shapedefaults": {
           "line": {
            "color": "#2a3f5f"
           }
          },
          "ternary": {
           "aaxis": {
            "gridcolor": "white",
            "linecolor": "white",
            "ticks": ""
           },
           "baxis": {
            "gridcolor": "white",
            "linecolor": "white",
            "ticks": ""
           },
           "bgcolor": "#E5ECF6",
           "caxis": {
            "gridcolor": "white",
            "linecolor": "white",
            "ticks": ""
           }
          },
          "title": {
           "x": 0.05
          },
          "xaxis": {
           "automargin": true,
           "gridcolor": "white",
           "linecolor": "white",
           "ticks": "",
           "title": {
            "standoff": 15
           },
           "zerolinecolor": "white",
           "zerolinewidth": 2
          },
          "yaxis": {
           "automargin": true,
           "gridcolor": "white",
           "linecolor": "white",
           "ticks": "",
           "title": {
            "standoff": 15
           },
           "zerolinecolor": "white",
           "zerolinewidth": 2
          }
         }
        },
        "title": {
         "text": "Sector Analysis for past 20 days."
        },
        "xaxis": {
         "anchor": "y",
         "domain": [
          0,
          0.42
         ],
         "showgrid": true,
         "showline": false,
         "showticklabels": true,
         "zeroline": false
        },
        "xaxis2": {
         "anchor": "y2",
         "domain": [
          0.47,
          1
         ],
         "dtick": 25000,
         "showgrid": true,
         "showline": false,
         "showticklabels": true,
         "zeroline": false
        },
        "yaxis": {
         "anchor": "x",
         "domain": [
          0,
          0.85
         ],
         "showgrid": false,
         "showline": false,
         "showticklabels": true
        },
        "yaxis2": {
         "anchor": "x2",
         "domain": [
          0,
          0.85
         ],
         "linecolor": "rgba(102, 102, 102, 0.8)",
         "linewidth": 2,
         "showgrid": false,
         "showline": true,
         "showticklabels": false
        }
       }
      },
      "text/html": [
       "<div>                            <div id=\"e7a77939-9f77-4dde-8d87-f490ef23bec5\" class=\"plotly-graph-div\" style=\"height:525px; width:100%;\"></div>            <script type=\"text/javascript\">                require([\"plotly\"], function(Plotly) {                    window.PLOTLYENV=window.PLOTLYENV || {};                                    if (document.getElementById(\"e7a77939-9f77-4dde-8d87-f490ef23bec5\")) {                    Plotly.newPlot(                        \"e7a77939-9f77-4dde-8d87-f490ef23bec5\",                        [{\"marker\":{\"color\":\"rgba(50, 171, 96, 0.6)\",\"line\":{\"color\":\"rgba(50, 171, 96, 1.0)\",\"width\":1}},\"name\":\"Sector proportion in S&P 500.\",\"orientation\":\"h\",\"type\":\"bar\",\"x\":[21,27,70,37,20,69,64,69,30,71,29],\"xaxis\":\"x\",\"y\":[\"Basic Materials\",\"Communication Services\",\"Consumer Cyclical\",\"Consumer Defensive\",\"Energy\",\"Financial Services\",\"Healthcare\",\"Industrials\",\"Real Estate\",\"Technology\",\"Utilities\"],\"yaxis\":\"y\"},{\"line\":{\"color\":\"rgb(128, 0, 128)\"},\"mode\":\"lines+markers\",\"name\":\"The number of tickers increased stock prices.\",\"type\":\"scatter\",\"x\":[6.0,2.0,27.0,21.0,15.0,13.0,4.0,22.0,4.0,11.0,0.0],\"xaxis\":\"x\",\"y\":[\"Basic Materials\",\"Communication Services\",\"Consumer Cyclical\",\"Consumer Defensive\",\"Energy\",\"Financial Services\",\"Healthcare\",\"Industrials\",\"Real Estate\",\"Technology\",\"Utilities\"],\"yaxis\":\"y\"},{\"marker\":{\"color\":\"rgba(50, 171, 96, 0.6)\",\"line\":{\"color\":\"rgba(50, 171, 96, 1.0)\",\"width\":1}},\"name\":\"Sector proportion in S&P 500.\",\"orientation\":\"h\",\"type\":\"bar\",\"x\":[21,27,70,37,20,69,64,69,30,71,29],\"xaxis\":\"x2\",\"y\":[\"Basic Materials\",\"Communication Services\",\"Consumer Cyclical\",\"Consumer Defensive\",\"Energy\",\"Financial Services\",\"Healthcare\",\"Industrials\",\"Real Estate\",\"Technology\",\"Utilities\"],\"yaxis\":\"y2\"}],                        {\"annotations\":[{\"font\":{\"color\":\"rgb(50, 171, 96)\",\"family\":\"Arial\",\"size\":12},\"showarrow\":false,\"text\":\"4.14%\",\"x\":31,\"xref\":\"x\",\"y\":\"Basic Materials\",\"yref\":\"y\"},{\"font\":{\"color\":\"rgb(50, 171, 96)\",\"family\":\"Arial\",\"size\":12},\"showarrow\":false,\"text\":\"5.33%\",\"x\":37,\"xref\":\"x\",\"y\":\"Communication Services\",\"yref\":\"y\"},{\"font\":{\"color\":\"rgb(50, 171, 96)\",\"family\":\"Arial\",\"size\":12},\"showarrow\":false,\"text\":\"13.81%\",\"x\":80,\"xref\":\"x\",\"y\":\"Consumer Cyclical\",\"yref\":\"y\"},{\"font\":{\"color\":\"rgb(50, 171, 96)\",\"family\":\"Arial\",\"size\":12},\"showarrow\":false,\"text\":\"7.3%\",\"x\":47,\"xref\":\"x\",\"y\":\"Consumer Defensive\",\"yref\":\"y\"},{\"font\":{\"color\":\"rgb(50, 171, 96)\",\"family\":\"Arial\",\"size\":12},\"showarrow\":false,\"text\":\"3.94%\",\"x\":30,\"xref\":\"x\",\"y\":\"Energy\",\"yref\":\"y\"},{\"font\":{\"color\":\"rgb(50, 171, 96)\",\"family\":\"Arial\",\"size\":12},\"showarrow\":false,\"text\":\"13.61%\",\"x\":79,\"xref\":\"x\",\"y\":\"Financial Services\",\"yref\":\"y\"},{\"font\":{\"color\":\"rgb(50, 171, 96)\",\"family\":\"Arial\",\"size\":12},\"showarrow\":false,\"text\":\"12.62%\",\"x\":74,\"xref\":\"x\",\"y\":\"Healthcare\",\"yref\":\"y\"},{\"font\":{\"color\":\"rgb(50, 171, 96)\",\"family\":\"Arial\",\"size\":12},\"showarrow\":false,\"text\":\"13.61%\",\"x\":79,\"xref\":\"x\",\"y\":\"Industrials\",\"yref\":\"y\"},{\"font\":{\"color\":\"rgb(50, 171, 96)\",\"family\":\"Arial\",\"size\":12},\"showarrow\":false,\"text\":\"5.92%\",\"x\":40,\"xref\":\"x\",\"y\":\"Real Estate\",\"yref\":\"y\"},{\"font\":{\"color\":\"rgb(50, 171, 96)\",\"family\":\"Arial\",\"size\":12},\"showarrow\":false,\"text\":\"14.0%\",\"x\":81,\"xref\":\"x\",\"y\":\"Technology\",\"yref\":\"y\"},{\"font\":{\"color\":\"rgb(50, 171, 96)\",\"family\":\"Arial\",\"size\":12},\"showarrow\":false,\"text\":\"5.72%\",\"x\":39,\"xref\":\"x\",\"y\":\"Utilities\",\"yref\":\"y\"},{\"font\":{\"color\":\"rgb(150,150,150)\",\"family\":\"Arial\",\"size\":10},\"showarrow\":false,\"text\":\"yfinance S&P 500 data\",\"x\":-0.2,\"xref\":\"paper\",\"y\":-0.109,\"yref\":\"paper\"}],\"legend\":{\"font\":{\"size\":10},\"x\":0.029,\"y\":1.038},\"margin\":{\"b\":70,\"l\":100,\"r\":20,\"t\":70},\"paper_bgcolor\":\"rgb(248, 248, 255)\",\"plot_bgcolor\":\"rgb(248, 248, 255)\",\"template\":{\"data\":{\"bar\":[{\"error_x\":{\"color\":\"#2a3f5f\"},\"error_y\":{\"color\":\"#2a3f5f\"},\"marker\":{\"line\":{\"color\":\"#E5ECF6\",\"width\":0.5},\"pattern\":{\"fillmode\":\"overlay\",\"size\":10,\"solidity\":0.2}},\"type\":\"bar\"}],\"barpolar\":[{\"marker\":{\"line\":{\"color\":\"#E5ECF6\",\"width\":0.5},\"pattern\":{\"fillmode\":\"overlay\",\"size\":10,\"solidity\":0.2}},\"type\":\"barpolar\"}],\"carpet\":[{\"aaxis\":{\"endlinecolor\":\"#2a3f5f\",\"gridcolor\":\"white\",\"linecolor\":\"white\",\"minorgridcolor\":\"white\",\"startlinecolor\":\"#2a3f5f\"},\"baxis\":{\"endlinecolor\":\"#2a3f5f\",\"gridcolor\":\"white\",\"linecolor\":\"white\",\"minorgridcolor\":\"white\",\"startlinecolor\":\"#2a3f5f\"},\"type\":\"carpet\"}],\"choropleth\":[{\"colorbar\":{\"outlinewidth\":0,\"ticks\":\"\"},\"type\":\"choropleth\"}],\"contour\":[{\"colorbar\":{\"outlinewidth\":0,\"ticks\":\"\"},\"colorscale\":[[0.0,\"#0d0887\"],[0.1111111111111111,\"#46039f\"],[0.2222222222222222,\"#7201a8\"],[0.3333333333333333,\"#9c179e\"],[0.4444444444444444,\"#bd3786\"],[0.5555555555555556,\"#d8576b\"],[0.6666666666666666,\"#ed7953\"],[0.7777777777777778,\"#fb9f3a\"],[0.8888888888888888,\"#fdca26\"],[1.0,\"#f0f921\"]],\"type\":\"contour\"}],\"contourcarpet\":[{\"colorbar\":{\"outlinewidth\":0,\"ticks\":\"\"},\"type\":\"contourcarpet\"}],\"heatmap\":[{\"colorbar\":{\"outlinewidth\":0,\"ticks\":\"\"},\"colorscale\":[[0.0,\"#0d0887\"],[0.1111111111111111,\"#46039f\"],[0.2222222222222222,\"#7201a8\"],[0.3333333333333333,\"#9c179e\"],[0.4444444444444444,\"#bd3786\"],[0.5555555555555556,\"#d8576b\"],[0.6666666666666666,\"#ed7953\"],[0.7777777777777778,\"#fb9f3a\"],[0.8888888888888888,\"#fdca26\"],[1.0,\"#f0f921\"]],\"type\":\"heatmap\"}],\"heatmapgl\":[{\"colorbar\":{\"outlinewidth\":0,\"ticks\":\"\"},\"colorscale\":[[0.0,\"#0d0887\"],[0.1111111111111111,\"#46039f\"],[0.2222222222222222,\"#7201a8\"],[0.3333333333333333,\"#9c179e\"],[0.4444444444444444,\"#bd3786\"],[0.5555555555555556,\"#d8576b\"],[0.6666666666666666,\"#ed7953\"],[0.7777777777777778,\"#fb9f3a\"],[0.8888888888888888,\"#fdca26\"],[1.0,\"#f0f921\"]],\"type\":\"heatmapgl\"}],\"histogram\":[{\"marker\":{\"pattern\":{\"fillmode\":\"overlay\",\"size\":10,\"solidity\":0.2}},\"type\":\"histogram\"}],\"histogram2d\":[{\"colorbar\":{\"outlinewidth\":0,\"ticks\":\"\"},\"colorscale\":[[0.0,\"#0d0887\"],[0.1111111111111111,\"#46039f\"],[0.2222222222222222,\"#7201a8\"],[0.3333333333333333,\"#9c179e\"],[0.4444444444444444,\"#bd3786\"],[0.5555555555555556,\"#d8576b\"],[0.6666666666666666,\"#ed7953\"],[0.7777777777777778,\"#fb9f3a\"],[0.8888888888888888,\"#fdca26\"],[1.0,\"#f0f921\"]],\"type\":\"histogram2d\"}],\"histogram2dcontour\":[{\"colorbar\":{\"outlinewidth\":0,\"ticks\":\"\"},\"colorscale\":[[0.0,\"#0d0887\"],[0.1111111111111111,\"#46039f\"],[0.2222222222222222,\"#7201a8\"],[0.3333333333333333,\"#9c179e\"],[0.4444444444444444,\"#bd3786\"],[0.5555555555555556,\"#d8576b\"],[0.6666666666666666,\"#ed7953\"],[0.7777777777777778,\"#fb9f3a\"],[0.8888888888888888,\"#fdca26\"],[1.0,\"#f0f921\"]],\"type\":\"histogram2dcontour\"}],\"mesh3d\":[{\"colorbar\":{\"outlinewidth\":0,\"ticks\":\"\"},\"type\":\"mesh3d\"}],\"parcoords\":[{\"line\":{\"colorbar\":{\"outlinewidth\":0,\"ticks\":\"\"}},\"type\":\"parcoords\"}],\"pie\":[{\"automargin\":true,\"type\":\"pie\"}],\"scatter\":[{\"marker\":{\"colorbar\":{\"outlinewidth\":0,\"ticks\":\"\"}},\"type\":\"scatter\"}],\"scatter3d\":[{\"line\":{\"colorbar\":{\"outlinewidth\":0,\"ticks\":\"\"}},\"marker\":{\"colorbar\":{\"outlinewidth\":0,\"ticks\":\"\"}},\"type\":\"scatter3d\"}],\"scattercarpet\":[{\"marker\":{\"colorbar\":{\"outlinewidth\":0,\"ticks\":\"\"}},\"type\":\"scattercarpet\"}],\"scattergeo\":[{\"marker\":{\"colorbar\":{\"outlinewidth\":0,\"ticks\":\"\"}},\"type\":\"scattergeo\"}],\"scattergl\":[{\"marker\":{\"colorbar\":{\"outlinewidth\":0,\"ticks\":\"\"}},\"type\":\"scattergl\"}],\"scattermapbox\":[{\"marker\":{\"colorbar\":{\"outlinewidth\":0,\"ticks\":\"\"}},\"type\":\"scattermapbox\"}],\"scatterpolar\":[{\"marker\":{\"colorbar\":{\"outlinewidth\":0,\"ticks\":\"\"}},\"type\":\"scatterpolar\"}],\"scatterpolargl\":[{\"marker\":{\"colorbar\":{\"outlinewidth\":0,\"ticks\":\"\"}},\"type\":\"scatterpolargl\"}],\"scatterternary\":[{\"marker\":{\"colorbar\":{\"outlinewidth\":0,\"ticks\":\"\"}},\"type\":\"scatterternary\"}],\"surface\":[{\"colorbar\":{\"outlinewidth\":0,\"ticks\":\"\"},\"colorscale\":[[0.0,\"#0d0887\"],[0.1111111111111111,\"#46039f\"],[0.2222222222222222,\"#7201a8\"],[0.3333333333333333,\"#9c179e\"],[0.4444444444444444,\"#bd3786\"],[0.5555555555555556,\"#d8576b\"],[0.6666666666666666,\"#ed7953\"],[0.7777777777777778,\"#fb9f3a\"],[0.8888888888888888,\"#fdca26\"],[1.0,\"#f0f921\"]],\"type\":\"surface\"}],\"table\":[{\"cells\":{\"fill\":{\"color\":\"#EBF0F8\"},\"line\":{\"color\":\"white\"}},\"header\":{\"fill\":{\"color\":\"#C8D4E3\"},\"line\":{\"color\":\"white\"}},\"type\":\"table\"}]},\"layout\":{\"annotationdefaults\":{\"arrowcolor\":\"#2a3f5f\",\"arrowhead\":0,\"arrowwidth\":1},\"autotypenumbers\":\"strict\",\"coloraxis\":{\"colorbar\":{\"outlinewidth\":0,\"ticks\":\"\"}},\"colorscale\":{\"diverging\":[[0,\"#8e0152\"],[0.1,\"#c51b7d\"],[0.2,\"#de77ae\"],[0.3,\"#f1b6da\"],[0.4,\"#fde0ef\"],[0.5,\"#f7f7f7\"],[0.6,\"#e6f5d0\"],[0.7,\"#b8e186\"],[0.8,\"#7fbc41\"],[0.9,\"#4d9221\"],[1,\"#276419\"]],\"sequential\":[[0.0,\"#0d0887\"],[0.1111111111111111,\"#46039f\"],[0.2222222222222222,\"#7201a8\"],[0.3333333333333333,\"#9c179e\"],[0.4444444444444444,\"#bd3786\"],[0.5555555555555556,\"#d8576b\"],[0.6666666666666666,\"#ed7953\"],[0.7777777777777778,\"#fb9f3a\"],[0.8888888888888888,\"#fdca26\"],[1.0,\"#f0f921\"]],\"sequentialminus\":[[0.0,\"#0d0887\"],[0.1111111111111111,\"#46039f\"],[0.2222222222222222,\"#7201a8\"],[0.3333333333333333,\"#9c179e\"],[0.4444444444444444,\"#bd3786\"],[0.5555555555555556,\"#d8576b\"],[0.6666666666666666,\"#ed7953\"],[0.7777777777777778,\"#fb9f3a\"],[0.8888888888888888,\"#fdca26\"],[1.0,\"#f0f921\"]]},\"colorway\":[\"#636efa\",\"#EF553B\",\"#00cc96\",\"#ab63fa\",\"#FFA15A\",\"#19d3f3\",\"#FF6692\",\"#B6E880\",\"#FF97FF\",\"#FECB52\"],\"font\":{\"color\":\"#2a3f5f\"},\"geo\":{\"bgcolor\":\"white\",\"lakecolor\":\"white\",\"landcolor\":\"#E5ECF6\",\"showlakes\":true,\"showland\":true,\"subunitcolor\":\"white\"},\"hoverlabel\":{\"align\":\"left\"},\"hovermode\":\"closest\",\"mapbox\":{\"style\":\"light\"},\"paper_bgcolor\":\"white\",\"plot_bgcolor\":\"#E5ECF6\",\"polar\":{\"angularaxis\":{\"gridcolor\":\"white\",\"linecolor\":\"white\",\"ticks\":\"\"},\"bgcolor\":\"#E5ECF6\",\"radialaxis\":{\"gridcolor\":\"white\",\"linecolor\":\"white\",\"ticks\":\"\"}},\"scene\":{\"xaxis\":{\"backgroundcolor\":\"#E5ECF6\",\"gridcolor\":\"white\",\"gridwidth\":2,\"linecolor\":\"white\",\"showbackground\":true,\"ticks\":\"\",\"zerolinecolor\":\"white\"},\"yaxis\":{\"backgroundcolor\":\"#E5ECF6\",\"gridcolor\":\"white\",\"gridwidth\":2,\"linecolor\":\"white\",\"showbackground\":true,\"ticks\":\"\",\"zerolinecolor\":\"white\"},\"zaxis\":{\"backgroundcolor\":\"#E5ECF6\",\"gridcolor\":\"white\",\"gridwidth\":2,\"linecolor\":\"white\",\"showbackground\":true,\"ticks\":\"\",\"zerolinecolor\":\"white\"}},\"shapedefaults\":{\"line\":{\"color\":\"#2a3f5f\"}},\"ternary\":{\"aaxis\":{\"gridcolor\":\"white\",\"linecolor\":\"white\",\"ticks\":\"\"},\"baxis\":{\"gridcolor\":\"white\",\"linecolor\":\"white\",\"ticks\":\"\"},\"bgcolor\":\"#E5ECF6\",\"caxis\":{\"gridcolor\":\"white\",\"linecolor\":\"white\",\"ticks\":\"\"}},\"title\":{\"x\":0.05},\"xaxis\":{\"automargin\":true,\"gridcolor\":\"white\",\"linecolor\":\"white\",\"ticks\":\"\",\"title\":{\"standoff\":15},\"zerolinecolor\":\"white\",\"zerolinewidth\":2},\"yaxis\":{\"automargin\":true,\"gridcolor\":\"white\",\"linecolor\":\"white\",\"ticks\":\"\",\"title\":{\"standoff\":15},\"zerolinecolor\":\"white\",\"zerolinewidth\":2}}},\"title\":{\"text\":\"Sector Analysis for past 20 days.\"},\"xaxis\":{\"anchor\":\"y\",\"domain\":[0,0.42],\"showgrid\":true,\"showline\":false,\"showticklabels\":true,\"zeroline\":false},\"xaxis2\":{\"anchor\":\"y2\",\"domain\":[0.47,1],\"dtick\":25000,\"showgrid\":true,\"showline\":false,\"showticklabels\":true,\"zeroline\":false},\"yaxis\":{\"anchor\":\"x\",\"domain\":[0,0.85],\"showgrid\":false,\"showline\":false,\"showticklabels\":true},\"yaxis2\":{\"anchor\":\"x2\",\"domain\":[0,0.85],\"linecolor\":\"rgba(102, 102, 102, 0.8)\",\"linewidth\":2,\"showgrid\":false,\"showline\":true,\"showticklabels\":false}},                        {\"responsive\": true}                    ).then(function(){\n",
       "                            \n",
       "var gd = document.getElementById('e7a77939-9f77-4dde-8d87-f490ef23bec5');\n",
       "var x = new MutationObserver(function (mutations, observer) {{\n",
       "        var display = window.getComputedStyle(gd).display;\n",
       "        if (!display || display === 'none') {{\n",
       "            console.log([gd, 'removed!']);\n",
       "            Plotly.purge(gd);\n",
       "            observer.disconnect();\n",
       "        }}\n",
       "}});\n",
       "\n",
       "// Listen for the removal of the full notebook cells\n",
       "var notebookContainer = gd.closest('#notebook-container');\n",
       "if (notebookContainer) {{\n",
       "    x.observe(notebookContainer, {childList: true});\n",
       "}}\n",
       "\n",
       "// Listen for the clearing of the current output cell\n",
       "var outputEl = gd.closest('.output');\n",
       "if (outputEl) {{\n",
       "    x.observe(outputEl, {childList: true});\n",
       "}}\n",
       "\n",
       "                        })                };                });            </script>        </div>"
      ]
     },
     "metadata": {},
     "output_type": "display_data"
    }
   ],
   "source": [
    "# # Creating two subplots\n",
    "# fig = make_subplots(rows=1, cols=2, specs=[[{}, {}]], shared_xaxes=True,\n",
    "#                     shared_yaxes=False, vertical_spacing=0.001)\n",
    "\n",
    "# fig.append_trace(go.Bar(\n",
    "#     x=df_final_analysis.total,\n",
    "#     y=df_final_analysis.sector,\n",
    "#     marker=dict(\n",
    "#         color='rgba(50, 171, 96, 0.6)',\n",
    "#         line=dict(\n",
    "#             color='rgba(50, 171, 96, 1.0)',\n",
    "#             width=1),\n",
    "#     ),\n",
    "#     name=f'Sector proportion in S&P 500.',\n",
    "#     orientation='h',\n",
    "# ), 1, 1)\n",
    "\n",
    "# fig.append_trace(go.Scatter(\n",
    "#     x=df_final_analysis.diff_close_positive, \n",
    "#     y=df_final_analysis.sector,\n",
    "#     mode='lines+markers',\n",
    "#     line_color='rgb(128, 0, 128)',\n",
    "#     name=f'The number of tickers increased stock prices.',\n",
    "# ), 1, 1)\n",
    "\n",
    "# fig.append_trace(go.Bar(\n",
    "#     x=df_final_analysis.total,\n",
    "#     y=df_final_analysis.sector,\n",
    "#     marker=dict(\n",
    "#         color='rgba(50, 171, 96, 0.6)',\n",
    "#         line=dict(\n",
    "#             color='rgba(50, 171, 96, 1.0)',\n",
    "#             width=1),\n",
    "#     ),\n",
    "#     name=f'Sector proportion in S&P 500.',\n",
    "#     orientation='h',\n",
    "# ), 1, 2)\n",
    "\n",
    "# fig.update_layout(\n",
    "#     title=f'Sector Analysis for past {sector_period} days.',\n",
    "#     yaxis=dict(\n",
    "#         showgrid=False,\n",
    "#         showline=False,\n",
    "#         showticklabels=True,\n",
    "#         domain=[0, 0.85],\n",
    "#     ),\n",
    "#     yaxis2=dict(\n",
    "#         showgrid=False,\n",
    "#         showline=True,\n",
    "#         showticklabels=False,\n",
    "#         linecolor='rgba(102, 102, 102, 0.8)',\n",
    "#         linewidth=2,\n",
    "#         domain=[0, 0.85],\n",
    "#     ),\n",
    "#     xaxis=dict(\n",
    "#         zeroline=False,\n",
    "#         showline=False,\n",
    "#         showticklabels=True,\n",
    "#         showgrid=True,\n",
    "#         domain=[0, 0.42],\n",
    "#     ),\n",
    "#     xaxis2=dict(\n",
    "#         zeroline=False,\n",
    "#         showline=False,\n",
    "#         showticklabels=True,\n",
    "#         showgrid=True,\n",
    "#         domain=[0.47, 1],\n",
    "# #         side='top',\n",
    "#         dtick=25000,\n",
    "#     ),\n",
    "#     legend=dict(x=0.029, y=1.038, font_size=10),\n",
    "#     margin=dict(l=100, r=20, t=70, b=70),\n",
    "#     paper_bgcolor='rgb(248, 248, 255)',\n",
    "#     plot_bgcolor='rgb(248, 248, 255)',\n",
    "# )\n",
    "# annotations = []\n",
    "\n",
    "# total_list = total_list\n",
    "# total_prop = round(total_list/sum(total_list)*100, 2)\n",
    "# sector_list = df_final_analysis.sector\n",
    "\n",
    "# # Adding labels\n",
    "# for totald, yd, xd in zip(total_list, total_prop, sector_list):\n",
    "#     # labeling the bar \n",
    "#     annotations.append(dict(xref='x1', yref='y1',\n",
    "#                             y=xd, x=totald + 10,\n",
    "#                             text=str(yd) + '%',\n",
    "#                             font=dict(family='Arial', size=12,\n",
    "#                                       color='rgb(50, 171, 96)'),\n",
    "#                             showarrow=False))\n",
    "\n",
    "# # Source\n",
    "# annotations.append(dict(xref='paper', yref='paper',\n",
    "#                         x=-0.2, y=-0.109,\n",
    "#                         text='yfinance S&P 500 data',\n",
    "#                         font=dict(family='Arial', size=10, color='rgb(150,150,150)'),\n",
    "#                         showarrow=False))\n",
    "\n",
    "# fig.update_layout(annotations=annotations)\n",
    "# fig.show()"
   ]
  },
  {
   "cell_type": "code",
   "execution_count": 453,
   "id": "f4b5bd23",
   "metadata": {},
   "outputs": [],
   "source": [
    "date_start = '2022-03-30'\n",
    "duration_days = 20\n",
    "\n",
    "import numpy as np\n",
    "\n",
    "sector_list = ['Basic Materials', 'Consumer Cyclical', 'Healthcare', \n",
    "               'Industrials', 'Financial Services', 'Technology', 'Energy', \n",
    "               'Consumer Defensive', 'Communication Services','Utilities', 'Real Estate']\n",
    "\n",
    "df_all = pd.DataFrame()\n",
    "for ticker in stock_history.keys():\n",
    "    df_temp = stock_history[ticker]\n",
    "    df_temp = df_temp[df_temp[\"Date\"] > date_start].iloc[:duration_days]\n",
    "    df_temp = stock_history[ticker].iloc[-sector_period:]\n",
    "    df_temp.reset_index(inplace=True, drop=True)\n",
    "    \n",
    "    if len(df_temp) > sector_period-1:\n",
    "        df_temp[\"ticker\"] = ticker\n",
    "        df_temp[\"sector\"] = df_final[df_final[\"ticker\"] == ticker][\"sector\"].tolist()[0]\n",
    "        df_temp[\"diff_maxmin\"] = df_temp[\"Close\"].max() - df_temp[\"Close\"].min()\n",
    "        df_temp[\"diff_close\"] = df_temp.iloc[-1][\"Close\"] - df_temp.iloc[0][\"Close\"] \n",
    "        df_temp[\"ch_per_1_mean\"] = df_temp[\"ch_per_1\"].mean()\n",
    "        df_temp = df_temp[[\"ticker\", \"sector\", \"Date\", \"Close\", \"Volume\", \n",
    "                           \"diff_maxmin\", \"diff_close\", \"ch_per_1_mean\"]]\n",
    "        df_all = df_all.append(df_temp)\n",
    "        \n",
    "output_dict = {}\n",
    "for sector in sector_list:\n",
    "    output_dict[sector] = {}\n",
    "\n",
    "df_filter = df_all[df_all[\"diff_close\"] > 0]\n",
    "for sector in sector_list:\n",
    "    df_filter_temp = df_filter[df_filter[\"sector\"] == sector]\n",
    "    output_dict[sector][\"pos_diff_close\"] = df_filter_temp[\"ticker\"].unique().tolist()\n",
    "    \n",
    "df_filter = df_all[df_all[\"diff_close\"] < 0]\n",
    "for sector in sector_list:\n",
    "    df_filter_temp = df_filter[df_filter[\"sector\"] == sector]\n",
    "    output_dict[sector][\"neg_diff_close\"] = df_filter_temp[\"ticker\"].unique().tolist()\n",
    "    \n",
    "df_positive = df_all[df_all[\"diff_close\"] > 0].groupby(\"sector\")[\"ticker\"].nunique().reset_index(drop=False)\n",
    "df_positive.rename(columns={\"ticker\": \"diff_close_positive\"}, inplace=True)\n",
    "df_negative = df_all[df_all[\"diff_close\"] < 0].groupby(\"sector\")[\"ticker\"].nunique().reset_index(drop=False)\n",
    "df_negative.rename(columns={\"ticker\": \"diff_close_negative\"}, inplace=True)\n",
    "df_total = df_all.groupby(\"sector\")[\"ticker\"].nunique().reset_index(drop=False)\n",
    "df_total.rename(columns={\"ticker\": \"total\"}, inplace=True)\n",
    "\n",
    "\n",
    "df_final_analysis = pd.merge(df_total, df_positive, on=\"sector\", how=\"left\")\n",
    "df_final_analysis = pd.merge(df_final_analysis, df_negative, on=\"sector\", how=\"left\")\n",
    "\n",
    "df_final_analysis['diff_close_positive'] = df_final_analysis['diff_close_positive'].replace(np.nan, 0)\n",
    "df_final_analysis['diff_close_negative'] = df_final_analysis['diff_close_negative'].replace(np.nan, 0)\n",
    "\n",
    "df_final_analysis[\"p_perc\"] = round(df_final_analysis[\"diff_close_positive\"]/df_final_analysis[\"total\"]*100, 2)\n",
    "df_final_analysis[\"n_perc\"] = round(df_final_analysis[\"diff_close_negative\"]/df_final_analysis[\"total\"]*100, 2)\n",
    "\n",
    "top_labels = ['Price Up', 'Price Down']\n",
    "colors = ['rgba(211,92,55, 0.8)', 'rgba(214,198,185, 0.8)']\n",
    "x_data = df_final_analysis[[\"p_perc\", \"n_perc\"]].values.tolist()\n",
    "y_data = df_final_analysis[\"sector\"].tolist()"
   ]
  },
  {
   "cell_type": "code",
   "execution_count": 454,
   "id": "aac918bb",
   "metadata": {},
   "outputs": [
    {
     "name": "stdout",
     "output_type": "stream",
     "text": [
      "2022-03-10 2022-05-05\n"
     ]
    }
   ],
   "source": [
    "time_start = df_temp.iloc[0][\"Date\"].strftime('%Y-%m-%d') \n",
    "time_last = df_temp.iloc[-1][\"Date\"].strftime('%Y-%m-%d') \n",
    "print(time_start, time_last)"
   ]
  },
  {
   "cell_type": "code",
   "execution_count": 456,
   "id": "8021f5b5",
   "metadata": {},
   "outputs": [
    {
     "data": {
      "application/vnd.plotly.v1+json": {
       "config": {
        "plotlyServerURL": "https://plot.ly"
       },
       "data": [
        {
         "marker": {
          "color": "rgba(211,92,55, 0.8)",
          "line": {
           "color": "rgb(248, 248, 249)",
           "width": 1
          }
         },
         "orientation": "h",
         "type": "bar",
         "x": [
          71.43
         ],
         "y": [
          "Basic Materials"
         ]
        },
        {
         "marker": {
          "color": "rgba(211,92,55, 0.8)",
          "line": {
           "color": "rgb(248, 248, 249)",
           "width": 1
          }
         },
         "orientation": "h",
         "type": "bar",
         "x": [
          22.22
         ],
         "y": [
          "Communication Services"
         ]
        },
        {
         "marker": {
          "color": "rgba(211,92,55, 0.8)",
          "line": {
           "color": "rgb(248, 248, 249)",
           "width": 1
          }
         },
         "orientation": "h",
         "type": "bar",
         "x": [
          35.71
         ],
         "y": [
          "Consumer Cyclical"
         ]
        },
        {
         "marker": {
          "color": "rgba(211,92,55, 0.8)",
          "line": {
           "color": "rgb(248, 248, 249)",
           "width": 1
          }
         },
         "orientation": "h",
         "type": "bar",
         "x": [
          81.08
         ],
         "y": [
          "Consumer Defensive"
         ]
        },
        {
         "marker": {
          "color": "rgba(211,92,55, 0.8)",
          "line": {
           "color": "rgb(248, 248, 249)",
           "width": 1
          }
         },
         "orientation": "h",
         "type": "bar",
         "x": [
          75
         ],
         "y": [
          "Energy"
         ]
        },
        {
         "marker": {
          "color": "rgba(211,92,55, 0.8)",
          "line": {
           "color": "rgb(248, 248, 249)",
           "width": 1
          }
         },
         "orientation": "h",
         "type": "bar",
         "x": [
          36.23
         ],
         "y": [
          "Financial Services"
         ]
        },
        {
         "marker": {
          "color": "rgba(211,92,55, 0.8)",
          "line": {
           "color": "rgb(248, 248, 249)",
           "width": 1
          }
         },
         "orientation": "h",
         "type": "bar",
         "x": [
          48.44
         ],
         "y": [
          "Healthcare"
         ]
        },
        {
         "marker": {
          "color": "rgba(211,92,55, 0.8)",
          "line": {
           "color": "rgb(248, 248, 249)",
           "width": 1
          }
         },
         "orientation": "h",
         "type": "bar",
         "x": [
          52.17
         ],
         "y": [
          "Industrials"
         ]
        },
        {
         "marker": {
          "color": "rgba(211,92,55, 0.8)",
          "line": {
           "color": "rgb(248, 248, 249)",
           "width": 1
          }
         },
         "orientation": "h",
         "type": "bar",
         "x": [
          36.67
         ],
         "y": [
          "Real Estate"
         ]
        },
        {
         "marker": {
          "color": "rgba(211,92,55, 0.8)",
          "line": {
           "color": "rgb(248, 248, 249)",
           "width": 1
          }
         },
         "orientation": "h",
         "type": "bar",
         "x": [
          21.13
         ],
         "y": [
          "Technology"
         ]
        },
        {
         "marker": {
          "color": "rgba(211,92,55, 0.8)",
          "line": {
           "color": "rgb(248, 248, 249)",
           "width": 1
          }
         },
         "orientation": "h",
         "type": "bar",
         "x": [
          72.41
         ],
         "y": [
          "Utilities"
         ]
        },
        {
         "marker": {
          "color": "rgba(214,198,185, 0.8)",
          "line": {
           "color": "rgb(248, 248, 249)",
           "width": 1
          }
         },
         "orientation": "h",
         "type": "bar",
         "x": [
          28.57
         ],
         "y": [
          "Basic Materials"
         ]
        },
        {
         "marker": {
          "color": "rgba(214,198,185, 0.8)",
          "line": {
           "color": "rgb(248, 248, 249)",
           "width": 1
          }
         },
         "orientation": "h",
         "type": "bar",
         "x": [
          77.78
         ],
         "y": [
          "Communication Services"
         ]
        },
        {
         "marker": {
          "color": "rgba(214,198,185, 0.8)",
          "line": {
           "color": "rgb(248, 248, 249)",
           "width": 1
          }
         },
         "orientation": "h",
         "type": "bar",
         "x": [
          64.29
         ],
         "y": [
          "Consumer Cyclical"
         ]
        },
        {
         "marker": {
          "color": "rgba(214,198,185, 0.8)",
          "line": {
           "color": "rgb(248, 248, 249)",
           "width": 1
          }
         },
         "orientation": "h",
         "type": "bar",
         "x": [
          18.92
         ],
         "y": [
          "Consumer Defensive"
         ]
        },
        {
         "marker": {
          "color": "rgba(214,198,185, 0.8)",
          "line": {
           "color": "rgb(248, 248, 249)",
           "width": 1
          }
         },
         "orientation": "h",
         "type": "bar",
         "x": [
          25
         ],
         "y": [
          "Energy"
         ]
        },
        {
         "marker": {
          "color": "rgba(214,198,185, 0.8)",
          "line": {
           "color": "rgb(248, 248, 249)",
           "width": 1
          }
         },
         "orientation": "h",
         "type": "bar",
         "x": [
          63.77
         ],
         "y": [
          "Financial Services"
         ]
        },
        {
         "marker": {
          "color": "rgba(214,198,185, 0.8)",
          "line": {
           "color": "rgb(248, 248, 249)",
           "width": 1
          }
         },
         "orientation": "h",
         "type": "bar",
         "x": [
          51.56
         ],
         "y": [
          "Healthcare"
         ]
        },
        {
         "marker": {
          "color": "rgba(214,198,185, 0.8)",
          "line": {
           "color": "rgb(248, 248, 249)",
           "width": 1
          }
         },
         "orientation": "h",
         "type": "bar",
         "x": [
          47.83
         ],
         "y": [
          "Industrials"
         ]
        },
        {
         "marker": {
          "color": "rgba(214,198,185, 0.8)",
          "line": {
           "color": "rgb(248, 248, 249)",
           "width": 1
          }
         },
         "orientation": "h",
         "type": "bar",
         "x": [
          63.33
         ],
         "y": [
          "Real Estate"
         ]
        },
        {
         "marker": {
          "color": "rgba(214,198,185, 0.8)",
          "line": {
           "color": "rgb(248, 248, 249)",
           "width": 1
          }
         },
         "orientation": "h",
         "type": "bar",
         "x": [
          78.87
         ],
         "y": [
          "Technology"
         ]
        },
        {
         "marker": {
          "color": "rgba(214,198,185, 0.8)",
          "line": {
           "color": "rgb(248, 248, 249)",
           "width": 1
          }
         },
         "orientation": "h",
         "type": "bar",
         "x": [
          27.59
         ],
         "y": [
          "Utilities"
         ]
        }
       ],
       "layout": {
        "annotations": [
         {
          "align": "right",
          "font": {
           "color": "rgb(68,76,92)",
           "family": "Arial",
           "size": 14
          },
          "showarrow": false,
          "text": "Basic Materials",
          "x": 0.13,
          "xanchor": "right",
          "xref": "paper",
          "y": "Basic Materials",
          "yref": "y"
         },
         {
          "font": {
           "color": "rgb(116,71,0)",
           "family": "Arial",
           "size": 14
          },
          "showarrow": false,
          "text": "71.43%",
          "x": 36.215,
          "xref": "x",
          "y": "Basic Materials",
          "yref": "y"
         },
         {
          "font": {
           "color": "rgb(191,154,119)",
           "family": "Arial",
           "size": 14
          },
          "showarrow": false,
          "text": "28.57%",
          "x": 87.715,
          "xref": "x",
          "y": "Basic Materials",
          "yref": "y"
         },
         {
          "align": "right",
          "font": {
           "color": "rgb(68,76,92)",
           "family": "Arial",
           "size": 14
          },
          "showarrow": false,
          "text": "Communication Services",
          "x": 0.13,
          "xanchor": "right",
          "xref": "paper",
          "y": "Communication Services",
          "yref": "y"
         },
         {
          "font": {
           "color": "rgb(116,71,0)",
           "family": "Arial",
           "size": 14
          },
          "showarrow": false,
          "text": "22.22%",
          "x": 11.61,
          "xref": "x",
          "y": "Communication Services",
          "yref": "y"
         },
         {
          "font": {
           "color": "rgb(191,154,119)",
           "family": "Arial",
           "size": 14
          },
          "showarrow": false,
          "text": "77.78%",
          "x": 63.11,
          "xref": "x",
          "y": "Communication Services",
          "yref": "y"
         },
         {
          "align": "right",
          "font": {
           "color": "rgb(68,76,92)",
           "family": "Arial",
           "size": 14
          },
          "showarrow": false,
          "text": "Consumer Cyclical",
          "x": 0.13,
          "xanchor": "right",
          "xref": "paper",
          "y": "Consumer Cyclical",
          "yref": "y"
         },
         {
          "font": {
           "color": "rgb(116,71,0)",
           "family": "Arial",
           "size": 14
          },
          "showarrow": false,
          "text": "35.71%",
          "x": 18.355,
          "xref": "x",
          "y": "Consumer Cyclical",
          "yref": "y"
         },
         {
          "font": {
           "color": "rgb(191,154,119)",
           "family": "Arial",
           "size": 14
          },
          "showarrow": false,
          "text": "64.29%",
          "x": 69.855,
          "xref": "x",
          "y": "Consumer Cyclical",
          "yref": "y"
         },
         {
          "align": "right",
          "font": {
           "color": "rgb(68,76,92)",
           "family": "Arial",
           "size": 14
          },
          "showarrow": false,
          "text": "Consumer Defensive",
          "x": 0.13,
          "xanchor": "right",
          "xref": "paper",
          "y": "Consumer Defensive",
          "yref": "y"
         },
         {
          "font": {
           "color": "rgb(116,71,0)",
           "family": "Arial",
           "size": 14
          },
          "showarrow": false,
          "text": "81.08%",
          "x": 41.04,
          "xref": "x",
          "y": "Consumer Defensive",
          "yref": "y"
         },
         {
          "font": {
           "color": "rgb(191,154,119)",
           "family": "Arial",
           "size": 14
          },
          "showarrow": false,
          "text": "18.92%",
          "x": 92.53999999999999,
          "xref": "x",
          "y": "Consumer Defensive",
          "yref": "y"
         },
         {
          "align": "right",
          "font": {
           "color": "rgb(68,76,92)",
           "family": "Arial",
           "size": 14
          },
          "showarrow": false,
          "text": "Energy",
          "x": 0.13,
          "xanchor": "right",
          "xref": "paper",
          "y": "Energy",
          "yref": "y"
         },
         {
          "font": {
           "color": "rgb(116,71,0)",
           "family": "Arial",
           "size": 14
          },
          "showarrow": false,
          "text": "75.0%",
          "x": 38,
          "xref": "x",
          "y": "Energy",
          "yref": "y"
         },
         {
          "font": {
           "color": "rgb(191,154,119)",
           "family": "Arial",
           "size": 14
          },
          "showarrow": false,
          "text": "25.0%",
          "x": 89.5,
          "xref": "x",
          "y": "Energy",
          "yref": "y"
         },
         {
          "align": "right",
          "font": {
           "color": "rgb(68,76,92)",
           "family": "Arial",
           "size": 14
          },
          "showarrow": false,
          "text": "Financial Services",
          "x": 0.13,
          "xanchor": "right",
          "xref": "paper",
          "y": "Financial Services",
          "yref": "y"
         },
         {
          "font": {
           "color": "rgb(116,71,0)",
           "family": "Arial",
           "size": 14
          },
          "showarrow": false,
          "text": "36.23%",
          "x": 18.615,
          "xref": "x",
          "y": "Financial Services",
          "yref": "y"
         },
         {
          "font": {
           "color": "rgb(191,154,119)",
           "family": "Arial",
           "size": 14
          },
          "showarrow": false,
          "text": "63.77%",
          "x": 70.115,
          "xref": "x",
          "y": "Financial Services",
          "yref": "y"
         },
         {
          "align": "right",
          "font": {
           "color": "rgb(68,76,92)",
           "family": "Arial",
           "size": 14
          },
          "showarrow": false,
          "text": "Healthcare",
          "x": 0.13,
          "xanchor": "right",
          "xref": "paper",
          "y": "Healthcare",
          "yref": "y"
         },
         {
          "font": {
           "color": "rgb(116,71,0)",
           "family": "Arial",
           "size": 14
          },
          "showarrow": false,
          "text": "48.44%",
          "x": 24.72,
          "xref": "x",
          "y": "Healthcare",
          "yref": "y"
         },
         {
          "font": {
           "color": "rgb(191,154,119)",
           "family": "Arial",
           "size": 14
          },
          "showarrow": false,
          "text": "51.56%",
          "x": 76.22,
          "xref": "x",
          "y": "Healthcare",
          "yref": "y"
         },
         {
          "align": "right",
          "font": {
           "color": "rgb(68,76,92)",
           "family": "Arial",
           "size": 14
          },
          "showarrow": false,
          "text": "Industrials",
          "x": 0.13,
          "xanchor": "right",
          "xref": "paper",
          "y": "Industrials",
          "yref": "y"
         },
         {
          "font": {
           "color": "rgb(116,71,0)",
           "family": "Arial",
           "size": 14
          },
          "showarrow": false,
          "text": "52.17%",
          "x": 26.585,
          "xref": "x",
          "y": "Industrials",
          "yref": "y"
         },
         {
          "font": {
           "color": "rgb(191,154,119)",
           "family": "Arial",
           "size": 14
          },
          "showarrow": false,
          "text": "47.83%",
          "x": 78.08500000000001,
          "xref": "x",
          "y": "Industrials",
          "yref": "y"
         },
         {
          "align": "right",
          "font": {
           "color": "rgb(68,76,92)",
           "family": "Arial",
           "size": 14
          },
          "showarrow": false,
          "text": "Real Estate",
          "x": 0.13,
          "xanchor": "right",
          "xref": "paper",
          "y": "Real Estate",
          "yref": "y"
         },
         {
          "font": {
           "color": "rgb(116,71,0)",
           "family": "Arial",
           "size": 14
          },
          "showarrow": false,
          "text": "36.67%",
          "x": 18.835,
          "xref": "x",
          "y": "Real Estate",
          "yref": "y"
         },
         {
          "font": {
           "color": "rgb(191,154,119)",
           "family": "Arial",
           "size": 14
          },
          "showarrow": false,
          "text": "63.33%",
          "x": 70.33500000000001,
          "xref": "x",
          "y": "Real Estate",
          "yref": "y"
         },
         {
          "align": "right",
          "font": {
           "color": "rgb(68,76,92)",
           "family": "Arial",
           "size": 14
          },
          "showarrow": false,
          "text": "Technology",
          "x": 0.13,
          "xanchor": "right",
          "xref": "paper",
          "y": "Technology",
          "yref": "y"
         },
         {
          "font": {
           "color": "rgb(116,71,0)",
           "family": "Arial",
           "size": 14
          },
          "showarrow": false,
          "text": "21.13%",
          "x": 11.065,
          "xref": "x",
          "y": "Technology",
          "yref": "y"
         },
         {
          "font": {
           "color": "rgb(191,154,119)",
           "family": "Arial",
           "size": 14
          },
          "showarrow": false,
          "text": "78.87%",
          "x": 62.565,
          "xref": "x",
          "y": "Technology",
          "yref": "y"
         },
         {
          "align": "right",
          "font": {
           "color": "rgb(68,76,92)",
           "family": "Arial",
           "size": 14
          },
          "showarrow": false,
          "text": "Utilities",
          "x": 0.13,
          "xanchor": "right",
          "xref": "paper",
          "y": "Utilities",
          "yref": "y"
         },
         {
          "font": {
           "color": "rgb(116,71,0)",
           "family": "Arial",
           "size": 14
          },
          "showarrow": false,
          "text": "72.41%",
          "x": 36.705,
          "xref": "x",
          "y": "Utilities",
          "yref": "y"
         },
         {
          "font": {
           "color": "rgb(68,76,92)",
           "family": "Arial",
           "size": 14
          },
          "showarrow": false,
          "text": "Price Up",
          "x": 36.705,
          "xref": "x",
          "y": 1.1,
          "yref": "paper"
         },
         {
          "font": {
           "color": "rgb(191,154,119)",
           "family": "Arial",
           "size": 14
          },
          "showarrow": false,
          "text": "27.59%",
          "x": 88.205,
          "xref": "x",
          "y": "Utilities",
          "yref": "y"
         },
         {
          "font": {
           "color": "rgb(68,76,92)",
           "family": "Arial",
           "size": 14
          },
          "showarrow": false,
          "text": "Price Down",
          "x": 88.205,
          "xref": "x",
          "y": 1.1,
          "yref": "paper"
         },
         {
          "font": {
           "color": "rgb(150,150,150)",
           "family": "Arial",
           "size": 10
          },
          "showarrow": false,
          "text": "Reference: yfinance S&P 500 data                         \n                        ",
          "x": 0.15,
          "xref": "paper",
          "y": -0.109,
          "yref": "paper"
         }
        ],
        "barmode": "stack",
        "margin": {
         "b": 80,
         "l": 120,
         "r": 10,
         "t": 140
        },
        "paper_bgcolor": "rgb(248, 248, 255)",
        "plot_bgcolor": "rgb(248, 248, 255)",
        "showlegend": false,
        "template": {
         "data": {
          "bar": [
           {
            "error_x": {
             "color": "#2a3f5f"
            },
            "error_y": {
             "color": "#2a3f5f"
            },
            "marker": {
             "line": {
              "color": "#E5ECF6",
              "width": 0.5
             },
             "pattern": {
              "fillmode": "overlay",
              "size": 10,
              "solidity": 0.2
             }
            },
            "type": "bar"
           }
          ],
          "barpolar": [
           {
            "marker": {
             "line": {
              "color": "#E5ECF6",
              "width": 0.5
             },
             "pattern": {
              "fillmode": "overlay",
              "size": 10,
              "solidity": 0.2
             }
            },
            "type": "barpolar"
           }
          ],
          "carpet": [
           {
            "aaxis": {
             "endlinecolor": "#2a3f5f",
             "gridcolor": "white",
             "linecolor": "white",
             "minorgridcolor": "white",
             "startlinecolor": "#2a3f5f"
            },
            "baxis": {
             "endlinecolor": "#2a3f5f",
             "gridcolor": "white",
             "linecolor": "white",
             "minorgridcolor": "white",
             "startlinecolor": "#2a3f5f"
            },
            "type": "carpet"
           }
          ],
          "choropleth": [
           {
            "colorbar": {
             "outlinewidth": 0,
             "ticks": ""
            },
            "type": "choropleth"
           }
          ],
          "contour": [
           {
            "colorbar": {
             "outlinewidth": 0,
             "ticks": ""
            },
            "colorscale": [
             [
              0,
              "#0d0887"
             ],
             [
              0.1111111111111111,
              "#46039f"
             ],
             [
              0.2222222222222222,
              "#7201a8"
             ],
             [
              0.3333333333333333,
              "#9c179e"
             ],
             [
              0.4444444444444444,
              "#bd3786"
             ],
             [
              0.5555555555555556,
              "#d8576b"
             ],
             [
              0.6666666666666666,
              "#ed7953"
             ],
             [
              0.7777777777777778,
              "#fb9f3a"
             ],
             [
              0.8888888888888888,
              "#fdca26"
             ],
             [
              1,
              "#f0f921"
             ]
            ],
            "type": "contour"
           }
          ],
          "contourcarpet": [
           {
            "colorbar": {
             "outlinewidth": 0,
             "ticks": ""
            },
            "type": "contourcarpet"
           }
          ],
          "heatmap": [
           {
            "colorbar": {
             "outlinewidth": 0,
             "ticks": ""
            },
            "colorscale": [
             [
              0,
              "#0d0887"
             ],
             [
              0.1111111111111111,
              "#46039f"
             ],
             [
              0.2222222222222222,
              "#7201a8"
             ],
             [
              0.3333333333333333,
              "#9c179e"
             ],
             [
              0.4444444444444444,
              "#bd3786"
             ],
             [
              0.5555555555555556,
              "#d8576b"
             ],
             [
              0.6666666666666666,
              "#ed7953"
             ],
             [
              0.7777777777777778,
              "#fb9f3a"
             ],
             [
              0.8888888888888888,
              "#fdca26"
             ],
             [
              1,
              "#f0f921"
             ]
            ],
            "type": "heatmap"
           }
          ],
          "heatmapgl": [
           {
            "colorbar": {
             "outlinewidth": 0,
             "ticks": ""
            },
            "colorscale": [
             [
              0,
              "#0d0887"
             ],
             [
              0.1111111111111111,
              "#46039f"
             ],
             [
              0.2222222222222222,
              "#7201a8"
             ],
             [
              0.3333333333333333,
              "#9c179e"
             ],
             [
              0.4444444444444444,
              "#bd3786"
             ],
             [
              0.5555555555555556,
              "#d8576b"
             ],
             [
              0.6666666666666666,
              "#ed7953"
             ],
             [
              0.7777777777777778,
              "#fb9f3a"
             ],
             [
              0.8888888888888888,
              "#fdca26"
             ],
             [
              1,
              "#f0f921"
             ]
            ],
            "type": "heatmapgl"
           }
          ],
          "histogram": [
           {
            "marker": {
             "pattern": {
              "fillmode": "overlay",
              "size": 10,
              "solidity": 0.2
             }
            },
            "type": "histogram"
           }
          ],
          "histogram2d": [
           {
            "colorbar": {
             "outlinewidth": 0,
             "ticks": ""
            },
            "colorscale": [
             [
              0,
              "#0d0887"
             ],
             [
              0.1111111111111111,
              "#46039f"
             ],
             [
              0.2222222222222222,
              "#7201a8"
             ],
             [
              0.3333333333333333,
              "#9c179e"
             ],
             [
              0.4444444444444444,
              "#bd3786"
             ],
             [
              0.5555555555555556,
              "#d8576b"
             ],
             [
              0.6666666666666666,
              "#ed7953"
             ],
             [
              0.7777777777777778,
              "#fb9f3a"
             ],
             [
              0.8888888888888888,
              "#fdca26"
             ],
             [
              1,
              "#f0f921"
             ]
            ],
            "type": "histogram2d"
           }
          ],
          "histogram2dcontour": [
           {
            "colorbar": {
             "outlinewidth": 0,
             "ticks": ""
            },
            "colorscale": [
             [
              0,
              "#0d0887"
             ],
             [
              0.1111111111111111,
              "#46039f"
             ],
             [
              0.2222222222222222,
              "#7201a8"
             ],
             [
              0.3333333333333333,
              "#9c179e"
             ],
             [
              0.4444444444444444,
              "#bd3786"
             ],
             [
              0.5555555555555556,
              "#d8576b"
             ],
             [
              0.6666666666666666,
              "#ed7953"
             ],
             [
              0.7777777777777778,
              "#fb9f3a"
             ],
             [
              0.8888888888888888,
              "#fdca26"
             ],
             [
              1,
              "#f0f921"
             ]
            ],
            "type": "histogram2dcontour"
           }
          ],
          "mesh3d": [
           {
            "colorbar": {
             "outlinewidth": 0,
             "ticks": ""
            },
            "type": "mesh3d"
           }
          ],
          "parcoords": [
           {
            "line": {
             "colorbar": {
              "outlinewidth": 0,
              "ticks": ""
             }
            },
            "type": "parcoords"
           }
          ],
          "pie": [
           {
            "automargin": true,
            "type": "pie"
           }
          ],
          "scatter": [
           {
            "marker": {
             "colorbar": {
              "outlinewidth": 0,
              "ticks": ""
             }
            },
            "type": "scatter"
           }
          ],
          "scatter3d": [
           {
            "line": {
             "colorbar": {
              "outlinewidth": 0,
              "ticks": ""
             }
            },
            "marker": {
             "colorbar": {
              "outlinewidth": 0,
              "ticks": ""
             }
            },
            "type": "scatter3d"
           }
          ],
          "scattercarpet": [
           {
            "marker": {
             "colorbar": {
              "outlinewidth": 0,
              "ticks": ""
             }
            },
            "type": "scattercarpet"
           }
          ],
          "scattergeo": [
           {
            "marker": {
             "colorbar": {
              "outlinewidth": 0,
              "ticks": ""
             }
            },
            "type": "scattergeo"
           }
          ],
          "scattergl": [
           {
            "marker": {
             "colorbar": {
              "outlinewidth": 0,
              "ticks": ""
             }
            },
            "type": "scattergl"
           }
          ],
          "scattermapbox": [
           {
            "marker": {
             "colorbar": {
              "outlinewidth": 0,
              "ticks": ""
             }
            },
            "type": "scattermapbox"
           }
          ],
          "scatterpolar": [
           {
            "marker": {
             "colorbar": {
              "outlinewidth": 0,
              "ticks": ""
             }
            },
            "type": "scatterpolar"
           }
          ],
          "scatterpolargl": [
           {
            "marker": {
             "colorbar": {
              "outlinewidth": 0,
              "ticks": ""
             }
            },
            "type": "scatterpolargl"
           }
          ],
          "scatterternary": [
           {
            "marker": {
             "colorbar": {
              "outlinewidth": 0,
              "ticks": ""
             }
            },
            "type": "scatterternary"
           }
          ],
          "surface": [
           {
            "colorbar": {
             "outlinewidth": 0,
             "ticks": ""
            },
            "colorscale": [
             [
              0,
              "#0d0887"
             ],
             [
              0.1111111111111111,
              "#46039f"
             ],
             [
              0.2222222222222222,
              "#7201a8"
             ],
             [
              0.3333333333333333,
              "#9c179e"
             ],
             [
              0.4444444444444444,
              "#bd3786"
             ],
             [
              0.5555555555555556,
              "#d8576b"
             ],
             [
              0.6666666666666666,
              "#ed7953"
             ],
             [
              0.7777777777777778,
              "#fb9f3a"
             ],
             [
              0.8888888888888888,
              "#fdca26"
             ],
             [
              1,
              "#f0f921"
             ]
            ],
            "type": "surface"
           }
          ],
          "table": [
           {
            "cells": {
             "fill": {
              "color": "#EBF0F8"
             },
             "line": {
              "color": "white"
             }
            },
            "header": {
             "fill": {
              "color": "#C8D4E3"
             },
             "line": {
              "color": "white"
             }
            },
            "type": "table"
           }
          ]
         },
         "layout": {
          "annotationdefaults": {
           "arrowcolor": "#2a3f5f",
           "arrowhead": 0,
           "arrowwidth": 1
          },
          "autotypenumbers": "strict",
          "coloraxis": {
           "colorbar": {
            "outlinewidth": 0,
            "ticks": ""
           }
          },
          "colorscale": {
           "diverging": [
            [
             0,
             "#8e0152"
            ],
            [
             0.1,
             "#c51b7d"
            ],
            [
             0.2,
             "#de77ae"
            ],
            [
             0.3,
             "#f1b6da"
            ],
            [
             0.4,
             "#fde0ef"
            ],
            [
             0.5,
             "#f7f7f7"
            ],
            [
             0.6,
             "#e6f5d0"
            ],
            [
             0.7,
             "#b8e186"
            ],
            [
             0.8,
             "#7fbc41"
            ],
            [
             0.9,
             "#4d9221"
            ],
            [
             1,
             "#276419"
            ]
           ],
           "sequential": [
            [
             0,
             "#0d0887"
            ],
            [
             0.1111111111111111,
             "#46039f"
            ],
            [
             0.2222222222222222,
             "#7201a8"
            ],
            [
             0.3333333333333333,
             "#9c179e"
            ],
            [
             0.4444444444444444,
             "#bd3786"
            ],
            [
             0.5555555555555556,
             "#d8576b"
            ],
            [
             0.6666666666666666,
             "#ed7953"
            ],
            [
             0.7777777777777778,
             "#fb9f3a"
            ],
            [
             0.8888888888888888,
             "#fdca26"
            ],
            [
             1,
             "#f0f921"
            ]
           ],
           "sequentialminus": [
            [
             0,
             "#0d0887"
            ],
            [
             0.1111111111111111,
             "#46039f"
            ],
            [
             0.2222222222222222,
             "#7201a8"
            ],
            [
             0.3333333333333333,
             "#9c179e"
            ],
            [
             0.4444444444444444,
             "#bd3786"
            ],
            [
             0.5555555555555556,
             "#d8576b"
            ],
            [
             0.6666666666666666,
             "#ed7953"
            ],
            [
             0.7777777777777778,
             "#fb9f3a"
            ],
            [
             0.8888888888888888,
             "#fdca26"
            ],
            [
             1,
             "#f0f921"
            ]
           ]
          },
          "colorway": [
           "#636efa",
           "#EF553B",
           "#00cc96",
           "#ab63fa",
           "#FFA15A",
           "#19d3f3",
           "#FF6692",
           "#B6E880",
           "#FF97FF",
           "#FECB52"
          ],
          "font": {
           "color": "#2a3f5f"
          },
          "geo": {
           "bgcolor": "white",
           "lakecolor": "white",
           "landcolor": "#E5ECF6",
           "showlakes": true,
           "showland": true,
           "subunitcolor": "white"
          },
          "hoverlabel": {
           "align": "left"
          },
          "hovermode": "closest",
          "mapbox": {
           "style": "light"
          },
          "paper_bgcolor": "white",
          "plot_bgcolor": "#E5ECF6",
          "polar": {
           "angularaxis": {
            "gridcolor": "white",
            "linecolor": "white",
            "ticks": ""
           },
           "bgcolor": "#E5ECF6",
           "radialaxis": {
            "gridcolor": "white",
            "linecolor": "white",
            "ticks": ""
           }
          },
          "scene": {
           "xaxis": {
            "backgroundcolor": "#E5ECF6",
            "gridcolor": "white",
            "gridwidth": 2,
            "linecolor": "white",
            "showbackground": true,
            "ticks": "",
            "zerolinecolor": "white"
           },
           "yaxis": {
            "backgroundcolor": "#E5ECF6",
            "gridcolor": "white",
            "gridwidth": 2,
            "linecolor": "white",
            "showbackground": true,
            "ticks": "",
            "zerolinecolor": "white"
           },
           "zaxis": {
            "backgroundcolor": "#E5ECF6",
            "gridcolor": "white",
            "gridwidth": 2,
            "linecolor": "white",
            "showbackground": true,
            "ticks": "",
            "zerolinecolor": "white"
           }
          },
          "shapedefaults": {
           "line": {
            "color": "#2a3f5f"
           }
          },
          "ternary": {
           "aaxis": {
            "gridcolor": "white",
            "linecolor": "white",
            "ticks": ""
           },
           "baxis": {
            "gridcolor": "white",
            "linecolor": "white",
            "ticks": ""
           },
           "bgcolor": "#E5ECF6",
           "caxis": {
            "gridcolor": "white",
            "linecolor": "white",
            "ticks": ""
           }
          },
          "title": {
           "x": 0.05
          },
          "xaxis": {
           "automargin": true,
           "gridcolor": "white",
           "linecolor": "white",
           "ticks": "",
           "title": {
            "standoff": 15
           },
           "zerolinecolor": "white",
           "zerolinewidth": 2
          },
          "yaxis": {
           "automargin": true,
           "gridcolor": "white",
           "linecolor": "white",
           "ticks": "",
           "title": {
            "standoff": 15
           },
           "zerolinecolor": "white",
           "zerolinewidth": 2
          }
         }
        },
        "title": {
         "text": "Percentage in Prices Up/Down by Sectors: [2022-03-10 & 2022-05-05]"
        },
        "xaxis": {
         "domain": [
          0.15,
          1
         ],
         "showgrid": false,
         "showline": false,
         "showticklabels": false,
         "zeroline": false
        },
        "yaxis": {
         "showgrid": false,
         "showline": false,
         "showticklabels": false,
         "zeroline": false
        }
       }
      },
      "text/html": [
       "<div>                            <div id=\"c052b8ab-1247-4d69-a762-0cddaff1079d\" class=\"plotly-graph-div\" style=\"height:525px; width:100%;\"></div>            <script type=\"text/javascript\">                require([\"plotly\"], function(Plotly) {                    window.PLOTLYENV=window.PLOTLYENV || {};                                    if (document.getElementById(\"c052b8ab-1247-4d69-a762-0cddaff1079d\")) {                    Plotly.newPlot(                        \"c052b8ab-1247-4d69-a762-0cddaff1079d\",                        [{\"marker\":{\"color\":\"rgba(211,92,55, 0.8)\",\"line\":{\"color\":\"rgb(248, 248, 249)\",\"width\":1}},\"orientation\":\"h\",\"type\":\"bar\",\"x\":[71.43],\"y\":[\"Basic Materials\"]},{\"marker\":{\"color\":\"rgba(211,92,55, 0.8)\",\"line\":{\"color\":\"rgb(248, 248, 249)\",\"width\":1}},\"orientation\":\"h\",\"type\":\"bar\",\"x\":[22.22],\"y\":[\"Communication Services\"]},{\"marker\":{\"color\":\"rgba(211,92,55, 0.8)\",\"line\":{\"color\":\"rgb(248, 248, 249)\",\"width\":1}},\"orientation\":\"h\",\"type\":\"bar\",\"x\":[35.71],\"y\":[\"Consumer Cyclical\"]},{\"marker\":{\"color\":\"rgba(211,92,55, 0.8)\",\"line\":{\"color\":\"rgb(248, 248, 249)\",\"width\":1}},\"orientation\":\"h\",\"type\":\"bar\",\"x\":[81.08],\"y\":[\"Consumer Defensive\"]},{\"marker\":{\"color\":\"rgba(211,92,55, 0.8)\",\"line\":{\"color\":\"rgb(248, 248, 249)\",\"width\":1}},\"orientation\":\"h\",\"type\":\"bar\",\"x\":[75.0],\"y\":[\"Energy\"]},{\"marker\":{\"color\":\"rgba(211,92,55, 0.8)\",\"line\":{\"color\":\"rgb(248, 248, 249)\",\"width\":1}},\"orientation\":\"h\",\"type\":\"bar\",\"x\":[36.23],\"y\":[\"Financial Services\"]},{\"marker\":{\"color\":\"rgba(211,92,55, 0.8)\",\"line\":{\"color\":\"rgb(248, 248, 249)\",\"width\":1}},\"orientation\":\"h\",\"type\":\"bar\",\"x\":[48.44],\"y\":[\"Healthcare\"]},{\"marker\":{\"color\":\"rgba(211,92,55, 0.8)\",\"line\":{\"color\":\"rgb(248, 248, 249)\",\"width\":1}},\"orientation\":\"h\",\"type\":\"bar\",\"x\":[52.17],\"y\":[\"Industrials\"]},{\"marker\":{\"color\":\"rgba(211,92,55, 0.8)\",\"line\":{\"color\":\"rgb(248, 248, 249)\",\"width\":1}},\"orientation\":\"h\",\"type\":\"bar\",\"x\":[36.67],\"y\":[\"Real Estate\"]},{\"marker\":{\"color\":\"rgba(211,92,55, 0.8)\",\"line\":{\"color\":\"rgb(248, 248, 249)\",\"width\":1}},\"orientation\":\"h\",\"type\":\"bar\",\"x\":[21.13],\"y\":[\"Technology\"]},{\"marker\":{\"color\":\"rgba(211,92,55, 0.8)\",\"line\":{\"color\":\"rgb(248, 248, 249)\",\"width\":1}},\"orientation\":\"h\",\"type\":\"bar\",\"x\":[72.41],\"y\":[\"Utilities\"]},{\"marker\":{\"color\":\"rgba(214,198,185, 0.8)\",\"line\":{\"color\":\"rgb(248, 248, 249)\",\"width\":1}},\"orientation\":\"h\",\"type\":\"bar\",\"x\":[28.57],\"y\":[\"Basic Materials\"]},{\"marker\":{\"color\":\"rgba(214,198,185, 0.8)\",\"line\":{\"color\":\"rgb(248, 248, 249)\",\"width\":1}},\"orientation\":\"h\",\"type\":\"bar\",\"x\":[77.78],\"y\":[\"Communication Services\"]},{\"marker\":{\"color\":\"rgba(214,198,185, 0.8)\",\"line\":{\"color\":\"rgb(248, 248, 249)\",\"width\":1}},\"orientation\":\"h\",\"type\":\"bar\",\"x\":[64.29],\"y\":[\"Consumer Cyclical\"]},{\"marker\":{\"color\":\"rgba(214,198,185, 0.8)\",\"line\":{\"color\":\"rgb(248, 248, 249)\",\"width\":1}},\"orientation\":\"h\",\"type\":\"bar\",\"x\":[18.92],\"y\":[\"Consumer Defensive\"]},{\"marker\":{\"color\":\"rgba(214,198,185, 0.8)\",\"line\":{\"color\":\"rgb(248, 248, 249)\",\"width\":1}},\"orientation\":\"h\",\"type\":\"bar\",\"x\":[25.0],\"y\":[\"Energy\"]},{\"marker\":{\"color\":\"rgba(214,198,185, 0.8)\",\"line\":{\"color\":\"rgb(248, 248, 249)\",\"width\":1}},\"orientation\":\"h\",\"type\":\"bar\",\"x\":[63.77],\"y\":[\"Financial Services\"]},{\"marker\":{\"color\":\"rgba(214,198,185, 0.8)\",\"line\":{\"color\":\"rgb(248, 248, 249)\",\"width\":1}},\"orientation\":\"h\",\"type\":\"bar\",\"x\":[51.56],\"y\":[\"Healthcare\"]},{\"marker\":{\"color\":\"rgba(214,198,185, 0.8)\",\"line\":{\"color\":\"rgb(248, 248, 249)\",\"width\":1}},\"orientation\":\"h\",\"type\":\"bar\",\"x\":[47.83],\"y\":[\"Industrials\"]},{\"marker\":{\"color\":\"rgba(214,198,185, 0.8)\",\"line\":{\"color\":\"rgb(248, 248, 249)\",\"width\":1}},\"orientation\":\"h\",\"type\":\"bar\",\"x\":[63.33],\"y\":[\"Real Estate\"]},{\"marker\":{\"color\":\"rgba(214,198,185, 0.8)\",\"line\":{\"color\":\"rgb(248, 248, 249)\",\"width\":1}},\"orientation\":\"h\",\"type\":\"bar\",\"x\":[78.87],\"y\":[\"Technology\"]},{\"marker\":{\"color\":\"rgba(214,198,185, 0.8)\",\"line\":{\"color\":\"rgb(248, 248, 249)\",\"width\":1}},\"orientation\":\"h\",\"type\":\"bar\",\"x\":[27.59],\"y\":[\"Utilities\"]}],                        {\"annotations\":[{\"align\":\"right\",\"font\":{\"color\":\"rgb(68,76,92)\",\"family\":\"Arial\",\"size\":14},\"showarrow\":false,\"text\":\"Basic Materials\",\"x\":0.13,\"xanchor\":\"right\",\"xref\":\"paper\",\"y\":\"Basic Materials\",\"yref\":\"y\"},{\"font\":{\"color\":\"rgb(116,71,0)\",\"family\":\"Arial\",\"size\":14},\"showarrow\":false,\"text\":\"71.43%\",\"x\":36.215,\"xref\":\"x\",\"y\":\"Basic Materials\",\"yref\":\"y\"},{\"font\":{\"color\":\"rgb(191,154,119)\",\"family\":\"Arial\",\"size\":14},\"showarrow\":false,\"text\":\"28.57%\",\"x\":87.715,\"xref\":\"x\",\"y\":\"Basic Materials\",\"yref\":\"y\"},{\"align\":\"right\",\"font\":{\"color\":\"rgb(68,76,92)\",\"family\":\"Arial\",\"size\":14},\"showarrow\":false,\"text\":\"Communication Services\",\"x\":0.13,\"xanchor\":\"right\",\"xref\":\"paper\",\"y\":\"Communication Services\",\"yref\":\"y\"},{\"font\":{\"color\":\"rgb(116,71,0)\",\"family\":\"Arial\",\"size\":14},\"showarrow\":false,\"text\":\"22.22%\",\"x\":11.61,\"xref\":\"x\",\"y\":\"Communication Services\",\"yref\":\"y\"},{\"font\":{\"color\":\"rgb(191,154,119)\",\"family\":\"Arial\",\"size\":14},\"showarrow\":false,\"text\":\"77.78%\",\"x\":63.11,\"xref\":\"x\",\"y\":\"Communication Services\",\"yref\":\"y\"},{\"align\":\"right\",\"font\":{\"color\":\"rgb(68,76,92)\",\"family\":\"Arial\",\"size\":14},\"showarrow\":false,\"text\":\"Consumer Cyclical\",\"x\":0.13,\"xanchor\":\"right\",\"xref\":\"paper\",\"y\":\"Consumer Cyclical\",\"yref\":\"y\"},{\"font\":{\"color\":\"rgb(116,71,0)\",\"family\":\"Arial\",\"size\":14},\"showarrow\":false,\"text\":\"35.71%\",\"x\":18.355,\"xref\":\"x\",\"y\":\"Consumer Cyclical\",\"yref\":\"y\"},{\"font\":{\"color\":\"rgb(191,154,119)\",\"family\":\"Arial\",\"size\":14},\"showarrow\":false,\"text\":\"64.29%\",\"x\":69.855,\"xref\":\"x\",\"y\":\"Consumer Cyclical\",\"yref\":\"y\"},{\"align\":\"right\",\"font\":{\"color\":\"rgb(68,76,92)\",\"family\":\"Arial\",\"size\":14},\"showarrow\":false,\"text\":\"Consumer Defensive\",\"x\":0.13,\"xanchor\":\"right\",\"xref\":\"paper\",\"y\":\"Consumer Defensive\",\"yref\":\"y\"},{\"font\":{\"color\":\"rgb(116,71,0)\",\"family\":\"Arial\",\"size\":14},\"showarrow\":false,\"text\":\"81.08%\",\"x\":41.04,\"xref\":\"x\",\"y\":\"Consumer Defensive\",\"yref\":\"y\"},{\"font\":{\"color\":\"rgb(191,154,119)\",\"family\":\"Arial\",\"size\":14},\"showarrow\":false,\"text\":\"18.92%\",\"x\":92.53999999999999,\"xref\":\"x\",\"y\":\"Consumer Defensive\",\"yref\":\"y\"},{\"align\":\"right\",\"font\":{\"color\":\"rgb(68,76,92)\",\"family\":\"Arial\",\"size\":14},\"showarrow\":false,\"text\":\"Energy\",\"x\":0.13,\"xanchor\":\"right\",\"xref\":\"paper\",\"y\":\"Energy\",\"yref\":\"y\"},{\"font\":{\"color\":\"rgb(116,71,0)\",\"family\":\"Arial\",\"size\":14},\"showarrow\":false,\"text\":\"75.0%\",\"x\":38.0,\"xref\":\"x\",\"y\":\"Energy\",\"yref\":\"y\"},{\"font\":{\"color\":\"rgb(191,154,119)\",\"family\":\"Arial\",\"size\":14},\"showarrow\":false,\"text\":\"25.0%\",\"x\":89.5,\"xref\":\"x\",\"y\":\"Energy\",\"yref\":\"y\"},{\"align\":\"right\",\"font\":{\"color\":\"rgb(68,76,92)\",\"family\":\"Arial\",\"size\":14},\"showarrow\":false,\"text\":\"Financial Services\",\"x\":0.13,\"xanchor\":\"right\",\"xref\":\"paper\",\"y\":\"Financial Services\",\"yref\":\"y\"},{\"font\":{\"color\":\"rgb(116,71,0)\",\"family\":\"Arial\",\"size\":14},\"showarrow\":false,\"text\":\"36.23%\",\"x\":18.615,\"xref\":\"x\",\"y\":\"Financial Services\",\"yref\":\"y\"},{\"font\":{\"color\":\"rgb(191,154,119)\",\"family\":\"Arial\",\"size\":14},\"showarrow\":false,\"text\":\"63.77%\",\"x\":70.115,\"xref\":\"x\",\"y\":\"Financial Services\",\"yref\":\"y\"},{\"align\":\"right\",\"font\":{\"color\":\"rgb(68,76,92)\",\"family\":\"Arial\",\"size\":14},\"showarrow\":false,\"text\":\"Healthcare\",\"x\":0.13,\"xanchor\":\"right\",\"xref\":\"paper\",\"y\":\"Healthcare\",\"yref\":\"y\"},{\"font\":{\"color\":\"rgb(116,71,0)\",\"family\":\"Arial\",\"size\":14},\"showarrow\":false,\"text\":\"48.44%\",\"x\":24.72,\"xref\":\"x\",\"y\":\"Healthcare\",\"yref\":\"y\"},{\"font\":{\"color\":\"rgb(191,154,119)\",\"family\":\"Arial\",\"size\":14},\"showarrow\":false,\"text\":\"51.56%\",\"x\":76.22,\"xref\":\"x\",\"y\":\"Healthcare\",\"yref\":\"y\"},{\"align\":\"right\",\"font\":{\"color\":\"rgb(68,76,92)\",\"family\":\"Arial\",\"size\":14},\"showarrow\":false,\"text\":\"Industrials\",\"x\":0.13,\"xanchor\":\"right\",\"xref\":\"paper\",\"y\":\"Industrials\",\"yref\":\"y\"},{\"font\":{\"color\":\"rgb(116,71,0)\",\"family\":\"Arial\",\"size\":14},\"showarrow\":false,\"text\":\"52.17%\",\"x\":26.585,\"xref\":\"x\",\"y\":\"Industrials\",\"yref\":\"y\"},{\"font\":{\"color\":\"rgb(191,154,119)\",\"family\":\"Arial\",\"size\":14},\"showarrow\":false,\"text\":\"47.83%\",\"x\":78.08500000000001,\"xref\":\"x\",\"y\":\"Industrials\",\"yref\":\"y\"},{\"align\":\"right\",\"font\":{\"color\":\"rgb(68,76,92)\",\"family\":\"Arial\",\"size\":14},\"showarrow\":false,\"text\":\"Real Estate\",\"x\":0.13,\"xanchor\":\"right\",\"xref\":\"paper\",\"y\":\"Real Estate\",\"yref\":\"y\"},{\"font\":{\"color\":\"rgb(116,71,0)\",\"family\":\"Arial\",\"size\":14},\"showarrow\":false,\"text\":\"36.67%\",\"x\":18.835,\"xref\":\"x\",\"y\":\"Real Estate\",\"yref\":\"y\"},{\"font\":{\"color\":\"rgb(191,154,119)\",\"family\":\"Arial\",\"size\":14},\"showarrow\":false,\"text\":\"63.33%\",\"x\":70.33500000000001,\"xref\":\"x\",\"y\":\"Real Estate\",\"yref\":\"y\"},{\"align\":\"right\",\"font\":{\"color\":\"rgb(68,76,92)\",\"family\":\"Arial\",\"size\":14},\"showarrow\":false,\"text\":\"Technology\",\"x\":0.13,\"xanchor\":\"right\",\"xref\":\"paper\",\"y\":\"Technology\",\"yref\":\"y\"},{\"font\":{\"color\":\"rgb(116,71,0)\",\"family\":\"Arial\",\"size\":14},\"showarrow\":false,\"text\":\"21.13%\",\"x\":11.065,\"xref\":\"x\",\"y\":\"Technology\",\"yref\":\"y\"},{\"font\":{\"color\":\"rgb(191,154,119)\",\"family\":\"Arial\",\"size\":14},\"showarrow\":false,\"text\":\"78.87%\",\"x\":62.565,\"xref\":\"x\",\"y\":\"Technology\",\"yref\":\"y\"},{\"align\":\"right\",\"font\":{\"color\":\"rgb(68,76,92)\",\"family\":\"Arial\",\"size\":14},\"showarrow\":false,\"text\":\"Utilities\",\"x\":0.13,\"xanchor\":\"right\",\"xref\":\"paper\",\"y\":\"Utilities\",\"yref\":\"y\"},{\"font\":{\"color\":\"rgb(116,71,0)\",\"family\":\"Arial\",\"size\":14},\"showarrow\":false,\"text\":\"72.41%\",\"x\":36.705,\"xref\":\"x\",\"y\":\"Utilities\",\"yref\":\"y\"},{\"font\":{\"color\":\"rgb(68,76,92)\",\"family\":\"Arial\",\"size\":14},\"showarrow\":false,\"text\":\"Price Up\",\"x\":36.705,\"xref\":\"x\",\"y\":1.1,\"yref\":\"paper\"},{\"font\":{\"color\":\"rgb(191,154,119)\",\"family\":\"Arial\",\"size\":14},\"showarrow\":false,\"text\":\"27.59%\",\"x\":88.205,\"xref\":\"x\",\"y\":\"Utilities\",\"yref\":\"y\"},{\"font\":{\"color\":\"rgb(68,76,92)\",\"family\":\"Arial\",\"size\":14},\"showarrow\":false,\"text\":\"Price Down\",\"x\":88.205,\"xref\":\"x\",\"y\":1.1,\"yref\":\"paper\"},{\"font\":{\"color\":\"rgb(150,150,150)\",\"family\":\"Arial\",\"size\":10},\"showarrow\":false,\"text\":\"Reference: yfinance S&P 500 data                         \\n                        \",\"x\":0.15,\"xref\":\"paper\",\"y\":-0.109,\"yref\":\"paper\"}],\"barmode\":\"stack\",\"margin\":{\"b\":80,\"l\":120,\"r\":10,\"t\":140},\"paper_bgcolor\":\"rgb(248, 248, 255)\",\"plot_bgcolor\":\"rgb(248, 248, 255)\",\"showlegend\":false,\"template\":{\"data\":{\"bar\":[{\"error_x\":{\"color\":\"#2a3f5f\"},\"error_y\":{\"color\":\"#2a3f5f\"},\"marker\":{\"line\":{\"color\":\"#E5ECF6\",\"width\":0.5},\"pattern\":{\"fillmode\":\"overlay\",\"size\":10,\"solidity\":0.2}},\"type\":\"bar\"}],\"barpolar\":[{\"marker\":{\"line\":{\"color\":\"#E5ECF6\",\"width\":0.5},\"pattern\":{\"fillmode\":\"overlay\",\"size\":10,\"solidity\":0.2}},\"type\":\"barpolar\"}],\"carpet\":[{\"aaxis\":{\"endlinecolor\":\"#2a3f5f\",\"gridcolor\":\"white\",\"linecolor\":\"white\",\"minorgridcolor\":\"white\",\"startlinecolor\":\"#2a3f5f\"},\"baxis\":{\"endlinecolor\":\"#2a3f5f\",\"gridcolor\":\"white\",\"linecolor\":\"white\",\"minorgridcolor\":\"white\",\"startlinecolor\":\"#2a3f5f\"},\"type\":\"carpet\"}],\"choropleth\":[{\"colorbar\":{\"outlinewidth\":0,\"ticks\":\"\"},\"type\":\"choropleth\"}],\"contour\":[{\"colorbar\":{\"outlinewidth\":0,\"ticks\":\"\"},\"colorscale\":[[0.0,\"#0d0887\"],[0.1111111111111111,\"#46039f\"],[0.2222222222222222,\"#7201a8\"],[0.3333333333333333,\"#9c179e\"],[0.4444444444444444,\"#bd3786\"],[0.5555555555555556,\"#d8576b\"],[0.6666666666666666,\"#ed7953\"],[0.7777777777777778,\"#fb9f3a\"],[0.8888888888888888,\"#fdca26\"],[1.0,\"#f0f921\"]],\"type\":\"contour\"}],\"contourcarpet\":[{\"colorbar\":{\"outlinewidth\":0,\"ticks\":\"\"},\"type\":\"contourcarpet\"}],\"heatmap\":[{\"colorbar\":{\"outlinewidth\":0,\"ticks\":\"\"},\"colorscale\":[[0.0,\"#0d0887\"],[0.1111111111111111,\"#46039f\"],[0.2222222222222222,\"#7201a8\"],[0.3333333333333333,\"#9c179e\"],[0.4444444444444444,\"#bd3786\"],[0.5555555555555556,\"#d8576b\"],[0.6666666666666666,\"#ed7953\"],[0.7777777777777778,\"#fb9f3a\"],[0.8888888888888888,\"#fdca26\"],[1.0,\"#f0f921\"]],\"type\":\"heatmap\"}],\"heatmapgl\":[{\"colorbar\":{\"outlinewidth\":0,\"ticks\":\"\"},\"colorscale\":[[0.0,\"#0d0887\"],[0.1111111111111111,\"#46039f\"],[0.2222222222222222,\"#7201a8\"],[0.3333333333333333,\"#9c179e\"],[0.4444444444444444,\"#bd3786\"],[0.5555555555555556,\"#d8576b\"],[0.6666666666666666,\"#ed7953\"],[0.7777777777777778,\"#fb9f3a\"],[0.8888888888888888,\"#fdca26\"],[1.0,\"#f0f921\"]],\"type\":\"heatmapgl\"}],\"histogram\":[{\"marker\":{\"pattern\":{\"fillmode\":\"overlay\",\"size\":10,\"solidity\":0.2}},\"type\":\"histogram\"}],\"histogram2d\":[{\"colorbar\":{\"outlinewidth\":0,\"ticks\":\"\"},\"colorscale\":[[0.0,\"#0d0887\"],[0.1111111111111111,\"#46039f\"],[0.2222222222222222,\"#7201a8\"],[0.3333333333333333,\"#9c179e\"],[0.4444444444444444,\"#bd3786\"],[0.5555555555555556,\"#d8576b\"],[0.6666666666666666,\"#ed7953\"],[0.7777777777777778,\"#fb9f3a\"],[0.8888888888888888,\"#fdca26\"],[1.0,\"#f0f921\"]],\"type\":\"histogram2d\"}],\"histogram2dcontour\":[{\"colorbar\":{\"outlinewidth\":0,\"ticks\":\"\"},\"colorscale\":[[0.0,\"#0d0887\"],[0.1111111111111111,\"#46039f\"],[0.2222222222222222,\"#7201a8\"],[0.3333333333333333,\"#9c179e\"],[0.4444444444444444,\"#bd3786\"],[0.5555555555555556,\"#d8576b\"],[0.6666666666666666,\"#ed7953\"],[0.7777777777777778,\"#fb9f3a\"],[0.8888888888888888,\"#fdca26\"],[1.0,\"#f0f921\"]],\"type\":\"histogram2dcontour\"}],\"mesh3d\":[{\"colorbar\":{\"outlinewidth\":0,\"ticks\":\"\"},\"type\":\"mesh3d\"}],\"parcoords\":[{\"line\":{\"colorbar\":{\"outlinewidth\":0,\"ticks\":\"\"}},\"type\":\"parcoords\"}],\"pie\":[{\"automargin\":true,\"type\":\"pie\"}],\"scatter\":[{\"marker\":{\"colorbar\":{\"outlinewidth\":0,\"ticks\":\"\"}},\"type\":\"scatter\"}],\"scatter3d\":[{\"line\":{\"colorbar\":{\"outlinewidth\":0,\"ticks\":\"\"}},\"marker\":{\"colorbar\":{\"outlinewidth\":0,\"ticks\":\"\"}},\"type\":\"scatter3d\"}],\"scattercarpet\":[{\"marker\":{\"colorbar\":{\"outlinewidth\":0,\"ticks\":\"\"}},\"type\":\"scattercarpet\"}],\"scattergeo\":[{\"marker\":{\"colorbar\":{\"outlinewidth\":0,\"ticks\":\"\"}},\"type\":\"scattergeo\"}],\"scattergl\":[{\"marker\":{\"colorbar\":{\"outlinewidth\":0,\"ticks\":\"\"}},\"type\":\"scattergl\"}],\"scattermapbox\":[{\"marker\":{\"colorbar\":{\"outlinewidth\":0,\"ticks\":\"\"}},\"type\":\"scattermapbox\"}],\"scatterpolar\":[{\"marker\":{\"colorbar\":{\"outlinewidth\":0,\"ticks\":\"\"}},\"type\":\"scatterpolar\"}],\"scatterpolargl\":[{\"marker\":{\"colorbar\":{\"outlinewidth\":0,\"ticks\":\"\"}},\"type\":\"scatterpolargl\"}],\"scatterternary\":[{\"marker\":{\"colorbar\":{\"outlinewidth\":0,\"ticks\":\"\"}},\"type\":\"scatterternary\"}],\"surface\":[{\"colorbar\":{\"outlinewidth\":0,\"ticks\":\"\"},\"colorscale\":[[0.0,\"#0d0887\"],[0.1111111111111111,\"#46039f\"],[0.2222222222222222,\"#7201a8\"],[0.3333333333333333,\"#9c179e\"],[0.4444444444444444,\"#bd3786\"],[0.5555555555555556,\"#d8576b\"],[0.6666666666666666,\"#ed7953\"],[0.7777777777777778,\"#fb9f3a\"],[0.8888888888888888,\"#fdca26\"],[1.0,\"#f0f921\"]],\"type\":\"surface\"}],\"table\":[{\"cells\":{\"fill\":{\"color\":\"#EBF0F8\"},\"line\":{\"color\":\"white\"}},\"header\":{\"fill\":{\"color\":\"#C8D4E3\"},\"line\":{\"color\":\"white\"}},\"type\":\"table\"}]},\"layout\":{\"annotationdefaults\":{\"arrowcolor\":\"#2a3f5f\",\"arrowhead\":0,\"arrowwidth\":1},\"autotypenumbers\":\"strict\",\"coloraxis\":{\"colorbar\":{\"outlinewidth\":0,\"ticks\":\"\"}},\"colorscale\":{\"diverging\":[[0,\"#8e0152\"],[0.1,\"#c51b7d\"],[0.2,\"#de77ae\"],[0.3,\"#f1b6da\"],[0.4,\"#fde0ef\"],[0.5,\"#f7f7f7\"],[0.6,\"#e6f5d0\"],[0.7,\"#b8e186\"],[0.8,\"#7fbc41\"],[0.9,\"#4d9221\"],[1,\"#276419\"]],\"sequential\":[[0.0,\"#0d0887\"],[0.1111111111111111,\"#46039f\"],[0.2222222222222222,\"#7201a8\"],[0.3333333333333333,\"#9c179e\"],[0.4444444444444444,\"#bd3786\"],[0.5555555555555556,\"#d8576b\"],[0.6666666666666666,\"#ed7953\"],[0.7777777777777778,\"#fb9f3a\"],[0.8888888888888888,\"#fdca26\"],[1.0,\"#f0f921\"]],\"sequentialminus\":[[0.0,\"#0d0887\"],[0.1111111111111111,\"#46039f\"],[0.2222222222222222,\"#7201a8\"],[0.3333333333333333,\"#9c179e\"],[0.4444444444444444,\"#bd3786\"],[0.5555555555555556,\"#d8576b\"],[0.6666666666666666,\"#ed7953\"],[0.7777777777777778,\"#fb9f3a\"],[0.8888888888888888,\"#fdca26\"],[1.0,\"#f0f921\"]]},\"colorway\":[\"#636efa\",\"#EF553B\",\"#00cc96\",\"#ab63fa\",\"#FFA15A\",\"#19d3f3\",\"#FF6692\",\"#B6E880\",\"#FF97FF\",\"#FECB52\"],\"font\":{\"color\":\"#2a3f5f\"},\"geo\":{\"bgcolor\":\"white\",\"lakecolor\":\"white\",\"landcolor\":\"#E5ECF6\",\"showlakes\":true,\"showland\":true,\"subunitcolor\":\"white\"},\"hoverlabel\":{\"align\":\"left\"},\"hovermode\":\"closest\",\"mapbox\":{\"style\":\"light\"},\"paper_bgcolor\":\"white\",\"plot_bgcolor\":\"#E5ECF6\",\"polar\":{\"angularaxis\":{\"gridcolor\":\"white\",\"linecolor\":\"white\",\"ticks\":\"\"},\"bgcolor\":\"#E5ECF6\",\"radialaxis\":{\"gridcolor\":\"white\",\"linecolor\":\"white\",\"ticks\":\"\"}},\"scene\":{\"xaxis\":{\"backgroundcolor\":\"#E5ECF6\",\"gridcolor\":\"white\",\"gridwidth\":2,\"linecolor\":\"white\",\"showbackground\":true,\"ticks\":\"\",\"zerolinecolor\":\"white\"},\"yaxis\":{\"backgroundcolor\":\"#E5ECF6\",\"gridcolor\":\"white\",\"gridwidth\":2,\"linecolor\":\"white\",\"showbackground\":true,\"ticks\":\"\",\"zerolinecolor\":\"white\"},\"zaxis\":{\"backgroundcolor\":\"#E5ECF6\",\"gridcolor\":\"white\",\"gridwidth\":2,\"linecolor\":\"white\",\"showbackground\":true,\"ticks\":\"\",\"zerolinecolor\":\"white\"}},\"shapedefaults\":{\"line\":{\"color\":\"#2a3f5f\"}},\"ternary\":{\"aaxis\":{\"gridcolor\":\"white\",\"linecolor\":\"white\",\"ticks\":\"\"},\"baxis\":{\"gridcolor\":\"white\",\"linecolor\":\"white\",\"ticks\":\"\"},\"bgcolor\":\"#E5ECF6\",\"caxis\":{\"gridcolor\":\"white\",\"linecolor\":\"white\",\"ticks\":\"\"}},\"title\":{\"x\":0.05},\"xaxis\":{\"automargin\":true,\"gridcolor\":\"white\",\"linecolor\":\"white\",\"ticks\":\"\",\"title\":{\"standoff\":15},\"zerolinecolor\":\"white\",\"zerolinewidth\":2},\"yaxis\":{\"automargin\":true,\"gridcolor\":\"white\",\"linecolor\":\"white\",\"ticks\":\"\",\"title\":{\"standoff\":15},\"zerolinecolor\":\"white\",\"zerolinewidth\":2}}},\"title\":{\"text\":\"Percentage in Prices Up/Down by Sectors: [2022-03-10 & 2022-05-05]\"},\"xaxis\":{\"domain\":[0.15,1],\"showgrid\":false,\"showline\":false,\"showticklabels\":false,\"zeroline\":false},\"yaxis\":{\"showgrid\":false,\"showline\":false,\"showticklabels\":false,\"zeroline\":false}},                        {\"responsive\": true}                    ).then(function(){\n",
       "                            \n",
       "var gd = document.getElementById('c052b8ab-1247-4d69-a762-0cddaff1079d');\n",
       "var x = new MutationObserver(function (mutations, observer) {{\n",
       "        var display = window.getComputedStyle(gd).display;\n",
       "        if (!display || display === 'none') {{\n",
       "            console.log([gd, 'removed!']);\n",
       "            Plotly.purge(gd);\n",
       "            observer.disconnect();\n",
       "        }}\n",
       "}});\n",
       "\n",
       "// Listen for the removal of the full notebook cells\n",
       "var notebookContainer = gd.closest('#notebook-container');\n",
       "if (notebookContainer) {{\n",
       "    x.observe(notebookContainer, {childList: true});\n",
       "}}\n",
       "\n",
       "// Listen for the clearing of the current output cell\n",
       "var outputEl = gd.closest('.output');\n",
       "if (outputEl) {{\n",
       "    x.observe(outputEl, {childList: true});\n",
       "}}\n",
       "\n",
       "                        })                };                });            </script>        </div>"
      ]
     },
     "metadata": {},
     "output_type": "display_data"
    }
   ],
   "source": [
    "fig = go.Figure()\n",
    "for i in range(0, len(x_data[0])):\n",
    "    for xd, yd in zip(x_data, y_data):\n",
    "        fig.add_trace(go.Bar(\n",
    "            x=[xd[i]], y=[yd],\n",
    "            orientation='h',\n",
    "            marker=dict(color=colors[i],\n",
    "                        line=dict(color='rgb(248, 248, 249)', width=1))\n",
    "            ))\n",
    "                   \n",
    "fig.update_layout(\n",
    "    title = f'Percentage in Prices Up/Down by Sectors: [{time_start} & {time_last}]',\n",
    "    xaxis=dict(\n",
    "        showgrid=False,\n",
    "        showline=False,\n",
    "        showticklabels=False,\n",
    "        zeroline=False,\n",
    "        domain=[0.15, 1]\n",
    "    ),\n",
    "    yaxis=dict(\n",
    "        showgrid=False,\n",
    "        showline=False,\n",
    "        showticklabels=False,\n",
    "        zeroline=False,\n",
    "    ),\n",
    "    barmode='stack',\n",
    "    paper_bgcolor='rgb(248, 248, 255)',\n",
    "    plot_bgcolor='rgb(248, 248, 255)',\n",
    "    margin=dict(l=120, r=10, t=140, b=80),\n",
    "    showlegend=False,\n",
    ")\n",
    "\n",
    "annotations = []\n",
    "for yd, xd in zip(y_data, x_data):\n",
    "    # labeling the y-axis\n",
    "    annotations.append(dict(xref='paper', yref='y',\n",
    "                            x=0.13, y=yd,\n",
    "                            xanchor='right',\n",
    "                            text=str(yd),\n",
    "                            font=dict(family='Arial', size=14,\n",
    "                                      color='rgb(68,76,92)'),\n",
    "                            showarrow=False, align='right'))\n",
    "    \n",
    "    # labeling (positive)\n",
    "    annotations.append(dict(xref='x', yref='y',\n",
    "                            x= (xd[0] +1) / 2, y=yd,\n",
    "                            text=str(xd[0]) + '%',\n",
    "                            font=dict(family='Arial', size=14,\n",
    "                                      color='rgb(116,71,0)'),\n",
    "                            showarrow=False))\n",
    "    # labeling on the left\n",
    "    if yd == y_data[-1]:\n",
    "        annotations.append(dict(xref='x', yref='paper',\n",
    "                                x=(xd[0]+1) / 2, y=1.1,\n",
    "                                text=top_labels[0],\n",
    "                                font=dict(family='Arial', size=14,\n",
    "                                          color='rgb(68,76,92)'),\n",
    "                                showarrow=False))\n",
    "    space = xd[0] + 2\n",
    "    for i in range(1, len(xd)):\n",
    "            # labeling negative percentage\n",
    "            annotations.append(dict(xref='x', yref='y',\n",
    "                                    x=space + (xd[i]/2), y=yd,\n",
    "                                    text=str(xd[i]) + '%',\n",
    "                                    font=dict(family='Arial', size=14,\n",
    "                                              color='rgb(191,154,119)'),\n",
    "                                    showarrow=False))\n",
    "            # labeling negative title\n",
    "            if yd == y_data[-1]:\n",
    "                annotations.append(dict(xref='x', yref='paper',\n",
    "                                        x=space + (xd[i]/2), y=1.1,\n",
    "                                        text=top_labels[i],\n",
    "                                        font=dict(family='Arial', size=14,\n",
    "                                                  color='rgb(68,76,92)'),\n",
    "                                        showarrow=False))\n",
    "            space += xd[i]\n",
    "\n",
    "annotations.append(dict(xref='paper', yref='paper',\n",
    "                        x= 0.15, y=-0.109,\n",
    "                        text=\"\"\"Reference: yfinance S&P 500 data                         \n",
    "                        \"\"\",\n",
    "                        font=dict(family='Arial', size=10, color='rgb(150,150,150)'),\n",
    "                        showarrow=False))\n",
    "\n",
    "fig.update_layout(annotations=annotations)\n",
    "fig.show()"
   ]
  },
  {
   "cell_type": "code",
   "execution_count": 488,
   "id": "fa78c850",
   "metadata": {},
   "outputs": [],
   "source": [
    "#df_temp = df_temp[df_temp[\"Date\"] > date_start].iloc[:duration_days]\n",
    "\n",
    "input_dict = {'duration': 20, 'start_day': datetime.date(2022, 5, 10)}"
   ]
  },
  {
   "cell_type": "code",
   "execution_count": 541,
   "id": "d68d7cd0",
   "metadata": {},
   "outputs": [],
   "source": [
    "def get_sector_period(date_start, duration_days):\n",
    "    date_start = date_start.strftime('%Y-%m-%d')\n",
    "    df_all = pd.DataFrame()\n",
    "    for ticker in stock_history.keys():\n",
    "        df_temp = stock_history[ticker]\n",
    "        df_temp = df_temp[df_temp[\"Date\"] > date_start].iloc[:duration_days]\n",
    "        df_temp = stock_history[ticker].iloc[-sector_period:]\n",
    "        df_temp.reset_index(inplace=True, drop=True)\n",
    "\n",
    "        if len(df_temp) > sector_period-1:\n",
    "            df_temp[\"ticker\"] = ticker\n",
    "            df_temp[\"sector\"] = df_final[df_final[\"ticker\"] == ticker][\"sector\"].tolist()[0]\n",
    "            df_temp[\"diff_maxmin\"] = df_temp[\"Close\"].max() - df_temp[\"Close\"].min()\n",
    "            df_temp[\"diff_close\"] = df_temp.iloc[-1][\"Close\"] - df_temp.iloc[0][\"Close\"] \n",
    "            df_temp[\"ch_per_1_mean\"] = df_temp[\"ch_per_1\"].mean()\n",
    "            df_temp = df_temp[[\"ticker\", \"sector\", \"Date\", \"Close\", \"Volume\", \n",
    "                               \"diff_maxmin\", \"diff_close\", \"ch_per_1_mean\"]]\n",
    "            df_all = df_all.append(df_temp)\n",
    "\n",
    "    output_dict = {}\n",
    "    for sector in sector_list:\n",
    "        output_dict[sector] = {}\n",
    "\n",
    "    df_filter = df_all[df_all[\"diff_close\"] > 0]\n",
    "    for sector in sector_list:\n",
    "        df_filter_temp = df_filter[df_filter[\"sector\"] == sector]\n",
    "        output_dict[sector][\"pos_diff_close\"] = df_filter_temp[\"ticker\"].unique().tolist()\n",
    "\n",
    "    df_filter = df_all[df_all[\"diff_close\"] < 0]\n",
    "    for sector in sector_list:\n",
    "        df_filter_temp = df_filter[df_filter[\"sector\"] == sector]\n",
    "        output_dict[sector][\"neg_diff_close\"] = df_filter_temp[\"ticker\"].unique().tolist()\n",
    "\n",
    "    df_positive = df_all[df_all[\"diff_close\"] > 0].groupby(\"sector\")[\"ticker\"].nunique().reset_index(drop=False)\n",
    "    df_positive.rename(columns={\"ticker\": \"diff_close_positive\"}, inplace=True)\n",
    "    df_negative = df_all[df_all[\"diff_close\"] < 0].groupby(\"sector\")[\"ticker\"].nunique().reset_index(drop=False)\n",
    "    df_negative.rename(columns={\"ticker\": \"diff_close_negative\"}, inplace=True)\n",
    "    df_total = df_all.groupby(\"sector\")[\"ticker\"].nunique().reset_index(drop=False)\n",
    "    df_total.rename(columns={\"ticker\": \"total\"}, inplace=True)\n",
    "\n",
    "\n",
    "    df_final_analysis = pd.merge(df_total, df_positive, on=\"sector\", how=\"left\")\n",
    "    df_final_analysis = pd.merge(df_final_analysis, df_negative, on=\"sector\", how=\"left\")\n",
    "\n",
    "    df_final_analysis['diff_close_positive'] = df_final_analysis['diff_close_positive'].replace(np.nan, 0)\n",
    "    df_final_analysis['diff_close_negative'] = df_final_analysis['diff_close_negative'].replace(np.nan, 0)\n",
    "\n",
    "    df_final_analysis[\"p_perc\"] = round(df_final_analysis[\"diff_close_positive\"]/df_final_analysis[\"total\"]*100, 2)\n",
    "    df_final_analysis[\"n_perc\"] = round(df_final_analysis[\"diff_close_negative\"]/df_final_analysis[\"total\"]*100, 2)\n",
    "\n",
    "    top_labels = ['Price Up', 'Price Down']\n",
    "    colors = ['rgba(211,92,55, 0.8)', 'rgba(214,198,185, 0.8)']\n",
    "    x_data = df_final_analysis[[\"p_perc\", \"n_perc\"]].values.tolist()\n",
    "    y_data = df_final_analysis[\"sector\"].tolist()\n",
    "    \n",
    "    time_start = df_temp.iloc[0][\"Date\"].strftime('%Y-%m-%d') \n",
    "    time_last = df_temp.iloc[-1][\"Date\"].strftime('%Y-%m-%d') \n",
    "    \n",
    "    fig = go.Figure()\n",
    "    for i in range(0, len(x_data[0])):\n",
    "        for xd, yd in zip(x_data, y_data):\n",
    "            fig.add_trace(go.Bar(\n",
    "                x=[xd[i]], y=[yd],\n",
    "                orientation='h',\n",
    "                marker=dict(color=colors[i],\n",
    "                            line=dict(color='rgb(248, 248, 249)', width=1))\n",
    "                ))\n",
    "\n",
    "    fig.update_layout(\n",
    "        title = f'Percentage in Prices Up/Down by Sectors: [{time_start} & {time_last}]',\n",
    "        xaxis=dict(\n",
    "            showgrid=False,\n",
    "            showline=False,\n",
    "            showticklabels=False,\n",
    "            zeroline=False,\n",
    "            domain=[0.15, 1]\n",
    "        ),\n",
    "        yaxis=dict(\n",
    "            showgrid=False,\n",
    "            showline=False,\n",
    "            showticklabels=False,\n",
    "            zeroline=False,\n",
    "        ),\n",
    "        barmode='stack',\n",
    "        paper_bgcolor='rgb(248, 248, 255)',\n",
    "        plot_bgcolor='rgb(248, 248, 255)',\n",
    "        margin=dict(l=120, r=10, t=140, b=80),\n",
    "        showlegend=False,\n",
    "    )\n",
    "\n",
    "    annotations = []\n",
    "    for yd, xd in zip(y_data, x_data):\n",
    "        # labeling the y-axis\n",
    "        annotations.append(dict(xref='paper', yref='y',\n",
    "                                x=0.13, y=yd,\n",
    "                                xanchor='right',\n",
    "                                text=str(yd),\n",
    "                                font=dict(family='Arial', size=14,\n",
    "                                          color='rgb(68,76,92)'),\n",
    "                                showarrow=False, align='right'))\n",
    "\n",
    "        # labeling (positive)\n",
    "        annotations.append(dict(xref='x', yref='y',\n",
    "                                x= (xd[0] +1) / 2, y=yd,\n",
    "                                text=str(xd[0]) + '%',\n",
    "                                font=dict(family='Arial', size=14,\n",
    "                                          color='rgb(116,71,0)'),\n",
    "                                showarrow=False))\n",
    "        # labeling on the left\n",
    "        if yd == y_data[-1]:\n",
    "            annotations.append(dict(xref='x', yref='paper',\n",
    "                                    x=(xd[0]+1) / 2, y=1.1,\n",
    "                                    text=top_labels[0],\n",
    "                                    font=dict(family='Arial', size=14,\n",
    "                                              color='rgb(68,76,92)'),\n",
    "                                    showarrow=False))\n",
    "        space = xd[0] + 2\n",
    "        for i in range(1, len(xd)):\n",
    "                # labeling negative percentage\n",
    "                annotations.append(dict(xref='x', yref='y',\n",
    "                                        x=space + (xd[i]/2), y=yd,\n",
    "                                        text=str(xd[i]) + '%',\n",
    "                                        font=dict(family='Arial', size=14,\n",
    "                                                  color='rgb(191,154,119)'),\n",
    "                                        showarrow=False))\n",
    "                # labeling negative title\n",
    "                if yd == y_data[-1]:\n",
    "                    annotations.append(dict(xref='x', yref='paper',\n",
    "                                            x=space + (xd[i]/2), y=1.1,\n",
    "                                            text=top_labels[i],\n",
    "                                            font=dict(family='Arial', size=14,\n",
    "                                                      color='rgb(68,76,92)'),\n",
    "                                            showarrow=False))\n",
    "                space += xd[i]\n",
    "\n",
    "    annotations.append(dict(xref='paper', yref='paper',\n",
    "                            x= 0.15, y=-0.109,\n",
    "                            text=\"\"\"Reference: yfinance S&P 500 data                         \n",
    "                            \"\"\",\n",
    "                            font=dict(family='Arial', size=10, color='rgb(150,150,150)'),\n",
    "                            showarrow=False))\n",
    "\n",
    "    fig.update_layout(annotations=annotations)\n",
    "    fig.show()\n",
    "    return output_dict"
   ]
  },
  {
   "cell_type": "code",
   "execution_count": 544,
   "id": "8225bacd",
   "metadata": {},
   "outputs": [
    {
     "data": {
      "application/vnd.plotly.v1+json": {
       "config": {
        "plotlyServerURL": "https://plot.ly"
       },
       "data": [
        {
         "marker": {
          "color": "rgba(211,92,55, 0.8)",
          "line": {
           "color": "rgb(248, 248, 249)",
           "width": 1
          }
         },
         "orientation": "h",
         "type": "bar",
         "x": [
          71.43
         ],
         "y": [
          "Basic Materials"
         ]
        },
        {
         "marker": {
          "color": "rgba(211,92,55, 0.8)",
          "line": {
           "color": "rgb(248, 248, 249)",
           "width": 1
          }
         },
         "orientation": "h",
         "type": "bar",
         "x": [
          22.22
         ],
         "y": [
          "Communication Services"
         ]
        },
        {
         "marker": {
          "color": "rgba(211,92,55, 0.8)",
          "line": {
           "color": "rgb(248, 248, 249)",
           "width": 1
          }
         },
         "orientation": "h",
         "type": "bar",
         "x": [
          35.71
         ],
         "y": [
          "Consumer Cyclical"
         ]
        },
        {
         "marker": {
          "color": "rgba(211,92,55, 0.8)",
          "line": {
           "color": "rgb(248, 248, 249)",
           "width": 1
          }
         },
         "orientation": "h",
         "type": "bar",
         "x": [
          81.08
         ],
         "y": [
          "Consumer Defensive"
         ]
        },
        {
         "marker": {
          "color": "rgba(211,92,55, 0.8)",
          "line": {
           "color": "rgb(248, 248, 249)",
           "width": 1
          }
         },
         "orientation": "h",
         "type": "bar",
         "x": [
          75
         ],
         "y": [
          "Energy"
         ]
        },
        {
         "marker": {
          "color": "rgba(211,92,55, 0.8)",
          "line": {
           "color": "rgb(248, 248, 249)",
           "width": 1
          }
         },
         "orientation": "h",
         "type": "bar",
         "x": [
          36.23
         ],
         "y": [
          "Financial Services"
         ]
        },
        {
         "marker": {
          "color": "rgba(211,92,55, 0.8)",
          "line": {
           "color": "rgb(248, 248, 249)",
           "width": 1
          }
         },
         "orientation": "h",
         "type": "bar",
         "x": [
          48.44
         ],
         "y": [
          "Healthcare"
         ]
        },
        {
         "marker": {
          "color": "rgba(211,92,55, 0.8)",
          "line": {
           "color": "rgb(248, 248, 249)",
           "width": 1
          }
         },
         "orientation": "h",
         "type": "bar",
         "x": [
          52.17
         ],
         "y": [
          "Industrials"
         ]
        },
        {
         "marker": {
          "color": "rgba(211,92,55, 0.8)",
          "line": {
           "color": "rgb(248, 248, 249)",
           "width": 1
          }
         },
         "orientation": "h",
         "type": "bar",
         "x": [
          36.67
         ],
         "y": [
          "Real Estate"
         ]
        },
        {
         "marker": {
          "color": "rgba(211,92,55, 0.8)",
          "line": {
           "color": "rgb(248, 248, 249)",
           "width": 1
          }
         },
         "orientation": "h",
         "type": "bar",
         "x": [
          21.13
         ],
         "y": [
          "Technology"
         ]
        },
        {
         "marker": {
          "color": "rgba(211,92,55, 0.8)",
          "line": {
           "color": "rgb(248, 248, 249)",
           "width": 1
          }
         },
         "orientation": "h",
         "type": "bar",
         "x": [
          72.41
         ],
         "y": [
          "Utilities"
         ]
        },
        {
         "marker": {
          "color": "rgba(214,198,185, 0.8)",
          "line": {
           "color": "rgb(248, 248, 249)",
           "width": 1
          }
         },
         "orientation": "h",
         "type": "bar",
         "x": [
          28.57
         ],
         "y": [
          "Basic Materials"
         ]
        },
        {
         "marker": {
          "color": "rgba(214,198,185, 0.8)",
          "line": {
           "color": "rgb(248, 248, 249)",
           "width": 1
          }
         },
         "orientation": "h",
         "type": "bar",
         "x": [
          77.78
         ],
         "y": [
          "Communication Services"
         ]
        },
        {
         "marker": {
          "color": "rgba(214,198,185, 0.8)",
          "line": {
           "color": "rgb(248, 248, 249)",
           "width": 1
          }
         },
         "orientation": "h",
         "type": "bar",
         "x": [
          64.29
         ],
         "y": [
          "Consumer Cyclical"
         ]
        },
        {
         "marker": {
          "color": "rgba(214,198,185, 0.8)",
          "line": {
           "color": "rgb(248, 248, 249)",
           "width": 1
          }
         },
         "orientation": "h",
         "type": "bar",
         "x": [
          18.92
         ],
         "y": [
          "Consumer Defensive"
         ]
        },
        {
         "marker": {
          "color": "rgba(214,198,185, 0.8)",
          "line": {
           "color": "rgb(248, 248, 249)",
           "width": 1
          }
         },
         "orientation": "h",
         "type": "bar",
         "x": [
          25
         ],
         "y": [
          "Energy"
         ]
        },
        {
         "marker": {
          "color": "rgba(214,198,185, 0.8)",
          "line": {
           "color": "rgb(248, 248, 249)",
           "width": 1
          }
         },
         "orientation": "h",
         "type": "bar",
         "x": [
          63.77
         ],
         "y": [
          "Financial Services"
         ]
        },
        {
         "marker": {
          "color": "rgba(214,198,185, 0.8)",
          "line": {
           "color": "rgb(248, 248, 249)",
           "width": 1
          }
         },
         "orientation": "h",
         "type": "bar",
         "x": [
          51.56
         ],
         "y": [
          "Healthcare"
         ]
        },
        {
         "marker": {
          "color": "rgba(214,198,185, 0.8)",
          "line": {
           "color": "rgb(248, 248, 249)",
           "width": 1
          }
         },
         "orientation": "h",
         "type": "bar",
         "x": [
          47.83
         ],
         "y": [
          "Industrials"
         ]
        },
        {
         "marker": {
          "color": "rgba(214,198,185, 0.8)",
          "line": {
           "color": "rgb(248, 248, 249)",
           "width": 1
          }
         },
         "orientation": "h",
         "type": "bar",
         "x": [
          63.33
         ],
         "y": [
          "Real Estate"
         ]
        },
        {
         "marker": {
          "color": "rgba(214,198,185, 0.8)",
          "line": {
           "color": "rgb(248, 248, 249)",
           "width": 1
          }
         },
         "orientation": "h",
         "type": "bar",
         "x": [
          78.87
         ],
         "y": [
          "Technology"
         ]
        },
        {
         "marker": {
          "color": "rgba(214,198,185, 0.8)",
          "line": {
           "color": "rgb(248, 248, 249)",
           "width": 1
          }
         },
         "orientation": "h",
         "type": "bar",
         "x": [
          27.59
         ],
         "y": [
          "Utilities"
         ]
        }
       ],
       "layout": {
        "annotations": [
         {
          "align": "right",
          "font": {
           "color": "rgb(68,76,92)",
           "family": "Arial",
           "size": 14
          },
          "showarrow": false,
          "text": "Basic Materials",
          "x": 0.13,
          "xanchor": "right",
          "xref": "paper",
          "y": "Basic Materials",
          "yref": "y"
         },
         {
          "font": {
           "color": "rgb(116,71,0)",
           "family": "Arial",
           "size": 14
          },
          "showarrow": false,
          "text": "71.43%",
          "x": 36.215,
          "xref": "x",
          "y": "Basic Materials",
          "yref": "y"
         },
         {
          "font": {
           "color": "rgb(191,154,119)",
           "family": "Arial",
           "size": 14
          },
          "showarrow": false,
          "text": "28.57%",
          "x": 87.715,
          "xref": "x",
          "y": "Basic Materials",
          "yref": "y"
         },
         {
          "align": "right",
          "font": {
           "color": "rgb(68,76,92)",
           "family": "Arial",
           "size": 14
          },
          "showarrow": false,
          "text": "Communication Services",
          "x": 0.13,
          "xanchor": "right",
          "xref": "paper",
          "y": "Communication Services",
          "yref": "y"
         },
         {
          "font": {
           "color": "rgb(116,71,0)",
           "family": "Arial",
           "size": 14
          },
          "showarrow": false,
          "text": "22.22%",
          "x": 11.61,
          "xref": "x",
          "y": "Communication Services",
          "yref": "y"
         },
         {
          "font": {
           "color": "rgb(191,154,119)",
           "family": "Arial",
           "size": 14
          },
          "showarrow": false,
          "text": "77.78%",
          "x": 63.11,
          "xref": "x",
          "y": "Communication Services",
          "yref": "y"
         },
         {
          "align": "right",
          "font": {
           "color": "rgb(68,76,92)",
           "family": "Arial",
           "size": 14
          },
          "showarrow": false,
          "text": "Consumer Cyclical",
          "x": 0.13,
          "xanchor": "right",
          "xref": "paper",
          "y": "Consumer Cyclical",
          "yref": "y"
         },
         {
          "font": {
           "color": "rgb(116,71,0)",
           "family": "Arial",
           "size": 14
          },
          "showarrow": false,
          "text": "35.71%",
          "x": 18.355,
          "xref": "x",
          "y": "Consumer Cyclical",
          "yref": "y"
         },
         {
          "font": {
           "color": "rgb(191,154,119)",
           "family": "Arial",
           "size": 14
          },
          "showarrow": false,
          "text": "64.29%",
          "x": 69.855,
          "xref": "x",
          "y": "Consumer Cyclical",
          "yref": "y"
         },
         {
          "align": "right",
          "font": {
           "color": "rgb(68,76,92)",
           "family": "Arial",
           "size": 14
          },
          "showarrow": false,
          "text": "Consumer Defensive",
          "x": 0.13,
          "xanchor": "right",
          "xref": "paper",
          "y": "Consumer Defensive",
          "yref": "y"
         },
         {
          "font": {
           "color": "rgb(116,71,0)",
           "family": "Arial",
           "size": 14
          },
          "showarrow": false,
          "text": "81.08%",
          "x": 41.04,
          "xref": "x",
          "y": "Consumer Defensive",
          "yref": "y"
         },
         {
          "font": {
           "color": "rgb(191,154,119)",
           "family": "Arial",
           "size": 14
          },
          "showarrow": false,
          "text": "18.92%",
          "x": 92.53999999999999,
          "xref": "x",
          "y": "Consumer Defensive",
          "yref": "y"
         },
         {
          "align": "right",
          "font": {
           "color": "rgb(68,76,92)",
           "family": "Arial",
           "size": 14
          },
          "showarrow": false,
          "text": "Energy",
          "x": 0.13,
          "xanchor": "right",
          "xref": "paper",
          "y": "Energy",
          "yref": "y"
         },
         {
          "font": {
           "color": "rgb(116,71,0)",
           "family": "Arial",
           "size": 14
          },
          "showarrow": false,
          "text": "75.0%",
          "x": 38,
          "xref": "x",
          "y": "Energy",
          "yref": "y"
         },
         {
          "font": {
           "color": "rgb(191,154,119)",
           "family": "Arial",
           "size": 14
          },
          "showarrow": false,
          "text": "25.0%",
          "x": 89.5,
          "xref": "x",
          "y": "Energy",
          "yref": "y"
         },
         {
          "align": "right",
          "font": {
           "color": "rgb(68,76,92)",
           "family": "Arial",
           "size": 14
          },
          "showarrow": false,
          "text": "Financial Services",
          "x": 0.13,
          "xanchor": "right",
          "xref": "paper",
          "y": "Financial Services",
          "yref": "y"
         },
         {
          "font": {
           "color": "rgb(116,71,0)",
           "family": "Arial",
           "size": 14
          },
          "showarrow": false,
          "text": "36.23%",
          "x": 18.615,
          "xref": "x",
          "y": "Financial Services",
          "yref": "y"
         },
         {
          "font": {
           "color": "rgb(191,154,119)",
           "family": "Arial",
           "size": 14
          },
          "showarrow": false,
          "text": "63.77%",
          "x": 70.115,
          "xref": "x",
          "y": "Financial Services",
          "yref": "y"
         },
         {
          "align": "right",
          "font": {
           "color": "rgb(68,76,92)",
           "family": "Arial",
           "size": 14
          },
          "showarrow": false,
          "text": "Healthcare",
          "x": 0.13,
          "xanchor": "right",
          "xref": "paper",
          "y": "Healthcare",
          "yref": "y"
         },
         {
          "font": {
           "color": "rgb(116,71,0)",
           "family": "Arial",
           "size": 14
          },
          "showarrow": false,
          "text": "48.44%",
          "x": 24.72,
          "xref": "x",
          "y": "Healthcare",
          "yref": "y"
         },
         {
          "font": {
           "color": "rgb(191,154,119)",
           "family": "Arial",
           "size": 14
          },
          "showarrow": false,
          "text": "51.56%",
          "x": 76.22,
          "xref": "x",
          "y": "Healthcare",
          "yref": "y"
         },
         {
          "align": "right",
          "font": {
           "color": "rgb(68,76,92)",
           "family": "Arial",
           "size": 14
          },
          "showarrow": false,
          "text": "Industrials",
          "x": 0.13,
          "xanchor": "right",
          "xref": "paper",
          "y": "Industrials",
          "yref": "y"
         },
         {
          "font": {
           "color": "rgb(116,71,0)",
           "family": "Arial",
           "size": 14
          },
          "showarrow": false,
          "text": "52.17%",
          "x": 26.585,
          "xref": "x",
          "y": "Industrials",
          "yref": "y"
         },
         {
          "font": {
           "color": "rgb(191,154,119)",
           "family": "Arial",
           "size": 14
          },
          "showarrow": false,
          "text": "47.83%",
          "x": 78.08500000000001,
          "xref": "x",
          "y": "Industrials",
          "yref": "y"
         },
         {
          "align": "right",
          "font": {
           "color": "rgb(68,76,92)",
           "family": "Arial",
           "size": 14
          },
          "showarrow": false,
          "text": "Real Estate",
          "x": 0.13,
          "xanchor": "right",
          "xref": "paper",
          "y": "Real Estate",
          "yref": "y"
         },
         {
          "font": {
           "color": "rgb(116,71,0)",
           "family": "Arial",
           "size": 14
          },
          "showarrow": false,
          "text": "36.67%",
          "x": 18.835,
          "xref": "x",
          "y": "Real Estate",
          "yref": "y"
         },
         {
          "font": {
           "color": "rgb(191,154,119)",
           "family": "Arial",
           "size": 14
          },
          "showarrow": false,
          "text": "63.33%",
          "x": 70.33500000000001,
          "xref": "x",
          "y": "Real Estate",
          "yref": "y"
         },
         {
          "align": "right",
          "font": {
           "color": "rgb(68,76,92)",
           "family": "Arial",
           "size": 14
          },
          "showarrow": false,
          "text": "Technology",
          "x": 0.13,
          "xanchor": "right",
          "xref": "paper",
          "y": "Technology",
          "yref": "y"
         },
         {
          "font": {
           "color": "rgb(116,71,0)",
           "family": "Arial",
           "size": 14
          },
          "showarrow": false,
          "text": "21.13%",
          "x": 11.065,
          "xref": "x",
          "y": "Technology",
          "yref": "y"
         },
         {
          "font": {
           "color": "rgb(191,154,119)",
           "family": "Arial",
           "size": 14
          },
          "showarrow": false,
          "text": "78.87%",
          "x": 62.565,
          "xref": "x",
          "y": "Technology",
          "yref": "y"
         },
         {
          "align": "right",
          "font": {
           "color": "rgb(68,76,92)",
           "family": "Arial",
           "size": 14
          },
          "showarrow": false,
          "text": "Utilities",
          "x": 0.13,
          "xanchor": "right",
          "xref": "paper",
          "y": "Utilities",
          "yref": "y"
         },
         {
          "font": {
           "color": "rgb(116,71,0)",
           "family": "Arial",
           "size": 14
          },
          "showarrow": false,
          "text": "72.41%",
          "x": 36.705,
          "xref": "x",
          "y": "Utilities",
          "yref": "y"
         },
         {
          "font": {
           "color": "rgb(68,76,92)",
           "family": "Arial",
           "size": 14
          },
          "showarrow": false,
          "text": "Price Up",
          "x": 36.705,
          "xref": "x",
          "y": 1.1,
          "yref": "paper"
         },
         {
          "font": {
           "color": "rgb(191,154,119)",
           "family": "Arial",
           "size": 14
          },
          "showarrow": false,
          "text": "27.59%",
          "x": 88.205,
          "xref": "x",
          "y": "Utilities",
          "yref": "y"
         },
         {
          "font": {
           "color": "rgb(68,76,92)",
           "family": "Arial",
           "size": 14
          },
          "showarrow": false,
          "text": "Price Down",
          "x": 88.205,
          "xref": "x",
          "y": 1.1,
          "yref": "paper"
         },
         {
          "font": {
           "color": "rgb(150,150,150)",
           "family": "Arial",
           "size": 10
          },
          "showarrow": false,
          "text": "Reference: yfinance S&P 500 data                         \n                            ",
          "x": 0.15,
          "xref": "paper",
          "y": -0.109,
          "yref": "paper"
         }
        ],
        "barmode": "stack",
        "margin": {
         "b": 80,
         "l": 120,
         "r": 10,
         "t": 140
        },
        "paper_bgcolor": "rgb(248, 248, 255)",
        "plot_bgcolor": "rgb(248, 248, 255)",
        "showlegend": false,
        "template": {
         "data": {
          "bar": [
           {
            "error_x": {
             "color": "#2a3f5f"
            },
            "error_y": {
             "color": "#2a3f5f"
            },
            "marker": {
             "line": {
              "color": "#E5ECF6",
              "width": 0.5
             },
             "pattern": {
              "fillmode": "overlay",
              "size": 10,
              "solidity": 0.2
             }
            },
            "type": "bar"
           }
          ],
          "barpolar": [
           {
            "marker": {
             "line": {
              "color": "#E5ECF6",
              "width": 0.5
             },
             "pattern": {
              "fillmode": "overlay",
              "size": 10,
              "solidity": 0.2
             }
            },
            "type": "barpolar"
           }
          ],
          "carpet": [
           {
            "aaxis": {
             "endlinecolor": "#2a3f5f",
             "gridcolor": "white",
             "linecolor": "white",
             "minorgridcolor": "white",
             "startlinecolor": "#2a3f5f"
            },
            "baxis": {
             "endlinecolor": "#2a3f5f",
             "gridcolor": "white",
             "linecolor": "white",
             "minorgridcolor": "white",
             "startlinecolor": "#2a3f5f"
            },
            "type": "carpet"
           }
          ],
          "choropleth": [
           {
            "colorbar": {
             "outlinewidth": 0,
             "ticks": ""
            },
            "type": "choropleth"
           }
          ],
          "contour": [
           {
            "colorbar": {
             "outlinewidth": 0,
             "ticks": ""
            },
            "colorscale": [
             [
              0,
              "#0d0887"
             ],
             [
              0.1111111111111111,
              "#46039f"
             ],
             [
              0.2222222222222222,
              "#7201a8"
             ],
             [
              0.3333333333333333,
              "#9c179e"
             ],
             [
              0.4444444444444444,
              "#bd3786"
             ],
             [
              0.5555555555555556,
              "#d8576b"
             ],
             [
              0.6666666666666666,
              "#ed7953"
             ],
             [
              0.7777777777777778,
              "#fb9f3a"
             ],
             [
              0.8888888888888888,
              "#fdca26"
             ],
             [
              1,
              "#f0f921"
             ]
            ],
            "type": "contour"
           }
          ],
          "contourcarpet": [
           {
            "colorbar": {
             "outlinewidth": 0,
             "ticks": ""
            },
            "type": "contourcarpet"
           }
          ],
          "heatmap": [
           {
            "colorbar": {
             "outlinewidth": 0,
             "ticks": ""
            },
            "colorscale": [
             [
              0,
              "#0d0887"
             ],
             [
              0.1111111111111111,
              "#46039f"
             ],
             [
              0.2222222222222222,
              "#7201a8"
             ],
             [
              0.3333333333333333,
              "#9c179e"
             ],
             [
              0.4444444444444444,
              "#bd3786"
             ],
             [
              0.5555555555555556,
              "#d8576b"
             ],
             [
              0.6666666666666666,
              "#ed7953"
             ],
             [
              0.7777777777777778,
              "#fb9f3a"
             ],
             [
              0.8888888888888888,
              "#fdca26"
             ],
             [
              1,
              "#f0f921"
             ]
            ],
            "type": "heatmap"
           }
          ],
          "heatmapgl": [
           {
            "colorbar": {
             "outlinewidth": 0,
             "ticks": ""
            },
            "colorscale": [
             [
              0,
              "#0d0887"
             ],
             [
              0.1111111111111111,
              "#46039f"
             ],
             [
              0.2222222222222222,
              "#7201a8"
             ],
             [
              0.3333333333333333,
              "#9c179e"
             ],
             [
              0.4444444444444444,
              "#bd3786"
             ],
             [
              0.5555555555555556,
              "#d8576b"
             ],
             [
              0.6666666666666666,
              "#ed7953"
             ],
             [
              0.7777777777777778,
              "#fb9f3a"
             ],
             [
              0.8888888888888888,
              "#fdca26"
             ],
             [
              1,
              "#f0f921"
             ]
            ],
            "type": "heatmapgl"
           }
          ],
          "histogram": [
           {
            "marker": {
             "pattern": {
              "fillmode": "overlay",
              "size": 10,
              "solidity": 0.2
             }
            },
            "type": "histogram"
           }
          ],
          "histogram2d": [
           {
            "colorbar": {
             "outlinewidth": 0,
             "ticks": ""
            },
            "colorscale": [
             [
              0,
              "#0d0887"
             ],
             [
              0.1111111111111111,
              "#46039f"
             ],
             [
              0.2222222222222222,
              "#7201a8"
             ],
             [
              0.3333333333333333,
              "#9c179e"
             ],
             [
              0.4444444444444444,
              "#bd3786"
             ],
             [
              0.5555555555555556,
              "#d8576b"
             ],
             [
              0.6666666666666666,
              "#ed7953"
             ],
             [
              0.7777777777777778,
              "#fb9f3a"
             ],
             [
              0.8888888888888888,
              "#fdca26"
             ],
             [
              1,
              "#f0f921"
             ]
            ],
            "type": "histogram2d"
           }
          ],
          "histogram2dcontour": [
           {
            "colorbar": {
             "outlinewidth": 0,
             "ticks": ""
            },
            "colorscale": [
             [
              0,
              "#0d0887"
             ],
             [
              0.1111111111111111,
              "#46039f"
             ],
             [
              0.2222222222222222,
              "#7201a8"
             ],
             [
              0.3333333333333333,
              "#9c179e"
             ],
             [
              0.4444444444444444,
              "#bd3786"
             ],
             [
              0.5555555555555556,
              "#d8576b"
             ],
             [
              0.6666666666666666,
              "#ed7953"
             ],
             [
              0.7777777777777778,
              "#fb9f3a"
             ],
             [
              0.8888888888888888,
              "#fdca26"
             ],
             [
              1,
              "#f0f921"
             ]
            ],
            "type": "histogram2dcontour"
           }
          ],
          "mesh3d": [
           {
            "colorbar": {
             "outlinewidth": 0,
             "ticks": ""
            },
            "type": "mesh3d"
           }
          ],
          "parcoords": [
           {
            "line": {
             "colorbar": {
              "outlinewidth": 0,
              "ticks": ""
             }
            },
            "type": "parcoords"
           }
          ],
          "pie": [
           {
            "automargin": true,
            "type": "pie"
           }
          ],
          "scatter": [
           {
            "marker": {
             "colorbar": {
              "outlinewidth": 0,
              "ticks": ""
             }
            },
            "type": "scatter"
           }
          ],
          "scatter3d": [
           {
            "line": {
             "colorbar": {
              "outlinewidth": 0,
              "ticks": ""
             }
            },
            "marker": {
             "colorbar": {
              "outlinewidth": 0,
              "ticks": ""
             }
            },
            "type": "scatter3d"
           }
          ],
          "scattercarpet": [
           {
            "marker": {
             "colorbar": {
              "outlinewidth": 0,
              "ticks": ""
             }
            },
            "type": "scattercarpet"
           }
          ],
          "scattergeo": [
           {
            "marker": {
             "colorbar": {
              "outlinewidth": 0,
              "ticks": ""
             }
            },
            "type": "scattergeo"
           }
          ],
          "scattergl": [
           {
            "marker": {
             "colorbar": {
              "outlinewidth": 0,
              "ticks": ""
             }
            },
            "type": "scattergl"
           }
          ],
          "scattermapbox": [
           {
            "marker": {
             "colorbar": {
              "outlinewidth": 0,
              "ticks": ""
             }
            },
            "type": "scattermapbox"
           }
          ],
          "scatterpolar": [
           {
            "marker": {
             "colorbar": {
              "outlinewidth": 0,
              "ticks": ""
             }
            },
            "type": "scatterpolar"
           }
          ],
          "scatterpolargl": [
           {
            "marker": {
             "colorbar": {
              "outlinewidth": 0,
              "ticks": ""
             }
            },
            "type": "scatterpolargl"
           }
          ],
          "scatterternary": [
           {
            "marker": {
             "colorbar": {
              "outlinewidth": 0,
              "ticks": ""
             }
            },
            "type": "scatterternary"
           }
          ],
          "surface": [
           {
            "colorbar": {
             "outlinewidth": 0,
             "ticks": ""
            },
            "colorscale": [
             [
              0,
              "#0d0887"
             ],
             [
              0.1111111111111111,
              "#46039f"
             ],
             [
              0.2222222222222222,
              "#7201a8"
             ],
             [
              0.3333333333333333,
              "#9c179e"
             ],
             [
              0.4444444444444444,
              "#bd3786"
             ],
             [
              0.5555555555555556,
              "#d8576b"
             ],
             [
              0.6666666666666666,
              "#ed7953"
             ],
             [
              0.7777777777777778,
              "#fb9f3a"
             ],
             [
              0.8888888888888888,
              "#fdca26"
             ],
             [
              1,
              "#f0f921"
             ]
            ],
            "type": "surface"
           }
          ],
          "table": [
           {
            "cells": {
             "fill": {
              "color": "#EBF0F8"
             },
             "line": {
              "color": "white"
             }
            },
            "header": {
             "fill": {
              "color": "#C8D4E3"
             },
             "line": {
              "color": "white"
             }
            },
            "type": "table"
           }
          ]
         },
         "layout": {
          "annotationdefaults": {
           "arrowcolor": "#2a3f5f",
           "arrowhead": 0,
           "arrowwidth": 1
          },
          "autotypenumbers": "strict",
          "coloraxis": {
           "colorbar": {
            "outlinewidth": 0,
            "ticks": ""
           }
          },
          "colorscale": {
           "diverging": [
            [
             0,
             "#8e0152"
            ],
            [
             0.1,
             "#c51b7d"
            ],
            [
             0.2,
             "#de77ae"
            ],
            [
             0.3,
             "#f1b6da"
            ],
            [
             0.4,
             "#fde0ef"
            ],
            [
             0.5,
             "#f7f7f7"
            ],
            [
             0.6,
             "#e6f5d0"
            ],
            [
             0.7,
             "#b8e186"
            ],
            [
             0.8,
             "#7fbc41"
            ],
            [
             0.9,
             "#4d9221"
            ],
            [
             1,
             "#276419"
            ]
           ],
           "sequential": [
            [
             0,
             "#0d0887"
            ],
            [
             0.1111111111111111,
             "#46039f"
            ],
            [
             0.2222222222222222,
             "#7201a8"
            ],
            [
             0.3333333333333333,
             "#9c179e"
            ],
            [
             0.4444444444444444,
             "#bd3786"
            ],
            [
             0.5555555555555556,
             "#d8576b"
            ],
            [
             0.6666666666666666,
             "#ed7953"
            ],
            [
             0.7777777777777778,
             "#fb9f3a"
            ],
            [
             0.8888888888888888,
             "#fdca26"
            ],
            [
             1,
             "#f0f921"
            ]
           ],
           "sequentialminus": [
            [
             0,
             "#0d0887"
            ],
            [
             0.1111111111111111,
             "#46039f"
            ],
            [
             0.2222222222222222,
             "#7201a8"
            ],
            [
             0.3333333333333333,
             "#9c179e"
            ],
            [
             0.4444444444444444,
             "#bd3786"
            ],
            [
             0.5555555555555556,
             "#d8576b"
            ],
            [
             0.6666666666666666,
             "#ed7953"
            ],
            [
             0.7777777777777778,
             "#fb9f3a"
            ],
            [
             0.8888888888888888,
             "#fdca26"
            ],
            [
             1,
             "#f0f921"
            ]
           ]
          },
          "colorway": [
           "#636efa",
           "#EF553B",
           "#00cc96",
           "#ab63fa",
           "#FFA15A",
           "#19d3f3",
           "#FF6692",
           "#B6E880",
           "#FF97FF",
           "#FECB52"
          ],
          "font": {
           "color": "#2a3f5f"
          },
          "geo": {
           "bgcolor": "white",
           "lakecolor": "white",
           "landcolor": "#E5ECF6",
           "showlakes": true,
           "showland": true,
           "subunitcolor": "white"
          },
          "hoverlabel": {
           "align": "left"
          },
          "hovermode": "closest",
          "mapbox": {
           "style": "light"
          },
          "paper_bgcolor": "white",
          "plot_bgcolor": "#E5ECF6",
          "polar": {
           "angularaxis": {
            "gridcolor": "white",
            "linecolor": "white",
            "ticks": ""
           },
           "bgcolor": "#E5ECF6",
           "radialaxis": {
            "gridcolor": "white",
            "linecolor": "white",
            "ticks": ""
           }
          },
          "scene": {
           "xaxis": {
            "backgroundcolor": "#E5ECF6",
            "gridcolor": "white",
            "gridwidth": 2,
            "linecolor": "white",
            "showbackground": true,
            "ticks": "",
            "zerolinecolor": "white"
           },
           "yaxis": {
            "backgroundcolor": "#E5ECF6",
            "gridcolor": "white",
            "gridwidth": 2,
            "linecolor": "white",
            "showbackground": true,
            "ticks": "",
            "zerolinecolor": "white"
           },
           "zaxis": {
            "backgroundcolor": "#E5ECF6",
            "gridcolor": "white",
            "gridwidth": 2,
            "linecolor": "white",
            "showbackground": true,
            "ticks": "",
            "zerolinecolor": "white"
           }
          },
          "shapedefaults": {
           "line": {
            "color": "#2a3f5f"
           }
          },
          "ternary": {
           "aaxis": {
            "gridcolor": "white",
            "linecolor": "white",
            "ticks": ""
           },
           "baxis": {
            "gridcolor": "white",
            "linecolor": "white",
            "ticks": ""
           },
           "bgcolor": "#E5ECF6",
           "caxis": {
            "gridcolor": "white",
            "linecolor": "white",
            "ticks": ""
           }
          },
          "title": {
           "x": 0.05
          },
          "xaxis": {
           "automargin": true,
           "gridcolor": "white",
           "linecolor": "white",
           "ticks": "",
           "title": {
            "standoff": 15
           },
           "zerolinecolor": "white",
           "zerolinewidth": 2
          },
          "yaxis": {
           "automargin": true,
           "gridcolor": "white",
           "linecolor": "white",
           "ticks": "",
           "title": {
            "standoff": 15
           },
           "zerolinecolor": "white",
           "zerolinewidth": 2
          }
         }
        },
        "title": {
         "text": "Percentage in Prices Up/Down by Sectors: [2022-03-10 & 2022-05-05]"
        },
        "xaxis": {
         "domain": [
          0.15,
          1
         ],
         "showgrid": false,
         "showline": false,
         "showticklabels": false,
         "zeroline": false
        },
        "yaxis": {
         "showgrid": false,
         "showline": false,
         "showticklabels": false,
         "zeroline": false
        }
       }
      },
      "text/html": [
       "<div>                            <div id=\"dd9e70e6-a379-4cb8-b473-5dab9606cb55\" class=\"plotly-graph-div\" style=\"height:525px; width:100%;\"></div>            <script type=\"text/javascript\">                require([\"plotly\"], function(Plotly) {                    window.PLOTLYENV=window.PLOTLYENV || {};                                    if (document.getElementById(\"dd9e70e6-a379-4cb8-b473-5dab9606cb55\")) {                    Plotly.newPlot(                        \"dd9e70e6-a379-4cb8-b473-5dab9606cb55\",                        [{\"marker\":{\"color\":\"rgba(211,92,55, 0.8)\",\"line\":{\"color\":\"rgb(248, 248, 249)\",\"width\":1}},\"orientation\":\"h\",\"type\":\"bar\",\"x\":[71.43],\"y\":[\"Basic Materials\"]},{\"marker\":{\"color\":\"rgba(211,92,55, 0.8)\",\"line\":{\"color\":\"rgb(248, 248, 249)\",\"width\":1}},\"orientation\":\"h\",\"type\":\"bar\",\"x\":[22.22],\"y\":[\"Communication Services\"]},{\"marker\":{\"color\":\"rgba(211,92,55, 0.8)\",\"line\":{\"color\":\"rgb(248, 248, 249)\",\"width\":1}},\"orientation\":\"h\",\"type\":\"bar\",\"x\":[35.71],\"y\":[\"Consumer Cyclical\"]},{\"marker\":{\"color\":\"rgba(211,92,55, 0.8)\",\"line\":{\"color\":\"rgb(248, 248, 249)\",\"width\":1}},\"orientation\":\"h\",\"type\":\"bar\",\"x\":[81.08],\"y\":[\"Consumer Defensive\"]},{\"marker\":{\"color\":\"rgba(211,92,55, 0.8)\",\"line\":{\"color\":\"rgb(248, 248, 249)\",\"width\":1}},\"orientation\":\"h\",\"type\":\"bar\",\"x\":[75.0],\"y\":[\"Energy\"]},{\"marker\":{\"color\":\"rgba(211,92,55, 0.8)\",\"line\":{\"color\":\"rgb(248, 248, 249)\",\"width\":1}},\"orientation\":\"h\",\"type\":\"bar\",\"x\":[36.23],\"y\":[\"Financial Services\"]},{\"marker\":{\"color\":\"rgba(211,92,55, 0.8)\",\"line\":{\"color\":\"rgb(248, 248, 249)\",\"width\":1}},\"orientation\":\"h\",\"type\":\"bar\",\"x\":[48.44],\"y\":[\"Healthcare\"]},{\"marker\":{\"color\":\"rgba(211,92,55, 0.8)\",\"line\":{\"color\":\"rgb(248, 248, 249)\",\"width\":1}},\"orientation\":\"h\",\"type\":\"bar\",\"x\":[52.17],\"y\":[\"Industrials\"]},{\"marker\":{\"color\":\"rgba(211,92,55, 0.8)\",\"line\":{\"color\":\"rgb(248, 248, 249)\",\"width\":1}},\"orientation\":\"h\",\"type\":\"bar\",\"x\":[36.67],\"y\":[\"Real Estate\"]},{\"marker\":{\"color\":\"rgba(211,92,55, 0.8)\",\"line\":{\"color\":\"rgb(248, 248, 249)\",\"width\":1}},\"orientation\":\"h\",\"type\":\"bar\",\"x\":[21.13],\"y\":[\"Technology\"]},{\"marker\":{\"color\":\"rgba(211,92,55, 0.8)\",\"line\":{\"color\":\"rgb(248, 248, 249)\",\"width\":1}},\"orientation\":\"h\",\"type\":\"bar\",\"x\":[72.41],\"y\":[\"Utilities\"]},{\"marker\":{\"color\":\"rgba(214,198,185, 0.8)\",\"line\":{\"color\":\"rgb(248, 248, 249)\",\"width\":1}},\"orientation\":\"h\",\"type\":\"bar\",\"x\":[28.57],\"y\":[\"Basic Materials\"]},{\"marker\":{\"color\":\"rgba(214,198,185, 0.8)\",\"line\":{\"color\":\"rgb(248, 248, 249)\",\"width\":1}},\"orientation\":\"h\",\"type\":\"bar\",\"x\":[77.78],\"y\":[\"Communication Services\"]},{\"marker\":{\"color\":\"rgba(214,198,185, 0.8)\",\"line\":{\"color\":\"rgb(248, 248, 249)\",\"width\":1}},\"orientation\":\"h\",\"type\":\"bar\",\"x\":[64.29],\"y\":[\"Consumer Cyclical\"]},{\"marker\":{\"color\":\"rgba(214,198,185, 0.8)\",\"line\":{\"color\":\"rgb(248, 248, 249)\",\"width\":1}},\"orientation\":\"h\",\"type\":\"bar\",\"x\":[18.92],\"y\":[\"Consumer Defensive\"]},{\"marker\":{\"color\":\"rgba(214,198,185, 0.8)\",\"line\":{\"color\":\"rgb(248, 248, 249)\",\"width\":1}},\"orientation\":\"h\",\"type\":\"bar\",\"x\":[25.0],\"y\":[\"Energy\"]},{\"marker\":{\"color\":\"rgba(214,198,185, 0.8)\",\"line\":{\"color\":\"rgb(248, 248, 249)\",\"width\":1}},\"orientation\":\"h\",\"type\":\"bar\",\"x\":[63.77],\"y\":[\"Financial Services\"]},{\"marker\":{\"color\":\"rgba(214,198,185, 0.8)\",\"line\":{\"color\":\"rgb(248, 248, 249)\",\"width\":1}},\"orientation\":\"h\",\"type\":\"bar\",\"x\":[51.56],\"y\":[\"Healthcare\"]},{\"marker\":{\"color\":\"rgba(214,198,185, 0.8)\",\"line\":{\"color\":\"rgb(248, 248, 249)\",\"width\":1}},\"orientation\":\"h\",\"type\":\"bar\",\"x\":[47.83],\"y\":[\"Industrials\"]},{\"marker\":{\"color\":\"rgba(214,198,185, 0.8)\",\"line\":{\"color\":\"rgb(248, 248, 249)\",\"width\":1}},\"orientation\":\"h\",\"type\":\"bar\",\"x\":[63.33],\"y\":[\"Real Estate\"]},{\"marker\":{\"color\":\"rgba(214,198,185, 0.8)\",\"line\":{\"color\":\"rgb(248, 248, 249)\",\"width\":1}},\"orientation\":\"h\",\"type\":\"bar\",\"x\":[78.87],\"y\":[\"Technology\"]},{\"marker\":{\"color\":\"rgba(214,198,185, 0.8)\",\"line\":{\"color\":\"rgb(248, 248, 249)\",\"width\":1}},\"orientation\":\"h\",\"type\":\"bar\",\"x\":[27.59],\"y\":[\"Utilities\"]}],                        {\"annotations\":[{\"align\":\"right\",\"font\":{\"color\":\"rgb(68,76,92)\",\"family\":\"Arial\",\"size\":14},\"showarrow\":false,\"text\":\"Basic Materials\",\"x\":0.13,\"xanchor\":\"right\",\"xref\":\"paper\",\"y\":\"Basic Materials\",\"yref\":\"y\"},{\"font\":{\"color\":\"rgb(116,71,0)\",\"family\":\"Arial\",\"size\":14},\"showarrow\":false,\"text\":\"71.43%\",\"x\":36.215,\"xref\":\"x\",\"y\":\"Basic Materials\",\"yref\":\"y\"},{\"font\":{\"color\":\"rgb(191,154,119)\",\"family\":\"Arial\",\"size\":14},\"showarrow\":false,\"text\":\"28.57%\",\"x\":87.715,\"xref\":\"x\",\"y\":\"Basic Materials\",\"yref\":\"y\"},{\"align\":\"right\",\"font\":{\"color\":\"rgb(68,76,92)\",\"family\":\"Arial\",\"size\":14},\"showarrow\":false,\"text\":\"Communication Services\",\"x\":0.13,\"xanchor\":\"right\",\"xref\":\"paper\",\"y\":\"Communication Services\",\"yref\":\"y\"},{\"font\":{\"color\":\"rgb(116,71,0)\",\"family\":\"Arial\",\"size\":14},\"showarrow\":false,\"text\":\"22.22%\",\"x\":11.61,\"xref\":\"x\",\"y\":\"Communication Services\",\"yref\":\"y\"},{\"font\":{\"color\":\"rgb(191,154,119)\",\"family\":\"Arial\",\"size\":14},\"showarrow\":false,\"text\":\"77.78%\",\"x\":63.11,\"xref\":\"x\",\"y\":\"Communication Services\",\"yref\":\"y\"},{\"align\":\"right\",\"font\":{\"color\":\"rgb(68,76,92)\",\"family\":\"Arial\",\"size\":14},\"showarrow\":false,\"text\":\"Consumer Cyclical\",\"x\":0.13,\"xanchor\":\"right\",\"xref\":\"paper\",\"y\":\"Consumer Cyclical\",\"yref\":\"y\"},{\"font\":{\"color\":\"rgb(116,71,0)\",\"family\":\"Arial\",\"size\":14},\"showarrow\":false,\"text\":\"35.71%\",\"x\":18.355,\"xref\":\"x\",\"y\":\"Consumer Cyclical\",\"yref\":\"y\"},{\"font\":{\"color\":\"rgb(191,154,119)\",\"family\":\"Arial\",\"size\":14},\"showarrow\":false,\"text\":\"64.29%\",\"x\":69.855,\"xref\":\"x\",\"y\":\"Consumer Cyclical\",\"yref\":\"y\"},{\"align\":\"right\",\"font\":{\"color\":\"rgb(68,76,92)\",\"family\":\"Arial\",\"size\":14},\"showarrow\":false,\"text\":\"Consumer Defensive\",\"x\":0.13,\"xanchor\":\"right\",\"xref\":\"paper\",\"y\":\"Consumer Defensive\",\"yref\":\"y\"},{\"font\":{\"color\":\"rgb(116,71,0)\",\"family\":\"Arial\",\"size\":14},\"showarrow\":false,\"text\":\"81.08%\",\"x\":41.04,\"xref\":\"x\",\"y\":\"Consumer Defensive\",\"yref\":\"y\"},{\"font\":{\"color\":\"rgb(191,154,119)\",\"family\":\"Arial\",\"size\":14},\"showarrow\":false,\"text\":\"18.92%\",\"x\":92.53999999999999,\"xref\":\"x\",\"y\":\"Consumer Defensive\",\"yref\":\"y\"},{\"align\":\"right\",\"font\":{\"color\":\"rgb(68,76,92)\",\"family\":\"Arial\",\"size\":14},\"showarrow\":false,\"text\":\"Energy\",\"x\":0.13,\"xanchor\":\"right\",\"xref\":\"paper\",\"y\":\"Energy\",\"yref\":\"y\"},{\"font\":{\"color\":\"rgb(116,71,0)\",\"family\":\"Arial\",\"size\":14},\"showarrow\":false,\"text\":\"75.0%\",\"x\":38.0,\"xref\":\"x\",\"y\":\"Energy\",\"yref\":\"y\"},{\"font\":{\"color\":\"rgb(191,154,119)\",\"family\":\"Arial\",\"size\":14},\"showarrow\":false,\"text\":\"25.0%\",\"x\":89.5,\"xref\":\"x\",\"y\":\"Energy\",\"yref\":\"y\"},{\"align\":\"right\",\"font\":{\"color\":\"rgb(68,76,92)\",\"family\":\"Arial\",\"size\":14},\"showarrow\":false,\"text\":\"Financial Services\",\"x\":0.13,\"xanchor\":\"right\",\"xref\":\"paper\",\"y\":\"Financial Services\",\"yref\":\"y\"},{\"font\":{\"color\":\"rgb(116,71,0)\",\"family\":\"Arial\",\"size\":14},\"showarrow\":false,\"text\":\"36.23%\",\"x\":18.615,\"xref\":\"x\",\"y\":\"Financial Services\",\"yref\":\"y\"},{\"font\":{\"color\":\"rgb(191,154,119)\",\"family\":\"Arial\",\"size\":14},\"showarrow\":false,\"text\":\"63.77%\",\"x\":70.115,\"xref\":\"x\",\"y\":\"Financial Services\",\"yref\":\"y\"},{\"align\":\"right\",\"font\":{\"color\":\"rgb(68,76,92)\",\"family\":\"Arial\",\"size\":14},\"showarrow\":false,\"text\":\"Healthcare\",\"x\":0.13,\"xanchor\":\"right\",\"xref\":\"paper\",\"y\":\"Healthcare\",\"yref\":\"y\"},{\"font\":{\"color\":\"rgb(116,71,0)\",\"family\":\"Arial\",\"size\":14},\"showarrow\":false,\"text\":\"48.44%\",\"x\":24.72,\"xref\":\"x\",\"y\":\"Healthcare\",\"yref\":\"y\"},{\"font\":{\"color\":\"rgb(191,154,119)\",\"family\":\"Arial\",\"size\":14},\"showarrow\":false,\"text\":\"51.56%\",\"x\":76.22,\"xref\":\"x\",\"y\":\"Healthcare\",\"yref\":\"y\"},{\"align\":\"right\",\"font\":{\"color\":\"rgb(68,76,92)\",\"family\":\"Arial\",\"size\":14},\"showarrow\":false,\"text\":\"Industrials\",\"x\":0.13,\"xanchor\":\"right\",\"xref\":\"paper\",\"y\":\"Industrials\",\"yref\":\"y\"},{\"font\":{\"color\":\"rgb(116,71,0)\",\"family\":\"Arial\",\"size\":14},\"showarrow\":false,\"text\":\"52.17%\",\"x\":26.585,\"xref\":\"x\",\"y\":\"Industrials\",\"yref\":\"y\"},{\"font\":{\"color\":\"rgb(191,154,119)\",\"family\":\"Arial\",\"size\":14},\"showarrow\":false,\"text\":\"47.83%\",\"x\":78.08500000000001,\"xref\":\"x\",\"y\":\"Industrials\",\"yref\":\"y\"},{\"align\":\"right\",\"font\":{\"color\":\"rgb(68,76,92)\",\"family\":\"Arial\",\"size\":14},\"showarrow\":false,\"text\":\"Real Estate\",\"x\":0.13,\"xanchor\":\"right\",\"xref\":\"paper\",\"y\":\"Real Estate\",\"yref\":\"y\"},{\"font\":{\"color\":\"rgb(116,71,0)\",\"family\":\"Arial\",\"size\":14},\"showarrow\":false,\"text\":\"36.67%\",\"x\":18.835,\"xref\":\"x\",\"y\":\"Real Estate\",\"yref\":\"y\"},{\"font\":{\"color\":\"rgb(191,154,119)\",\"family\":\"Arial\",\"size\":14},\"showarrow\":false,\"text\":\"63.33%\",\"x\":70.33500000000001,\"xref\":\"x\",\"y\":\"Real Estate\",\"yref\":\"y\"},{\"align\":\"right\",\"font\":{\"color\":\"rgb(68,76,92)\",\"family\":\"Arial\",\"size\":14},\"showarrow\":false,\"text\":\"Technology\",\"x\":0.13,\"xanchor\":\"right\",\"xref\":\"paper\",\"y\":\"Technology\",\"yref\":\"y\"},{\"font\":{\"color\":\"rgb(116,71,0)\",\"family\":\"Arial\",\"size\":14},\"showarrow\":false,\"text\":\"21.13%\",\"x\":11.065,\"xref\":\"x\",\"y\":\"Technology\",\"yref\":\"y\"},{\"font\":{\"color\":\"rgb(191,154,119)\",\"family\":\"Arial\",\"size\":14},\"showarrow\":false,\"text\":\"78.87%\",\"x\":62.565,\"xref\":\"x\",\"y\":\"Technology\",\"yref\":\"y\"},{\"align\":\"right\",\"font\":{\"color\":\"rgb(68,76,92)\",\"family\":\"Arial\",\"size\":14},\"showarrow\":false,\"text\":\"Utilities\",\"x\":0.13,\"xanchor\":\"right\",\"xref\":\"paper\",\"y\":\"Utilities\",\"yref\":\"y\"},{\"font\":{\"color\":\"rgb(116,71,0)\",\"family\":\"Arial\",\"size\":14},\"showarrow\":false,\"text\":\"72.41%\",\"x\":36.705,\"xref\":\"x\",\"y\":\"Utilities\",\"yref\":\"y\"},{\"font\":{\"color\":\"rgb(68,76,92)\",\"family\":\"Arial\",\"size\":14},\"showarrow\":false,\"text\":\"Price Up\",\"x\":36.705,\"xref\":\"x\",\"y\":1.1,\"yref\":\"paper\"},{\"font\":{\"color\":\"rgb(191,154,119)\",\"family\":\"Arial\",\"size\":14},\"showarrow\":false,\"text\":\"27.59%\",\"x\":88.205,\"xref\":\"x\",\"y\":\"Utilities\",\"yref\":\"y\"},{\"font\":{\"color\":\"rgb(68,76,92)\",\"family\":\"Arial\",\"size\":14},\"showarrow\":false,\"text\":\"Price Down\",\"x\":88.205,\"xref\":\"x\",\"y\":1.1,\"yref\":\"paper\"},{\"font\":{\"color\":\"rgb(150,150,150)\",\"family\":\"Arial\",\"size\":10},\"showarrow\":false,\"text\":\"Reference: yfinance S&P 500 data                         \\n                            \",\"x\":0.15,\"xref\":\"paper\",\"y\":-0.109,\"yref\":\"paper\"}],\"barmode\":\"stack\",\"margin\":{\"b\":80,\"l\":120,\"r\":10,\"t\":140},\"paper_bgcolor\":\"rgb(248, 248, 255)\",\"plot_bgcolor\":\"rgb(248, 248, 255)\",\"showlegend\":false,\"template\":{\"data\":{\"bar\":[{\"error_x\":{\"color\":\"#2a3f5f\"},\"error_y\":{\"color\":\"#2a3f5f\"},\"marker\":{\"line\":{\"color\":\"#E5ECF6\",\"width\":0.5},\"pattern\":{\"fillmode\":\"overlay\",\"size\":10,\"solidity\":0.2}},\"type\":\"bar\"}],\"barpolar\":[{\"marker\":{\"line\":{\"color\":\"#E5ECF6\",\"width\":0.5},\"pattern\":{\"fillmode\":\"overlay\",\"size\":10,\"solidity\":0.2}},\"type\":\"barpolar\"}],\"carpet\":[{\"aaxis\":{\"endlinecolor\":\"#2a3f5f\",\"gridcolor\":\"white\",\"linecolor\":\"white\",\"minorgridcolor\":\"white\",\"startlinecolor\":\"#2a3f5f\"},\"baxis\":{\"endlinecolor\":\"#2a3f5f\",\"gridcolor\":\"white\",\"linecolor\":\"white\",\"minorgridcolor\":\"white\",\"startlinecolor\":\"#2a3f5f\"},\"type\":\"carpet\"}],\"choropleth\":[{\"colorbar\":{\"outlinewidth\":0,\"ticks\":\"\"},\"type\":\"choropleth\"}],\"contour\":[{\"colorbar\":{\"outlinewidth\":0,\"ticks\":\"\"},\"colorscale\":[[0.0,\"#0d0887\"],[0.1111111111111111,\"#46039f\"],[0.2222222222222222,\"#7201a8\"],[0.3333333333333333,\"#9c179e\"],[0.4444444444444444,\"#bd3786\"],[0.5555555555555556,\"#d8576b\"],[0.6666666666666666,\"#ed7953\"],[0.7777777777777778,\"#fb9f3a\"],[0.8888888888888888,\"#fdca26\"],[1.0,\"#f0f921\"]],\"type\":\"contour\"}],\"contourcarpet\":[{\"colorbar\":{\"outlinewidth\":0,\"ticks\":\"\"},\"type\":\"contourcarpet\"}],\"heatmap\":[{\"colorbar\":{\"outlinewidth\":0,\"ticks\":\"\"},\"colorscale\":[[0.0,\"#0d0887\"],[0.1111111111111111,\"#46039f\"],[0.2222222222222222,\"#7201a8\"],[0.3333333333333333,\"#9c179e\"],[0.4444444444444444,\"#bd3786\"],[0.5555555555555556,\"#d8576b\"],[0.6666666666666666,\"#ed7953\"],[0.7777777777777778,\"#fb9f3a\"],[0.8888888888888888,\"#fdca26\"],[1.0,\"#f0f921\"]],\"type\":\"heatmap\"}],\"heatmapgl\":[{\"colorbar\":{\"outlinewidth\":0,\"ticks\":\"\"},\"colorscale\":[[0.0,\"#0d0887\"],[0.1111111111111111,\"#46039f\"],[0.2222222222222222,\"#7201a8\"],[0.3333333333333333,\"#9c179e\"],[0.4444444444444444,\"#bd3786\"],[0.5555555555555556,\"#d8576b\"],[0.6666666666666666,\"#ed7953\"],[0.7777777777777778,\"#fb9f3a\"],[0.8888888888888888,\"#fdca26\"],[1.0,\"#f0f921\"]],\"type\":\"heatmapgl\"}],\"histogram\":[{\"marker\":{\"pattern\":{\"fillmode\":\"overlay\",\"size\":10,\"solidity\":0.2}},\"type\":\"histogram\"}],\"histogram2d\":[{\"colorbar\":{\"outlinewidth\":0,\"ticks\":\"\"},\"colorscale\":[[0.0,\"#0d0887\"],[0.1111111111111111,\"#46039f\"],[0.2222222222222222,\"#7201a8\"],[0.3333333333333333,\"#9c179e\"],[0.4444444444444444,\"#bd3786\"],[0.5555555555555556,\"#d8576b\"],[0.6666666666666666,\"#ed7953\"],[0.7777777777777778,\"#fb9f3a\"],[0.8888888888888888,\"#fdca26\"],[1.0,\"#f0f921\"]],\"type\":\"histogram2d\"}],\"histogram2dcontour\":[{\"colorbar\":{\"outlinewidth\":0,\"ticks\":\"\"},\"colorscale\":[[0.0,\"#0d0887\"],[0.1111111111111111,\"#46039f\"],[0.2222222222222222,\"#7201a8\"],[0.3333333333333333,\"#9c179e\"],[0.4444444444444444,\"#bd3786\"],[0.5555555555555556,\"#d8576b\"],[0.6666666666666666,\"#ed7953\"],[0.7777777777777778,\"#fb9f3a\"],[0.8888888888888888,\"#fdca26\"],[1.0,\"#f0f921\"]],\"type\":\"histogram2dcontour\"}],\"mesh3d\":[{\"colorbar\":{\"outlinewidth\":0,\"ticks\":\"\"},\"type\":\"mesh3d\"}],\"parcoords\":[{\"line\":{\"colorbar\":{\"outlinewidth\":0,\"ticks\":\"\"}},\"type\":\"parcoords\"}],\"pie\":[{\"automargin\":true,\"type\":\"pie\"}],\"scatter\":[{\"marker\":{\"colorbar\":{\"outlinewidth\":0,\"ticks\":\"\"}},\"type\":\"scatter\"}],\"scatter3d\":[{\"line\":{\"colorbar\":{\"outlinewidth\":0,\"ticks\":\"\"}},\"marker\":{\"colorbar\":{\"outlinewidth\":0,\"ticks\":\"\"}},\"type\":\"scatter3d\"}],\"scattercarpet\":[{\"marker\":{\"colorbar\":{\"outlinewidth\":0,\"ticks\":\"\"}},\"type\":\"scattercarpet\"}],\"scattergeo\":[{\"marker\":{\"colorbar\":{\"outlinewidth\":0,\"ticks\":\"\"}},\"type\":\"scattergeo\"}],\"scattergl\":[{\"marker\":{\"colorbar\":{\"outlinewidth\":0,\"ticks\":\"\"}},\"type\":\"scattergl\"}],\"scattermapbox\":[{\"marker\":{\"colorbar\":{\"outlinewidth\":0,\"ticks\":\"\"}},\"type\":\"scattermapbox\"}],\"scatterpolar\":[{\"marker\":{\"colorbar\":{\"outlinewidth\":0,\"ticks\":\"\"}},\"type\":\"scatterpolar\"}],\"scatterpolargl\":[{\"marker\":{\"colorbar\":{\"outlinewidth\":0,\"ticks\":\"\"}},\"type\":\"scatterpolargl\"}],\"scatterternary\":[{\"marker\":{\"colorbar\":{\"outlinewidth\":0,\"ticks\":\"\"}},\"type\":\"scatterternary\"}],\"surface\":[{\"colorbar\":{\"outlinewidth\":0,\"ticks\":\"\"},\"colorscale\":[[0.0,\"#0d0887\"],[0.1111111111111111,\"#46039f\"],[0.2222222222222222,\"#7201a8\"],[0.3333333333333333,\"#9c179e\"],[0.4444444444444444,\"#bd3786\"],[0.5555555555555556,\"#d8576b\"],[0.6666666666666666,\"#ed7953\"],[0.7777777777777778,\"#fb9f3a\"],[0.8888888888888888,\"#fdca26\"],[1.0,\"#f0f921\"]],\"type\":\"surface\"}],\"table\":[{\"cells\":{\"fill\":{\"color\":\"#EBF0F8\"},\"line\":{\"color\":\"white\"}},\"header\":{\"fill\":{\"color\":\"#C8D4E3\"},\"line\":{\"color\":\"white\"}},\"type\":\"table\"}]},\"layout\":{\"annotationdefaults\":{\"arrowcolor\":\"#2a3f5f\",\"arrowhead\":0,\"arrowwidth\":1},\"autotypenumbers\":\"strict\",\"coloraxis\":{\"colorbar\":{\"outlinewidth\":0,\"ticks\":\"\"}},\"colorscale\":{\"diverging\":[[0,\"#8e0152\"],[0.1,\"#c51b7d\"],[0.2,\"#de77ae\"],[0.3,\"#f1b6da\"],[0.4,\"#fde0ef\"],[0.5,\"#f7f7f7\"],[0.6,\"#e6f5d0\"],[0.7,\"#b8e186\"],[0.8,\"#7fbc41\"],[0.9,\"#4d9221\"],[1,\"#276419\"]],\"sequential\":[[0.0,\"#0d0887\"],[0.1111111111111111,\"#46039f\"],[0.2222222222222222,\"#7201a8\"],[0.3333333333333333,\"#9c179e\"],[0.4444444444444444,\"#bd3786\"],[0.5555555555555556,\"#d8576b\"],[0.6666666666666666,\"#ed7953\"],[0.7777777777777778,\"#fb9f3a\"],[0.8888888888888888,\"#fdca26\"],[1.0,\"#f0f921\"]],\"sequentialminus\":[[0.0,\"#0d0887\"],[0.1111111111111111,\"#46039f\"],[0.2222222222222222,\"#7201a8\"],[0.3333333333333333,\"#9c179e\"],[0.4444444444444444,\"#bd3786\"],[0.5555555555555556,\"#d8576b\"],[0.6666666666666666,\"#ed7953\"],[0.7777777777777778,\"#fb9f3a\"],[0.8888888888888888,\"#fdca26\"],[1.0,\"#f0f921\"]]},\"colorway\":[\"#636efa\",\"#EF553B\",\"#00cc96\",\"#ab63fa\",\"#FFA15A\",\"#19d3f3\",\"#FF6692\",\"#B6E880\",\"#FF97FF\",\"#FECB52\"],\"font\":{\"color\":\"#2a3f5f\"},\"geo\":{\"bgcolor\":\"white\",\"lakecolor\":\"white\",\"landcolor\":\"#E5ECF6\",\"showlakes\":true,\"showland\":true,\"subunitcolor\":\"white\"},\"hoverlabel\":{\"align\":\"left\"},\"hovermode\":\"closest\",\"mapbox\":{\"style\":\"light\"},\"paper_bgcolor\":\"white\",\"plot_bgcolor\":\"#E5ECF6\",\"polar\":{\"angularaxis\":{\"gridcolor\":\"white\",\"linecolor\":\"white\",\"ticks\":\"\"},\"bgcolor\":\"#E5ECF6\",\"radialaxis\":{\"gridcolor\":\"white\",\"linecolor\":\"white\",\"ticks\":\"\"}},\"scene\":{\"xaxis\":{\"backgroundcolor\":\"#E5ECF6\",\"gridcolor\":\"white\",\"gridwidth\":2,\"linecolor\":\"white\",\"showbackground\":true,\"ticks\":\"\",\"zerolinecolor\":\"white\"},\"yaxis\":{\"backgroundcolor\":\"#E5ECF6\",\"gridcolor\":\"white\",\"gridwidth\":2,\"linecolor\":\"white\",\"showbackground\":true,\"ticks\":\"\",\"zerolinecolor\":\"white\"},\"zaxis\":{\"backgroundcolor\":\"#E5ECF6\",\"gridcolor\":\"white\",\"gridwidth\":2,\"linecolor\":\"white\",\"showbackground\":true,\"ticks\":\"\",\"zerolinecolor\":\"white\"}},\"shapedefaults\":{\"line\":{\"color\":\"#2a3f5f\"}},\"ternary\":{\"aaxis\":{\"gridcolor\":\"white\",\"linecolor\":\"white\",\"ticks\":\"\"},\"baxis\":{\"gridcolor\":\"white\",\"linecolor\":\"white\",\"ticks\":\"\"},\"bgcolor\":\"#E5ECF6\",\"caxis\":{\"gridcolor\":\"white\",\"linecolor\":\"white\",\"ticks\":\"\"}},\"title\":{\"x\":0.05},\"xaxis\":{\"automargin\":true,\"gridcolor\":\"white\",\"linecolor\":\"white\",\"ticks\":\"\",\"title\":{\"standoff\":15},\"zerolinecolor\":\"white\",\"zerolinewidth\":2},\"yaxis\":{\"automargin\":true,\"gridcolor\":\"white\",\"linecolor\":\"white\",\"ticks\":\"\",\"title\":{\"standoff\":15},\"zerolinecolor\":\"white\",\"zerolinewidth\":2}}},\"title\":{\"text\":\"Percentage in Prices Up/Down by Sectors: [2022-03-10 & 2022-05-05]\"},\"xaxis\":{\"domain\":[0.15,1],\"showgrid\":false,\"showline\":false,\"showticklabels\":false,\"zeroline\":false},\"yaxis\":{\"showgrid\":false,\"showline\":false,\"showticklabels\":false,\"zeroline\":false}},                        {\"responsive\": true}                    ).then(function(){\n",
       "                            \n",
       "var gd = document.getElementById('dd9e70e6-a379-4cb8-b473-5dab9606cb55');\n",
       "var x = new MutationObserver(function (mutations, observer) {{\n",
       "        var display = window.getComputedStyle(gd).display;\n",
       "        if (!display || display === 'none') {{\n",
       "            console.log([gd, 'removed!']);\n",
       "            Plotly.purge(gd);\n",
       "            observer.disconnect();\n",
       "        }}\n",
       "}});\n",
       "\n",
       "// Listen for the removal of the full notebook cells\n",
       "var notebookContainer = gd.closest('#notebook-container');\n",
       "if (notebookContainer) {{\n",
       "    x.observe(notebookContainer, {childList: true});\n",
       "}}\n",
       "\n",
       "// Listen for the clearing of the current output cell\n",
       "var outputEl = gd.closest('.output');\n",
       "if (outputEl) {{\n",
       "    x.observe(outputEl, {childList: true});\n",
       "}}\n",
       "\n",
       "                        })                };                });            </script>        </div>"
      ]
     },
     "metadata": {},
     "output_type": "display_data"
    }
   ],
   "source": [
    "output_dict = get_sector_period(input_dict[\"start_day\"], input_dict[\"duration\"])"
   ]
  },
  {
   "cell_type": "code",
   "execution_count": null,
   "id": "15dada30",
   "metadata": {},
   "outputs": [],
   "source": []
  },
  {
   "cell_type": "code",
   "execution_count": 537,
   "id": "a3102369",
   "metadata": {},
   "outputs": [],
   "source": [
    "input_dict = {'duration': 20, 'start_day': datetime.date(2022, 5, 3)}"
   ]
  },
  {
   "cell_type": "code",
   "execution_count": null,
   "id": "622f4cce",
   "metadata": {},
   "outputs": [],
   "source": []
  },
  {
   "cell_type": "code",
   "execution_count": 560,
   "id": "8a0d8b0e",
   "metadata": {},
   "outputs": [],
   "source": [
    "def get_sector_period_dict(date_start, duration_days):\n",
    "    date_start = date_start.strftime('%Y-%m-%d')\n",
    "    df_all = pd.DataFrame()\n",
    "    for ticker in stock_history.keys():\n",
    "        df_temp = stock_history[ticker]\n",
    "        df_temp = df_temp[df_temp[\"Date\"] > date_start].iloc[:duration_days]\n",
    "        df_temp = stock_history[ticker].iloc[-sector_period:]\n",
    "        df_temp.reset_index(inplace=True, drop=True)\n",
    "\n",
    "        if len(df_temp) > sector_period-1:\n",
    "            df_temp[\"ticker\"] = ticker\n",
    "            df_temp[\"sector\"] = df_final[df_final[\"ticker\"] == ticker][\"sector\"].tolist()[0]\n",
    "            df_temp[\"diff_maxmin\"] = df_temp[\"Close\"].max() - df_temp[\"Close\"].min()\n",
    "            df_temp[\"diff_close\"] = df_temp.iloc[-1][\"Close\"] - df_temp.iloc[0][\"Close\"] \n",
    "            df_temp[\"ch_per_1_mean\"] = df_temp[\"ch_per_1\"].mean()\n",
    "            df_temp = df_temp[[\"ticker\", \"sector\", \"Date\", \"Close\", \"Volume\", \n",
    "                               \"diff_maxmin\", \"diff_close\", \"ch_per_1_mean\"]]\n",
    "            df_all = df_all.append(df_temp)\n",
    "\n",
    "    output_dict = {}\n",
    "    for sector in sector_list:\n",
    "        output_dict[sector] = {}\n",
    "\n",
    "    df_filter = df_all[df_all[\"diff_close\"] > 0]\n",
    "    for sector in sector_list:\n",
    "        df_filter_temp = df_filter[df_filter[\"sector\"] == sector]\n",
    "        output_dict[sector][\"pos_diff_close\"] = df_filter_temp[\"ticker\"].unique().tolist()\n",
    "\n",
    "    df_filter = df_all[df_all[\"diff_close\"] < 0]\n",
    "    for sector in sector_list:\n",
    "        df_filter_temp = df_filter[df_filter[\"sector\"] == sector]\n",
    "        output_dict[sector][\"neg_diff_close\"] = df_filter_temp[\"ticker\"].unique().tolist()\n",
    "        \n",
    "    return output_dict\n"
   ]
  },
  {
   "cell_type": "code",
   "execution_count": 561,
   "id": "50ca43e1",
   "metadata": {},
   "outputs": [
    {
     "data": {
      "text/plain": [
       "{'Basic Materials': {'pos_diff_close': ['LIN',\n",
       "   'APD',\n",
       "   'ALB',\n",
       "   'CE',\n",
       "   'CF',\n",
       "   'ECL',\n",
       "   'IFF',\n",
       "   'LYB',\n",
       "   'MOS',\n",
       "   'NUE',\n",
       "   'PPG',\n",
       "   'SHW',\n",
       "   'VMC',\n",
       "   'CTVA',\n",
       "   'DOW'],\n",
       "  'neg_diff_close': ['DD', 'EMN', 'FMC', 'FCX', 'MLM', 'NEM']},\n",
       " 'Consumer Cyclical': {'pos_diff_close': ['CUKPF',\n",
       "   'MCD',\n",
       "   'MAR',\n",
       "   'ROST',\n",
       "   'TSLA',\n",
       "   'ULTA',\n",
       "   'BKNG',\n",
       "   'AZO',\n",
       "   'BWA',\n",
       "   'GPC',\n",
       "   'HAS',\n",
       "   'HLT',\n",
       "   'IP',\n",
       "   'LEG',\n",
       "   'LKQ',\n",
       "   'MHK',\n",
       "   'NCLH',\n",
       "   'PKG',\n",
       "   'ROL',\n",
       "   'RCL',\n",
       "   'SEE',\n",
       "   'WRK',\n",
       "   'WHR',\n",
       "   'AMCR',\n",
       "   'BBWI'],\n",
       "  'neg_diff_close': ['CCL',\n",
       "   'CUK',\n",
       "   'HD',\n",
       "   'NKE',\n",
       "   'AMZN',\n",
       "   'EBAY',\n",
       "   'EXPE',\n",
       "   'ORLY',\n",
       "   'SBUX',\n",
       "   'TSCO',\n",
       "   'F',\n",
       "   'GM',\n",
       "   'LOW',\n",
       "   'AAP',\n",
       "   'APTV',\n",
       "   'BLL',\n",
       "   'BALY',\n",
       "   'BBY',\n",
       "   'KMX',\n",
       "   'CMG',\n",
       "   'DRI',\n",
       "   'DHI',\n",
       "   'FBHS',\n",
       "   'GPS',\n",
       "   'HBI',\n",
       "   'LEN',\n",
       "   'MGM',\n",
       "   'PHM',\n",
       "   'PVH',\n",
       "   'RL',\n",
       "   'TPR',\n",
       "   'TJX',\n",
       "   'UAA',\n",
       "   'UA',\n",
       "   'VFC',\n",
       "   'WYNN',\n",
       "   'YUM',\n",
       "   'DPZ',\n",
       "   'DPUKY',\n",
       "   'ETSY',\n",
       "   'LVS',\n",
       "   'NVR',\n",
       "   'POOL',\n",
       "   'CZR',\n",
       "   'PENN']},\n",
       " 'Healthcare': {'pos_diff_close': ['STE',\n",
       "   'JNJ',\n",
       "   'MRK',\n",
       "   'UNH',\n",
       "   'AMGN',\n",
       "   'BIIB',\n",
       "   'CERN',\n",
       "   'GILD',\n",
       "   'INCY',\n",
       "   'REGN',\n",
       "   'VRTX',\n",
       "   'ABBV',\n",
       "   'BMY',\n",
       "   'LLY',\n",
       "   'MDT',\n",
       "   'ABC',\n",
       "   'ANTM',\n",
       "   'BDX',\n",
       "   'BSX',\n",
       "   'CAH',\n",
       "   'CNC',\n",
       "   'CI',\n",
       "   'HOLX',\n",
       "   'HUM',\n",
       "   'MCK',\n",
       "   'DGX',\n",
       "   'TMO',\n",
       "   'WAT',\n",
       "   'ZBH',\n",
       "   'CTLT',\n",
       "   'MRNA'],\n",
       "  'neg_diff_close': ['PFE',\n",
       "   'WBA',\n",
       "   'XRAY',\n",
       "   'HSIC',\n",
       "   'ILMN',\n",
       "   'ISRG',\n",
       "   'ABT',\n",
       "   'CVS',\n",
       "   'DHR',\n",
       "   'ABMD',\n",
       "   'A',\n",
       "   'ALGN',\n",
       "   'BAX',\n",
       "   'COO',\n",
       "   'DVA',\n",
       "   'EW',\n",
       "   'HCA',\n",
       "   'IDXX',\n",
       "   'IQV',\n",
       "   'LH',\n",
       "   'MTD',\n",
       "   'PKI',\n",
       "   'RMD',\n",
       "   'SYK',\n",
       "   'TFX',\n",
       "   'UHS',\n",
       "   'ZTS',\n",
       "   'BIO',\n",
       "   'DXCM',\n",
       "   'VTRS',\n",
       "   'WST',\n",
       "   'CRL',\n",
       "   'TECH']},\n",
       " 'Industrials': {'pos_diff_close': ['MMM',\n",
       "   'CAT',\n",
       "   'AAL',\n",
       "   'ADP',\n",
       "   'PAYX',\n",
       "   'VRSK',\n",
       "   'HON',\n",
       "   'ALK',\n",
       "   'ALLE',\n",
       "   'AVY',\n",
       "   'CHRW',\n",
       "   'CTAS',\n",
       "   'CMI',\n",
       "   'DE',\n",
       "   'DAL',\n",
       "   'ETN',\n",
       "   'EXPD',\n",
       "   'HII',\n",
       "   'ITW',\n",
       "   'J',\n",
       "   'MAS',\n",
       "   'NLSN',\n",
       "   'PH',\n",
       "   'RSG',\n",
       "   'ROP',\n",
       "   'SNA',\n",
       "   'LUV',\n",
       "   'UAL',\n",
       "   'WAB',\n",
       "   'WM',\n",
       "   'XYL',\n",
       "   'GD',\n",
       "   'HWM',\n",
       "   'IEX',\n",
       "   'NOC',\n",
       "   'TXT'],\n",
       "  'neg_diff_close': ['BA',\n",
       "   'CSX',\n",
       "   'FAST',\n",
       "   'PCAR',\n",
       "   'EMR',\n",
       "   'FDX',\n",
       "   'GE',\n",
       "   'RTX',\n",
       "   'UNP',\n",
       "   'UPS',\n",
       "   'AME',\n",
       "   'AOS',\n",
       "   'CPRT',\n",
       "   'DOV',\n",
       "   'EFX',\n",
       "   'GPN',\n",
       "   'GWW',\n",
       "   'JBHT',\n",
       "   'JCI',\n",
       "   'NSC',\n",
       "   'PNR',\n",
       "   'PWR',\n",
       "   'RHI',\n",
       "   'ROK',\n",
       "   'SWK',\n",
       "   'URI',\n",
       "   'LHX',\n",
       "   'LMT',\n",
       "   'ODFL',\n",
       "   'TT',\n",
       "   'TDG',\n",
       "   'GNRC',\n",
       "   'IR']},\n",
       " 'Financial Services': {'pos_diff_close': ['AXP',\n",
       "   'TRV',\n",
       "   'V',\n",
       "   'ALL',\n",
       "   'AIG',\n",
       "   'COF',\n",
       "   'MA',\n",
       "   'MET',\n",
       "   'AJG',\n",
       "   'AIZ',\n",
       "   'CB',\n",
       "   'CINF',\n",
       "   'DFS',\n",
       "   'RE',\n",
       "   'HIG',\n",
       "   'L',\n",
       "   'MMC',\n",
       "   'NTRS',\n",
       "   'PGR',\n",
       "   'PRU',\n",
       "   'RJF',\n",
       "   'SYF',\n",
       "   'GL',\n",
       "   'PFG',\n",
       "   'WRB'],\n",
       "  'neg_diff_close': ['GS-PK',\n",
       "   'GS',\n",
       "   'JPM',\n",
       "   'PYPL',\n",
       "   'BAC',\n",
       "   'BK',\n",
       "   'BRK-B',\n",
       "   'BLK',\n",
       "   'C',\n",
       "   'MS',\n",
       "   'USB',\n",
       "   'WFC',\n",
       "   'AFL',\n",
       "   'AMP',\n",
       "   'AON',\n",
       "   'CFG',\n",
       "   'CME',\n",
       "   'CMA',\n",
       "   'FITB',\n",
       "   'FRC',\n",
       "   'FXBY',\n",
       "   'BEN',\n",
       "   'HBAN',\n",
       "   'ICE',\n",
       "   'IVZ',\n",
       "   'LNC',\n",
       "   'MTB',\n",
       "   'MSCI',\n",
       "   'NDAQ',\n",
       "   'PBCT',\n",
       "   'PNC',\n",
       "   'RF-PB',\n",
       "   'RF',\n",
       "   'SPGI',\n",
       "   'SCHW',\n",
       "   'STT',\n",
       "   'SIVB',\n",
       "   'TROW',\n",
       "   'WU',\n",
       "   'ZION',\n",
       "   'KEY',\n",
       "   'MKTX',\n",
       "   'TFC',\n",
       "   'BRO']},\n",
       " 'Technology': {'pos_diff_close': ['IBM',\n",
       "   'ADI',\n",
       "   'FISV',\n",
       "   'WDC',\n",
       "   'FIS',\n",
       "   'FLT',\n",
       "   'FTV',\n",
       "   'HPQ',\n",
       "   'JKHY',\n",
       "   'KLAC',\n",
       "   'CDW',\n",
       "   'LDOS',\n",
       "   'ENPH',\n",
       "   'MPWR',\n",
       "   'PTC'],\n",
       "  'neg_diff_close': ['AAPL',\n",
       "   'CSCO',\n",
       "   'INTC',\n",
       "   'MSFT',\n",
       "   'ADBE',\n",
       "   'AKAM',\n",
       "   'AMAT',\n",
       "   'ADSK',\n",
       "   'CTXS',\n",
       "   'CTSH',\n",
       "   'INTU',\n",
       "   'LRCX',\n",
       "   'MCHP',\n",
       "   'MU',\n",
       "   'NTAP',\n",
       "   'NVDA',\n",
       "   'NXPI',\n",
       "   'QCOM',\n",
       "   'STX',\n",
       "   'SWKS',\n",
       "   'TXN',\n",
       "   'ACN',\n",
       "   'ORCL',\n",
       "   'OCLCF',\n",
       "   'AMD',\n",
       "   'APH',\n",
       "   'ANSS',\n",
       "   'ANET',\n",
       "   'AVGO',\n",
       "   'BR',\n",
       "   'CDNS',\n",
       "   'GLW',\n",
       "   'DXC',\n",
       "   'FFIV',\n",
       "   'FTNT',\n",
       "   'GRMN',\n",
       "   'IT',\n",
       "   'HPE',\n",
       "   'IPGP',\n",
       "   'JNPR',\n",
       "   'KEYS',\n",
       "   'MSI',\n",
       "   'QRVO',\n",
       "   'CRM',\n",
       "   'SNPS',\n",
       "   'TEL',\n",
       "   'VRSN',\n",
       "   'NLOK',\n",
       "   'PAYC',\n",
       "   'NOW',\n",
       "   'TDY',\n",
       "   'TER',\n",
       "   'TYL',\n",
       "   'ZBRA',\n",
       "   'TRMB',\n",
       "   'CDAY']},\n",
       " 'Energy': {'pos_diff_close': ['XOM',\n",
       "   'COP',\n",
       "   'KMI',\n",
       "   'OXY',\n",
       "   'APA',\n",
       "   'DVN',\n",
       "   'FANG',\n",
       "   'EOG',\n",
       "   'HES',\n",
       "   'MRO',\n",
       "   'MPC',\n",
       "   'PSX',\n",
       "   'PXD',\n",
       "   'VLO',\n",
       "   'WMB'],\n",
       "  'neg_diff_close': ['CVX', 'SLB', 'BKR', 'HAL', 'OKE']},\n",
       " 'Consumer Defensive': {'pos_diff_close': ['KO',\n",
       "   'PG',\n",
       "   'WMT',\n",
       "   'DLTR',\n",
       "   'KHC',\n",
       "   'MDLZ',\n",
       "   'MNST',\n",
       "   'MO',\n",
       "   'CL',\n",
       "   'PM',\n",
       "   'TGT',\n",
       "   'ADM',\n",
       "   'BF-B',\n",
       "   'CPB',\n",
       "   'CLX',\n",
       "   'CAG',\n",
       "   'STZ',\n",
       "   'DG',\n",
       "   'GIS',\n",
       "   'HSY',\n",
       "   'HRL',\n",
       "   'SJM',\n",
       "   'K',\n",
       "   'KMB',\n",
       "   'LW',\n",
       "   'NWL',\n",
       "   'SYY',\n",
       "   'TSN',\n",
       "   'TAP',\n",
       "   'PEP'],\n",
       "  'neg_diff_close': ['COST', 'CHD', 'KR', 'ELAA.F', 'EL', 'MKC', 'TAP-A']},\n",
       " 'Communication Services': {'pos_diff_close': ['FB',\n",
       "   'TMUS',\n",
       "   'T',\n",
       "   'OMC',\n",
       "   'TWTR',\n",
       "   'LUMN'],\n",
       "  'neg_diff_close': ['VZ',\n",
       "   'DIS',\n",
       "   'ATVI',\n",
       "   'GOOGL',\n",
       "   'GOOG',\n",
       "   'CHTR',\n",
       "   'CMCSA',\n",
       "   'DISCA',\n",
       "   'DISCK',\n",
       "   'DISCB',\n",
       "   'DISH',\n",
       "   'EA',\n",
       "   'NFLX',\n",
       "   'FOXA',\n",
       "   'FOX',\n",
       "   'IPG',\n",
       "   'NWSA',\n",
       "   'NWS',\n",
       "   'TTWO',\n",
       "   'LYV',\n",
       "   'MTCH']},\n",
       " 'Utilities': {'pos_diff_close': ['DUK',\n",
       "   'EXC',\n",
       "   'SO',\n",
       "   'AEE',\n",
       "   'AEP',\n",
       "   'ATO',\n",
       "   'CNP',\n",
       "   'CMS',\n",
       "   'ED',\n",
       "   'D',\n",
       "   'DTE',\n",
       "   'EIX',\n",
       "   'ETR',\n",
       "   'EVRG',\n",
       "   'ES',\n",
       "   'NRG',\n",
       "   'PPL',\n",
       "   'PEG',\n",
       "   'SRE',\n",
       "   'WEC',\n",
       "   'XEL'],\n",
       "  'neg_diff_close': ['NEE', 'AES', 'AWK', 'CMS-PB', 'FE', 'NI', 'PNW', 'LNT']},\n",
       " 'Real Estate': {'pos_diff_close': ['AMT',\n",
       "   'CCI',\n",
       "   'DLR',\n",
       "   'EQIX',\n",
       "   'HST',\n",
       "   'IRM',\n",
       "   'KIM',\n",
       "   'O',\n",
       "   'SBAC',\n",
       "   'WY',\n",
       "   'REG'],\n",
       "  'neg_diff_close': ['SPG',\n",
       "   'ARE',\n",
       "   'AVB',\n",
       "   'BXP',\n",
       "   'CBRE',\n",
       "   'DRE',\n",
       "   'EQR',\n",
       "   'ESS',\n",
       "   'EXR',\n",
       "   'FRT',\n",
       "   'PEAK',\n",
       "   'MAA',\n",
       "   'PLD',\n",
       "   'PSA',\n",
       "   'UHT',\n",
       "   'UDR',\n",
       "   'VTR',\n",
       "   'VNO',\n",
       "   'WELL']}}"
      ]
     },
     "execution_count": 561,
     "metadata": {},
     "output_type": "execute_result"
    }
   ],
   "source": [
    "output_dict = get_sector_period_dict(input_dict[\"start_day\"], input_dict[\"duration\"])\n",
    "output_dict"
   ]
  },
  {
   "cell_type": "code",
   "execution_count": 519,
   "id": "87fc223f",
   "metadata": {},
   "outputs": [
    {
     "data": {
      "text/html": [
       "<div>\n",
       "<style scoped>\n",
       "    .dataframe tbody tr th:only-of-type {\n",
       "        vertical-align: middle;\n",
       "    }\n",
       "\n",
       "    .dataframe tbody tr th {\n",
       "        vertical-align: top;\n",
       "    }\n",
       "\n",
       "    .dataframe thead th {\n",
       "        text-align: right;\n",
       "    }\n",
       "</style>\n",
       "<table border=\"1\" class=\"dataframe\">\n",
       "  <thead>\n",
       "    <tr style=\"text-align: right;\">\n",
       "      <th></th>\n",
       "      <th>Date</th>\n",
       "      <th>Open</th>\n",
       "      <th>High</th>\n",
       "      <th>Low</th>\n",
       "      <th>Close</th>\n",
       "      <th>Adj Close</th>\n",
       "      <th>Volume</th>\n",
       "      <th>ticker</th>\n",
       "      <th>ch_per_1</th>\n",
       "      <th>ch_per_1s</th>\n",
       "      <th>ch_per_60</th>\n",
       "      <th>ch_per_60s</th>\n",
       "      <th>ch_per_120</th>\n",
       "      <th>ch_per_120s</th>\n",
       "    </tr>\n",
       "  </thead>\n",
       "  <tbody>\n",
       "    <tr>\n",
       "      <th>1754</th>\n",
       "      <td>2022-04-26</td>\n",
       "      <td>162.250000</td>\n",
       "      <td>162.339996</td>\n",
       "      <td>156.720001</td>\n",
       "      <td>156.800003</td>\n",
       "      <td>156.800003</td>\n",
       "      <td>95623200</td>\n",
       "      <td>AAPL</td>\n",
       "      <td>-3.63202</td>\n",
       "      <td>-2.036753</td>\n",
       "      <td>-8.08244</td>\n",
       "      <td>-0.950415</td>\n",
       "      <td>4.05018</td>\n",
       "      <td>-0.425321</td>\n",
       "    </tr>\n",
       "    <tr>\n",
       "      <th>1755</th>\n",
       "      <td>2022-04-27</td>\n",
       "      <td>155.910004</td>\n",
       "      <td>159.789993</td>\n",
       "      <td>155.380005</td>\n",
       "      <td>156.570007</td>\n",
       "      <td>156.570007</td>\n",
       "      <td>88063200</td>\n",
       "      <td>AAPL</td>\n",
       "      <td>-0.13753</td>\n",
       "      <td>-0.131693</td>\n",
       "      <td>-10.88919</td>\n",
       "      <td>-1.155891</td>\n",
       "      <td>3.03773</td>\n",
       "      <td>-0.490228</td>\n",
       "    </tr>\n",
       "    <tr>\n",
       "      <th>1756</th>\n",
       "      <td>2022-04-28</td>\n",
       "      <td>159.250000</td>\n",
       "      <td>164.520004</td>\n",
       "      <td>158.929993</td>\n",
       "      <td>163.639999</td>\n",
       "      <td>163.639999</td>\n",
       "      <td>130216800</td>\n",
       "      <td>AAPL</td>\n",
       "      <td>4.24828</td>\n",
       "      <td>2.259280</td>\n",
       "      <td>-6.59176</td>\n",
       "      <td>-0.841286</td>\n",
       "      <td>7.61927</td>\n",
       "      <td>-0.196511</td>\n",
       "    </tr>\n",
       "    <tr>\n",
       "      <th>1757</th>\n",
       "      <td>2022-04-29</td>\n",
       "      <td>161.839996</td>\n",
       "      <td>166.199997</td>\n",
       "      <td>157.250000</td>\n",
       "      <td>157.649994</td>\n",
       "      <td>157.649994</td>\n",
       "      <td>131587100</td>\n",
       "      <td>AAPL</td>\n",
       "      <td>-3.70233</td>\n",
       "      <td>-2.075083</td>\n",
       "      <td>-11.24297</td>\n",
       "      <td>-1.181791</td>\n",
       "      <td>3.93720</td>\n",
       "      <td>-0.432564</td>\n",
       "    </tr>\n",
       "    <tr>\n",
       "      <th>1758</th>\n",
       "      <td>2022-05-02</td>\n",
       "      <td>156.710007</td>\n",
       "      <td>158.229996</td>\n",
       "      <td>153.270004</td>\n",
       "      <td>157.960007</td>\n",
       "      <td>157.960007</td>\n",
       "      <td>123055300</td>\n",
       "      <td>AAPL</td>\n",
       "      <td>0.19033</td>\n",
       "      <td>0.047044</td>\n",
       "      <td>-9.17239</td>\n",
       "      <td>-1.030208</td>\n",
       "      <td>4.61690</td>\n",
       "      <td>-0.388989</td>\n",
       "    </tr>\n",
       "  </tbody>\n",
       "</table>\n",
       "</div>"
      ],
      "text/plain": [
       "           Date        Open        High         Low       Close   Adj Close  \\\n",
       "1754 2022-04-26  162.250000  162.339996  156.720001  156.800003  156.800003   \n",
       "1755 2022-04-27  155.910004  159.789993  155.380005  156.570007  156.570007   \n",
       "1756 2022-04-28  159.250000  164.520004  158.929993  163.639999  163.639999   \n",
       "1757 2022-04-29  161.839996  166.199997  157.250000  157.649994  157.649994   \n",
       "1758 2022-05-02  156.710007  158.229996  153.270004  157.960007  157.960007   \n",
       "\n",
       "         Volume ticker  ch_per_1  ch_per_1s  ch_per_60  ch_per_60s  \\\n",
       "1754   95623200   AAPL  -3.63202  -2.036753   -8.08244   -0.950415   \n",
       "1755   88063200   AAPL  -0.13753  -0.131693  -10.88919   -1.155891   \n",
       "1756  130216800   AAPL   4.24828   2.259280   -6.59176   -0.841286   \n",
       "1757  131587100   AAPL  -3.70233  -2.075083  -11.24297   -1.181791   \n",
       "1758  123055300   AAPL   0.19033   0.047044   -9.17239   -1.030208   \n",
       "\n",
       "      ch_per_120  ch_per_120s  \n",
       "1754     4.05018    -0.425321  \n",
       "1755     3.03773    -0.490228  \n",
       "1756     7.61927    -0.196511  \n",
       "1757     3.93720    -0.432564  \n",
       "1758     4.61690    -0.388989  "
      ]
     },
     "execution_count": 519,
     "metadata": {},
     "output_type": "execute_result"
    }
   ],
   "source": [
    "df_temp = stock_history[\"AAPL\"]\n",
    "date_start = input_dict[\"start_day\"].strftime('%Y-%m-%d')\n",
    "df_temp = df_temp[df_temp[\"Date\"] < date_start].iloc[-input_dict[\"duration\"]:]\n",
    "# df_temp = stock_history[ticker].iloc[-duration_days:]\n",
    "df_temp"
   ]
  },
  {
   "cell_type": "code",
   "execution_count": 511,
   "id": "c0fa56d6",
   "metadata": {},
   "outputs": [
    {
     "data": {
      "text/html": [
       "<div>\n",
       "<style scoped>\n",
       "    .dataframe tbody tr th:only-of-type {\n",
       "        vertical-align: middle;\n",
       "    }\n",
       "\n",
       "    .dataframe tbody tr th {\n",
       "        vertical-align: top;\n",
       "    }\n",
       "\n",
       "    .dataframe thead th {\n",
       "        text-align: right;\n",
       "    }\n",
       "</style>\n",
       "<table border=\"1\" class=\"dataframe\">\n",
       "  <thead>\n",
       "    <tr style=\"text-align: right;\">\n",
       "      <th></th>\n",
       "      <th>Date</th>\n",
       "      <th>Open</th>\n",
       "      <th>High</th>\n",
       "      <th>Low</th>\n",
       "      <th>Close</th>\n",
       "      <th>Adj Close</th>\n",
       "      <th>Volume</th>\n",
       "      <th>ticker</th>\n",
       "      <th>ch_per_1</th>\n",
       "      <th>ch_per_1s</th>\n",
       "      <th>ch_per_60</th>\n",
       "      <th>ch_per_60s</th>\n",
       "      <th>ch_per_120</th>\n",
       "      <th>ch_per_120s</th>\n",
       "    </tr>\n",
       "  </thead>\n",
       "  <tbody>\n",
       "    <tr>\n",
       "      <th>1757</th>\n",
       "      <td>2022-04-29</td>\n",
       "      <td>161.839996</td>\n",
       "      <td>166.199997</td>\n",
       "      <td>157.250000</td>\n",
       "      <td>157.649994</td>\n",
       "      <td>157.649994</td>\n",
       "      <td>131587100</td>\n",
       "      <td>AAPL</td>\n",
       "      <td>-3.70233</td>\n",
       "      <td>-2.075083</td>\n",
       "      <td>-11.24297</td>\n",
       "      <td>-1.181791</td>\n",
       "      <td>3.93720</td>\n",
       "      <td>-0.432564</td>\n",
       "    </tr>\n",
       "    <tr>\n",
       "      <th>1758</th>\n",
       "      <td>2022-05-02</td>\n",
       "      <td>156.710007</td>\n",
       "      <td>158.229996</td>\n",
       "      <td>153.270004</td>\n",
       "      <td>157.960007</td>\n",
       "      <td>157.960007</td>\n",
       "      <td>123055300</td>\n",
       "      <td>AAPL</td>\n",
       "      <td>0.19033</td>\n",
       "      <td>0.047044</td>\n",
       "      <td>-9.17239</td>\n",
       "      <td>-1.030208</td>\n",
       "      <td>4.61690</td>\n",
       "      <td>-0.388989</td>\n",
       "    </tr>\n",
       "    <tr>\n",
       "      <th>1759</th>\n",
       "      <td>2022-05-03</td>\n",
       "      <td>158.149994</td>\n",
       "      <td>160.710007</td>\n",
       "      <td>156.320007</td>\n",
       "      <td>159.479996</td>\n",
       "      <td>159.479996</td>\n",
       "      <td>88966500</td>\n",
       "      <td>AAPL</td>\n",
       "      <td>0.96938</td>\n",
       "      <td>0.471751</td>\n",
       "      <td>-8.23342</td>\n",
       "      <td>-0.961468</td>\n",
       "      <td>5.52934</td>\n",
       "      <td>-0.330494</td>\n",
       "    </tr>\n",
       "    <tr>\n",
       "      <th>1760</th>\n",
       "      <td>2022-05-04</td>\n",
       "      <td>159.669998</td>\n",
       "      <td>166.479996</td>\n",
       "      <td>159.259995</td>\n",
       "      <td>166.020004</td>\n",
       "      <td>166.020004</td>\n",
       "      <td>108256500</td>\n",
       "      <td>AAPL</td>\n",
       "      <td>4.17705</td>\n",
       "      <td>2.220448</td>\n",
       "      <td>-3.60222</td>\n",
       "      <td>-0.622429</td>\n",
       "      <td>11.56033</td>\n",
       "      <td>0.056146</td>\n",
       "    </tr>\n",
       "    <tr>\n",
       "      <th>1761</th>\n",
       "      <td>2022-05-05</td>\n",
       "      <td>163.850006</td>\n",
       "      <td>164.080002</td>\n",
       "      <td>154.949997</td>\n",
       "      <td>156.770004</td>\n",
       "      <td>156.770004</td>\n",
       "      <td>130525300</td>\n",
       "      <td>AAPL</td>\n",
       "      <td>-5.65265</td>\n",
       "      <td>-3.138321</td>\n",
       "      <td>-11.03642</td>\n",
       "      <td>-1.166669</td>\n",
       "      <td>5.43877</td>\n",
       "      <td>-0.336300</td>\n",
       "    </tr>\n",
       "  </tbody>\n",
       "</table>\n",
       "</div>"
      ],
      "text/plain": [
       "           Date        Open        High         Low       Close   Adj Close  \\\n",
       "1757 2022-04-29  161.839996  166.199997  157.250000  157.649994  157.649994   \n",
       "1758 2022-05-02  156.710007  158.229996  153.270004  157.960007  157.960007   \n",
       "1759 2022-05-03  158.149994  160.710007  156.320007  159.479996  159.479996   \n",
       "1760 2022-05-04  159.669998  166.479996  159.259995  166.020004  166.020004   \n",
       "1761 2022-05-05  163.850006  164.080002  154.949997  156.770004  156.770004   \n",
       "\n",
       "         Volume ticker  ch_per_1  ch_per_1s  ch_per_60  ch_per_60s  \\\n",
       "1757  131587100   AAPL  -3.70233  -2.075083  -11.24297   -1.181791   \n",
       "1758  123055300   AAPL   0.19033   0.047044   -9.17239   -1.030208   \n",
       "1759   88966500   AAPL   0.96938   0.471751   -8.23342   -0.961468   \n",
       "1760  108256500   AAPL   4.17705   2.220448   -3.60222   -0.622429   \n",
       "1761  130525300   AAPL  -5.65265  -3.138321  -11.03642   -1.166669   \n",
       "\n",
       "      ch_per_120  ch_per_120s  \n",
       "1757     3.93720    -0.432564  \n",
       "1758     4.61690    -0.388989  \n",
       "1759     5.52934    -0.330494  \n",
       "1760    11.56033     0.056146  \n",
       "1761     5.43877    -0.336300  "
      ]
     },
     "execution_count": 511,
     "metadata": {},
     "output_type": "execute_result"
    }
   ],
   "source": [
    "df_temp = stock_history[\"AAPL\"]\n",
    "df_temp.tail()"
   ]
  },
  {
   "cell_type": "code",
   "execution_count": null,
   "id": "3a44464d",
   "metadata": {},
   "outputs": [],
   "source": []
  },
  {
   "cell_type": "code",
   "execution_count": null,
   "id": "70652f4c",
   "metadata": {},
   "outputs": [],
   "source": []
  },
  {
   "cell_type": "code",
   "execution_count": 399,
   "id": "eb712d72",
   "metadata": {},
   "outputs": [
    {
     "data": {
      "application/vnd.plotly.v1+json": {
       "config": {
        "plotlyServerURL": "https://plot.ly"
       },
       "data": [
        {
         "marker": {
          "color": "rgba(50, 171, 96, 0.6)",
          "line": {
           "color": "rgba(50, 171, 96, 1.0)",
           "width": 1
          }
         },
         "name": "Sector proportion in S&P 500.",
         "orientation": "h",
         "type": "bar",
         "x": [
          21,
          27,
          70,
          37,
          20,
          69,
          64,
          69,
          30,
          71,
          29
         ],
         "xaxis": "x",
         "y": [
          "Basic Materials",
          "Communication Services",
          "Consumer Cyclical",
          "Consumer Defensive",
          "Energy",
          "Financial Services",
          "Healthcare",
          "Industrials",
          "Real Estate",
          "Technology",
          "Utilities"
         ],
         "yaxis": "y"
        },
        {
         "line": {
          "color": "rgb(128, 0, 128)"
         },
         "mode": "lines+markers",
         "name": "The number of tickers increased stock prices.",
         "type": "scatter",
         "x": [
          28.6,
          7.4,
          38.6,
          56.8,
          75,
          18.8,
          6.2,
          31.9,
          13.3,
          15.5,
          0
         ],
         "xaxis": "x2",
         "y": [
          "Basic Materials",
          "Communication Services",
          "Consumer Cyclical",
          "Consumer Defensive",
          "Energy",
          "Financial Services",
          "Healthcare",
          "Industrials",
          "Real Estate",
          "Technology",
          "Utilities"
         ],
         "yaxis": "y2"
        }
       ],
       "layout": {
        "annotations": [
         {
          "font": {
           "color": "rgb(50, 171, 96)",
           "family": "Arial",
           "size": 12
          },
          "showarrow": false,
          "text": "4.14%",
          "x": 31,
          "xref": "x",
          "y": "Basic Materials",
          "yref": "y"
         },
         {
          "font": {
           "color": "rgb(50, 171, 96)",
           "family": "Arial",
           "size": 12
          },
          "showarrow": false,
          "text": "5.33%",
          "x": 37,
          "xref": "x",
          "y": "Communication Services",
          "yref": "y"
         },
         {
          "font": {
           "color": "rgb(50, 171, 96)",
           "family": "Arial",
           "size": 12
          },
          "showarrow": false,
          "text": "13.81%",
          "x": 80,
          "xref": "x",
          "y": "Consumer Cyclical",
          "yref": "y"
         },
         {
          "font": {
           "color": "rgb(50, 171, 96)",
           "family": "Arial",
           "size": 12
          },
          "showarrow": false,
          "text": "7.3%",
          "x": 47,
          "xref": "x",
          "y": "Consumer Defensive",
          "yref": "y"
         },
         {
          "font": {
           "color": "rgb(50, 171, 96)",
           "family": "Arial",
           "size": 12
          },
          "showarrow": false,
          "text": "3.94%",
          "x": 30,
          "xref": "x",
          "y": "Energy",
          "yref": "y"
         },
         {
          "font": {
           "color": "rgb(50, 171, 96)",
           "family": "Arial",
           "size": 12
          },
          "showarrow": false,
          "text": "13.61%",
          "x": 79,
          "xref": "x",
          "y": "Financial Services",
          "yref": "y"
         },
         {
          "font": {
           "color": "rgb(50, 171, 96)",
           "family": "Arial",
           "size": 12
          },
          "showarrow": false,
          "text": "12.62%",
          "x": 74,
          "xref": "x",
          "y": "Healthcare",
          "yref": "y"
         },
         {
          "font": {
           "color": "rgb(50, 171, 96)",
           "family": "Arial",
           "size": 12
          },
          "showarrow": false,
          "text": "13.61%",
          "x": 79,
          "xref": "x",
          "y": "Industrials",
          "yref": "y"
         },
         {
          "font": {
           "color": "rgb(50, 171, 96)",
           "family": "Arial",
           "size": 12
          },
          "showarrow": false,
          "text": "5.92%",
          "x": 40,
          "xref": "x",
          "y": "Real Estate",
          "yref": "y"
         },
         {
          "font": {
           "color": "rgb(50, 171, 96)",
           "family": "Arial",
           "size": 12
          },
          "showarrow": false,
          "text": "14.0%",
          "x": 81,
          "xref": "x",
          "y": "Technology",
          "yref": "y"
         },
         {
          "font": {
           "color": "rgb(50, 171, 96)",
           "family": "Arial",
           "size": 12
          },
          "showarrow": false,
          "text": "5.72%",
          "x": 39,
          "xref": "x",
          "y": "Utilities",
          "yref": "y"
         },
         {
          "font": {
           "color": "rgb(150,150,150)",
           "family": "Arial",
           "size": 10
          },
          "showarrow": false,
          "text": "yfinance S&P 500 data",
          "x": -0.2,
          "xref": "paper",
          "y": -0.109,
          "yref": "paper"
         }
        ],
        "legend": {
         "font": {
          "size": 10
         },
         "x": 0.029,
         "y": 1.038
        },
        "margin": {
         "b": 70,
         "l": 100,
         "r": 20,
         "t": 70
        },
        "paper_bgcolor": "rgb(248, 248, 255)",
        "plot_bgcolor": "rgb(248, 248, 255)",
        "template": {
         "data": {
          "bar": [
           {
            "error_x": {
             "color": "#2a3f5f"
            },
            "error_y": {
             "color": "#2a3f5f"
            },
            "marker": {
             "line": {
              "color": "#E5ECF6",
              "width": 0.5
             },
             "pattern": {
              "fillmode": "overlay",
              "size": 10,
              "solidity": 0.2
             }
            },
            "type": "bar"
           }
          ],
          "barpolar": [
           {
            "marker": {
             "line": {
              "color": "#E5ECF6",
              "width": 0.5
             },
             "pattern": {
              "fillmode": "overlay",
              "size": 10,
              "solidity": 0.2
             }
            },
            "type": "barpolar"
           }
          ],
          "carpet": [
           {
            "aaxis": {
             "endlinecolor": "#2a3f5f",
             "gridcolor": "white",
             "linecolor": "white",
             "minorgridcolor": "white",
             "startlinecolor": "#2a3f5f"
            },
            "baxis": {
             "endlinecolor": "#2a3f5f",
             "gridcolor": "white",
             "linecolor": "white",
             "minorgridcolor": "white",
             "startlinecolor": "#2a3f5f"
            },
            "type": "carpet"
           }
          ],
          "choropleth": [
           {
            "colorbar": {
             "outlinewidth": 0,
             "ticks": ""
            },
            "type": "choropleth"
           }
          ],
          "contour": [
           {
            "colorbar": {
             "outlinewidth": 0,
             "ticks": ""
            },
            "colorscale": [
             [
              0,
              "#0d0887"
             ],
             [
              0.1111111111111111,
              "#46039f"
             ],
             [
              0.2222222222222222,
              "#7201a8"
             ],
             [
              0.3333333333333333,
              "#9c179e"
             ],
             [
              0.4444444444444444,
              "#bd3786"
             ],
             [
              0.5555555555555556,
              "#d8576b"
             ],
             [
              0.6666666666666666,
              "#ed7953"
             ],
             [
              0.7777777777777778,
              "#fb9f3a"
             ],
             [
              0.8888888888888888,
              "#fdca26"
             ],
             [
              1,
              "#f0f921"
             ]
            ],
            "type": "contour"
           }
          ],
          "contourcarpet": [
           {
            "colorbar": {
             "outlinewidth": 0,
             "ticks": ""
            },
            "type": "contourcarpet"
           }
          ],
          "heatmap": [
           {
            "colorbar": {
             "outlinewidth": 0,
             "ticks": ""
            },
            "colorscale": [
             [
              0,
              "#0d0887"
             ],
             [
              0.1111111111111111,
              "#46039f"
             ],
             [
              0.2222222222222222,
              "#7201a8"
             ],
             [
              0.3333333333333333,
              "#9c179e"
             ],
             [
              0.4444444444444444,
              "#bd3786"
             ],
             [
              0.5555555555555556,
              "#d8576b"
             ],
             [
              0.6666666666666666,
              "#ed7953"
             ],
             [
              0.7777777777777778,
              "#fb9f3a"
             ],
             [
              0.8888888888888888,
              "#fdca26"
             ],
             [
              1,
              "#f0f921"
             ]
            ],
            "type": "heatmap"
           }
          ],
          "heatmapgl": [
           {
            "colorbar": {
             "outlinewidth": 0,
             "ticks": ""
            },
            "colorscale": [
             [
              0,
              "#0d0887"
             ],
             [
              0.1111111111111111,
              "#46039f"
             ],
             [
              0.2222222222222222,
              "#7201a8"
             ],
             [
              0.3333333333333333,
              "#9c179e"
             ],
             [
              0.4444444444444444,
              "#bd3786"
             ],
             [
              0.5555555555555556,
              "#d8576b"
             ],
             [
              0.6666666666666666,
              "#ed7953"
             ],
             [
              0.7777777777777778,
              "#fb9f3a"
             ],
             [
              0.8888888888888888,
              "#fdca26"
             ],
             [
              1,
              "#f0f921"
             ]
            ],
            "type": "heatmapgl"
           }
          ],
          "histogram": [
           {
            "marker": {
             "pattern": {
              "fillmode": "overlay",
              "size": 10,
              "solidity": 0.2
             }
            },
            "type": "histogram"
           }
          ],
          "histogram2d": [
           {
            "colorbar": {
             "outlinewidth": 0,
             "ticks": ""
            },
            "colorscale": [
             [
              0,
              "#0d0887"
             ],
             [
              0.1111111111111111,
              "#46039f"
             ],
             [
              0.2222222222222222,
              "#7201a8"
             ],
             [
              0.3333333333333333,
              "#9c179e"
             ],
             [
              0.4444444444444444,
              "#bd3786"
             ],
             [
              0.5555555555555556,
              "#d8576b"
             ],
             [
              0.6666666666666666,
              "#ed7953"
             ],
             [
              0.7777777777777778,
              "#fb9f3a"
             ],
             [
              0.8888888888888888,
              "#fdca26"
             ],
             [
              1,
              "#f0f921"
             ]
            ],
            "type": "histogram2d"
           }
          ],
          "histogram2dcontour": [
           {
            "colorbar": {
             "outlinewidth": 0,
             "ticks": ""
            },
            "colorscale": [
             [
              0,
              "#0d0887"
             ],
             [
              0.1111111111111111,
              "#46039f"
             ],
             [
              0.2222222222222222,
              "#7201a8"
             ],
             [
              0.3333333333333333,
              "#9c179e"
             ],
             [
              0.4444444444444444,
              "#bd3786"
             ],
             [
              0.5555555555555556,
              "#d8576b"
             ],
             [
              0.6666666666666666,
              "#ed7953"
             ],
             [
              0.7777777777777778,
              "#fb9f3a"
             ],
             [
              0.8888888888888888,
              "#fdca26"
             ],
             [
              1,
              "#f0f921"
             ]
            ],
            "type": "histogram2dcontour"
           }
          ],
          "mesh3d": [
           {
            "colorbar": {
             "outlinewidth": 0,
             "ticks": ""
            },
            "type": "mesh3d"
           }
          ],
          "parcoords": [
           {
            "line": {
             "colorbar": {
              "outlinewidth": 0,
              "ticks": ""
             }
            },
            "type": "parcoords"
           }
          ],
          "pie": [
           {
            "automargin": true,
            "type": "pie"
           }
          ],
          "scatter": [
           {
            "marker": {
             "colorbar": {
              "outlinewidth": 0,
              "ticks": ""
             }
            },
            "type": "scatter"
           }
          ],
          "scatter3d": [
           {
            "line": {
             "colorbar": {
              "outlinewidth": 0,
              "ticks": ""
             }
            },
            "marker": {
             "colorbar": {
              "outlinewidth": 0,
              "ticks": ""
             }
            },
            "type": "scatter3d"
           }
          ],
          "scattercarpet": [
           {
            "marker": {
             "colorbar": {
              "outlinewidth": 0,
              "ticks": ""
             }
            },
            "type": "scattercarpet"
           }
          ],
          "scattergeo": [
           {
            "marker": {
             "colorbar": {
              "outlinewidth": 0,
              "ticks": ""
             }
            },
            "type": "scattergeo"
           }
          ],
          "scattergl": [
           {
            "marker": {
             "colorbar": {
              "outlinewidth": 0,
              "ticks": ""
             }
            },
            "type": "scattergl"
           }
          ],
          "scattermapbox": [
           {
            "marker": {
             "colorbar": {
              "outlinewidth": 0,
              "ticks": ""
             }
            },
            "type": "scattermapbox"
           }
          ],
          "scatterpolar": [
           {
            "marker": {
             "colorbar": {
              "outlinewidth": 0,
              "ticks": ""
             }
            },
            "type": "scatterpolar"
           }
          ],
          "scatterpolargl": [
           {
            "marker": {
             "colorbar": {
              "outlinewidth": 0,
              "ticks": ""
             }
            },
            "type": "scatterpolargl"
           }
          ],
          "scatterternary": [
           {
            "marker": {
             "colorbar": {
              "outlinewidth": 0,
              "ticks": ""
             }
            },
            "type": "scatterternary"
           }
          ],
          "surface": [
           {
            "colorbar": {
             "outlinewidth": 0,
             "ticks": ""
            },
            "colorscale": [
             [
              0,
              "#0d0887"
             ],
             [
              0.1111111111111111,
              "#46039f"
             ],
             [
              0.2222222222222222,
              "#7201a8"
             ],
             [
              0.3333333333333333,
              "#9c179e"
             ],
             [
              0.4444444444444444,
              "#bd3786"
             ],
             [
              0.5555555555555556,
              "#d8576b"
             ],
             [
              0.6666666666666666,
              "#ed7953"
             ],
             [
              0.7777777777777778,
              "#fb9f3a"
             ],
             [
              0.8888888888888888,
              "#fdca26"
             ],
             [
              1,
              "#f0f921"
             ]
            ],
            "type": "surface"
           }
          ],
          "table": [
           {
            "cells": {
             "fill": {
              "color": "#EBF0F8"
             },
             "line": {
              "color": "white"
             }
            },
            "header": {
             "fill": {
              "color": "#C8D4E3"
             },
             "line": {
              "color": "white"
             }
            },
            "type": "table"
           }
          ]
         },
         "layout": {
          "annotationdefaults": {
           "arrowcolor": "#2a3f5f",
           "arrowhead": 0,
           "arrowwidth": 1
          },
          "autotypenumbers": "strict",
          "coloraxis": {
           "colorbar": {
            "outlinewidth": 0,
            "ticks": ""
           }
          },
          "colorscale": {
           "diverging": [
            [
             0,
             "#8e0152"
            ],
            [
             0.1,
             "#c51b7d"
            ],
            [
             0.2,
             "#de77ae"
            ],
            [
             0.3,
             "#f1b6da"
            ],
            [
             0.4,
             "#fde0ef"
            ],
            [
             0.5,
             "#f7f7f7"
            ],
            [
             0.6,
             "#e6f5d0"
            ],
            [
             0.7,
             "#b8e186"
            ],
            [
             0.8,
             "#7fbc41"
            ],
            [
             0.9,
             "#4d9221"
            ],
            [
             1,
             "#276419"
            ]
           ],
           "sequential": [
            [
             0,
             "#0d0887"
            ],
            [
             0.1111111111111111,
             "#46039f"
            ],
            [
             0.2222222222222222,
             "#7201a8"
            ],
            [
             0.3333333333333333,
             "#9c179e"
            ],
            [
             0.4444444444444444,
             "#bd3786"
            ],
            [
             0.5555555555555556,
             "#d8576b"
            ],
            [
             0.6666666666666666,
             "#ed7953"
            ],
            [
             0.7777777777777778,
             "#fb9f3a"
            ],
            [
             0.8888888888888888,
             "#fdca26"
            ],
            [
             1,
             "#f0f921"
            ]
           ],
           "sequentialminus": [
            [
             0,
             "#0d0887"
            ],
            [
             0.1111111111111111,
             "#46039f"
            ],
            [
             0.2222222222222222,
             "#7201a8"
            ],
            [
             0.3333333333333333,
             "#9c179e"
            ],
            [
             0.4444444444444444,
             "#bd3786"
            ],
            [
             0.5555555555555556,
             "#d8576b"
            ],
            [
             0.6666666666666666,
             "#ed7953"
            ],
            [
             0.7777777777777778,
             "#fb9f3a"
            ],
            [
             0.8888888888888888,
             "#fdca26"
            ],
            [
             1,
             "#f0f921"
            ]
           ]
          },
          "colorway": [
           "#636efa",
           "#EF553B",
           "#00cc96",
           "#ab63fa",
           "#FFA15A",
           "#19d3f3",
           "#FF6692",
           "#B6E880",
           "#FF97FF",
           "#FECB52"
          ],
          "font": {
           "color": "#2a3f5f"
          },
          "geo": {
           "bgcolor": "white",
           "lakecolor": "white",
           "landcolor": "#E5ECF6",
           "showlakes": true,
           "showland": true,
           "subunitcolor": "white"
          },
          "hoverlabel": {
           "align": "left"
          },
          "hovermode": "closest",
          "mapbox": {
           "style": "light"
          },
          "paper_bgcolor": "white",
          "plot_bgcolor": "#E5ECF6",
          "polar": {
           "angularaxis": {
            "gridcolor": "white",
            "linecolor": "white",
            "ticks": ""
           },
           "bgcolor": "#E5ECF6",
           "radialaxis": {
            "gridcolor": "white",
            "linecolor": "white",
            "ticks": ""
           }
          },
          "scene": {
           "xaxis": {
            "backgroundcolor": "#E5ECF6",
            "gridcolor": "white",
            "gridwidth": 2,
            "linecolor": "white",
            "showbackground": true,
            "ticks": "",
            "zerolinecolor": "white"
           },
           "yaxis": {
            "backgroundcolor": "#E5ECF6",
            "gridcolor": "white",
            "gridwidth": 2,
            "linecolor": "white",
            "showbackground": true,
            "ticks": "",
            "zerolinecolor": "white"
           },
           "zaxis": {
            "backgroundcolor": "#E5ECF6",
            "gridcolor": "white",
            "gridwidth": 2,
            "linecolor": "white",
            "showbackground": true,
            "ticks": "",
            "zerolinecolor": "white"
           }
          },
          "shapedefaults": {
           "line": {
            "color": "#2a3f5f"
           }
          },
          "ternary": {
           "aaxis": {
            "gridcolor": "white",
            "linecolor": "white",
            "ticks": ""
           },
           "baxis": {
            "gridcolor": "white",
            "linecolor": "white",
            "ticks": ""
           },
           "bgcolor": "#E5ECF6",
           "caxis": {
            "gridcolor": "white",
            "linecolor": "white",
            "ticks": ""
           }
          },
          "title": {
           "x": 0.05
          },
          "xaxis": {
           "automargin": true,
           "gridcolor": "white",
           "linecolor": "white",
           "ticks": "",
           "title": {
            "standoff": 15
           },
           "zerolinecolor": "white",
           "zerolinewidth": 2
          },
          "yaxis": {
           "automargin": true,
           "gridcolor": "white",
           "linecolor": "white",
           "ticks": "",
           "title": {
            "standoff": 15
           },
           "zerolinecolor": "white",
           "zerolinewidth": 2
          }
         }
        },
        "title": {
         "text": "Sector Analysis for past 20 days."
        },
        "xaxis": {
         "anchor": "y",
         "domain": [
          0,
          0.42
         ],
         "showgrid": true,
         "showline": false,
         "showticklabels": true,
         "zeroline": false
        },
        "xaxis2": {
         "anchor": "y2",
         "domain": [
          0.47,
          1
         ],
         "dtick": 25000,
         "showgrid": true,
         "showline": false,
         "showticklabels": true,
         "zeroline": false
        },
        "yaxis": {
         "anchor": "x",
         "domain": [
          0,
          0.85
         ],
         "showgrid": false,
         "showline": false,
         "showticklabels": true
        },
        "yaxis2": {
         "anchor": "x2",
         "domain": [
          0,
          0.85
         ],
         "linecolor": "rgba(102, 102, 102, 0.8)",
         "linewidth": 2,
         "showgrid": false,
         "showline": true,
         "showticklabels": false
        }
       }
      },
      "text/html": [
       "<div>                            <div id=\"932ad4f7-47bf-42fc-88a1-e312757d4cdb\" class=\"plotly-graph-div\" style=\"height:525px; width:100%;\"></div>            <script type=\"text/javascript\">                require([\"plotly\"], function(Plotly) {                    window.PLOTLYENV=window.PLOTLYENV || {};                                    if (document.getElementById(\"932ad4f7-47bf-42fc-88a1-e312757d4cdb\")) {                    Plotly.newPlot(                        \"932ad4f7-47bf-42fc-88a1-e312757d4cdb\",                        [{\"marker\":{\"color\":\"rgba(50, 171, 96, 0.6)\",\"line\":{\"color\":\"rgba(50, 171, 96, 1.0)\",\"width\":1}},\"name\":\"Sector proportion in S&P 500.\",\"orientation\":\"h\",\"type\":\"bar\",\"x\":[21,27,70,37,20,69,64,69,30,71,29],\"xaxis\":\"x\",\"y\":[\"Basic Materials\",\"Communication Services\",\"Consumer Cyclical\",\"Consumer Defensive\",\"Energy\",\"Financial Services\",\"Healthcare\",\"Industrials\",\"Real Estate\",\"Technology\",\"Utilities\"],\"yaxis\":\"y\"},{\"line\":{\"color\":\"rgb(128, 0, 128)\"},\"mode\":\"lines+markers\",\"name\":\"The number of tickers increased stock prices.\",\"type\":\"scatter\",\"x\":[28.6,7.4,38.6,56.8,75.0,18.8,6.2,31.9,13.3,15.5,0.0],\"xaxis\":\"x2\",\"y\":[\"Basic Materials\",\"Communication Services\",\"Consumer Cyclical\",\"Consumer Defensive\",\"Energy\",\"Financial Services\",\"Healthcare\",\"Industrials\",\"Real Estate\",\"Technology\",\"Utilities\"],\"yaxis\":\"y2\"}],                        {\"annotations\":[{\"font\":{\"color\":\"rgb(50, 171, 96)\",\"family\":\"Arial\",\"size\":12},\"showarrow\":false,\"text\":\"4.14%\",\"x\":31,\"xref\":\"x\",\"y\":\"Basic Materials\",\"yref\":\"y\"},{\"font\":{\"color\":\"rgb(50, 171, 96)\",\"family\":\"Arial\",\"size\":12},\"showarrow\":false,\"text\":\"5.33%\",\"x\":37,\"xref\":\"x\",\"y\":\"Communication Services\",\"yref\":\"y\"},{\"font\":{\"color\":\"rgb(50, 171, 96)\",\"family\":\"Arial\",\"size\":12},\"showarrow\":false,\"text\":\"13.81%\",\"x\":80,\"xref\":\"x\",\"y\":\"Consumer Cyclical\",\"yref\":\"y\"},{\"font\":{\"color\":\"rgb(50, 171, 96)\",\"family\":\"Arial\",\"size\":12},\"showarrow\":false,\"text\":\"7.3%\",\"x\":47,\"xref\":\"x\",\"y\":\"Consumer Defensive\",\"yref\":\"y\"},{\"font\":{\"color\":\"rgb(50, 171, 96)\",\"family\":\"Arial\",\"size\":12},\"showarrow\":false,\"text\":\"3.94%\",\"x\":30,\"xref\":\"x\",\"y\":\"Energy\",\"yref\":\"y\"},{\"font\":{\"color\":\"rgb(50, 171, 96)\",\"family\":\"Arial\",\"size\":12},\"showarrow\":false,\"text\":\"13.61%\",\"x\":79,\"xref\":\"x\",\"y\":\"Financial Services\",\"yref\":\"y\"},{\"font\":{\"color\":\"rgb(50, 171, 96)\",\"family\":\"Arial\",\"size\":12},\"showarrow\":false,\"text\":\"12.62%\",\"x\":74,\"xref\":\"x\",\"y\":\"Healthcare\",\"yref\":\"y\"},{\"font\":{\"color\":\"rgb(50, 171, 96)\",\"family\":\"Arial\",\"size\":12},\"showarrow\":false,\"text\":\"13.61%\",\"x\":79,\"xref\":\"x\",\"y\":\"Industrials\",\"yref\":\"y\"},{\"font\":{\"color\":\"rgb(50, 171, 96)\",\"family\":\"Arial\",\"size\":12},\"showarrow\":false,\"text\":\"5.92%\",\"x\":40,\"xref\":\"x\",\"y\":\"Real Estate\",\"yref\":\"y\"},{\"font\":{\"color\":\"rgb(50, 171, 96)\",\"family\":\"Arial\",\"size\":12},\"showarrow\":false,\"text\":\"14.0%\",\"x\":81,\"xref\":\"x\",\"y\":\"Technology\",\"yref\":\"y\"},{\"font\":{\"color\":\"rgb(50, 171, 96)\",\"family\":\"Arial\",\"size\":12},\"showarrow\":false,\"text\":\"5.72%\",\"x\":39,\"xref\":\"x\",\"y\":\"Utilities\",\"yref\":\"y\"},{\"font\":{\"color\":\"rgb(150,150,150)\",\"family\":\"Arial\",\"size\":10},\"showarrow\":false,\"text\":\"yfinance S&P 500 data\",\"x\":-0.2,\"xref\":\"paper\",\"y\":-0.109,\"yref\":\"paper\"}],\"legend\":{\"font\":{\"size\":10},\"x\":0.029,\"y\":1.038},\"margin\":{\"b\":70,\"l\":100,\"r\":20,\"t\":70},\"paper_bgcolor\":\"rgb(248, 248, 255)\",\"plot_bgcolor\":\"rgb(248, 248, 255)\",\"template\":{\"data\":{\"bar\":[{\"error_x\":{\"color\":\"#2a3f5f\"},\"error_y\":{\"color\":\"#2a3f5f\"},\"marker\":{\"line\":{\"color\":\"#E5ECF6\",\"width\":0.5},\"pattern\":{\"fillmode\":\"overlay\",\"size\":10,\"solidity\":0.2}},\"type\":\"bar\"}],\"barpolar\":[{\"marker\":{\"line\":{\"color\":\"#E5ECF6\",\"width\":0.5},\"pattern\":{\"fillmode\":\"overlay\",\"size\":10,\"solidity\":0.2}},\"type\":\"barpolar\"}],\"carpet\":[{\"aaxis\":{\"endlinecolor\":\"#2a3f5f\",\"gridcolor\":\"white\",\"linecolor\":\"white\",\"minorgridcolor\":\"white\",\"startlinecolor\":\"#2a3f5f\"},\"baxis\":{\"endlinecolor\":\"#2a3f5f\",\"gridcolor\":\"white\",\"linecolor\":\"white\",\"minorgridcolor\":\"white\",\"startlinecolor\":\"#2a3f5f\"},\"type\":\"carpet\"}],\"choropleth\":[{\"colorbar\":{\"outlinewidth\":0,\"ticks\":\"\"},\"type\":\"choropleth\"}],\"contour\":[{\"colorbar\":{\"outlinewidth\":0,\"ticks\":\"\"},\"colorscale\":[[0.0,\"#0d0887\"],[0.1111111111111111,\"#46039f\"],[0.2222222222222222,\"#7201a8\"],[0.3333333333333333,\"#9c179e\"],[0.4444444444444444,\"#bd3786\"],[0.5555555555555556,\"#d8576b\"],[0.6666666666666666,\"#ed7953\"],[0.7777777777777778,\"#fb9f3a\"],[0.8888888888888888,\"#fdca26\"],[1.0,\"#f0f921\"]],\"type\":\"contour\"}],\"contourcarpet\":[{\"colorbar\":{\"outlinewidth\":0,\"ticks\":\"\"},\"type\":\"contourcarpet\"}],\"heatmap\":[{\"colorbar\":{\"outlinewidth\":0,\"ticks\":\"\"},\"colorscale\":[[0.0,\"#0d0887\"],[0.1111111111111111,\"#46039f\"],[0.2222222222222222,\"#7201a8\"],[0.3333333333333333,\"#9c179e\"],[0.4444444444444444,\"#bd3786\"],[0.5555555555555556,\"#d8576b\"],[0.6666666666666666,\"#ed7953\"],[0.7777777777777778,\"#fb9f3a\"],[0.8888888888888888,\"#fdca26\"],[1.0,\"#f0f921\"]],\"type\":\"heatmap\"}],\"heatmapgl\":[{\"colorbar\":{\"outlinewidth\":0,\"ticks\":\"\"},\"colorscale\":[[0.0,\"#0d0887\"],[0.1111111111111111,\"#46039f\"],[0.2222222222222222,\"#7201a8\"],[0.3333333333333333,\"#9c179e\"],[0.4444444444444444,\"#bd3786\"],[0.5555555555555556,\"#d8576b\"],[0.6666666666666666,\"#ed7953\"],[0.7777777777777778,\"#fb9f3a\"],[0.8888888888888888,\"#fdca26\"],[1.0,\"#f0f921\"]],\"type\":\"heatmapgl\"}],\"histogram\":[{\"marker\":{\"pattern\":{\"fillmode\":\"overlay\",\"size\":10,\"solidity\":0.2}},\"type\":\"histogram\"}],\"histogram2d\":[{\"colorbar\":{\"outlinewidth\":0,\"ticks\":\"\"},\"colorscale\":[[0.0,\"#0d0887\"],[0.1111111111111111,\"#46039f\"],[0.2222222222222222,\"#7201a8\"],[0.3333333333333333,\"#9c179e\"],[0.4444444444444444,\"#bd3786\"],[0.5555555555555556,\"#d8576b\"],[0.6666666666666666,\"#ed7953\"],[0.7777777777777778,\"#fb9f3a\"],[0.8888888888888888,\"#fdca26\"],[1.0,\"#f0f921\"]],\"type\":\"histogram2d\"}],\"histogram2dcontour\":[{\"colorbar\":{\"outlinewidth\":0,\"ticks\":\"\"},\"colorscale\":[[0.0,\"#0d0887\"],[0.1111111111111111,\"#46039f\"],[0.2222222222222222,\"#7201a8\"],[0.3333333333333333,\"#9c179e\"],[0.4444444444444444,\"#bd3786\"],[0.5555555555555556,\"#d8576b\"],[0.6666666666666666,\"#ed7953\"],[0.7777777777777778,\"#fb9f3a\"],[0.8888888888888888,\"#fdca26\"],[1.0,\"#f0f921\"]],\"type\":\"histogram2dcontour\"}],\"mesh3d\":[{\"colorbar\":{\"outlinewidth\":0,\"ticks\":\"\"},\"type\":\"mesh3d\"}],\"parcoords\":[{\"line\":{\"colorbar\":{\"outlinewidth\":0,\"ticks\":\"\"}},\"type\":\"parcoords\"}],\"pie\":[{\"automargin\":true,\"type\":\"pie\"}],\"scatter\":[{\"marker\":{\"colorbar\":{\"outlinewidth\":0,\"ticks\":\"\"}},\"type\":\"scatter\"}],\"scatter3d\":[{\"line\":{\"colorbar\":{\"outlinewidth\":0,\"ticks\":\"\"}},\"marker\":{\"colorbar\":{\"outlinewidth\":0,\"ticks\":\"\"}},\"type\":\"scatter3d\"}],\"scattercarpet\":[{\"marker\":{\"colorbar\":{\"outlinewidth\":0,\"ticks\":\"\"}},\"type\":\"scattercarpet\"}],\"scattergeo\":[{\"marker\":{\"colorbar\":{\"outlinewidth\":0,\"ticks\":\"\"}},\"type\":\"scattergeo\"}],\"scattergl\":[{\"marker\":{\"colorbar\":{\"outlinewidth\":0,\"ticks\":\"\"}},\"type\":\"scattergl\"}],\"scattermapbox\":[{\"marker\":{\"colorbar\":{\"outlinewidth\":0,\"ticks\":\"\"}},\"type\":\"scattermapbox\"}],\"scatterpolar\":[{\"marker\":{\"colorbar\":{\"outlinewidth\":0,\"ticks\":\"\"}},\"type\":\"scatterpolar\"}],\"scatterpolargl\":[{\"marker\":{\"colorbar\":{\"outlinewidth\":0,\"ticks\":\"\"}},\"type\":\"scatterpolargl\"}],\"scatterternary\":[{\"marker\":{\"colorbar\":{\"outlinewidth\":0,\"ticks\":\"\"}},\"type\":\"scatterternary\"}],\"surface\":[{\"colorbar\":{\"outlinewidth\":0,\"ticks\":\"\"},\"colorscale\":[[0.0,\"#0d0887\"],[0.1111111111111111,\"#46039f\"],[0.2222222222222222,\"#7201a8\"],[0.3333333333333333,\"#9c179e\"],[0.4444444444444444,\"#bd3786\"],[0.5555555555555556,\"#d8576b\"],[0.6666666666666666,\"#ed7953\"],[0.7777777777777778,\"#fb9f3a\"],[0.8888888888888888,\"#fdca26\"],[1.0,\"#f0f921\"]],\"type\":\"surface\"}],\"table\":[{\"cells\":{\"fill\":{\"color\":\"#EBF0F8\"},\"line\":{\"color\":\"white\"}},\"header\":{\"fill\":{\"color\":\"#C8D4E3\"},\"line\":{\"color\":\"white\"}},\"type\":\"table\"}]},\"layout\":{\"annotationdefaults\":{\"arrowcolor\":\"#2a3f5f\",\"arrowhead\":0,\"arrowwidth\":1},\"autotypenumbers\":\"strict\",\"coloraxis\":{\"colorbar\":{\"outlinewidth\":0,\"ticks\":\"\"}},\"colorscale\":{\"diverging\":[[0,\"#8e0152\"],[0.1,\"#c51b7d\"],[0.2,\"#de77ae\"],[0.3,\"#f1b6da\"],[0.4,\"#fde0ef\"],[0.5,\"#f7f7f7\"],[0.6,\"#e6f5d0\"],[0.7,\"#b8e186\"],[0.8,\"#7fbc41\"],[0.9,\"#4d9221\"],[1,\"#276419\"]],\"sequential\":[[0.0,\"#0d0887\"],[0.1111111111111111,\"#46039f\"],[0.2222222222222222,\"#7201a8\"],[0.3333333333333333,\"#9c179e\"],[0.4444444444444444,\"#bd3786\"],[0.5555555555555556,\"#d8576b\"],[0.6666666666666666,\"#ed7953\"],[0.7777777777777778,\"#fb9f3a\"],[0.8888888888888888,\"#fdca26\"],[1.0,\"#f0f921\"]],\"sequentialminus\":[[0.0,\"#0d0887\"],[0.1111111111111111,\"#46039f\"],[0.2222222222222222,\"#7201a8\"],[0.3333333333333333,\"#9c179e\"],[0.4444444444444444,\"#bd3786\"],[0.5555555555555556,\"#d8576b\"],[0.6666666666666666,\"#ed7953\"],[0.7777777777777778,\"#fb9f3a\"],[0.8888888888888888,\"#fdca26\"],[1.0,\"#f0f921\"]]},\"colorway\":[\"#636efa\",\"#EF553B\",\"#00cc96\",\"#ab63fa\",\"#FFA15A\",\"#19d3f3\",\"#FF6692\",\"#B6E880\",\"#FF97FF\",\"#FECB52\"],\"font\":{\"color\":\"#2a3f5f\"},\"geo\":{\"bgcolor\":\"white\",\"lakecolor\":\"white\",\"landcolor\":\"#E5ECF6\",\"showlakes\":true,\"showland\":true,\"subunitcolor\":\"white\"},\"hoverlabel\":{\"align\":\"left\"},\"hovermode\":\"closest\",\"mapbox\":{\"style\":\"light\"},\"paper_bgcolor\":\"white\",\"plot_bgcolor\":\"#E5ECF6\",\"polar\":{\"angularaxis\":{\"gridcolor\":\"white\",\"linecolor\":\"white\",\"ticks\":\"\"},\"bgcolor\":\"#E5ECF6\",\"radialaxis\":{\"gridcolor\":\"white\",\"linecolor\":\"white\",\"ticks\":\"\"}},\"scene\":{\"xaxis\":{\"backgroundcolor\":\"#E5ECF6\",\"gridcolor\":\"white\",\"gridwidth\":2,\"linecolor\":\"white\",\"showbackground\":true,\"ticks\":\"\",\"zerolinecolor\":\"white\"},\"yaxis\":{\"backgroundcolor\":\"#E5ECF6\",\"gridcolor\":\"white\",\"gridwidth\":2,\"linecolor\":\"white\",\"showbackground\":true,\"ticks\":\"\",\"zerolinecolor\":\"white\"},\"zaxis\":{\"backgroundcolor\":\"#E5ECF6\",\"gridcolor\":\"white\",\"gridwidth\":2,\"linecolor\":\"white\",\"showbackground\":true,\"ticks\":\"\",\"zerolinecolor\":\"white\"}},\"shapedefaults\":{\"line\":{\"color\":\"#2a3f5f\"}},\"ternary\":{\"aaxis\":{\"gridcolor\":\"white\",\"linecolor\":\"white\",\"ticks\":\"\"},\"baxis\":{\"gridcolor\":\"white\",\"linecolor\":\"white\",\"ticks\":\"\"},\"bgcolor\":\"#E5ECF6\",\"caxis\":{\"gridcolor\":\"white\",\"linecolor\":\"white\",\"ticks\":\"\"}},\"title\":{\"x\":0.05},\"xaxis\":{\"automargin\":true,\"gridcolor\":\"white\",\"linecolor\":\"white\",\"ticks\":\"\",\"title\":{\"standoff\":15},\"zerolinecolor\":\"white\",\"zerolinewidth\":2},\"yaxis\":{\"automargin\":true,\"gridcolor\":\"white\",\"linecolor\":\"white\",\"ticks\":\"\",\"title\":{\"standoff\":15},\"zerolinecolor\":\"white\",\"zerolinewidth\":2}}},\"title\":{\"text\":\"Sector Analysis for past 20 days.\"},\"xaxis\":{\"anchor\":\"y\",\"domain\":[0,0.42],\"showgrid\":true,\"showline\":false,\"showticklabels\":true,\"zeroline\":false},\"xaxis2\":{\"anchor\":\"y2\",\"domain\":[0.47,1],\"dtick\":25000,\"showgrid\":true,\"showline\":false,\"showticklabels\":true,\"zeroline\":false},\"yaxis\":{\"anchor\":\"x\",\"domain\":[0,0.85],\"showgrid\":false,\"showline\":false,\"showticklabels\":true},\"yaxis2\":{\"anchor\":\"x2\",\"domain\":[0,0.85],\"linecolor\":\"rgba(102, 102, 102, 0.8)\",\"linewidth\":2,\"showgrid\":false,\"showline\":true,\"showticklabels\":false}},                        {\"responsive\": true}                    ).then(function(){\n",
       "                            \n",
       "var gd = document.getElementById('932ad4f7-47bf-42fc-88a1-e312757d4cdb');\n",
       "var x = new MutationObserver(function (mutations, observer) {{\n",
       "        var display = window.getComputedStyle(gd).display;\n",
       "        if (!display || display === 'none') {{\n",
       "            console.log([gd, 'removed!']);\n",
       "            Plotly.purge(gd);\n",
       "            observer.disconnect();\n",
       "        }}\n",
       "}});\n",
       "\n",
       "// Listen for the removal of the full notebook cells\n",
       "var notebookContainer = gd.closest('#notebook-container');\n",
       "if (notebookContainer) {{\n",
       "    x.observe(notebookContainer, {childList: true});\n",
       "}}\n",
       "\n",
       "// Listen for the clearing of the current output cell\n",
       "var outputEl = gd.closest('.output');\n",
       "if (outputEl) {{\n",
       "    x.observe(outputEl, {childList: true});\n",
       "}}\n",
       "\n",
       "                        })                };                });            </script>        </div>"
      ]
     },
     "metadata": {},
     "output_type": "display_data"
    }
   ],
   "source": [
    "df_final_analysis[\"p_perc\"] = round(df_final_analysis[\"diff_close_positive\"]/df_final_analysis[\"total\"]*100, 1)\n",
    "df_final_analysis[\"n_perc\"] = round(df_final_analysis[\"diff_close_negative\"]/df_final_analysis[\"total\"]*100, 1)\n",
    "\n",
    "\n",
    "# Creating two subplots\n",
    "fig = make_subplots(rows=1, cols=2, specs=[[{}, {}]], shared_xaxes=True,\n",
    "                    shared_yaxes=False, vertical_spacing=0.001)\n",
    "\n",
    "fig.append_trace(go.Bar(\n",
    "    x=df_final_analysis.total,\n",
    "    y=df_final_analysis.sector,\n",
    "    marker=dict(\n",
    "        color='rgba(50, 171, 96, 0.6)',\n",
    "        line=dict(\n",
    "            color='rgba(50, 171, 96, 1.0)',\n",
    "            width=1),\n",
    "    ),\n",
    "    name=f'Sector proportion in S&P 500.',\n",
    "    orientation='h',\n",
    "), 1, 1)\n",
    "\n",
    "# x_data = df_final_analysis[[\"p_perc\", \"n_perc\"]].values.tolist()\n",
    "# y_data = df_final_analysis[\"sector\"].tolist()\n",
    "\n",
    "\n",
    "\n",
    "fig.append_trace(go.Scatter(\n",
    "    x=df_final_analysis.p_perc, \n",
    "    y=df_final_analysis.sector,\n",
    "    mode='lines+markers',\n",
    "    line_color='rgb(128, 0, 128)',\n",
    "    name=f'The number of tickers increased stock prices.',\n",
    "), 1, 2)\n",
    "\n",
    "\n",
    "fig.update_layout(\n",
    "    title=f'Sector Analysis for past {sector_period} days.',\n",
    "    yaxis=dict(\n",
    "        showgrid=False,\n",
    "        showline=False,\n",
    "        showticklabels=True,\n",
    "        domain=[0, 0.85],\n",
    "    ),\n",
    "    yaxis2=dict(\n",
    "        showgrid=False,\n",
    "        showline=True,\n",
    "        showticklabels=False,\n",
    "        linecolor='rgba(102, 102, 102, 0.8)',\n",
    "        linewidth=2,\n",
    "        domain=[0, 0.85],\n",
    "    ),\n",
    "    xaxis=dict(\n",
    "        zeroline=False,\n",
    "        showline=False,\n",
    "        showticklabels=True,\n",
    "        showgrid=True,\n",
    "        domain=[0, 0.42],\n",
    "    ),\n",
    "    xaxis2=dict(\n",
    "        zeroline=False,\n",
    "        showline=False,\n",
    "        showticklabels=True,\n",
    "        showgrid=True,\n",
    "        domain=[0.47, 1],\n",
    "#         side='top',\n",
    "        dtick=25000,\n",
    "    ),\n",
    "    legend=dict(x=0.029, y=1.038, font_size=10),\n",
    "    margin=dict(l=100, r=20, t=70, b=70),\n",
    "    paper_bgcolor='rgb(248, 248, 255)',\n",
    "    plot_bgcolor='rgb(248, 248, 255)',\n",
    ")\n",
    "annotations = []\n",
    "\n",
    "total_list = total_list\n",
    "total_prop = round(total_list/sum(total_list)*100, 2)\n",
    "sector_list = df_final_analysis.sector\n",
    "\n",
    "# Adding labels\n",
    "for totald, yd, xd in zip(total_list, total_prop, sector_list):\n",
    "    # labeling the bar \n",
    "    annotations.append(dict(xref='x1', yref='y1',\n",
    "                            y=xd, x=totald + 10,\n",
    "                            text=str(yd) + '%',\n",
    "                            font=dict(family='Arial', size=12,\n",
    "                                      color='rgb(50, 171, 96)'),\n",
    "                            showarrow=False))\n",
    "\n",
    "# Source\n",
    "annotations.append(dict(xref='paper', yref='paper',\n",
    "                        x=-0.2, y=-0.109,\n",
    "                        text='yfinance S&P 500 data',\n",
    "                        font=dict(family='Arial', size=10, color='rgb(150,150,150)'),\n",
    "                        showarrow=False))\n",
    "\n",
    "fig.update_layout(annotations=annotations)\n",
    "fig.show()"
   ]
  },
  {
   "cell_type": "code",
   "execution_count": null,
   "id": "0d430133",
   "metadata": {},
   "outputs": [],
   "source": []
  },
  {
   "cell_type": "code",
   "execution_count": null,
   "id": "3ed9cdb8",
   "metadata": {},
   "outputs": [],
   "source": []
  },
  {
   "cell_type": "code",
   "execution_count": null,
   "id": "45c2066e",
   "metadata": {},
   "outputs": [],
   "source": []
  },
  {
   "cell_type": "code",
   "execution_count": 118,
   "id": "9d965338",
   "metadata": {},
   "outputs": [],
   "source": [
    "input_dict = {}\n",
    "input_dict[\"risk\"] = [1, 2, 3]\n",
    "input_dict[\"period\"] = [\"less than 6 months\"]"
   ]
  },
  {
   "cell_type": "code",
   "execution_count": 119,
   "id": "06ff7b32",
   "metadata": {},
   "outputs": [],
   "source": [
    "input_sectors = [\"Basic Materials\"] # need to filter row-wise \n",
    "input_risk = [3] # aggresive (fluctuate)"
   ]
  },
  {
   "cell_type": "code",
   "execution_count": 120,
   "id": "d954a614",
   "metadata": {},
   "outputs": [],
   "source": [
    "def pct_rank_qcut(series, n):\n",
    "    edges = pd.Series([float(i) / n for i in range(n + 1)])\n",
    "    f = lambda x: (edges >= x).values.argmax()\n",
    "    return series.rank(pct=1).apply(f)"
   ]
  },
  {
   "cell_type": "code",
   "execution_count": 121,
   "id": "ebb01385",
   "metadata": {},
   "outputs": [
    {
     "name": "stdout",
     "output_type": "stream",
     "text": [
      "6\n"
     ]
    },
    {
     "name": "stderr",
     "output_type": "stream",
     "text": [
      "/var/folders/bj/vyhj_k290_97p48w_81tkhfc0000gp/T/ipykernel_93810/282457499.py:15: SettingWithCopyWarning: \n",
      "A value is trying to be set on a copy of a slice from a DataFrame.\n",
      "Try using .loc[row_indexer,col_indexer] = value instead\n",
      "\n",
      "See the caveats in the documentation: https://pandas.pydata.org/pandas-docs/stable/user_guide/indexing.html#returning-a-view-versus-a-copy\n",
      "  df_temp[\"cutoff_bin\"]= pct_rank_qcut(df_temp[\"cutoff_60\"], 3)\n",
      "/var/folders/bj/vyhj_k290_97p48w_81tkhfc0000gp/T/ipykernel_93810/282457499.py:16: SettingWithCopyWarning: \n",
      "A value is trying to be set on a copy of a slice from a DataFrame.\n",
      "Try using .loc[row_indexer,col_indexer] = value instead\n",
      "\n",
      "See the caveats in the documentation: https://pandas.pydata.org/pandas-docs/stable/user_guide/indexing.html#returning-a-view-versus-a-copy\n",
      "  df_temp[\"cutoff_skew\"] = df_temp[\"skew_60\"]\n"
     ]
    }
   ],
   "source": [
    "df_temp = df_final[df_final[\"sector\"].isin(input_sectors)]\n",
    "\n",
    "# filter by timeframe (period)\n",
    "if input_dict[\"period\"][0] == \"less than 3 months\":\n",
    "    print('3')\n",
    "#     df_temp[\"cutoff_bin\"] = pd.qcut(df_temp[\"cutoff_1\"], \n",
    "#                                   3, labels=[1, 2, 3], duplicates='drop')\n",
    "    df_temp[\"cutoff_bin\"] = pct_rank_qcut(df_temp[\"cutoff_1\"], 3)\n",
    "    df_temp[\"cutoff_skew\"] = df_temp[\"skew_1\"]\n",
    "\n",
    "elif input_dict[\"period\"][0] == \"less than 6 months\": \n",
    "    print('6')\n",
    "#     df_temp[\"cutoff_bin\"] = pd.qcut(df_temp[\"cutoff_60\"], \n",
    "#                                    3, labels=[1, 2, 3], duplicates='drop')\n",
    "    df_temp[\"cutoff_bin\"]= pct_rank_qcut(df_temp[\"cutoff_60\"], 3)\n",
    "    df_temp[\"cutoff_skew\"] = df_temp[\"skew_60\"]\n",
    "\n",
    "elif input_dict[\"period\"][0] == \"more than 6 months\":  \n",
    "    print('6 이상')\n",
    "#     df_temp[\"cutoff_bin\"] = pd.qcut(df_temp[\"cutoff_120\"], \n",
    "#                                        3, labels=[1, 2, 3], duplicates='drop')\n",
    "    df_temp[\"cutoff_bin\"] = pct_rank_qcut(df_temp[\"cutoff_120\"], 3)\n",
    "    df_temp[\"cutoff_skew\"] = df_temp[\"skew_120\"]"
   ]
  },
  {
   "cell_type": "code",
   "execution_count": 122,
   "id": "41fe2c3d",
   "metadata": {},
   "outputs": [
    {
     "data": {
      "text/html": [
       "<div>\n",
       "<style scoped>\n",
       "    .dataframe tbody tr th:only-of-type {\n",
       "        vertical-align: middle;\n",
       "    }\n",
       "\n",
       "    .dataframe tbody tr th {\n",
       "        vertical-align: top;\n",
       "    }\n",
       "\n",
       "    .dataframe thead th {\n",
       "        text-align: right;\n",
       "    }\n",
       "</style>\n",
       "<table border=\"1\" class=\"dataframe\">\n",
       "  <thead>\n",
       "    <tr style=\"text-align: right;\">\n",
       "      <th></th>\n",
       "      <th>ticker</th>\n",
       "      <th>close_price</th>\n",
       "      <th>day_1</th>\n",
       "      <th>day_5</th>\n",
       "      <th>df_size</th>\n",
       "      <th>skew_1</th>\n",
       "      <th>skew_60</th>\n",
       "      <th>skew_120</th>\n",
       "      <th>cutoff_1</th>\n",
       "      <th>cutoff_60</th>\n",
       "      <th>cutoff_120</th>\n",
       "      <th>created_date</th>\n",
       "      <th>longName</th>\n",
       "      <th>industry</th>\n",
       "      <th>sector</th>\n",
       "      <th>url</th>\n",
       "      <th>cutoff_bin</th>\n",
       "      <th>cutoff_skew</th>\n",
       "    </tr>\n",
       "  </thead>\n",
       "  <tbody>\n",
       "    <tr>\n",
       "      <th>364</th>\n",
       "      <td>NUE</td>\n",
       "      <td>140.820007</td>\n",
       "      <td>140.33565837079288</td>\n",
       "      <td>140.46116712792363</td>\n",
       "      <td>1642.0</td>\n",
       "      <td>-0.630978</td>\n",
       "      <td>0.592035</td>\n",
       "      <td>0.153755</td>\n",
       "      <td>21.666667</td>\n",
       "      <td>6.5</td>\n",
       "      <td>17.5</td>\n",
       "      <td>20220506.0</td>\n",
       "      <td>Nucor Corporation</td>\n",
       "      <td>Steel</td>\n",
       "      <td>Basic Materials</td>\n",
       "      <td>https://www.nucor.com</td>\n",
       "      <td>2</td>\n",
       "      <td>0.592035</td>\n",
       "    </tr>\n",
       "    <tr>\n",
       "      <th>467</th>\n",
       "      <td>DOW</td>\n",
       "      <td>68.470001</td>\n",
       "      <td>68.47000122070312</td>\n",
       "      <td>68.47000122070312</td>\n",
       "      <td>670.0</td>\n",
       "      <td>0.432054</td>\n",
       "      <td>0.500925</td>\n",
       "      <td>0.069097</td>\n",
       "      <td>1.666667</td>\n",
       "      <td>0.0</td>\n",
       "      <td>0.0</td>\n",
       "      <td>20220506.0</td>\n",
       "      <td>Dow Inc.</td>\n",
       "      <td>Chemicals</td>\n",
       "      <td>Basic Materials</td>\n",
       "      <td>https://www.dow.com</td>\n",
       "      <td>1</td>\n",
       "      <td>0.500925</td>\n",
       "    </tr>\n",
       "    <tr>\n",
       "      <th>245</th>\n",
       "      <td>EMN</td>\n",
       "      <td>105.669998</td>\n",
       "      <td>105.66999816894531</td>\n",
       "      <td>105.66999816894531</td>\n",
       "      <td>1642.0</td>\n",
       "      <td>-1.094688</td>\n",
       "      <td>0.484444</td>\n",
       "      <td>-0.490101</td>\n",
       "      <td>6.666667</td>\n",
       "      <td>0.0</td>\n",
       "      <td>0.0</td>\n",
       "      <td>20220506.0</td>\n",
       "      <td>Eastman Chemical Company</td>\n",
       "      <td>Chemicals</td>\n",
       "      <td>Basic Materials</td>\n",
       "      <td>https://www.eastman.com</td>\n",
       "      <td>1</td>\n",
       "      <td>0.484444</td>\n",
       "    </tr>\n",
       "    <tr>\n",
       "      <th>13</th>\n",
       "      <td>DD</td>\n",
       "      <td>66.139999</td>\n",
       "      <td>66.13999938964844</td>\n",
       "      <td>66.13999938964844</td>\n",
       "      <td>1642.0</td>\n",
       "      <td>-0.303200</td>\n",
       "      <td>0.292808</td>\n",
       "      <td>-0.270844</td>\n",
       "      <td>13.333333</td>\n",
       "      <td>0.0</td>\n",
       "      <td>0.0</td>\n",
       "      <td>20220506.0</td>\n",
       "      <td>DuPont de Nemours, Inc.</td>\n",
       "      <td>Specialty Chemicals</td>\n",
       "      <td>Basic Materials</td>\n",
       "      <td>https://www.dupont.com</td>\n",
       "      <td>1</td>\n",
       "      <td>0.292808</td>\n",
       "    </tr>\n",
       "    <tr>\n",
       "      <th>337</th>\n",
       "      <td>LYB</td>\n",
       "      <td>111.430000</td>\n",
       "      <td>111.43000030517578</td>\n",
       "      <td>111.43000030517578</td>\n",
       "      <td>1642.0</td>\n",
       "      <td>-0.291975</td>\n",
       "      <td>0.269740</td>\n",
       "      <td>-0.082601</td>\n",
       "      <td>13.333333</td>\n",
       "      <td>0.0</td>\n",
       "      <td>0.0</td>\n",
       "      <td>20220506.0</td>\n",
       "      <td>LyondellBasell Industries N.V.</td>\n",
       "      <td>Specialty Chemicals</td>\n",
       "      <td>Basic Materials</td>\n",
       "      <td>https://www.lyondellbasell.com</td>\n",
       "      <td>1</td>\n",
       "      <td>0.269740</td>\n",
       "    </tr>\n",
       "    <tr>\n",
       "      <th>439</th>\n",
       "      <td>VMC</td>\n",
       "      <td>177.080002</td>\n",
       "      <td>177.09701352741115</td>\n",
       "      <td>177.15019014615146</td>\n",
       "      <td>1642.0</td>\n",
       "      <td>-0.262466</td>\n",
       "      <td>0.185515</td>\n",
       "      <td>-0.307576</td>\n",
       "      <td>10.000000</td>\n",
       "      <td>0.0</td>\n",
       "      <td>0.0</td>\n",
       "      <td>20220506.0</td>\n",
       "      <td>Vulcan Materials Company</td>\n",
       "      <td>Building Materials</td>\n",
       "      <td>Basic Materials</td>\n",
       "      <td>https://www.vulcanmaterials.com</td>\n",
       "      <td>1</td>\n",
       "      <td>0.185515</td>\n",
       "    </tr>\n",
       "    <tr>\n",
       "      <th>342</th>\n",
       "      <td>MLM</td>\n",
       "      <td>356.140015</td>\n",
       "      <td>356.81591980595834</td>\n",
       "      <td>356.9330808968398</td>\n",
       "      <td>1642.0</td>\n",
       "      <td>-0.312593</td>\n",
       "      <td>0.143873</td>\n",
       "      <td>-0.517160</td>\n",
       "      <td>15.000000</td>\n",
       "      <td>0.0</td>\n",
       "      <td>0.0</td>\n",
       "      <td>20220506.0</td>\n",
       "      <td>Martin Marietta Materials, Inc.</td>\n",
       "      <td>Building Materials</td>\n",
       "      <td>Basic Materials</td>\n",
       "      <td>https://www.martinmarietta.com</td>\n",
       "      <td>1</td>\n",
       "      <td>0.143873</td>\n",
       "    </tr>\n",
       "    <tr>\n",
       "      <th>350</th>\n",
       "      <td>MOS</td>\n",
       "      <td>64.730003</td>\n",
       "      <td>e</td>\n",
       "      <td>r</td>\n",
       "      <td>1638.0</td>\n",
       "      <td>0.055284</td>\n",
       "      <td>0.132080</td>\n",
       "      <td>0.374237</td>\n",
       "      <td>21.666667</td>\n",
       "      <td>14.0</td>\n",
       "      <td>3.0</td>\n",
       "      <td>20220506.0</td>\n",
       "      <td>The Mosaic Company</td>\n",
       "      <td>Agricultural Inputs</td>\n",
       "      <td>Basic Materials</td>\n",
       "      <td>https://www.mosaicco.com</td>\n",
       "      <td>3</td>\n",
       "      <td>0.132080</td>\n",
       "    </tr>\n",
       "    <tr>\n",
       "      <th>355</th>\n",
       "      <td>NEM</td>\n",
       "      <td>72.339996</td>\n",
       "      <td>e</td>\n",
       "      <td>r</td>\n",
       "      <td>1638.0</td>\n",
       "      <td>0.137256</td>\n",
       "      <td>-0.081291</td>\n",
       "      <td>0.169317</td>\n",
       "      <td>16.666667</td>\n",
       "      <td>6.5</td>\n",
       "      <td>5.5</td>\n",
       "      <td>20220506.0</td>\n",
       "      <td>Newmont Corporation</td>\n",
       "      <td>Gold</td>\n",
       "      <td>Basic Materials</td>\n",
       "      <td>https://www.newmont.com</td>\n",
       "      <td>2</td>\n",
       "      <td>-0.081291</td>\n",
       "    </tr>\n",
       "    <tr>\n",
       "      <th>158</th>\n",
       "      <td>APD</td>\n",
       "      <td>235.979996</td>\n",
       "      <td>237.09662538621586</td>\n",
       "      <td>235.75314968288254</td>\n",
       "      <td>1642.0</td>\n",
       "      <td>-0.299562</td>\n",
       "      <td>-0.083447</td>\n",
       "      <td>-0.743371</td>\n",
       "      <td>16.666667</td>\n",
       "      <td>27.5</td>\n",
       "      <td>18.5</td>\n",
       "      <td>20220506.0</td>\n",
       "      <td>Air Products and Chemicals, Inc.</td>\n",
       "      <td>Specialty Chemicals</td>\n",
       "      <td>Basic Materials</td>\n",
       "      <td>https://www.airproducts.com</td>\n",
       "      <td>3</td>\n",
       "      <td>-0.083447</td>\n",
       "    </tr>\n",
       "    <tr>\n",
       "      <th>307</th>\n",
       "      <td>IFF</td>\n",
       "      <td>122.750000</td>\n",
       "      <td>123.07145725989054</td>\n",
       "      <td>123.38930173436111</td>\n",
       "      <td>1642.0</td>\n",
       "      <td>-0.202947</td>\n",
       "      <td>-0.157770</td>\n",
       "      <td>-0.054698</td>\n",
       "      <td>18.333333</td>\n",
       "      <td>4.5</td>\n",
       "      <td>8.0</td>\n",
       "      <td>20220506.0</td>\n",
       "      <td>International Flavors &amp; Fragrances Inc.</td>\n",
       "      <td>Specialty Chemicals</td>\n",
       "      <td>Basic Materials</td>\n",
       "      <td>https://www.iff.com</td>\n",
       "      <td>2</td>\n",
       "      <td>-0.157770</td>\n",
       "    </tr>\n",
       "    <tr>\n",
       "      <th>457</th>\n",
       "      <td>CTVA</td>\n",
       "      <td>58.040001</td>\n",
       "      <td>58.040000915527344</td>\n",
       "      <td>58.040000915527344</td>\n",
       "      <td>624.0</td>\n",
       "      <td>-0.043378</td>\n",
       "      <td>-0.178724</td>\n",
       "      <td>0.172365</td>\n",
       "      <td>1.666667</td>\n",
       "      <td>2.0</td>\n",
       "      <td>0.0</td>\n",
       "      <td>20220506.0</td>\n",
       "      <td>Corteva, Inc.</td>\n",
       "      <td>Agricultural Inputs</td>\n",
       "      <td>Basic Materials</td>\n",
       "      <td>https://www.corteva.com</td>\n",
       "      <td>2</td>\n",
       "      <td>-0.178724</td>\n",
       "    </tr>\n",
       "    <tr>\n",
       "      <th>376</th>\n",
       "      <td>PPG</td>\n",
       "      <td>131.570007</td>\n",
       "      <td>131.63111340088918</td>\n",
       "      <td>131.4200302468213</td>\n",
       "      <td>1642.0</td>\n",
       "      <td>-0.423911</td>\n",
       "      <td>-0.214081</td>\n",
       "      <td>0.473426</td>\n",
       "      <td>20.000000</td>\n",
       "      <td>16.0</td>\n",
       "      <td>7.0</td>\n",
       "      <td>20220506.0</td>\n",
       "      <td>PPG Industries, Inc.</td>\n",
       "      <td>Specialty Chemicals</td>\n",
       "      <td>Basic Materials</td>\n",
       "      <td>https://www.ppg.com</td>\n",
       "      <td>3</td>\n",
       "      <td>-0.214081</td>\n",
       "    </tr>\n",
       "    <tr>\n",
       "      <th>205</th>\n",
       "      <td>CE</td>\n",
       "      <td>151.550003</td>\n",
       "      <td>151.71770755241596</td>\n",
       "      <td>151.71172063816542</td>\n",
       "      <td>1642.0</td>\n",
       "      <td>-0.204278</td>\n",
       "      <td>-0.354135</td>\n",
       "      <td>-0.078821</td>\n",
       "      <td>13.333333</td>\n",
       "      <td>0.0</td>\n",
       "      <td>0.0</td>\n",
       "      <td>20220506.0</td>\n",
       "      <td>Celanese Corporation</td>\n",
       "      <td>Chemicals</td>\n",
       "      <td>Basic Materials</td>\n",
       "      <td>https://www.celanese.com</td>\n",
       "      <td>1</td>\n",
       "      <td>-0.354135</td>\n",
       "    </tr>\n",
       "    <tr>\n",
       "      <th>276</th>\n",
       "      <td>FCX</td>\n",
       "      <td>39.639999</td>\n",
       "      <td>39.54191917246681</td>\n",
       "      <td>39.53576033331692</td>\n",
       "      <td>1642.0</td>\n",
       "      <td>-0.510777</td>\n",
       "      <td>-0.459280</td>\n",
       "      <td>0.244966</td>\n",
       "      <td>6.666667</td>\n",
       "      <td>0.0</td>\n",
       "      <td>0.0</td>\n",
       "      <td>20220506.0</td>\n",
       "      <td>Freeport-McMoRan Inc.</td>\n",
       "      <td>Copper</td>\n",
       "      <td>Basic Materials</td>\n",
       "      <td>https://fcx.com</td>\n",
       "      <td>1</td>\n",
       "      <td>-0.459280</td>\n",
       "    </tr>\n",
       "    <tr>\n",
       "      <th>160</th>\n",
       "      <td>ALB</td>\n",
       "      <td>236.500000</td>\n",
       "      <td>237.10139799638986</td>\n",
       "      <td>236.47908379401926</td>\n",
       "      <td>1642.0</td>\n",
       "      <td>-1.572730</td>\n",
       "      <td>-0.550353</td>\n",
       "      <td>-0.673308</td>\n",
       "      <td>18.333333</td>\n",
       "      <td>12.5</td>\n",
       "      <td>3.0</td>\n",
       "      <td>20220506.0</td>\n",
       "      <td>Albemarle Corporation</td>\n",
       "      <td>Specialty Chemicals</td>\n",
       "      <td>Basic Materials</td>\n",
       "      <td>https://www.albemarle.com</td>\n",
       "      <td>3</td>\n",
       "      <td>-0.550353</td>\n",
       "    </tr>\n",
       "    <tr>\n",
       "      <th>268</th>\n",
       "      <td>FMC</td>\n",
       "      <td>118.540001</td>\n",
       "      <td>118.77453695851192</td>\n",
       "      <td>118.23754044885139</td>\n",
       "      <td>1642.0</td>\n",
       "      <td>-0.334871</td>\n",
       "      <td>-0.560707</td>\n",
       "      <td>0.285151</td>\n",
       "      <td>6.666667</td>\n",
       "      <td>11.5</td>\n",
       "      <td>13.0</td>\n",
       "      <td>20220506.0</td>\n",
       "      <td>FMC Corporation</td>\n",
       "      <td>Agricultural Inputs</td>\n",
       "      <td>Basic Materials</td>\n",
       "      <td>https://www.fmc.com</td>\n",
       "      <td>3</td>\n",
       "      <td>-0.560707</td>\n",
       "    </tr>\n",
       "    <tr>\n",
       "      <th>209</th>\n",
       "      <td>CF</td>\n",
       "      <td>100.290001</td>\n",
       "      <td>100.29000091552734</td>\n",
       "      <td>100.29000091552734</td>\n",
       "      <td>1642.0</td>\n",
       "      <td>-0.535733</td>\n",
       "      <td>-0.725390</td>\n",
       "      <td>-0.123572</td>\n",
       "      <td>15.000000</td>\n",
       "      <td>7.0</td>\n",
       "      <td>4.0</td>\n",
       "      <td>20220506.0</td>\n",
       "      <td>CF Industries Holdings, Inc.</td>\n",
       "      <td>Agricultural Inputs</td>\n",
       "      <td>Basic Materials</td>\n",
       "      <td>https://www.cfindustries.com</td>\n",
       "      <td>2</td>\n",
       "      <td>-0.725390</td>\n",
       "    </tr>\n",
       "    <tr>\n",
       "      <th>0</th>\n",
       "      <td>LIN</td>\n",
       "      <td>312.609985</td>\n",
       "      <td>313.4662285145444</td>\n",
       "      <td>313.3963172814061</td>\n",
       "      <td>1642.0</td>\n",
       "      <td>0.242280</td>\n",
       "      <td>-0.805755</td>\n",
       "      <td>-0.473211</td>\n",
       "      <td>28.333333</td>\n",
       "      <td>7.0</td>\n",
       "      <td>3.0</td>\n",
       "      <td>20220506.0</td>\n",
       "      <td>Linde plc</td>\n",
       "      <td>Specialty Chemicals</td>\n",
       "      <td>Basic Materials</td>\n",
       "      <td>https://www.linde.com</td>\n",
       "      <td>2</td>\n",
       "      <td>-0.805755</td>\n",
       "    </tr>\n",
       "    <tr>\n",
       "      <th>247</th>\n",
       "      <td>ECL</td>\n",
       "      <td>166.690002</td>\n",
       "      <td>167.67297253380357</td>\n",
       "      <td>167.54899716731197</td>\n",
       "      <td>1642.0</td>\n",
       "      <td>0.121651</td>\n",
       "      <td>-0.886077</td>\n",
       "      <td>-0.664657</td>\n",
       "      <td>20.000000</td>\n",
       "      <td>29.5</td>\n",
       "      <td>35.5</td>\n",
       "      <td>20220506.0</td>\n",
       "      <td>Ecolab Inc.</td>\n",
       "      <td>Specialty Chemicals</td>\n",
       "      <td>Basic Materials</td>\n",
       "      <td>https://www.ecolab.com</td>\n",
       "      <td>3</td>\n",
       "      <td>-0.886077</td>\n",
       "    </tr>\n",
       "    <tr>\n",
       "      <th>407</th>\n",
       "      <td>SHW</td>\n",
       "      <td>276.950012</td>\n",
       "      <td>277.21786475555024</td>\n",
       "      <td>277.21786475555024</td>\n",
       "      <td>1642.0</td>\n",
       "      <td>0.919430</td>\n",
       "      <td>-0.975781</td>\n",
       "      <td>-0.495535</td>\n",
       "      <td>13.333333</td>\n",
       "      <td>24.5</td>\n",
       "      <td>25.5</td>\n",
       "      <td>20220506.0</td>\n",
       "      <td>The Sherwin-Williams Company</td>\n",
       "      <td>Specialty Chemicals</td>\n",
       "      <td>Basic Materials</td>\n",
       "      <td>https://www.sherwin-williams.com</td>\n",
       "      <td>3</td>\n",
       "      <td>-0.975781</td>\n",
       "    </tr>\n",
       "  </tbody>\n",
       "</table>\n",
       "</div>"
      ],
      "text/plain": [
       "    ticker  close_price               day_1               day_5  df_size  \\\n",
       "364    NUE   140.820007  140.33565837079288  140.46116712792363   1642.0   \n",
       "467    DOW    68.470001   68.47000122070312   68.47000122070312    670.0   \n",
       "245    EMN   105.669998  105.66999816894531  105.66999816894531   1642.0   \n",
       "13      DD    66.139999   66.13999938964844   66.13999938964844   1642.0   \n",
       "337    LYB   111.430000  111.43000030517578  111.43000030517578   1642.0   \n",
       "439    VMC   177.080002  177.09701352741115  177.15019014615146   1642.0   \n",
       "342    MLM   356.140015  356.81591980595834   356.9330808968398   1642.0   \n",
       "350    MOS    64.730003                   e                   r   1638.0   \n",
       "355    NEM    72.339996                   e                   r   1638.0   \n",
       "158    APD   235.979996  237.09662538621586  235.75314968288254   1642.0   \n",
       "307    IFF   122.750000  123.07145725989054  123.38930173436111   1642.0   \n",
       "457   CTVA    58.040001  58.040000915527344  58.040000915527344    624.0   \n",
       "376    PPG   131.570007  131.63111340088918   131.4200302468213   1642.0   \n",
       "205     CE   151.550003  151.71770755241596  151.71172063816542   1642.0   \n",
       "276    FCX    39.639999   39.54191917246681   39.53576033331692   1642.0   \n",
       "160    ALB   236.500000  237.10139799638986  236.47908379401926   1642.0   \n",
       "268    FMC   118.540001  118.77453695851192  118.23754044885139   1642.0   \n",
       "209     CF   100.290001  100.29000091552734  100.29000091552734   1642.0   \n",
       "0      LIN   312.609985   313.4662285145444   313.3963172814061   1642.0   \n",
       "247    ECL   166.690002  167.67297253380357  167.54899716731197   1642.0   \n",
       "407    SHW   276.950012  277.21786475555024  277.21786475555024   1642.0   \n",
       "\n",
       "       skew_1   skew_60  skew_120   cutoff_1  cutoff_60  cutoff_120  \\\n",
       "364 -0.630978  0.592035  0.153755  21.666667        6.5        17.5   \n",
       "467  0.432054  0.500925  0.069097   1.666667        0.0         0.0   \n",
       "245 -1.094688  0.484444 -0.490101   6.666667        0.0         0.0   \n",
       "13  -0.303200  0.292808 -0.270844  13.333333        0.0         0.0   \n",
       "337 -0.291975  0.269740 -0.082601  13.333333        0.0         0.0   \n",
       "439 -0.262466  0.185515 -0.307576  10.000000        0.0         0.0   \n",
       "342 -0.312593  0.143873 -0.517160  15.000000        0.0         0.0   \n",
       "350  0.055284  0.132080  0.374237  21.666667       14.0         3.0   \n",
       "355  0.137256 -0.081291  0.169317  16.666667        6.5         5.5   \n",
       "158 -0.299562 -0.083447 -0.743371  16.666667       27.5        18.5   \n",
       "307 -0.202947 -0.157770 -0.054698  18.333333        4.5         8.0   \n",
       "457 -0.043378 -0.178724  0.172365   1.666667        2.0         0.0   \n",
       "376 -0.423911 -0.214081  0.473426  20.000000       16.0         7.0   \n",
       "205 -0.204278 -0.354135 -0.078821  13.333333        0.0         0.0   \n",
       "276 -0.510777 -0.459280  0.244966   6.666667        0.0         0.0   \n",
       "160 -1.572730 -0.550353 -0.673308  18.333333       12.5         3.0   \n",
       "268 -0.334871 -0.560707  0.285151   6.666667       11.5        13.0   \n",
       "209 -0.535733 -0.725390 -0.123572  15.000000        7.0         4.0   \n",
       "0    0.242280 -0.805755 -0.473211  28.333333        7.0         3.0   \n",
       "247  0.121651 -0.886077 -0.664657  20.000000       29.5        35.5   \n",
       "407  0.919430 -0.975781 -0.495535  13.333333       24.5        25.5   \n",
       "\n",
       "     created_date                                 longName  \\\n",
       "364    20220506.0                        Nucor Corporation   \n",
       "467    20220506.0                                 Dow Inc.   \n",
       "245    20220506.0                 Eastman Chemical Company   \n",
       "13     20220506.0                  DuPont de Nemours, Inc.   \n",
       "337    20220506.0           LyondellBasell Industries N.V.   \n",
       "439    20220506.0                 Vulcan Materials Company   \n",
       "342    20220506.0          Martin Marietta Materials, Inc.   \n",
       "350    20220506.0                       The Mosaic Company   \n",
       "355    20220506.0                      Newmont Corporation   \n",
       "158    20220506.0         Air Products and Chemicals, Inc.   \n",
       "307    20220506.0  International Flavors & Fragrances Inc.   \n",
       "457    20220506.0                            Corteva, Inc.   \n",
       "376    20220506.0                     PPG Industries, Inc.   \n",
       "205    20220506.0                     Celanese Corporation   \n",
       "276    20220506.0                    Freeport-McMoRan Inc.   \n",
       "160    20220506.0                    Albemarle Corporation   \n",
       "268    20220506.0                          FMC Corporation   \n",
       "209    20220506.0             CF Industries Holdings, Inc.   \n",
       "0      20220506.0                                Linde plc   \n",
       "247    20220506.0                              Ecolab Inc.   \n",
       "407    20220506.0             The Sherwin-Williams Company   \n",
       "\n",
       "                industry           sector                               url  \\\n",
       "364                Steel  Basic Materials             https://www.nucor.com   \n",
       "467            Chemicals  Basic Materials               https://www.dow.com   \n",
       "245            Chemicals  Basic Materials           https://www.eastman.com   \n",
       "13   Specialty Chemicals  Basic Materials            https://www.dupont.com   \n",
       "337  Specialty Chemicals  Basic Materials    https://www.lyondellbasell.com   \n",
       "439   Building Materials  Basic Materials   https://www.vulcanmaterials.com   \n",
       "342   Building Materials  Basic Materials    https://www.martinmarietta.com   \n",
       "350  Agricultural Inputs  Basic Materials          https://www.mosaicco.com   \n",
       "355                 Gold  Basic Materials           https://www.newmont.com   \n",
       "158  Specialty Chemicals  Basic Materials       https://www.airproducts.com   \n",
       "307  Specialty Chemicals  Basic Materials               https://www.iff.com   \n",
       "457  Agricultural Inputs  Basic Materials           https://www.corteva.com   \n",
       "376  Specialty Chemicals  Basic Materials               https://www.ppg.com   \n",
       "205            Chemicals  Basic Materials          https://www.celanese.com   \n",
       "276               Copper  Basic Materials                   https://fcx.com   \n",
       "160  Specialty Chemicals  Basic Materials         https://www.albemarle.com   \n",
       "268  Agricultural Inputs  Basic Materials               https://www.fmc.com   \n",
       "209  Agricultural Inputs  Basic Materials      https://www.cfindustries.com   \n",
       "0    Specialty Chemicals  Basic Materials             https://www.linde.com   \n",
       "247  Specialty Chemicals  Basic Materials            https://www.ecolab.com   \n",
       "407  Specialty Chemicals  Basic Materials  https://www.sherwin-williams.com   \n",
       "\n",
       "     cutoff_bin  cutoff_skew  \n",
       "364           2     0.592035  \n",
       "467           1     0.500925  \n",
       "245           1     0.484444  \n",
       "13            1     0.292808  \n",
       "337           1     0.269740  \n",
       "439           1     0.185515  \n",
       "342           1     0.143873  \n",
       "350           3     0.132080  \n",
       "355           2    -0.081291  \n",
       "158           3    -0.083447  \n",
       "307           2    -0.157770  \n",
       "457           2    -0.178724  \n",
       "376           3    -0.214081  \n",
       "205           1    -0.354135  \n",
       "276           1    -0.459280  \n",
       "160           3    -0.550353  \n",
       "268           3    -0.560707  \n",
       "209           2    -0.725390  \n",
       "0             2    -0.805755  \n",
       "247           3    -0.886077  \n",
       "407           3    -0.975781  "
      ]
     },
     "execution_count": 122,
     "metadata": {},
     "output_type": "execute_result"
    }
   ],
   "source": [
    "df_temp = df_temp.sort_values(by=\"cutoff_skew\", ascending=False)\n",
    "df_temp"
   ]
  },
  {
   "cell_type": "code",
   "execution_count": 80,
   "id": "b3914440",
   "metadata": {},
   "outputs": [],
   "source": [
    "df_temp = df_temp[df_temp[\"cutoff_bin\"] == 3]\n",
    "df_temp.reset_index(inplace=True, drop=True)"
   ]
  },
  {
   "cell_type": "code",
   "execution_count": 81,
   "id": "bd618d51",
   "metadata": {},
   "outputs": [
    {
     "data": {
      "text/html": [
       "<div>\n",
       "<style scoped>\n",
       "    .dataframe tbody tr th:only-of-type {\n",
       "        vertical-align: middle;\n",
       "    }\n",
       "\n",
       "    .dataframe tbody tr th {\n",
       "        vertical-align: top;\n",
       "    }\n",
       "\n",
       "    .dataframe thead th {\n",
       "        text-align: right;\n",
       "    }\n",
       "</style>\n",
       "<table border=\"1\" class=\"dataframe\">\n",
       "  <thead>\n",
       "    <tr style=\"text-align: right;\">\n",
       "      <th></th>\n",
       "      <th>ticker</th>\n",
       "      <th>close_price</th>\n",
       "      <th>day_1</th>\n",
       "      <th>day_5</th>\n",
       "      <th>df_size</th>\n",
       "      <th>skew_1</th>\n",
       "      <th>skew_60</th>\n",
       "      <th>skew_120</th>\n",
       "      <th>cutoff_1</th>\n",
       "      <th>cutoff_60</th>\n",
       "      <th>cutoff_120</th>\n",
       "      <th>created_date</th>\n",
       "      <th>longName</th>\n",
       "      <th>industry</th>\n",
       "      <th>sector</th>\n",
       "      <th>url</th>\n",
       "      <th>cutoff_bin</th>\n",
       "      <th>cutoff_skew</th>\n",
       "    </tr>\n",
       "  </thead>\n",
       "  <tbody>\n",
       "    <tr>\n",
       "      <th>0</th>\n",
       "      <td>APD</td>\n",
       "      <td>235.979996</td>\n",
       "      <td>237.09662538621586</td>\n",
       "      <td>235.75314968288254</td>\n",
       "      <td>1642.0</td>\n",
       "      <td>-0.299562</td>\n",
       "      <td>-0.083447</td>\n",
       "      <td>-0.743371</td>\n",
       "      <td>16.666667</td>\n",
       "      <td>27.5</td>\n",
       "      <td>18.5</td>\n",
       "      <td>20220506.0</td>\n",
       "      <td>Air Products and Chemicals, Inc.</td>\n",
       "      <td>Specialty Chemicals</td>\n",
       "      <td>Basic Materials</td>\n",
       "      <td>https://www.airproducts.com</td>\n",
       "      <td>3</td>\n",
       "      <td>-0.083447</td>\n",
       "    </tr>\n",
       "    <tr>\n",
       "      <th>1</th>\n",
       "      <td>ALB</td>\n",
       "      <td>236.500000</td>\n",
       "      <td>237.10139799638986</td>\n",
       "      <td>236.47908379401926</td>\n",
       "      <td>1642.0</td>\n",
       "      <td>-1.572730</td>\n",
       "      <td>-0.550353</td>\n",
       "      <td>-0.673308</td>\n",
       "      <td>18.333333</td>\n",
       "      <td>12.5</td>\n",
       "      <td>3.0</td>\n",
       "      <td>20220506.0</td>\n",
       "      <td>Albemarle Corporation</td>\n",
       "      <td>Specialty Chemicals</td>\n",
       "      <td>Basic Materials</td>\n",
       "      <td>https://www.albemarle.com</td>\n",
       "      <td>3</td>\n",
       "      <td>-0.550353</td>\n",
       "    </tr>\n",
       "    <tr>\n",
       "      <th>2</th>\n",
       "      <td>ECL</td>\n",
       "      <td>166.690002</td>\n",
       "      <td>167.67297253380357</td>\n",
       "      <td>167.54899716731197</td>\n",
       "      <td>1642.0</td>\n",
       "      <td>0.121651</td>\n",
       "      <td>-0.886077</td>\n",
       "      <td>-0.664657</td>\n",
       "      <td>20.000000</td>\n",
       "      <td>29.5</td>\n",
       "      <td>35.5</td>\n",
       "      <td>20220506.0</td>\n",
       "      <td>Ecolab Inc.</td>\n",
       "      <td>Specialty Chemicals</td>\n",
       "      <td>Basic Materials</td>\n",
       "      <td>https://www.ecolab.com</td>\n",
       "      <td>3</td>\n",
       "      <td>-0.886077</td>\n",
       "    </tr>\n",
       "    <tr>\n",
       "      <th>3</th>\n",
       "      <td>FMC</td>\n",
       "      <td>118.540001</td>\n",
       "      <td>118.77453695851192</td>\n",
       "      <td>118.23754044885139</td>\n",
       "      <td>1642.0</td>\n",
       "      <td>-0.334871</td>\n",
       "      <td>-0.560707</td>\n",
       "      <td>0.285151</td>\n",
       "      <td>6.666667</td>\n",
       "      <td>11.5</td>\n",
       "      <td>13.0</td>\n",
       "      <td>20220506.0</td>\n",
       "      <td>FMC Corporation</td>\n",
       "      <td>Agricultural Inputs</td>\n",
       "      <td>Basic Materials</td>\n",
       "      <td>https://www.fmc.com</td>\n",
       "      <td>3</td>\n",
       "      <td>-0.560707</td>\n",
       "    </tr>\n",
       "    <tr>\n",
       "      <th>4</th>\n",
       "      <td>MOS</td>\n",
       "      <td>64.730003</td>\n",
       "      <td>e</td>\n",
       "      <td>r</td>\n",
       "      <td>1638.0</td>\n",
       "      <td>0.055284</td>\n",
       "      <td>0.132080</td>\n",
       "      <td>0.374237</td>\n",
       "      <td>21.666667</td>\n",
       "      <td>14.0</td>\n",
       "      <td>3.0</td>\n",
       "      <td>20220506.0</td>\n",
       "      <td>The Mosaic Company</td>\n",
       "      <td>Agricultural Inputs</td>\n",
       "      <td>Basic Materials</td>\n",
       "      <td>https://www.mosaicco.com</td>\n",
       "      <td>3</td>\n",
       "      <td>0.132080</td>\n",
       "    </tr>\n",
       "    <tr>\n",
       "      <th>5</th>\n",
       "      <td>PPG</td>\n",
       "      <td>131.570007</td>\n",
       "      <td>131.63111340088918</td>\n",
       "      <td>131.4200302468213</td>\n",
       "      <td>1642.0</td>\n",
       "      <td>-0.423911</td>\n",
       "      <td>-0.214081</td>\n",
       "      <td>0.473426</td>\n",
       "      <td>20.000000</td>\n",
       "      <td>16.0</td>\n",
       "      <td>7.0</td>\n",
       "      <td>20220506.0</td>\n",
       "      <td>PPG Industries, Inc.</td>\n",
       "      <td>Specialty Chemicals</td>\n",
       "      <td>Basic Materials</td>\n",
       "      <td>https://www.ppg.com</td>\n",
       "      <td>3</td>\n",
       "      <td>-0.214081</td>\n",
       "    </tr>\n",
       "    <tr>\n",
       "      <th>6</th>\n",
       "      <td>SHW</td>\n",
       "      <td>276.950012</td>\n",
       "      <td>277.21786475555024</td>\n",
       "      <td>277.21786475555024</td>\n",
       "      <td>1642.0</td>\n",
       "      <td>0.919430</td>\n",
       "      <td>-0.975781</td>\n",
       "      <td>-0.495535</td>\n",
       "      <td>13.333333</td>\n",
       "      <td>24.5</td>\n",
       "      <td>25.5</td>\n",
       "      <td>20220506.0</td>\n",
       "      <td>The Sherwin-Williams Company</td>\n",
       "      <td>Specialty Chemicals</td>\n",
       "      <td>Basic Materials</td>\n",
       "      <td>https://www.sherwin-williams.com</td>\n",
       "      <td>3</td>\n",
       "      <td>-0.975781</td>\n",
       "    </tr>\n",
       "  </tbody>\n",
       "</table>\n",
       "</div>"
      ],
      "text/plain": [
       "  ticker  close_price               day_1               day_5  df_size  \\\n",
       "0    APD   235.979996  237.09662538621586  235.75314968288254   1642.0   \n",
       "1    ALB   236.500000  237.10139799638986  236.47908379401926   1642.0   \n",
       "2    ECL   166.690002  167.67297253380357  167.54899716731197   1642.0   \n",
       "3    FMC   118.540001  118.77453695851192  118.23754044885139   1642.0   \n",
       "4    MOS    64.730003                   e                   r   1638.0   \n",
       "5    PPG   131.570007  131.63111340088918   131.4200302468213   1642.0   \n",
       "6    SHW   276.950012  277.21786475555024  277.21786475555024   1642.0   \n",
       "\n",
       "     skew_1   skew_60  skew_120   cutoff_1  cutoff_60  cutoff_120  \\\n",
       "0 -0.299562 -0.083447 -0.743371  16.666667       27.5        18.5   \n",
       "1 -1.572730 -0.550353 -0.673308  18.333333       12.5         3.0   \n",
       "2  0.121651 -0.886077 -0.664657  20.000000       29.5        35.5   \n",
       "3 -0.334871 -0.560707  0.285151   6.666667       11.5        13.0   \n",
       "4  0.055284  0.132080  0.374237  21.666667       14.0         3.0   \n",
       "5 -0.423911 -0.214081  0.473426  20.000000       16.0         7.0   \n",
       "6  0.919430 -0.975781 -0.495535  13.333333       24.5        25.5   \n",
       "\n",
       "   created_date                          longName             industry  \\\n",
       "0    20220506.0  Air Products and Chemicals, Inc.  Specialty Chemicals   \n",
       "1    20220506.0             Albemarle Corporation  Specialty Chemicals   \n",
       "2    20220506.0                       Ecolab Inc.  Specialty Chemicals   \n",
       "3    20220506.0                   FMC Corporation  Agricultural Inputs   \n",
       "4    20220506.0                The Mosaic Company  Agricultural Inputs   \n",
       "5    20220506.0              PPG Industries, Inc.  Specialty Chemicals   \n",
       "6    20220506.0      The Sherwin-Williams Company  Specialty Chemicals   \n",
       "\n",
       "            sector                               url  cutoff_bin  cutoff_skew  \n",
       "0  Basic Materials       https://www.airproducts.com           3    -0.083447  \n",
       "1  Basic Materials         https://www.albemarle.com           3    -0.550353  \n",
       "2  Basic Materials            https://www.ecolab.com           3    -0.886077  \n",
       "3  Basic Materials               https://www.fmc.com           3    -0.560707  \n",
       "4  Basic Materials          https://www.mosaicco.com           3     0.132080  \n",
       "5  Basic Materials               https://www.ppg.com           3    -0.214081  \n",
       "6  Basic Materials  https://www.sherwin-williams.com           3    -0.975781  "
      ]
     },
     "execution_count": 81,
     "metadata": {},
     "output_type": "execute_result"
    }
   ],
   "source": [
    "df_temp"
   ]
  },
  {
   "cell_type": "code",
   "execution_count": 124,
   "id": "f9c747a4",
   "metadata": {},
   "outputs": [
    {
     "data": {
      "text/html": [
       "<div>\n",
       "<style scoped>\n",
       "    .dataframe tbody tr th:only-of-type {\n",
       "        vertical-align: middle;\n",
       "    }\n",
       "\n",
       "    .dataframe tbody tr th {\n",
       "        vertical-align: top;\n",
       "    }\n",
       "\n",
       "    .dataframe thead th {\n",
       "        text-align: right;\n",
       "    }\n",
       "</style>\n",
       "<table border=\"1\" class=\"dataframe\">\n",
       "  <thead>\n",
       "    <tr style=\"text-align: right;\">\n",
       "      <th></th>\n",
       "      <th>ticker</th>\n",
       "      <th>close_price</th>\n",
       "      <th>industry</th>\n",
       "      <th>sector</th>\n",
       "      <th>url</th>\n",
       "      <th>cutoff_skew</th>\n",
       "    </tr>\n",
       "  </thead>\n",
       "  <tbody>\n",
       "    <tr>\n",
       "      <th>0</th>\n",
       "      <td>NUE</td>\n",
       "      <td>140.820007</td>\n",
       "      <td>Steel</td>\n",
       "      <td>Basic Materials</td>\n",
       "      <td>https://www.nucor.com</td>\n",
       "      <td>0.592035</td>\n",
       "    </tr>\n",
       "    <tr>\n",
       "      <th>1</th>\n",
       "      <td>DOW</td>\n",
       "      <td>68.470001</td>\n",
       "      <td>Chemicals</td>\n",
       "      <td>Basic Materials</td>\n",
       "      <td>https://www.dow.com</td>\n",
       "      <td>0.500925</td>\n",
       "    </tr>\n",
       "    <tr>\n",
       "      <th>2</th>\n",
       "      <td>EMN</td>\n",
       "      <td>105.669998</td>\n",
       "      <td>Chemicals</td>\n",
       "      <td>Basic Materials</td>\n",
       "      <td>https://www.eastman.com</td>\n",
       "      <td>0.484444</td>\n",
       "    </tr>\n",
       "    <tr>\n",
       "      <th>3</th>\n",
       "      <td>DD</td>\n",
       "      <td>66.139999</td>\n",
       "      <td>Specialty Chemicals</td>\n",
       "      <td>Basic Materials</td>\n",
       "      <td>https://www.dupont.com</td>\n",
       "      <td>0.292808</td>\n",
       "    </tr>\n",
       "    <tr>\n",
       "      <th>4</th>\n",
       "      <td>LYB</td>\n",
       "      <td>111.430000</td>\n",
       "      <td>Specialty Chemicals</td>\n",
       "      <td>Basic Materials</td>\n",
       "      <td>https://www.lyondellbasell.com</td>\n",
       "      <td>0.269740</td>\n",
       "    </tr>\n",
       "  </tbody>\n",
       "</table>\n",
       "</div>"
      ],
      "text/plain": [
       "  ticker  close_price             industry           sector  \\\n",
       "0    NUE   140.820007                Steel  Basic Materials   \n",
       "1    DOW    68.470001            Chemicals  Basic Materials   \n",
       "2    EMN   105.669998            Chemicals  Basic Materials   \n",
       "3     DD    66.139999  Specialty Chemicals  Basic Materials   \n",
       "4    LYB   111.430000  Specialty Chemicals  Basic Materials   \n",
       "\n",
       "                              url  cutoff_skew  \n",
       "0           https://www.nucor.com     0.592035  \n",
       "1             https://www.dow.com     0.500925  \n",
       "2         https://www.eastman.com     0.484444  \n",
       "3          https://www.dupont.com     0.292808  \n",
       "4  https://www.lyondellbasell.com     0.269740  "
      ]
     },
     "execution_count": 124,
     "metadata": {},
     "output_type": "execute_result"
    }
   ],
   "source": [
    "df_temp = df_temp.sort_values(by=\"cutoff_skew\", ascending=False)\n",
    "df_temp = df_temp[[\"ticker\", \"close_price\", \"industry\", \"sector\", \"url\", \"cutoff_skew\"]]\n",
    "df_temp.reset_index(inplace=True, drop=True)\n",
    "df_temp.head()"
   ]
  },
  {
   "cell_type": "code",
   "execution_count": null,
   "id": "4ce189ca",
   "metadata": {},
   "outputs": [],
   "source": []
  },
  {
   "cell_type": "code",
   "execution_count": null,
   "id": "d41dd6c4",
   "metadata": {},
   "outputs": [],
   "source": []
  },
  {
   "cell_type": "code",
   "execution_count": 85,
   "id": "da119d31",
   "metadata": {},
   "outputs": [],
   "source": [
    "path = \"/Users/jeeyounglee/Desktop/python/class101/streamlit/v1_sp500/data/\"\n",
    "import pickle\n",
    "today = datetime.datetime.now().strftime('%Y%m%d') \n",
    "df_final = pd.read_csv(path + f\"df_forcasting/df_forcasting_{today}.csv\", sep='\\t')\n",
    "\n",
    "with open(path + f'stock_history/stock_history_{today}.pickle', 'rb') as handle:\n",
    "    stock_history = pickle.load(handle) "
   ]
  },
  {
   "cell_type": "code",
   "execution_count": 111,
   "id": "e2b6d077",
   "metadata": {},
   "outputs": [
    {
     "name": "stdout",
     "output_type": "stream",
     "text": [
      "AAPL\n",
      "MSFT\n"
     ]
    },
    {
     "data": {
      "text/html": [
       "<div>\n",
       "<style scoped>\n",
       "    .dataframe tbody tr th:only-of-type {\n",
       "        vertical-align: middle;\n",
       "    }\n",
       "\n",
       "    .dataframe tbody tr th {\n",
       "        vertical-align: top;\n",
       "    }\n",
       "\n",
       "    .dataframe thead th {\n",
       "        text-align: right;\n",
       "    }\n",
       "</style>\n",
       "<table border=\"1\" class=\"dataframe\">\n",
       "  <thead>\n",
       "    <tr style=\"text-align: right;\">\n",
       "      <th></th>\n",
       "      <th>Date</th>\n",
       "      <th>Close</th>\n",
       "      <th>ticker</th>\n",
       "    </tr>\n",
       "  </thead>\n",
       "  <tbody>\n",
       "    <tr>\n",
       "      <th>0</th>\n",
       "      <td>2021-03-01</td>\n",
       "      <td>127.790001</td>\n",
       "      <td>AAPL</td>\n",
       "    </tr>\n",
       "    <tr>\n",
       "      <th>1</th>\n",
       "      <td>2021-03-02</td>\n",
       "      <td>125.120003</td>\n",
       "      <td>AAPL</td>\n",
       "    </tr>\n",
       "    <tr>\n",
       "      <th>2</th>\n",
       "      <td>2021-03-03</td>\n",
       "      <td>122.059998</td>\n",
       "      <td>AAPL</td>\n",
       "    </tr>\n",
       "    <tr>\n",
       "      <th>3</th>\n",
       "      <td>2021-03-04</td>\n",
       "      <td>120.129997</td>\n",
       "      <td>AAPL</td>\n",
       "    </tr>\n",
       "    <tr>\n",
       "      <th>4</th>\n",
       "      <td>2021-03-05</td>\n",
       "      <td>121.419998</td>\n",
       "      <td>AAPL</td>\n",
       "    </tr>\n",
       "    <tr>\n",
       "      <th>...</th>\n",
       "      <td>...</td>\n",
       "      <td>...</td>\n",
       "      <td>...</td>\n",
       "    </tr>\n",
       "    <tr>\n",
       "      <th>595</th>\n",
       "      <td>2022-04-29</td>\n",
       "      <td>277.519989</td>\n",
       "      <td>MSFT</td>\n",
       "    </tr>\n",
       "    <tr>\n",
       "      <th>596</th>\n",
       "      <td>2022-05-02</td>\n",
       "      <td>284.470001</td>\n",
       "      <td>MSFT</td>\n",
       "    </tr>\n",
       "    <tr>\n",
       "      <th>597</th>\n",
       "      <td>2022-05-03</td>\n",
       "      <td>281.779999</td>\n",
       "      <td>MSFT</td>\n",
       "    </tr>\n",
       "    <tr>\n",
       "      <th>598</th>\n",
       "      <td>2022-05-04</td>\n",
       "      <td>289.980011</td>\n",
       "      <td>MSFT</td>\n",
       "    </tr>\n",
       "    <tr>\n",
       "      <th>599</th>\n",
       "      <td>2022-05-05</td>\n",
       "      <td>277.350006</td>\n",
       "      <td>MSFT</td>\n",
       "    </tr>\n",
       "  </tbody>\n",
       "</table>\n",
       "<p>600 rows × 3 columns</p>\n",
       "</div>"
      ],
      "text/plain": [
       "          Date       Close ticker\n",
       "0   2021-03-01  127.790001   AAPL\n",
       "1   2021-03-02  125.120003   AAPL\n",
       "2   2021-03-03  122.059998   AAPL\n",
       "3   2021-03-04  120.129997   AAPL\n",
       "4   2021-03-05  121.419998   AAPL\n",
       "..         ...         ...    ...\n",
       "595 2022-04-29  277.519989   MSFT\n",
       "596 2022-05-02  284.470001   MSFT\n",
       "597 2022-05-03  281.779999   MSFT\n",
       "598 2022-05-04  289.980011   MSFT\n",
       "599 2022-05-05  277.350006   MSFT\n",
       "\n",
       "[600 rows x 3 columns]"
      ]
     },
     "execution_count": 111,
     "metadata": {},
     "output_type": "execute_result"
    }
   ],
   "source": [
    "symbols = [\"AAPL\", \"MSFT\"]\n",
    "\n",
    "df_graph = pd.DataFrame()\n",
    "for i in symbols:\n",
    "    print(i)\n",
    "    df_temp = stock_history[i].iloc[-300:][[\"Date\", \"Close\"]]\n",
    "    df_temp[\"ticker\"] = i\n",
    "    df_graph = df_graph.append(df_temp, ignore_index = True)\n",
    "    \n",
    "df_graph   "
   ]
  },
  {
   "cell_type": "code",
   "execution_count": 116,
   "id": "d9e7272d",
   "metadata": {},
   "outputs": [
    {
     "data": {
      "text/plain": [
       "127.79000091552734"
      ]
     },
     "execution_count": 116,
     "metadata": {},
     "output_type": "execute_result"
    }
   ],
   "source": [
    "df_graph.iloc[0]['Close']"
   ]
  },
  {
   "cell_type": "code",
   "execution_count": null,
   "id": "be8e3708",
   "metadata": {},
   "outputs": [],
   "source": []
  },
  {
   "cell_type": "code",
   "execution_count": null,
   "id": "45a91009",
   "metadata": {},
   "outputs": [],
   "source": []
  },
  {
   "cell_type": "code",
   "execution_count": null,
   "id": "e5e2ba05",
   "metadata": {},
   "outputs": [],
   "source": []
  },
  {
   "cell_type": "code",
   "execution_count": null,
   "id": "8e3a349f",
   "metadata": {},
   "outputs": [],
   "source": []
  }
 ],
 "metadata": {
  "kernelspec": {
   "display_name": "Python 3 (ipykernel)",
   "language": "python",
   "name": "python3"
  },
  "language_info": {
   "codemirror_mode": {
    "name": "ipython",
    "version": 3
   },
   "file_extension": ".py",
   "mimetype": "text/x-python",
   "name": "python",
   "nbconvert_exporter": "python",
   "pygments_lexer": "ipython3",
   "version": "3.9.7"
  }
 },
 "nbformat": 4,
 "nbformat_minor": 5
}
